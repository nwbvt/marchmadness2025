{
 "cells": [
  {
   "cell_type": "markdown",
   "id": "145e7a4b-47b3-4d7d-9d71-3fe3c258a2ee",
   "metadata": {},
   "source": [
    "## Using rankings\n",
    "Can we use rankings? We only have this data for Men's"
   ]
  },
  {
   "cell_type": "code",
   "execution_count": 1,
   "id": "0f940bf6-e61f-4d6f-b96d-af4ea0fc7ad3",
   "metadata": {},
   "outputs": [
    {
     "name": "stdout",
     "output_type": "stream",
     "text": [
      "Using cuda device\n"
     ]
    }
   ],
   "source": [
    "import pandas as pd\n",
    "import numpy as np\n",
    "import torch\n",
    "import torch.nn as nn\n",
    "import torch.nn.functional as F\n",
    "import random\n",
    "from torch.utils.data import TensorDataset, DataLoader\n",
    "\n",
    "\n",
    "device = torch.accelerator.current_accelerator().type if torch.accelerator.is_available() else \"cpu\"\n",
    "print(f\"Using {device} device\")\n",
    "torch.manual_seed(20250222)\n",
    "random.seed(20250222)"
   ]
  },
  {
   "cell_type": "code",
   "execution_count": 2,
   "id": "b6e272a6-6f38-4887-82ef-4a407572fc30",
   "metadata": {},
   "outputs": [],
   "source": [
    "rankings = pd.read_csv('data/MMasseyOrdinals.csv')\n",
    "mens = pd.read_csv('data/MRegularSeasonDetailedResults.csv')"
   ]
  },
  {
   "cell_type": "code",
   "execution_count": 4,
   "id": "f2f4727c-a218-4a7e-aa25-edeeda373480",
   "metadata": {},
   "outputs": [],
   "source": [
    "rankings_by_team = rankings.pivot_table(index=[\"Season\", \"TeamID\"],\n",
    "                                        columns=\"SystemName\",\n",
    "                                        values=\"OrdinalRank\",\n",
    "                                        aggfunc=\"last\").fillna(365)"
   ]
  },
  {
   "cell_type": "code",
   "execution_count": 5,
   "id": "801417d0-21d6-4992-8c72-7c1a3c28cb04",
   "metadata": {},
   "outputs": [],
   "source": [
    "games = mens[['Season', 'DayNum', 'WTeamID', 'LTeamID']]\n",
    "winner_rankings = games.join(rankings_by_team, on=['Season', 'WTeamID']).set_index(['Season', 'DayNum', 'WTeamID', 'LTeamID'])\n",
    "loser_rankings = games.join(rankings_by_team, on=['Season', 'LTeamID']).set_index(['Season', 'DayNum', 'WTeamID', 'LTeamID'])"
   ]
  },
  {
   "cell_type": "code",
   "execution_count": 6,
   "id": "246c9a1d-2a6a-430d-852a-a9e07b74c8f2",
   "metadata": {},
   "outputs": [],
   "source": [
    "x = torch.from_numpy(np.concatenate([winner_rankings - loser_rankings, loser_rankings - winner_rankings])).double()\n",
    "y = torch.from_numpy(np.concatenate([mens.WScore - mens.LScore, mens.LScore - mens.WScore]).reshape((-1,1))).double()"
   ]
  },
  {
   "cell_type": "code",
   "execution_count": 7,
   "id": "9910bf63-407a-42f2-9b2e-3ecfd80a49ed",
   "metadata": {},
   "outputs": [],
   "source": [
    "dataset = TensorDataset(x, y)\n",
    "\n",
    "batch_size=200\n",
    "\n",
    "generator = torch.Generator().manual_seed(20250217)\n",
    "train_data, validation_data = torch.utils.data.random_split(dataset, [0.95, 0.05], generator=generator)\n",
    "train_loader = DataLoader(train_data, batch_size=batch_size)\n",
    "validation_loader = DataLoader(validation_data, batch_size=batch_size)"
   ]
  },
  {
   "cell_type": "code",
   "execution_count": 8,
   "id": "5e1cf131-f981-45d5-9684-e53e090b88bb",
   "metadata": {},
   "outputs": [],
   "source": [
    "class Model(nn.Module):\n",
    "    def __init__(self, model_sizes, dropout, ranking_size=192):\n",
    "        super(Model, self).__init__()\n",
    "        hid1, hid2 = model_sizes\n",
    "        self.fc1 = nn.Linear(ranking_size, hid1).double()\n",
    "        self.fc2 = nn.Linear(hid1, hid2).double()\n",
    "        self.score_fc = nn.Linear(hid2, 1).double()\n",
    "        self.result_fc = nn.Linear(hid2, 1).double()\n",
    "        self.dropout = nn.Dropout(dropout)\n",
    "\n",
    "    def forward(self, x):\n",
    "        hid1 = F.relu(self.dropout(self.fc1(x)))\n",
    "        hid2 = F.relu(self.dropout(self.fc2(hid1)))\n",
    "        score = self.score_fc(hid2)\n",
    "        result = F.sigmoid(self.result_fc(hid2))\n",
    "        return score, result"
   ]
  },
  {
   "cell_type": "code",
   "execution_count": 9,
   "id": "e67a3a77-5fbe-40c0-8b1f-343140312f64",
   "metadata": {},
   "outputs": [],
   "source": [
    "model = Model([512, 256], 0.25).to(device)"
   ]
  },
  {
   "cell_type": "code",
   "execution_count": 10,
   "id": "463d299a-68e3-4afc-a6ce-d8173c90629b",
   "metadata": {},
   "outputs": [],
   "source": [
    "loss_fn = nn.MSELoss()\n",
    "optimizer = torch.optim.Adam(model.parameters(), lr=0.0002)\n",
    "\n",
    "def train(data, model, loss_fn, optimizer, full_loss=True):\n",
    "    size = len(data.dataset)\n",
    "    model.train()\n",
    "    for batch, (x, y) in enumerate(data):\n",
    "        x = x.to(device)\n",
    "        y = y.to(device)\n",
    "        pred_score, pred_result = model(x)\n",
    "        actual_result = (y > 0).double()\n",
    "        score_loss = loss_fn(pred_score, y)\n",
    "        result_loss = loss_fn(pred_result, actual_result)\n",
    "        if full_loss:\n",
    "            (score_loss + 10 * result_loss).backward()\n",
    "        else:\n",
    "            result_loss.backward()\n",
    "        optimizer.step()\n",
    "        optimizer.zero_grad()\n",
    "\n",
    "        if batch % 100 == 0:\n",
    "            score_loss, result_loss, current = score_loss.item(), result_loss.item(), (batch + 1) * len(x)\n",
    "            print(f\"result loss: {result_loss:>7f} [{current:>6d}/{size:>6d}]\", end=\"\\r\")"
   ]
  },
  {
   "cell_type": "code",
   "execution_count": 11,
   "id": "2957543e-060e-46c3-81f2-53e89efbb60e",
   "metadata": {},
   "outputs": [],
   "source": [
    "def test(data, model, loss_fn, label=\"Test\"):\n",
    "    size = len(data.dataset)\n",
    "    num_batches = len(data)\n",
    "    model.eval()\n",
    "    score_loss, result_loss, correct = 0, 0, 0\n",
    "    with torch.no_grad():\n",
    "        for x, y in data:\n",
    "            x = x.to(device)\n",
    "            y = y.to(device)\n",
    "            score_pred, result_pred = model(x)\n",
    "            actual_result = (y > 0).double()\n",
    "            score_loss += loss_fn(score_pred, y).item()\n",
    "            result_loss += loss_fn(result_pred, actual_result).item()\n",
    "            correct += ((result_pred >= 0.5) == (actual_result == 1)).type(torch.float).sum().item()\n",
    "    score_loss /= num_batches\n",
    "    result_loss /= num_batches\n",
    "    correct /= size\n",
    "    print(f\"{label}: Accuracy: {(100*correct):>0.2f}%, Result loss: {result_loss:>8f}\")"
   ]
  },
  {
   "cell_type": "code",
   "execution_count": 12,
   "id": "3a8bfcfa-841a-4504-b874-229081c66044",
   "metadata": {},
   "outputs": [
    {
     "name": "stdout",
     "output_type": "stream",
     "text": [
      "Epoch 0\n",
      "Train: Accuracy: 76.07%, Result loss: 0.163663\n",
      "Validation: Accuracy: 75.35%, Result loss: 0.165617\n",
      "Epoch 1\n",
      "Train: Accuracy: 76.17%, Result loss: 0.163323\n",
      "Validation: Accuracy: 75.36%, Result loss: 0.165511\n",
      "Epoch 2\n",
      "Train: Accuracy: 76.25%, Result loss: 0.162539\n",
      "Validation: Accuracy: 75.31%, Result loss: 0.164978\n",
      "Epoch 3\n",
      "Train: Accuracy: 76.26%, Result loss: 0.162552\n",
      "Validation: Accuracy: 75.41%, Result loss: 0.164919\n",
      "Epoch 4\n",
      "Train: Accuracy: 76.28%, Result loss: 0.162556\n",
      "Validation: Accuracy: 75.50%, Result loss: 0.164901\n",
      "Epoch 5\n",
      "Train: Accuracy: 76.35%, Result loss: 0.162359\n",
      "Validation: Accuracy: 75.56%, Result loss: 0.164769\n",
      "Epoch 6\n",
      "Train: Accuracy: 76.37%, Result loss: 0.162071\n",
      "Validation: Accuracy: 75.58%, Result loss: 0.164636\n",
      "Epoch 7\n",
      "Train: Accuracy: 76.39%, Result loss: 0.161590\n",
      "Validation: Accuracy: 75.70%, Result loss: 0.164061\n",
      "Epoch 8\n",
      "Train: Accuracy: 76.44%, Result loss: 0.161691\n",
      "Validation: Accuracy: 75.72%, Result loss: 0.164182\n",
      "Epoch 9\n",
      "Train: Accuracy: 76.46%, Result loss: 0.161602\n",
      "Validation: Accuracy: 75.84%, Result loss: 0.164409\n",
      "Epoch 10\n",
      "Train: Accuracy: 76.47%, Result loss: 0.161606\n",
      "Validation: Accuracy: 75.81%, Result loss: 0.164499\n",
      "Epoch 11\n",
      "Train: Accuracy: 76.51%, Result loss: 0.161102\n",
      "Validation: Accuracy: 75.74%, Result loss: 0.164109\n",
      "Epoch 12\n",
      "Train: Accuracy: 76.57%, Result loss: 0.160944\n",
      "Validation: Accuracy: 75.71%, Result loss: 0.163709\n",
      "Epoch 13\n",
      "Train: Accuracy: 76.61%, Result loss: 0.160697\n",
      "Validation: Accuracy: 75.86%, Result loss: 0.163611\n",
      "Epoch 14\n",
      "Train: Accuracy: 76.66%, Result loss: 0.160560\n",
      "Validation: Accuracy: 75.89%, Result loss: 0.163636\n",
      "Epoch 15\n",
      "Train: Accuracy: 76.70%, Result loss: 0.160452\n",
      "Validation: Accuracy: 75.90%, Result loss: 0.163796\n",
      "Epoch 16\n",
      "Train: Accuracy: 76.72%, Result loss: 0.160630\n",
      "Validation: Accuracy: 75.81%, Result loss: 0.164172\n",
      "Epoch 17\n",
      "Train: Accuracy: 76.73%, Result loss: 0.160130\n",
      "Validation: Accuracy: 75.89%, Result loss: 0.163446\n",
      "Epoch 18\n",
      "Train: Accuracy: 76.75%, Result loss: 0.159835\n",
      "Validation: Accuracy: 75.92%, Result loss: 0.163347\n",
      "Epoch 19\n",
      "Train: Accuracy: 76.78%, Result loss: 0.159926\n",
      "Validation: Accuracy: 75.85%, Result loss: 0.163377\n",
      "Epoch 20\n",
      "Train: Accuracy: 76.81%, Result loss: 0.159510\n",
      "Validation: Accuracy: 75.66%, Result loss: 0.163025\n",
      "Epoch 21\n",
      "Train: Accuracy: 76.83%, Result loss: 0.159708\n",
      "Validation: Accuracy: 75.79%, Result loss: 0.163565\n",
      "Epoch 22\n",
      "Train: Accuracy: 76.81%, Result loss: 0.159555\n",
      "Validation: Accuracy: 75.74%, Result loss: 0.163363\n",
      "Epoch 23\n",
      "Train: Accuracy: 76.88%, Result loss: 0.159547\n",
      "Validation: Accuracy: 75.80%, Result loss: 0.163528\n",
      "Epoch 24\n",
      "Train: Accuracy: 76.90%, Result loss: 0.159184\n",
      "Validation: Accuracy: 75.79%, Result loss: 0.163086\n",
      "Epoch 25\n",
      "Train: Accuracy: 76.95%, Result loss: 0.158964\n",
      "Validation: Accuracy: 75.84%, Result loss: 0.162977\n",
      "Epoch 26\n",
      "Train: Accuracy: 76.98%, Result loss: 0.159012\n",
      "Validation: Accuracy: 75.77%, Result loss: 0.163236\n"
     ]
    }
   ],
   "source": [
    "n_epochs = 27\n",
    "for i in range(n_epochs):\n",
    "    print(f\"Epoch {i}\")\n",
    "    train(train_loader, model, loss_fn, optimizer)\n",
    "    test(train_loader, model, loss_fn, label=\"Train\")\n",
    "    test(validation_loader, model, loss_fn, label=\"Validation\")"
   ]
  },
  {
   "cell_type": "code",
   "execution_count": 13,
   "id": "d83e1102-dedf-4a88-a448-ce1a61ca3c3f",
   "metadata": {},
   "outputs": [
    {
     "name": "stdout",
     "output_type": "stream",
     "text": [
      "Epoch 0\n",
      "Train: Accuracy: 76.97%, Result loss: 0.158516\n",
      "Validation: Accuracy: 75.90%, Result loss: 0.162508\n",
      "Epoch 1\n",
      "Train: Accuracy: 77.00%, Result loss: 0.158486\n",
      "Validation: Accuracy: 75.90%, Result loss: 0.162521\n",
      "Epoch 2\n",
      "Train: Accuracy: 77.03%, Result loss: 0.158873\n",
      "Validation: Accuracy: 75.90%, Result loss: 0.162961\n",
      "Epoch 3\n",
      "Train: Accuracy: 77.03%, Result loss: 0.158778\n",
      "Validation: Accuracy: 75.76%, Result loss: 0.163221\n",
      "Epoch 4\n",
      "Train: Accuracy: 77.05%, Result loss: 0.158570\n",
      "Validation: Accuracy: 75.90%, Result loss: 0.163215\n",
      "Epoch 5\n",
      "Train: Accuracy: 77.04%, Result loss: 0.158313\n",
      "Validation: Accuracy: 75.90%, Result loss: 0.162907\n",
      "Epoch 6\n",
      "Train: Accuracy: 77.06%, Result loss: 0.158262\n",
      "Validation: Accuracy: 75.87%, Result loss: 0.163148\n",
      "Epoch 7\n",
      "Train: Accuracy: 77.08%, Result loss: 0.157822\n",
      "Validation: Accuracy: 76.00%, Result loss: 0.162794\n"
     ]
    }
   ],
   "source": [
    "for i in range(8):\n",
    "    print(f\"Epoch {i}\")\n",
    "    train(train_loader, model, loss_fn, optimizer, full_loss=False)\n",
    "    test(train_loader, model, loss_fn, label=\"Train\")\n",
    "    test(validation_loader, model, loss_fn, label=\"Validation\")"
   ]
  },
  {
   "cell_type": "code",
   "execution_count": 14,
   "id": "f1e19dd6-1361-41c6-84f2-125d7df86f59",
   "metadata": {},
   "outputs": [],
   "source": [
    "mens_tourney = pd.read_csv('data/MNCAATourneyDetailedResults.csv')\n",
    "tourney_games = mens_tourney[['Season', 'DayNum', 'WTeamID', 'LTeamID']]\n",
    "tourney_winner_rankings = tourney_games.join(rankings_by_team, on=['Season', 'WTeamID']).set_index(['Season', 'DayNum', 'WTeamID', 'LTeamID'])\n",
    "tourney_loser_rankings = tourney_games.join(rankings_by_team, on=['Season', 'LTeamID']).set_index(['Season', 'DayNum', 'WTeamID', 'LTeamID'])\n",
    "tourney_x = torch.from_numpy(np.concatenate([tourney_winner_rankings - tourney_loser_rankings,\n",
    "                                             tourney_loser_rankings - tourney_winner_rankings])).double()\n",
    "tourney_y = torch.from_numpy(np.concatenate([mens_tourney.WScore - mens_tourney.LScore,\n",
    "                                             mens_tourney.LScore - mens_tourney.WScore]).reshape((-1,1))).double()\n",
    "tourney_dataset = TensorDataset(tourney_x, tourney_y)\n",
    "tourney_loader = DataLoader(tourney_dataset, batch_size=batch_size)"
   ]
  },
  {
   "cell_type": "code",
   "execution_count": 15,
   "id": "9f658013-b400-4e00-8be1-9342af376ac1",
   "metadata": {},
   "outputs": [
    {
     "name": "stdout",
     "output_type": "stream",
     "text": [
      "Tourney: Accuracy: 69.46%, Result loss: 0.196700\n"
     ]
    }
   ],
   "source": [
    "test(tourney_loader, model, loss_fn, label=\"Tourney\")"
   ]
  },
  {
   "cell_type": "code",
   "execution_count": null,
   "id": "75b44ac3-cbad-4dde-a657-6c468e602aa5",
   "metadata": {},
   "outputs": [],
   "source": []
  }
 ],
 "metadata": {
  "kernelspec": {
   "display_name": "Python 3 (ipykernel)",
   "language": "python",
   "name": "python3"
  },
  "language_info": {
   "codemirror_mode": {
    "name": "ipython",
    "version": 3
   },
   "file_extension": ".py",
   "mimetype": "text/x-python",
   "name": "python",
   "nbconvert_exporter": "python",
   "pygments_lexer": "ipython3",
   "version": "3.10.12"
  }
 },
 "nbformat": 4,
 "nbformat_minor": 5
}
