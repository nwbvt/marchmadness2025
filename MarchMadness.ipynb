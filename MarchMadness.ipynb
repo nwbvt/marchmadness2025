{
 "cells": [
  {
   "cell_type": "markdown",
   "id": "a4b53588-2c8e-4166-b01d-037b765c2d69",
   "metadata": {},
   "source": [
    "# March Madness 2025"
   ]
  },
  {
   "cell_type": "code",
   "execution_count": 1,
   "id": "dd96dd0b-1844-4dca-9495-b722deda29ed",
   "metadata": {},
   "outputs": [
    {
     "name": "stdout",
     "output_type": "stream",
     "text": [
      "Using cuda device\n"
     ]
    }
   ],
   "source": [
    "import pandas as pd\n",
    "import torch\n",
    "import torch.nn as nn\n",
    "import torch.nn.functional as F\n",
    "import numpy as np\n",
    "from torch.utils.data import TensorDataset, DataLoader\n",
    "import os\n",
    "from sklearn.model_selection import train_test_split\n",
    "import random\n",
    "from data import Data, STATS_COLUMNS\n",
    "import model\n",
    "\n",
    "torch.manual_seed(20250222)\n",
    "random.seed(20250222)\n",
    "\n",
    "device = torch.accelerator.current_accelerator().type if torch.accelerator.is_available() else \"cpu\"\n",
    "print(f\"Using {device} device\")"
   ]
  },
  {
   "cell_type": "markdown",
   "id": "81669670-3bd9-4cc0-b0e8-d76f32dfd61f",
   "metadata": {},
   "source": [
    "## Hypothesis\n",
    "Each team can be modeled by x hidden features. In each game, these hidden features interact in a nonlinear fashion to determine the outcome of the game"
   ]
  },
  {
   "cell_type": "markdown",
   "id": "ef008b05-6dc7-46e7-9783-2499977b8249",
   "metadata": {},
   "source": [
    "## Preparing the data\n",
    "Load the data"
   ]
  },
  {
   "cell_type": "code",
   "execution_count": 2,
   "id": "836cd53e-d493-44d7-91d7-f0bd02a9644e",
   "metadata": {},
   "outputs": [
    {
     "data": {
      "text/html": [
       "<div>\n",
       "<style scoped>\n",
       "    .dataframe tbody tr th:only-of-type {\n",
       "        vertical-align: middle;\n",
       "    }\n",
       "\n",
       "    .dataframe tbody tr th {\n",
       "        vertical-align: top;\n",
       "    }\n",
       "\n",
       "    .dataframe thead th {\n",
       "        text-align: right;\n",
       "    }\n",
       "</style>\n",
       "<table border=\"1\" class=\"dataframe\">\n",
       "  <thead>\n",
       "    <tr style=\"text-align: right;\">\n",
       "      <th></th>\n",
       "      <th>Season</th>\n",
       "      <th>DayNum</th>\n",
       "      <th>WTeamID</th>\n",
       "      <th>WScore</th>\n",
       "      <th>LTeamID</th>\n",
       "      <th>LScore</th>\n",
       "      <th>NumOT</th>\n",
       "      <th>WFGM</th>\n",
       "      <th>WFGA</th>\n",
       "      <th>WFGM3</th>\n",
       "      <th>...</th>\n",
       "      <th>LFGA3</th>\n",
       "      <th>LFTM</th>\n",
       "      <th>LFTA</th>\n",
       "      <th>LOR</th>\n",
       "      <th>LDR</th>\n",
       "      <th>LAst</th>\n",
       "      <th>LTO</th>\n",
       "      <th>LStl</th>\n",
       "      <th>LBlk</th>\n",
       "      <th>LPF</th>\n",
       "    </tr>\n",
       "  </thead>\n",
       "  <tbody>\n",
       "    <tr>\n",
       "      <th>count</th>\n",
       "      <td>198374.000000</td>\n",
       "      <td>198374.000000</td>\n",
       "      <td>198374.000000</td>\n",
       "      <td>198374.000000</td>\n",
       "      <td>198374.000000</td>\n",
       "      <td>198374.000000</td>\n",
       "      <td>198374.000000</td>\n",
       "      <td>198374.000000</td>\n",
       "      <td>198374.000000</td>\n",
       "      <td>198374.000000</td>\n",
       "      <td>...</td>\n",
       "      <td>198374.000000</td>\n",
       "      <td>198374.000000</td>\n",
       "      <td>198374.000000</td>\n",
       "      <td>198374.000000</td>\n",
       "      <td>198374.000000</td>\n",
       "      <td>198374.000000</td>\n",
       "      <td>198374.000000</td>\n",
       "      <td>198374.000000</td>\n",
       "      <td>198374.000000</td>\n",
       "      <td>198374.000000</td>\n",
       "    </tr>\n",
       "    <tr>\n",
       "      <th>mean</th>\n",
       "      <td>2015.470621</td>\n",
       "      <td>69.843291</td>\n",
       "      <td>2099.847868</td>\n",
       "      <td>74.183169</td>\n",
       "      <td>2097.450588</td>\n",
       "      <td>61.187026</td>\n",
       "      <td>0.061787</td>\n",
       "      <td>26.176339</td>\n",
       "      <td>57.063405</td>\n",
       "      <td>6.912005</td>\n",
       "      <td>...</td>\n",
       "      <td>19.248818</td>\n",
       "      <td>11.436922</td>\n",
       "      <td>16.826656</td>\n",
       "      <td>10.826832</td>\n",
       "      <td>21.949363</td>\n",
       "      <td>11.217125</td>\n",
       "      <td>15.214630</td>\n",
       "      <td>6.453946</td>\n",
       "      <td>2.848942</td>\n",
       "      <td>18.853504</td>\n",
       "    </tr>\n",
       "    <tr>\n",
       "      <th>std</th>\n",
       "      <td>6.024751</td>\n",
       "      <td>35.933736</td>\n",
       "      <td>986.382716</td>\n",
       "      <td>11.406085</td>\n",
       "      <td>989.676138</td>\n",
       "      <td>11.373007</td>\n",
       "      <td>0.287403</td>\n",
       "      <td>4.811306</td>\n",
       "      <td>7.828931</td>\n",
       "      <td>3.166580</td>\n",
       "      <td>...</td>\n",
       "      <td>6.325219</td>\n",
       "      <td>5.239163</td>\n",
       "      <td>6.987616</td>\n",
       "      <td>4.418293</td>\n",
       "      <td>4.708807</td>\n",
       "      <td>3.765042</td>\n",
       "      <td>5.028571</td>\n",
       "      <td>2.985335</td>\n",
       "      <td>2.037092</td>\n",
       "      <td>4.587468</td>\n",
       "    </tr>\n",
       "    <tr>\n",
       "      <th>min</th>\n",
       "      <td>2003.000000</td>\n",
       "      <td>0.000000</td>\n",
       "      <td>1101.000000</td>\n",
       "      <td>30.000000</td>\n",
       "      <td>1101.000000</td>\n",
       "      <td>11.000000</td>\n",
       "      <td>0.000000</td>\n",
       "      <td>9.000000</td>\n",
       "      <td>26.000000</td>\n",
       "      <td>0.000000</td>\n",
       "      <td>...</td>\n",
       "      <td>0.000000</td>\n",
       "      <td>0.000000</td>\n",
       "      <td>0.000000</td>\n",
       "      <td>0.000000</td>\n",
       "      <td>1.000000</td>\n",
       "      <td>0.000000</td>\n",
       "      <td>0.000000</td>\n",
       "      <td>0.000000</td>\n",
       "      <td>0.000000</td>\n",
       "      <td>3.000000</td>\n",
       "    </tr>\n",
       "    <tr>\n",
       "      <th>25%</th>\n",
       "      <td>2011.000000</td>\n",
       "      <td>37.000000</td>\n",
       "      <td>1260.000000</td>\n",
       "      <td>66.000000</td>\n",
       "      <td>1253.000000</td>\n",
       "      <td>53.000000</td>\n",
       "      <td>0.000000</td>\n",
       "      <td>23.000000</td>\n",
       "      <td>52.000000</td>\n",
       "      <td>5.000000</td>\n",
       "      <td>...</td>\n",
       "      <td>15.000000</td>\n",
       "      <td>8.000000</td>\n",
       "      <td>12.000000</td>\n",
       "      <td>8.000000</td>\n",
       "      <td>19.000000</td>\n",
       "      <td>9.000000</td>\n",
       "      <td>12.000000</td>\n",
       "      <td>4.000000</td>\n",
       "      <td>1.000000</td>\n",
       "      <td>16.000000</td>\n",
       "    </tr>\n",
       "    <tr>\n",
       "      <th>50%</th>\n",
       "      <td>2016.000000</td>\n",
       "      <td>73.000000</td>\n",
       "      <td>1413.000000</td>\n",
       "      <td>74.000000</td>\n",
       "      <td>1407.000000</td>\n",
       "      <td>61.000000</td>\n",
       "      <td>0.000000</td>\n",
       "      <td>26.000000</td>\n",
       "      <td>57.000000</td>\n",
       "      <td>7.000000</td>\n",
       "      <td>...</td>\n",
       "      <td>19.000000</td>\n",
       "      <td>11.000000</td>\n",
       "      <td>16.000000</td>\n",
       "      <td>10.000000</td>\n",
       "      <td>22.000000</td>\n",
       "      <td>11.000000</td>\n",
       "      <td>15.000000</td>\n",
       "      <td>6.000000</td>\n",
       "      <td>3.000000</td>\n",
       "      <td>19.000000</td>\n",
       "    </tr>\n",
       "    <tr>\n",
       "      <th>75%</th>\n",
       "      <td>2020.000000</td>\n",
       "      <td>101.000000</td>\n",
       "      <td>3244.000000</td>\n",
       "      <td>81.000000</td>\n",
       "      <td>3245.000000</td>\n",
       "      <td>69.000000</td>\n",
       "      <td>0.000000</td>\n",
       "      <td>29.000000</td>\n",
       "      <td>62.000000</td>\n",
       "      <td>9.000000</td>\n",
       "      <td>...</td>\n",
       "      <td>23.000000</td>\n",
       "      <td>15.000000</td>\n",
       "      <td>21.000000</td>\n",
       "      <td>14.000000</td>\n",
       "      <td>25.000000</td>\n",
       "      <td>14.000000</td>\n",
       "      <td>18.000000</td>\n",
       "      <td>8.000000</td>\n",
       "      <td>4.000000</td>\n",
       "      <td>22.000000</td>\n",
       "    </tr>\n",
       "    <tr>\n",
       "      <th>max</th>\n",
       "      <td>2025.000000</td>\n",
       "      <td>132.000000</td>\n",
       "      <td>3480.000000</td>\n",
       "      <td>149.000000</td>\n",
       "      <td>3480.000000</td>\n",
       "      <td>144.000000</td>\n",
       "      <td>6.000000</td>\n",
       "      <td>58.000000</td>\n",
       "      <td>113.000000</td>\n",
       "      <td>30.000000</td>\n",
       "      <td>...</td>\n",
       "      <td>80.000000</td>\n",
       "      <td>48.000000</td>\n",
       "      <td>65.000000</td>\n",
       "      <td>38.000000</td>\n",
       "      <td>53.000000</td>\n",
       "      <td>34.000000</td>\n",
       "      <td>49.000000</td>\n",
       "      <td>26.000000</td>\n",
       "      <td>21.000000</td>\n",
       "      <td>47.000000</td>\n",
       "    </tr>\n",
       "  </tbody>\n",
       "</table>\n",
       "<p>8 rows × 33 columns</p>\n",
       "</div>"
      ],
      "text/plain": [
       "              Season         DayNum        WTeamID         WScore  \\\n",
       "count  198374.000000  198374.000000  198374.000000  198374.000000   \n",
       "mean     2015.470621      69.843291    2099.847868      74.183169   \n",
       "std         6.024751      35.933736     986.382716      11.406085   \n",
       "min      2003.000000       0.000000    1101.000000      30.000000   \n",
       "25%      2011.000000      37.000000    1260.000000      66.000000   \n",
       "50%      2016.000000      73.000000    1413.000000      74.000000   \n",
       "75%      2020.000000     101.000000    3244.000000      81.000000   \n",
       "max      2025.000000     132.000000    3480.000000     149.000000   \n",
       "\n",
       "             LTeamID         LScore          NumOT           WFGM  \\\n",
       "count  198374.000000  198374.000000  198374.000000  198374.000000   \n",
       "mean     2097.450588      61.187026       0.061787      26.176339   \n",
       "std       989.676138      11.373007       0.287403       4.811306   \n",
       "min      1101.000000      11.000000       0.000000       9.000000   \n",
       "25%      1253.000000      53.000000       0.000000      23.000000   \n",
       "50%      1407.000000      61.000000       0.000000      26.000000   \n",
       "75%      3245.000000      69.000000       0.000000      29.000000   \n",
       "max      3480.000000     144.000000       6.000000      58.000000   \n",
       "\n",
       "                WFGA          WFGM3  ...          LFGA3           LFTM  \\\n",
       "count  198374.000000  198374.000000  ...  198374.000000  198374.000000   \n",
       "mean       57.063405       6.912005  ...      19.248818      11.436922   \n",
       "std         7.828931       3.166580  ...       6.325219       5.239163   \n",
       "min        26.000000       0.000000  ...       0.000000       0.000000   \n",
       "25%        52.000000       5.000000  ...      15.000000       8.000000   \n",
       "50%        57.000000       7.000000  ...      19.000000      11.000000   \n",
       "75%        62.000000       9.000000  ...      23.000000      15.000000   \n",
       "max       113.000000      30.000000  ...      80.000000      48.000000   \n",
       "\n",
       "                LFTA            LOR            LDR           LAst  \\\n",
       "count  198374.000000  198374.000000  198374.000000  198374.000000   \n",
       "mean       16.826656      10.826832      21.949363      11.217125   \n",
       "std         6.987616       4.418293       4.708807       3.765042   \n",
       "min         0.000000       0.000000       1.000000       0.000000   \n",
       "25%        12.000000       8.000000      19.000000       9.000000   \n",
       "50%        16.000000      10.000000      22.000000      11.000000   \n",
       "75%        21.000000      14.000000      25.000000      14.000000   \n",
       "max        65.000000      38.000000      53.000000      34.000000   \n",
       "\n",
       "                 LTO           LStl           LBlk            LPF  \n",
       "count  198374.000000  198374.000000  198374.000000  198374.000000  \n",
       "mean       15.214630       6.453946       2.848942      18.853504  \n",
       "std         5.028571       2.985335       2.037092       4.587468  \n",
       "min         0.000000       0.000000       0.000000       3.000000  \n",
       "25%        12.000000       4.000000       1.000000      16.000000  \n",
       "50%        15.000000       6.000000       3.000000      19.000000  \n",
       "75%        18.000000       8.000000       4.000000      22.000000  \n",
       "max        49.000000      26.000000      21.000000      47.000000  \n",
       "\n",
       "[8 rows x 33 columns]"
      ]
     },
     "execution_count": 2,
     "metadata": {},
     "output_type": "execute_result"
    }
   ],
   "source": [
    "dataset = Data()\n",
    "\n",
    "dataset.games.describe()"
   ]
  },
  {
   "cell_type": "markdown",
   "id": "ee119045-207e-4dae-9ec7-1ef186642f48",
   "metadata": {},
   "source": [
    "The x's will be the indexes of two team IDs and program IDs, the y's will include and indicator of who won at the game stats"
   ]
  },
  {
   "cell_type": "markdown",
   "id": "84dff41d-c6ee-4c4c-a11a-e052cc1a7d4a",
   "metadata": {},
   "source": [
    "## Predicting Stats\n",
    "The first model we build will predict statistics. This will allow us to build up embeddings for the teams that can later be used to predict outcomes"
   ]
  },
  {
   "cell_type": "code",
   "execution_count": 3,
   "id": "3abc258c-3999-4de4-bc7d-580218c95cdc",
   "metadata": {},
   "outputs": [
    {
     "name": "stdout",
     "output_type": "stream",
     "text": [
      "Loading cached data\n"
     ]
    }
   ],
   "source": [
    "stats_train_loader, stats_validation_loader = dataset.train_test_data(output_stats=True, cache=\"stats\")"
   ]
  },
  {
   "cell_type": "code",
   "execution_count": 4,
   "id": "5f1c1ad6-2a8d-45b1-abcd-44f5504fbf0a",
   "metadata": {},
   "outputs": [],
   "source": [
    "stats_model = model.StatsModel(program_embedding=512, team_embedding=64,\n",
    "                               num_programs=len(dataset.programs), num_teams=len(dataset.teams),\n",
    "                               model_sizes=(256,256), dropout=0.5).to(device)"
   ]
  },
  {
   "cell_type": "code",
   "execution_count": 5,
   "id": "16d06777-d854-4645-a06c-a61103aa004a",
   "metadata": {},
   "outputs": [
    {
     "name": "stdout",
     "output_type": "stream",
     "text": [
      "Loading from cache\n"
     ]
    }
   ],
   "source": [
    "model.train(stats_train_loader, stats_validation_loader, stats_model, name=\"stats_model\", learning_rate=0.001, streak=10, use_cache=True)"
   ]
  },
  {
   "cell_type": "markdown",
   "id": "cf50ea84-42ce-462c-a3b3-3928a04aa7ef",
   "metadata": {},
   "source": [
    "## The Model\n",
    "Now we use the embeddings developed in the first model to build a model to predict if the first team won"
   ]
  },
  {
   "cell_type": "code",
   "execution_count": 6,
   "id": "32f8f3af-835b-4b45-8dbc-2be3e059552d",
   "metadata": {},
   "outputs": [
    {
     "name": "stdout",
     "output_type": "stream",
     "text": [
      "Loading cached data\n"
     ]
    }
   ],
   "source": [
    "result_train_loader, result_validation_loader = dataset.train_test_data(output_stats=False, cache=\"result\")"
   ]
  },
  {
   "cell_type": "code",
   "execution_count": 7,
   "id": "d5629261-0b6d-44c9-828e-698e86006f00",
   "metadata": {},
   "outputs": [],
   "source": [
    "result_model = model.Model(matchup=stats_model.matchup, model_sizes=(128,128), dropout=0.5).to(device)"
   ]
  },
  {
   "cell_type": "markdown",
   "id": "7d98325a-8ba0-466f-b3ca-6991e8450a08",
   "metadata": {},
   "source": [
    "## Training the model"
   ]
  },
  {
   "cell_type": "markdown",
   "id": "553fca87-08c7-48e0-92dd-52ef4ff8463f",
   "metadata": {},
   "source": [
    "Train the model"
   ]
  },
  {
   "cell_type": "code",
   "execution_count": 8,
   "id": "eb5d54b3-9031-45bb-a66f-ca69765aa76c",
   "metadata": {},
   "outputs": [
    {
     "name": "stdout",
     "output_type": "stream",
     "text": [
      "Epoch   0: Train Loss=0.17416289, Test Loss=0.17399674\n",
      "Epoch   1: Train Loss=0.18298500, Test Loss=0.18309844\n",
      "Epoch   2: Train Loss=0.17056150, Test Loss=0.17109695\n",
      "Epoch   3: Train Loss=0.16769204, Test Loss=0.16861580\n",
      "Epoch   4: Train Loss=0.16473803, Test Loss=0.16611724\n",
      "Epoch   5: Train Loss=0.16384807, Test Loss=0.16556161\n",
      "Epoch   6: Train Loss=0.16467655, Test Loss=0.16659407\n",
      "Epoch   7: Train Loss=0.16303603, Test Loss=0.16541864\n",
      "Epoch   8: Train Loss=0.16168486, Test Loss=0.16450060\n",
      "Epoch   9: Train Loss=0.16138623, Test Loss=0.16457177\n",
      "Epoch  10: Train Loss=0.16175516, Test Loss=0.16508303\n",
      "Epoch  11: Train Loss=0.16049947, Test Loss=0.16429859\n",
      "Epoch  12: Train Loss=0.16060611, Test Loss=0.16469360\n",
      "Epoch  13: Train Loss=0.16215174, Test Loss=0.16624779\n",
      "Epoch  14: Train Loss=0.16392777, Test Loss=0.16798995\n",
      "Epoch  15: Train Loss=0.16185694, Test Loss=0.16642702\n",
      "Epoch  16: Train Loss=0.16137794, Test Loss=0.16628523\n",
      "Epoch  17: Train Loss=0.16255178, Test Loss=0.16743262\n",
      "Epoch  18: Train Loss=0.16315772, Test Loss=0.16814568\n",
      "Epoch  19: Train Loss=0.16088843, Test Loss=0.16654441\n",
      "Epoch  20: Train Loss=0.16158107, Test Loss=0.16735489\n",
      "Epoch  21: Train Loss=0.16105157, Test Loss=0.16713712\n",
      "Best Loss: 0.164299\n"
     ]
    }
   ],
   "source": [
    "model.train(result_train_loader, result_validation_loader, result_model, name=\"result_model\", learning_rate=0.0001, streak=10)"
   ]
  },
  {
   "cell_type": "code",
   "execution_count": 9,
   "id": "2747754a-2511-40c8-ae98-0b456c66e3b1",
   "metadata": {},
   "outputs": [
    {
     "data": {
      "text/plain": [
       "0.753629471307013"
      ]
     },
     "execution_count": 9,
     "metadata": {},
     "output_type": "execute_result"
    }
   ],
   "source": [
    "model.test_accuracy(result_validation_loader, result_model)"
   ]
  },
  {
   "cell_type": "markdown",
   "id": "3a55a843-9fa3-443f-8342-410abd74688c",
   "metadata": {},
   "source": [
    "With this model we can predict the output of about three quarters of regular season games."
   ]
  },
  {
   "cell_type": "markdown",
   "id": "7afe60ad-2cd9-4339-9600-62264350e6bd",
   "metadata": {},
   "source": [
    "## Load the tourney data to test with"
   ]
  },
  {
   "cell_type": "code",
   "execution_count": 10,
   "id": "093fcd61-386e-4330-b5af-e9d93df1b144",
   "metadata": {},
   "outputs": [],
   "source": [
    "tourney_dataset = dataset.gen_dataset(dataset.tourney)\n",
    "tourney_loader = DataLoader(tourney_dataset, batch_size=500, shuffle=True)"
   ]
  },
  {
   "cell_type": "code",
   "execution_count": 11,
   "id": "08340cd1-6cb0-400a-80fa-dda1171789bd",
   "metadata": {},
   "outputs": [
    {
     "data": {
      "text/plain": [
       "0.7451669595782073"
      ]
     },
     "execution_count": 11,
     "metadata": {},
     "output_type": "execute_result"
    }
   ],
   "source": [
    "model.test_accuracy(tourney_loader, result_model)"
   ]
  },
  {
   "cell_type": "markdown",
   "id": "ada7c18a-8267-4926-a191-5c3a218bfde2",
   "metadata": {},
   "source": [
    "When it comes to tournament results we get a little worse. The lower result is likely due to teams having increased pairity."
   ]
  },
  {
   "cell_type": "markdown",
   "id": "658506a6-6cff-48e4-9562-28cabf03663a",
   "metadata": {},
   "source": [
    "Train with early torney data"
   ]
  },
  {
   "cell_type": "code",
   "execution_count": 12,
   "id": "1b635c43-1cee-4bca-a38c-0cb71c4f3ee4",
   "metadata": {},
   "outputs": [],
   "source": [
    "tourney_df = dataset.tourney[dataset.tourney.Season < 2021]\n",
    "\n",
    "tourney_train_df, tourney_validation_df = train_test_split(tourney_df, train_size=0.8)\n",
    "tourney_train_data = dataset.gen_dataset(tourney_train_df)\n",
    "tourney_validation_data = dataset.gen_dataset(tourney_validation_df)\n",
    "\n",
    "tourney_train_loader = DataLoader(tourney_train_data, batch_size=500)\n",
    "tourney_validation_loader = DataLoader(tourney_validation_data, batch_size=500)"
   ]
  },
  {
   "cell_type": "code",
   "execution_count": 13,
   "id": "911e30c5-e7d4-4bd5-b15a-8fce5a92322b",
   "metadata": {},
   "outputs": [],
   "source": [
    "result_model.matchup.freeze()"
   ]
  },
  {
   "cell_type": "code",
   "execution_count": 14,
   "id": "b985479b-335f-4a69-ad88-6738891b934e",
   "metadata": {},
   "outputs": [
    {
     "name": "stdout",
     "output_type": "stream",
     "text": [
      "Epoch   0: Train Loss=0.17159439, Test Loss=0.17480975\n",
      "Epoch   1: Train Loss=0.16836352, Test Loss=0.17151254\n",
      "Epoch   2: Train Loss=0.16773524, Test Loss=0.17069791\n",
      "Epoch   3: Train Loss=0.16864450, Test Loss=0.17119237\n",
      "Epoch   4: Train Loss=0.16928691, Test Loss=0.17167473\n",
      "Best Loss: 0.170050\n"
     ]
    }
   ],
   "source": [
    "model.train(tourney_train_loader, tourney_validation_loader, result_model, name=\"tuned_model\", learning_rate=0.0001)"
   ]
  },
  {
   "cell_type": "markdown",
   "id": "9bd8ba4d-cd61-4693-9cda-963ecca19c07",
   "metadata": {},
   "source": [
    "### Performance by year\n"
   ]
  },
  {
   "cell_type": "code",
   "execution_count": 15,
   "id": "fda1ddd2-af9c-4bed-9812-fc24e0c56d4d",
   "metadata": {},
   "outputs": [
    {
     "name": "stdout",
     "output_type": "stream",
     "text": [
      "2003 Tournament: Accuracy=74.22, Loss=0.173521\n",
      "2004 Tournament: Accuracy=74.22, Loss=0.179849\n",
      "2005 Tournament: Accuracy=71.88, Loss=0.181795\n",
      "2006 Tournament: Accuracy=73.44, Loss=0.207049\n",
      "2007 Tournament: Accuracy=79.69, Loss=0.168712\n",
      "2008 Tournament: Accuracy=78.91, Loss=0.165924\n",
      "2009 Tournament: Accuracy=80.47, Loss=0.159149\n",
      "2010 Tournament: Accuracy=75.20, Loss=0.167792\n",
      "2011 Tournament: Accuracy=72.31, Loss=0.171724\n",
      "2012 Tournament: Accuracy=80.00, Loss=0.154173\n",
      "2013 Tournament: Accuracy=69.62, Loss=0.176480\n",
      "2014 Tournament: Accuracy=73.85, Loss=0.161705\n",
      "2015 Tournament: Accuracy=79.23, Loss=0.145956\n",
      "2016 Tournament: Accuracy=77.69, Loss=0.171147\n",
      "2017 Tournament: Accuracy=78.08, Loss=0.157052\n",
      "2018 Tournament: Accuracy=70.00, Loss=0.174825\n",
      "2019 Tournament: Accuracy=71.92, Loss=0.152619\n",
      "2021 Tournament: Accuracy=69.77, Loss=0.182787\n",
      "2022 Tournament: Accuracy=74.25, Loss=0.174591\n",
      "2023 Tournament: Accuracy=70.52, Loss=0.192326\n",
      "2024 Tournament: Accuracy=75.37, Loss=0.161786\n"
     ]
    }
   ],
   "source": [
    "for season in dataset.tourney.Season.unique():\n",
    "    loader = dataset.tourney_data(year=season)\n",
    "    model.print_results(loader, result_model, label=f\"{season} Tournament\")"
   ]
  },
  {
   "cell_type": "code",
   "execution_count": 16,
   "id": "509da685-8b79-473b-83d8-74e9d47ebe72",
   "metadata": {},
   "outputs": [
    {
     "name": "stdout",
     "output_type": "stream",
     "text": [
      "Stage 1: Accuracy=72.50, Loss=0.177826\n"
     ]
    }
   ],
   "source": [
    "stage1_loader = dataset.tourney_data(after=2021)\n",
    "model.print_results(stage1_loader, result_model, label=f\"Stage 1\")"
   ]
  },
  {
   "cell_type": "markdown",
   "id": "c6c2687e-5887-49ee-ab96-ae27a6f2bb8e",
   "metadata": {},
   "source": [
    "Breaking out by league"
   ]
  },
  {
   "cell_type": "code",
   "execution_count": 17,
   "id": "21b242b3-48af-4495-9605-08880cbc820c",
   "metadata": {},
   "outputs": [
    {
     "name": "stdout",
     "output_type": "stream",
     "text": [
      "2003 M Tournament: Accuracy=74.22, Loss=0.173521\n",
      "2004 M Tournament: Accuracy=74.22, Loss=0.179849\n",
      "2005 M Tournament: Accuracy=71.88, Loss=0.181795\n",
      "2006 M Tournament: Accuracy=73.44, Loss=0.207049\n",
      "2007 M Tournament: Accuracy=79.69, Loss=0.168712\n",
      "2008 M Tournament: Accuracy=78.91, Loss=0.165924\n",
      "2009 M Tournament: Accuracy=80.47, Loss=0.159149\n",
      "2010 M Tournament: Accuracy=72.66, Loss=0.197992\n",
      "2010 W Tournament: Accuracy=77.78, Loss=0.137113\n",
      "2011 M Tournament: Accuracy=65.67, Loss=0.214979\n",
      "2011 W Tournament: Accuracy=79.37, Loss=0.125723\n",
      "2012 M Tournament: Accuracy=71.64, Loss=0.186713\n",
      "2012 W Tournament: Accuracy=88.89, Loss=0.119566\n",
      "2013 M Tournament: Accuracy=62.69, Loss=0.207005\n",
      "2013 W Tournament: Accuracy=76.98, Loss=0.144016\n",
      "2014 M Tournament: Accuracy=67.91, Loss=0.195535\n",
      "2014 W Tournament: Accuracy=80.16, Loss=0.125727\n",
      "2015 M Tournament: Accuracy=76.87, Loss=0.166086\n",
      "2015 W Tournament: Accuracy=81.75, Loss=0.124548\n",
      "2016 M Tournament: Accuracy=76.12, Loss=0.184937\n",
      "2016 W Tournament: Accuracy=79.37, Loss=0.156481\n",
      "2017 M Tournament: Accuracy=74.63, Loss=0.168143\n",
      "2017 W Tournament: Accuracy=81.75, Loss=0.145257\n",
      "2018 M Tournament: Accuracy=65.67, Loss=0.200636\n",
      "2018 W Tournament: Accuracy=74.60, Loss=0.147375\n",
      "2019 M Tournament: Accuracy=67.16, Loss=0.171815\n",
      "2019 W Tournament: Accuracy=76.98, Loss=0.132204\n",
      "2021 M Tournament: Accuracy=64.39, Loss=0.215781\n",
      "2021 W Tournament: Accuracy=75.40, Loss=0.148222\n",
      "2022 M Tournament: Accuracy=71.64, Loss=0.207129\n",
      "2022 W Tournament: Accuracy=76.87, Loss=0.142053\n",
      "2023 M Tournament: Accuracy=64.93, Loss=0.214386\n",
      "2023 W Tournament: Accuracy=76.12, Loss=0.170266\n",
      "2024 M Tournament: Accuracy=68.66, Loss=0.194541\n",
      "2024 W Tournament: Accuracy=82.09, Loss=0.129030\n"
     ]
    }
   ],
   "source": [
    "for season in dataset.tourney.Season.unique():\n",
    "    for league in dataset.tourney[dataset.tourney.Season == season].League.unique():\n",
    "        loader = dataset.tourney_data(year=season, league=league)\n",
    "        model.print_results(loader, result_model, label=f\"{season} {league} Tournament\")"
   ]
  },
  {
   "cell_type": "markdown",
   "id": "9e8e259c-bcf2-43bd-a478-acbd02ef7b24",
   "metadata": {},
   "source": [
    "## Inspect the model\n",
    "First what are the sizes of the smallest input and output weights"
   ]
  },
  {
   "cell_type": "code",
   "execution_count": 18,
   "id": "f7a94e95-ac8a-4a7c-a148-d6aa4dfa6f6a",
   "metadata": {
    "scrolled": true
   },
   "outputs": [
    {
     "name": "stdout",
     "output_type": "stream",
     "text": [
      "Program embedding min: 2.537224\n",
      "Team embedding min: 3.735119\n",
      "FC min: 0.003115\n"
     ]
    }
   ],
   "source": [
    "print(f\"Program embedding min: {result_model.matchup.program_embedding.state_dict()['weight'].abs().max(axis=0).values.min().item():>8f}\")\n",
    "print(f\"Team embedding min: {result_model.matchup.team_embedding.state_dict()['weight'].abs().max(axis=0).values.min().item():>8f}\")\n",
    "print(f\"FC min: {result_model.fc3.state_dict()['weight'].abs().max(axis=0).values.min().item():>8f}\")"
   ]
  },
  {
   "cell_type": "markdown",
   "id": "ff1e4997-5ee2-40d3-b7ab-28e722b20e84",
   "metadata": {},
   "source": [
    "Calculate the average gradient for each input feature"
   ]
  },
  {
   "cell_type": "code",
   "execution_count": 19,
   "id": "57673837-e393-4a99-896e-af251d18c8d0",
   "metadata": {},
   "outputs": [],
   "source": [
    "result_model.matchup.unfreeze()"
   ]
  },
  {
   "cell_type": "code",
   "execution_count": 20,
   "id": "1e25e971-f8cc-47df-9e5f-d15de0441bcc",
   "metadata": {},
   "outputs": [],
   "source": [
    "program_weights, team_weights, stats_weights = model.feature_eval(result_model, tourney_loader)"
   ]
  },
  {
   "cell_type": "code",
   "execution_count": 21,
   "id": "6aeb3583-a9f4-4e04-b040-5194d7000441",
   "metadata": {},
   "outputs": [
    {
     "data": {
      "text/plain": [
       "(0.00030536422855220735, 3.5212542570661753e-05)"
      ]
     },
     "execution_count": 21,
     "metadata": {},
     "output_type": "execute_result"
    }
   ],
   "source": [
    "program_weights.abs().sum().item(), team_weights.abs().sum().item()"
   ]
  },
  {
   "cell_type": "code",
   "execution_count": 22,
   "id": "f47b2ee6-c1ab-4741-b959-883fd51e0c89",
   "metadata": {},
   "outputs": [
    {
     "name": "stdout",
     "output_type": "stream",
     "text": [
      "Year:\t-0.000048\n",
      "Game:\t-0.000101\n",
      "League:\t0.000589\n"
     ]
    }
   ],
   "source": [
    "print(f\"Year:\\t{stats_weights[0]:>4f}\")\n",
    "print(f\"Game:\\t{stats_weights[1]:>4f}\")\n",
    "print(f\"League:\\t{stats_weights[2]:>4f}\")"
   ]
  },
  {
   "cell_type": "markdown",
   "id": "e4afd4bc-a7fc-43bd-a1b6-1b37a85f8f79",
   "metadata": {},
   "source": [
    "## Generating the submission file\n",
    "### Phase 2\n",
    "\n",
    "Write the results"
   ]
  },
  {
   "cell_type": "code",
   "execution_count": 23,
   "id": "5fab9e75-36e9-47a4-826f-42c9588de50f",
   "metadata": {},
   "outputs": [],
   "source": [
    "odds = model.model_odds(dataset, 2025, 'M', result_model)"
   ]
  },
  {
   "cell_type": "code",
   "execution_count": 24,
   "id": "aa73ccc9-58fb-4142-a558-cf8c79ae0ac5",
   "metadata": {
    "scrolled": true
   },
   "outputs": [],
   "source": [
    "model.gen_submission(result_model, dataset)"
   ]
  },
  {
   "cell_type": "markdown",
   "id": "38e3b7d8-88d5-4f18-aad2-ce4ede2941f9",
   "metadata": {},
   "source": [
    "## Save the model"
   ]
  },
  {
   "cell_type": "code",
   "execution_count": 25,
   "id": "5da7e66a-9601-40f4-bec7-7aef34b5f229",
   "metadata": {},
   "outputs": [],
   "source": [
    "torch.save(result_model.state_dict(), 'model.pth')"
   ]
  },
  {
   "cell_type": "markdown",
   "id": "667cb6e9-8b1f-459c-be76-f61f39b30f49",
   "metadata": {},
   "source": [
    "## Moderated model\n",
    "\n",
    "Moderate a model by pushing it towards 0.5"
   ]
  },
  {
   "cell_type": "code",
   "execution_count": 26,
   "id": "e18455d2-3fa2-480b-a776-c7fd35255c8f",
   "metadata": {},
   "outputs": [],
   "source": [
    "moderated = model.ModeratedModel(result_model, 0.75)"
   ]
  },
  {
   "cell_type": "code",
   "execution_count": 27,
   "id": "215a1a7b-ae81-4bf7-8b61-12f2af6e532f",
   "metadata": {
    "scrolled": true
   },
   "outputs": [
    {
     "name": "stdout",
     "output_type": "stream",
     "text": [
      "2003 Tournament: Accuracy=74.22, Loss=0.179495\n",
      "2004 Tournament: Accuracy=74.22, Loss=0.186399\n",
      "2005 Tournament: Accuracy=71.88, Loss=0.185481\n",
      "2006 Tournament: Accuracy=73.44, Loss=0.205928\n",
      "2007 Tournament: Accuracy=79.69, Loss=0.178531\n",
      "2008 Tournament: Accuracy=78.91, Loss=0.175410\n",
      "2009 Tournament: Accuracy=80.47, Loss=0.170452\n",
      "2010 Tournament: Accuracy=75.20, Loss=0.174236\n",
      "2011 Tournament: Accuracy=72.31, Loss=0.176522\n",
      "2012 Tournament: Accuracy=80.00, Loss=0.164660\n",
      "2013 Tournament: Accuracy=69.62, Loss=0.181334\n",
      "2014 Tournament: Accuracy=73.85, Loss=0.169469\n",
      "2015 Tournament: Accuracy=79.23, Loss=0.156552\n",
      "2016 Tournament: Accuracy=77.69, Loss=0.175631\n",
      "2017 Tournament: Accuracy=78.08, Loss=0.164811\n",
      "2018 Tournament: Accuracy=70.00, Loss=0.177822\n",
      "2019 Tournament: Accuracy=71.92, Loss=0.161673\n",
      "2021 Tournament: Accuracy=69.77, Loss=0.184600\n",
      "2022 Tournament: Accuracy=74.25, Loss=0.179702\n",
      "2023 Tournament: Accuracy=70.52, Loss=0.193584\n",
      "2024 Tournament: Accuracy=75.37, Loss=0.169081\n"
     ]
    }
   ],
   "source": [
    "for season in dataset.tourney.Season.unique():\n",
    "    loader = dataset.tourney_data(season)\n",
    "    model.print_results(loader, moderated, label=f\"{season} Tournament\")"
   ]
  },
  {
   "cell_type": "markdown",
   "id": "2ecee29c-6762-463a-89ca-ee49dc3e72db",
   "metadata": {},
   "source": [
    "## Dig into 2023 results"
   ]
  },
  {
   "cell_type": "code",
   "execution_count": 28,
   "id": "cec1416b-ee18-4730-8210-6563239edd23",
   "metadata": {},
   "outputs": [],
   "source": [
    "loader = dataset.tourney_data(2023)\n",
    "\n",
    "x, y = loader.dataset.tensors\n",
    "\n",
    "preds = result_model(x.to(device))"
   ]
  },
  {
   "cell_type": "code",
   "execution_count": 29,
   "id": "86c62b6c-434f-4f23-84fe-0f227ab6f4c2",
   "metadata": {},
   "outputs": [],
   "source": [
    "t_2023 = pd.DataFrame({'winner_name': [dataset.all_teams.loc[dataset.programs.loc[i].TeamID].TeamName for i in x[:,0].tolist()],\n",
    "                       'loser_name': [dataset.all_teams.loc[dataset.programs.loc[i].TeamID].TeamName for i in x[:,2].tolist()],\n",
    "                       'winner': [dataset.programs.loc[i].TeamID for i in x[:,0].tolist()],\n",
    "                       'loser': [dataset.programs.loc[i].TeamID for i in x[:,2].tolist()],\n",
    "                       'actual': y.reshape(-1),\n",
    "                       'predicted': preds.cpu().detach().numpy().reshape(-1)}).iloc[:67]"
   ]
  },
  {
   "cell_type": "code",
   "execution_count": 30,
   "id": "aa17e8a0-ac98-415b-9cb6-d2fc251de985",
   "metadata": {
    "scrolled": true
   },
   "outputs": [
    {
     "data": {
      "text/html": [
       "<div>\n",
       "<style scoped>\n",
       "    .dataframe tbody tr th:only-of-type {\n",
       "        vertical-align: middle;\n",
       "    }\n",
       "\n",
       "    .dataframe tbody tr th {\n",
       "        vertical-align: top;\n",
       "    }\n",
       "\n",
       "    .dataframe thead th {\n",
       "        text-align: right;\n",
       "    }\n",
       "</style>\n",
       "<table border=\"1\" class=\"dataframe\">\n",
       "  <thead>\n",
       "    <tr style=\"text-align: right;\">\n",
       "      <th></th>\n",
       "      <th>winner_name</th>\n",
       "      <th>loser_name</th>\n",
       "      <th>winner</th>\n",
       "      <th>loser</th>\n",
       "      <th>actual</th>\n",
       "      <th>predicted</th>\n",
       "    </tr>\n",
       "  </thead>\n",
       "  <tbody>\n",
       "    <tr>\n",
       "      <th>23</th>\n",
       "      <td>F Dickinson</td>\n",
       "      <td>Purdue</td>\n",
       "      <td>1192</td>\n",
       "      <td>1345</td>\n",
       "      <td>1.0</td>\n",
       "      <td>0.016843</td>\n",
       "    </tr>\n",
       "    <tr>\n",
       "      <th>15</th>\n",
       "      <td>Princeton</td>\n",
       "      <td>Arizona</td>\n",
       "      <td>1343</td>\n",
       "      <td>1112</td>\n",
       "      <td>1.0</td>\n",
       "      <td>0.101849</td>\n",
       "    </tr>\n",
       "    <tr>\n",
       "      <th>8</th>\n",
       "      <td>Furman</td>\n",
       "      <td>Virginia</td>\n",
       "      <td>1202</td>\n",
       "      <td>1438</td>\n",
       "      <td>1.0</td>\n",
       "      <td>0.119518</td>\n",
       "    </tr>\n",
       "    <tr>\n",
       "      <th>53</th>\n",
       "      <td>FL Atlantic</td>\n",
       "      <td>Tennessee</td>\n",
       "      <td>1194</td>\n",
       "      <td>1397</td>\n",
       "      <td>1.0</td>\n",
       "      <td>0.229568</td>\n",
       "    </tr>\n",
       "    <tr>\n",
       "      <th>39</th>\n",
       "      <td>Princeton</td>\n",
       "      <td>Missouri</td>\n",
       "      <td>1343</td>\n",
       "      <td>1281</td>\n",
       "      <td>1.0</td>\n",
       "      <td>0.249924</td>\n",
       "    </tr>\n",
       "    <tr>\n",
       "      <th>37</th>\n",
       "      <td>Arkansas</td>\n",
       "      <td>Kansas</td>\n",
       "      <td>1116</td>\n",
       "      <td>1242</td>\n",
       "      <td>1.0</td>\n",
       "      <td>0.327663</td>\n",
       "    </tr>\n",
       "    <tr>\n",
       "      <th>61</th>\n",
       "      <td>FL Atlantic</td>\n",
       "      <td>Kansas St</td>\n",
       "      <td>1194</td>\n",
       "      <td>1243</td>\n",
       "      <td>1.0</td>\n",
       "      <td>0.355363</td>\n",
       "    </tr>\n",
       "    <tr>\n",
       "      <th>57</th>\n",
       "      <td>Miami FL</td>\n",
       "      <td>Houston</td>\n",
       "      <td>1274</td>\n",
       "      <td>1222</td>\n",
       "      <td>1.0</td>\n",
       "      <td>0.357010</td>\n",
       "    </tr>\n",
       "    <tr>\n",
       "      <th>24</th>\n",
       "      <td>FL Atlantic</td>\n",
       "      <td>Memphis</td>\n",
       "      <td>1194</td>\n",
       "      <td>1272</td>\n",
       "      <td>1.0</td>\n",
       "      <td>0.363310</td>\n",
       "    </tr>\n",
       "    <tr>\n",
       "      <th>14</th>\n",
       "      <td>Penn St</td>\n",
       "      <td>Texas A&amp;M</td>\n",
       "      <td>1336</td>\n",
       "      <td>1401</td>\n",
       "      <td>1.0</td>\n",
       "      <td>0.371114</td>\n",
       "    </tr>\n",
       "    <tr>\n",
       "      <th>58</th>\n",
       "      <td>San Diego St</td>\n",
       "      <td>Alabama</td>\n",
       "      <td>1361</td>\n",
       "      <td>1104</td>\n",
       "      <td>1.0</td>\n",
       "      <td>0.392071</td>\n",
       "    </tr>\n",
       "    <tr>\n",
       "      <th>62</th>\n",
       "      <td>Miami FL</td>\n",
       "      <td>Texas</td>\n",
       "      <td>1274</td>\n",
       "      <td>1400</td>\n",
       "      <td>1.0</td>\n",
       "      <td>0.405059</td>\n",
       "    </tr>\n",
       "    <tr>\n",
       "      <th>63</th>\n",
       "      <td>San Diego St</td>\n",
       "      <td>Creighton</td>\n",
       "      <td>1361</td>\n",
       "      <td>1166</td>\n",
       "      <td>1.0</td>\n",
       "      <td>0.409040</td>\n",
       "    </tr>\n",
       "    <tr>\n",
       "      <th>32</th>\n",
       "      <td>Pittsburgh</td>\n",
       "      <td>Iowa St</td>\n",
       "      <td>1338</td>\n",
       "      <td>1235</td>\n",
       "      <td>1.0</td>\n",
       "      <td>0.409478</td>\n",
       "    </tr>\n",
       "    <tr>\n",
       "      <th>0</th>\n",
       "      <td>Pittsburgh</td>\n",
       "      <td>Mississippi St</td>\n",
       "      <td>1338</td>\n",
       "      <td>1280</td>\n",
       "      <td>1.0</td>\n",
       "      <td>0.428284</td>\n",
       "    </tr>\n",
       "    <tr>\n",
       "      <th>48</th>\n",
       "      <td>Kansas St</td>\n",
       "      <td>Kentucky</td>\n",
       "      <td>1243</td>\n",
       "      <td>1246</td>\n",
       "      <td>1.0</td>\n",
       "      <td>0.446092</td>\n",
       "    </tr>\n",
       "    <tr>\n",
       "      <th>50</th>\n",
       "      <td>Michigan St</td>\n",
       "      <td>Marquette</td>\n",
       "      <td>1277</td>\n",
       "      <td>1266</td>\n",
       "      <td>1.0</td>\n",
       "      <td>0.450803</td>\n",
       "    </tr>\n",
       "    <tr>\n",
       "      <th>34</th>\n",
       "      <td>TCU</td>\n",
       "      <td>Arizona St</td>\n",
       "      <td>1395</td>\n",
       "      <td>1113</td>\n",
       "      <td>1.0</td>\n",
       "      <td>0.457360</td>\n",
       "    </tr>\n",
       "    <tr>\n",
       "      <th>49</th>\n",
       "      <td>Miami FL</td>\n",
       "      <td>Indiana</td>\n",
       "      <td>1274</td>\n",
       "      <td>1231</td>\n",
       "      <td>1.0</td>\n",
       "      <td>0.458048</td>\n",
       "    </tr>\n",
       "    <tr>\n",
       "      <th>6</th>\n",
       "      <td>Auburn</td>\n",
       "      <td>Iowa</td>\n",
       "      <td>1120</td>\n",
       "      <td>1234</td>\n",
       "      <td>1.0</td>\n",
       "      <td>0.463111</td>\n",
       "    </tr>\n",
       "    <tr>\n",
       "      <th>5</th>\n",
       "      <td>Arkansas</td>\n",
       "      <td>Illinois</td>\n",
       "      <td>1116</td>\n",
       "      <td>1228</td>\n",
       "      <td>1.0</td>\n",
       "      <td>0.472131</td>\n",
       "    </tr>\n",
       "    <tr>\n",
       "      <th>12</th>\n",
       "      <td>Missouri</td>\n",
       "      <td>Utah St</td>\n",
       "      <td>1281</td>\n",
       "      <td>1429</td>\n",
       "      <td>1.0</td>\n",
       "      <td>0.482999</td>\n",
       "    </tr>\n",
       "    <tr>\n",
       "      <th>60</th>\n",
       "      <td>Connecticut</td>\n",
       "      <td>Gonzaga</td>\n",
       "      <td>1163</td>\n",
       "      <td>1211</td>\n",
       "      <td>1.0</td>\n",
       "      <td>0.485225</td>\n",
       "    </tr>\n",
       "    <tr>\n",
       "      <th>59</th>\n",
       "      <td>Texas</td>\n",
       "      <td>Xavier</td>\n",
       "      <td>1400</td>\n",
       "      <td>1462</td>\n",
       "      <td>1.0</td>\n",
       "      <td>0.486456</td>\n",
       "    </tr>\n",
       "  </tbody>\n",
       "</table>\n",
       "</div>"
      ],
      "text/plain": [
       "     winner_name      loser_name  winner  loser  actual  predicted\n",
       "23   F Dickinson          Purdue    1192   1345     1.0   0.016843\n",
       "15     Princeton         Arizona    1343   1112     1.0   0.101849\n",
       "8         Furman        Virginia    1202   1438     1.0   0.119518\n",
       "53   FL Atlantic       Tennessee    1194   1397     1.0   0.229568\n",
       "39     Princeton        Missouri    1343   1281     1.0   0.249924\n",
       "37      Arkansas          Kansas    1116   1242     1.0   0.327663\n",
       "61   FL Atlantic       Kansas St    1194   1243     1.0   0.355363\n",
       "57      Miami FL         Houston    1274   1222     1.0   0.357010\n",
       "24   FL Atlantic         Memphis    1194   1272     1.0   0.363310\n",
       "14       Penn St       Texas A&M    1336   1401     1.0   0.371114\n",
       "58  San Diego St         Alabama    1361   1104     1.0   0.392071\n",
       "62      Miami FL           Texas    1274   1400     1.0   0.405059\n",
       "63  San Diego St       Creighton    1361   1166     1.0   0.409040\n",
       "32    Pittsburgh         Iowa St    1338   1235     1.0   0.409478\n",
       "0     Pittsburgh  Mississippi St    1338   1280     1.0   0.428284\n",
       "48     Kansas St        Kentucky    1243   1246     1.0   0.446092\n",
       "50   Michigan St       Marquette    1277   1266     1.0   0.450803\n",
       "34           TCU      Arizona St    1395   1113     1.0   0.457360\n",
       "49      Miami FL         Indiana    1274   1231     1.0   0.458048\n",
       "6         Auburn            Iowa    1120   1234     1.0   0.463111\n",
       "5       Arkansas        Illinois    1116   1228     1.0   0.472131\n",
       "12      Missouri         Utah St    1281   1429     1.0   0.482999\n",
       "60   Connecticut         Gonzaga    1163   1211     1.0   0.485225\n",
       "59         Texas          Xavier    1400   1462     1.0   0.486456"
      ]
     },
     "execution_count": 30,
     "metadata": {},
     "output_type": "execute_result"
    }
   ],
   "source": [
    "t_2023[t_2023.predicted < 0.5].sort_values('predicted')"
   ]
  },
  {
   "cell_type": "markdown",
   "id": "9f5eb023-fa68-46e5-821f-b9661a988cbe",
   "metadata": {},
   "source": [
    "The biggest thing in this season were the huge upsets in the first round. Purdue was a number one seed and lost which I only gave a .4% chance to happen. Arizona and Virginia were number 2 seeds and lost which I gave 7% and 15% chances of happening respectively."
   ]
  },
  {
   "cell_type": "code",
   "execution_count": 31,
   "id": "28663437-2134-48e8-938f-d40fd2666b7f",
   "metadata": {
    "scrolled": true
   },
   "outputs": [],
   "source": [
    "t_2023['Upset'] = [dataset.upset(2023, winner, loser) for (winner, loser) in zip(t_2023['winner'], t_2023['loser'])]"
   ]
  },
  {
   "cell_type": "code",
   "execution_count": 32,
   "id": "eb00c98a-b6a7-441f-be09-224ad947f71a",
   "metadata": {},
   "outputs": [
    {
     "data": {
      "text/plain": [
       "np.float64(0.3478138957087081)"
      ]
     },
     "execution_count": 32,
     "metadata": {},
     "output_type": "execute_result"
    }
   ],
   "source": [
    "t_2023[t_2023.Upset].predicted.mean()"
   ]
  },
  {
   "cell_type": "markdown",
   "id": "b9c017c5-060c-4478-82b2-4a22bd38a3d8",
   "metadata": {},
   "source": [
    "On average the upsets had a 32% chance of happening"
   ]
  },
  {
   "cell_type": "code",
   "execution_count": 33,
   "id": "2df5dc30-0780-4864-bf1d-25a462985a89",
   "metadata": {},
   "outputs": [
    {
     "data": {
      "text/html": [
       "<div>\n",
       "<style scoped>\n",
       "    .dataframe tbody tr th:only-of-type {\n",
       "        vertical-align: middle;\n",
       "    }\n",
       "\n",
       "    .dataframe tbody tr th {\n",
       "        vertical-align: top;\n",
       "    }\n",
       "\n",
       "    .dataframe thead th {\n",
       "        text-align: right;\n",
       "    }\n",
       "</style>\n",
       "<table border=\"1\" class=\"dataframe\">\n",
       "  <thead>\n",
       "    <tr style=\"text-align: right;\">\n",
       "      <th></th>\n",
       "      <th>winner_name</th>\n",
       "      <th>loser_name</th>\n",
       "      <th>winner</th>\n",
       "      <th>loser</th>\n",
       "      <th>actual</th>\n",
       "      <th>predicted</th>\n",
       "      <th>Upset</th>\n",
       "    </tr>\n",
       "  </thead>\n",
       "  <tbody>\n",
       "    <tr>\n",
       "      <th>45</th>\n",
       "      <td>Creighton</td>\n",
       "      <td>Baylor</td>\n",
       "      <td>1166</td>\n",
       "      <td>1124</td>\n",
       "      <td>1.0</td>\n",
       "      <td>0.544255</td>\n",
       "      <td>True</td>\n",
       "    </tr>\n",
       "    <tr>\n",
       "      <th>54</th>\n",
       "      <td>Gonzaga</td>\n",
       "      <td>UCLA</td>\n",
       "      <td>1211</td>\n",
       "      <td>1417</td>\n",
       "      <td>1.0</td>\n",
       "      <td>0.508251</td>\n",
       "      <td>True</td>\n",
       "    </tr>\n",
       "  </tbody>\n",
       "</table>\n",
       "</div>"
      ],
      "text/plain": [
       "   winner_name loser_name  winner  loser  actual  predicted  Upset\n",
       "45   Creighton     Baylor    1166   1124     1.0   0.544255   True\n",
       "54     Gonzaga       UCLA    1211   1417     1.0   0.508251   True"
      ]
     },
     "execution_count": 33,
     "metadata": {},
     "output_type": "execute_result"
    }
   ],
   "source": [
    "t_2023[t_2023.Upset & (t_2023.predicted >= 0.5)].sort_values('predicted', ascending=False)"
   ]
  },
  {
   "cell_type": "markdown",
   "id": "311a0984-fa4f-408e-9a66-4f90296c8a1c",
   "metadata": {},
   "source": [
    "I correctly predicted 2 upsets, though all were closely ranked"
   ]
  },
  {
   "cell_type": "code",
   "execution_count": 34,
   "id": "260a480d-a8d9-4e6d-a25b-d5358ddbd591",
   "metadata": {},
   "outputs": [
    {
     "data": {
      "text/html": [
       "<div>\n",
       "<style scoped>\n",
       "    .dataframe tbody tr th:only-of-type {\n",
       "        vertical-align: middle;\n",
       "    }\n",
       "\n",
       "    .dataframe tbody tr th {\n",
       "        vertical-align: top;\n",
       "    }\n",
       "\n",
       "    .dataframe thead th {\n",
       "        text-align: right;\n",
       "    }\n",
       "</style>\n",
       "<table border=\"1\" class=\"dataframe\">\n",
       "  <thead>\n",
       "    <tr style=\"text-align: right;\">\n",
       "      <th></th>\n",
       "      <th>winner_name</th>\n",
       "      <th>loser_name</th>\n",
       "      <th>winner</th>\n",
       "      <th>loser</th>\n",
       "      <th>actual</th>\n",
       "      <th>predicted</th>\n",
       "      <th>Upset</th>\n",
       "    </tr>\n",
       "  </thead>\n",
       "  <tbody>\n",
       "    <tr>\n",
       "      <th>63</th>\n",
       "      <td>San Diego St</td>\n",
       "      <td>Creighton</td>\n",
       "      <td>1361</td>\n",
       "      <td>1166</td>\n",
       "      <td>1.0</td>\n",
       "      <td>0.409040</td>\n",
       "      <td>False</td>\n",
       "    </tr>\n",
       "    <tr>\n",
       "      <th>0</th>\n",
       "      <td>Pittsburgh</td>\n",
       "      <td>Mississippi St</td>\n",
       "      <td>1338</td>\n",
       "      <td>1280</td>\n",
       "      <td>1.0</td>\n",
       "      <td>0.428284</td>\n",
       "      <td>False</td>\n",
       "    </tr>\n",
       "    <tr>\n",
       "      <th>48</th>\n",
       "      <td>Kansas St</td>\n",
       "      <td>Kentucky</td>\n",
       "      <td>1243</td>\n",
       "      <td>1246</td>\n",
       "      <td>1.0</td>\n",
       "      <td>0.446092</td>\n",
       "      <td>False</td>\n",
       "    </tr>\n",
       "    <tr>\n",
       "      <th>34</th>\n",
       "      <td>TCU</td>\n",
       "      <td>Arizona St</td>\n",
       "      <td>1395</td>\n",
       "      <td>1113</td>\n",
       "      <td>1.0</td>\n",
       "      <td>0.457360</td>\n",
       "      <td>False</td>\n",
       "    </tr>\n",
       "    <tr>\n",
       "      <th>5</th>\n",
       "      <td>Arkansas</td>\n",
       "      <td>Illinois</td>\n",
       "      <td>1116</td>\n",
       "      <td>1228</td>\n",
       "      <td>1.0</td>\n",
       "      <td>0.472131</td>\n",
       "      <td>False</td>\n",
       "    </tr>\n",
       "    <tr>\n",
       "      <th>12</th>\n",
       "      <td>Missouri</td>\n",
       "      <td>Utah St</td>\n",
       "      <td>1281</td>\n",
       "      <td>1429</td>\n",
       "      <td>1.0</td>\n",
       "      <td>0.482999</td>\n",
       "      <td>False</td>\n",
       "    </tr>\n",
       "    <tr>\n",
       "      <th>59</th>\n",
       "      <td>Texas</td>\n",
       "      <td>Xavier</td>\n",
       "      <td>1400</td>\n",
       "      <td>1462</td>\n",
       "      <td>1.0</td>\n",
       "      <td>0.486456</td>\n",
       "      <td>False</td>\n",
       "    </tr>\n",
       "  </tbody>\n",
       "</table>\n",
       "</div>"
      ],
      "text/plain": [
       "     winner_name      loser_name  winner  loser  actual  predicted  Upset\n",
       "63  San Diego St       Creighton    1361   1166     1.0   0.409040  False\n",
       "0     Pittsburgh  Mississippi St    1338   1280     1.0   0.428284  False\n",
       "48     Kansas St        Kentucky    1243   1246     1.0   0.446092  False\n",
       "34           TCU      Arizona St    1395   1113     1.0   0.457360  False\n",
       "5       Arkansas        Illinois    1116   1228     1.0   0.472131  False\n",
       "12      Missouri         Utah St    1281   1429     1.0   0.482999  False\n",
       "59         Texas          Xavier    1400   1462     1.0   0.486456  False"
      ]
     },
     "execution_count": 34,
     "metadata": {},
     "output_type": "execute_result"
    }
   ],
   "source": [
    "t_2023[~t_2023.Upset & (t_2023.predicted < 0.5)].sort_values('predicted')"
   ]
  },
  {
   "cell_type": "markdown",
   "id": "25b225a9-822d-417d-bf83-e329ec0c2020",
   "metadata": {},
   "source": [
    "I also incorrectly predicted 4 upsets"
   ]
  },
  {
   "cell_type": "markdown",
   "id": "40bd0e20-15ce-42b8-aaf3-b07965ccb410",
   "metadata": {},
   "source": [
    "Looking at all the tourneys"
   ]
  },
  {
   "cell_type": "code",
   "execution_count": 35,
   "id": "e081fd5c-52cb-483a-90d1-3b65039e2857",
   "metadata": {},
   "outputs": [],
   "source": [
    "x, y = tourney_loader.dataset.tensors\n",
    "preds = result_model(x.to(device))\n",
    "tourney_df = pd.DataFrame({'season': x[:,4].tolist(),\n",
    "                           'winner_name': [dataset.all_teams.loc[dataset.programs.loc[i].TeamID].TeamName for i in x[:,0].tolist()],\n",
    "                           'loser_name': [dataset.all_teams.loc[dataset.programs.loc[i].TeamID].TeamName for i in x[:,2].tolist()],\n",
    "                           'winner': [dataset.programs.loc[i].TeamID for i in x[:,0].tolist()],\n",
    "                           'loser': [dataset.programs.loc[i].TeamID for i in x[:,2].tolist()],\n",
    "                           'actual': y.reshape([-1]),\n",
    "                           'predicted': np.array(preds.tolist()).reshape([-1])})\n",
    "tourney_df = tourney_df[tourney_df.actual == 1.0]\n",
    "tourney_df['Upset'] = [dataset.upset(season, winner, loser) for (winner, loser, season)\n",
    "                       in zip(tourney_df['winner'], tourney_df['loser'], tourney_df['season'])]"
   ]
  },
  {
   "cell_type": "code",
   "execution_count": 36,
   "id": "f5ab6d89-db40-499b-a6c2-7823c13fdfc9",
   "metadata": {},
   "outputs": [
    {
     "data": {
      "text/plain": [
       "21"
      ]
     },
     "execution_count": 36,
     "metadata": {},
     "output_type": "execute_result"
    }
   ],
   "source": [
    "len(tourney_df[tourney_df.Upset & (tourney_df.predicted >= 0.5) & (tourney_df.season > 2020)].sort_values('predicted', ascending=False))"
   ]
  },
  {
   "cell_type": "code",
   "execution_count": 37,
   "id": "7f614719-0380-4eea-aea1-6d6730329208",
   "metadata": {},
   "outputs": [
    {
     "data": {
      "text/plain": [
       "40"
      ]
     },
     "execution_count": 37,
     "metadata": {},
     "output_type": "execute_result"
    }
   ],
   "source": [
    "len(tourney_df[~tourney_df.Upset & (tourney_df.predicted < 0.5) & (tourney_df.season > 2020)].sort_values('predicted'))"
   ]
  },
  {
   "cell_type": "markdown",
   "id": "121a8c8b-3e75-4455-940a-b59d2e742175",
   "metadata": {},
   "source": [
    "Overall I predicted 19 upsets correctly, and 30 incorrectly"
   ]
  },
  {
   "cell_type": "markdown",
   "id": "11f41c41-df65-47ff-a6e5-ddfd3a274cb5",
   "metadata": {},
   "source": [
    "## Predicting by seeds\n",
    "What if I predict just using the seeds?"
   ]
  },
  {
   "cell_type": "code",
   "execution_count": 38,
   "id": "71e280ae-4aba-46d0-9d98-3cfdfada40b5",
   "metadata": {},
   "outputs": [],
   "source": [
    "odds = dataset.odds_by_seed_diff(before=2021)"
   ]
  },
  {
   "cell_type": "code",
   "execution_count": 39,
   "id": "a7388d50-2810-4bbe-8938-3a2f1db41e41",
   "metadata": {
    "scrolled": true
   },
   "outputs": [
    {
     "data": {
      "text/plain": [
       "np.float64(0.18527460145235355)"
      ]
     },
     "execution_count": 39,
     "metadata": {},
     "output_type": "execute_result"
    }
   ],
   "source": [
    "dataset.tourney_df(after=2021).SeedDiff.map(lambda x: odds[x]**2).mean()"
   ]
  },
  {
   "cell_type": "markdown",
   "id": "cfb055ef-ea46-4543-bffb-f1e6082797b1",
   "metadata": {},
   "source": [
    "This results in a test Brier score of about 0.185."
   ]
  },
  {
   "cell_type": "markdown",
   "id": "fbbc2c9a-6d4b-4848-9f9d-2f924fdccc70",
   "metadata": {},
   "source": [
    "## Hybrid Model\n",
    "Building a model using the neural net and seeds"
   ]
  },
  {
   "cell_type": "code",
   "execution_count": 40,
   "id": "3b9fd541-e152-4173-a518-0ccb8470e755",
   "metadata": {},
   "outputs": [
    {
     "data": {
      "text/plain": [
       "0.1828505115610905"
      ]
     },
     "execution_count": 40,
     "metadata": {},
     "output_type": "execute_result"
    }
   ],
   "source": [
    "seed_model = model.SeedModel(dataset, after=2021)\n",
    "model.test(stage1_loader, seed_model)"
   ]
  },
  {
   "cell_type": "code",
   "execution_count": 41,
   "id": "2a180204-1fb0-4ec6-85dd-58ac8ae34929",
   "metadata": {},
   "outputs": [
    {
     "data": {
      "text/plain": [
       "0.17782618509477946"
      ]
     },
     "execution_count": 41,
     "metadata": {},
     "output_type": "execute_result"
    }
   ],
   "source": [
    "model.test(stage1_loader, result_model)"
   ]
  },
  {
   "cell_type": "code",
   "execution_count": 42,
   "id": "d5f47474-12e5-49b6-8b00-e675700f4716",
   "metadata": {},
   "outputs": [],
   "source": [
    "hybrid = model.HybridModel([result_model, seed_model], [0.8, 0.2])"
   ]
  },
  {
   "cell_type": "code",
   "execution_count": 43,
   "id": "6159dd7e-3f08-4f37-bc4a-3c5ff12b94a8",
   "metadata": {},
   "outputs": [
    {
     "data": {
      "text/plain": [
       "0.17653593524947686"
      ]
     },
     "execution_count": 43,
     "metadata": {},
     "output_type": "execute_result"
    }
   ],
   "source": [
    "model.test(stage1_loader, hybrid)"
   ]
  },
  {
   "cell_type": "markdown",
   "id": "a05ae290-cbb8-4d56-b0da-92cf9a654de9",
   "metadata": {},
   "source": [
    "They hybrid model outperforms both individual models"
   ]
  },
  {
   "cell_type": "code",
   "execution_count": 44,
   "id": "15f38211-8d21-4b6a-ac91-d2835a00ed5c",
   "metadata": {},
   "outputs": [
    {
     "name": "stdout",
     "output_type": "stream",
     "text": [
      "2021 Tournament: Accuracy=69.38, Loss=0.182805\n",
      "2021 Tournament: Accuracy=69.38, Loss=0.182805\n",
      "2022 Tournament: Accuracy=72.76, Loss=0.174390\n",
      "2022 Tournament: Accuracy=72.76, Loss=0.174390\n",
      "2023 Tournament: Accuracy=71.27, Loss=0.189143\n",
      "2023 Tournament: Accuracy=71.27, Loss=0.189143\n",
      "2024 Tournament: Accuracy=76.87, Loss=0.160040\n",
      "2024 Tournament: Accuracy=76.87, Loss=0.160040\n"
     ]
    }
   ],
   "source": [
    "for season in range(2021, 2025):\n",
    "    for league in ['M', 'W']:\n",
    "        loader = dataset.tourney_data(season, league)\n",
    "        model.print_results(loader, hybrid, label=f\"{season} Tournament\")"
   ]
  },
  {
   "cell_type": "markdown",
   "id": "6b676e8c-8344-4fbc-aca2-7fa778c4fdfa",
   "metadata": {},
   "source": [
    "## Generate a bracket"
   ]
  },
  {
   "cell_type": "code",
   "execution_count": 45,
   "id": "d0c08cb5-dec3-42f6-8627-052dcf7adacb",
   "metadata": {},
   "outputs": [
    {
     "name": "stdout",
     "output_type": "stream",
     "text": [
      "      Winner        TeamName\n",
      "Slot                        \n",
      "R1W1    1163     Connecticut\n",
      "R1W2    1235         Iowa St\n",
      "R1W3    1228        Illinois\n",
      "R1W4    1120          Auburn\n",
      "R1W5    1361    San Diego St\n",
      "R1W6    1140             BYU\n",
      "R1W7    1450   Washington St\n",
      "R1W8    1194     FL Atlantic\n",
      "R1X1    1314  North Carolina\n",
      "R1X2    1112         Arizona\n",
      "R1X3    1124          Baylor\n",
      "R1X4    1104         Alabama\n",
      "R1X5    1388    St Mary's CA\n",
      "R1X6    1307      New Mexico\n",
      "R1X7    1173          Dayton\n",
      "R1X8    1277     Michigan St\n",
      "R1Y1    1345          Purdue\n",
      "R1Y2    1397       Tennessee\n",
      "R1Y3    1166       Creighton\n",
      "R1Y4    1242          Kansas\n",
      "R1Y5    1211         Gonzaga\n",
      "R1Y6    1376  South Carolina\n",
      "R1Y7    1400           Texas\n",
      "R1Y8    1429         Utah St\n",
      "R1Z1    1222         Houston\n",
      "R1Z2    1266       Marquette\n",
      "R1Z3    1246        Kentucky\n",
      "R1Z4    1181            Duke\n",
      "R1Z5    1458       Wisconsin\n",
      "R1Z6    1403      Texas Tech\n",
      "R1Z7    1196         Florida\n",
      "R1Z8    1401       Texas A&M\n",
      "R2W1    1163     Connecticut\n",
      "R2W2    1235         Iowa St\n",
      "R2W3    1228        Illinois\n",
      "R2W4    1120          Auburn\n",
      "R2X1    1314  North Carolina\n",
      "R2X2    1112         Arizona\n",
      "R2X3    1124          Baylor\n",
      "R2X4    1388    St Mary's CA\n",
      "R2Y1    1345          Purdue\n",
      "R2Y2    1397       Tennessee\n",
      "R2Y3    1166       Creighton\n",
      "R2Y4    1242          Kansas\n",
      "R2Z1    1222         Houston\n",
      "R2Z2    1266       Marquette\n",
      "R2Z3    1246        Kentucky\n",
      "R2Z4    1181            Duke\n",
      "R3W1    1163     Connecticut\n",
      "R3W2    1235         Iowa St\n",
      "R3X1    1314  North Carolina\n",
      "R3X2    1112         Arizona\n",
      "R3Y1    1345          Purdue\n",
      "R3Y2    1397       Tennessee\n",
      "R3Z1    1222         Houston\n",
      "R3Z2    1266       Marquette\n",
      "R4W1    1163     Connecticut\n",
      "R4X1    1112         Arizona\n",
      "R4Y1    1345          Purdue\n",
      "R4Z1    1222         Houston\n",
      "R5WX    1163     Connecticut\n",
      "R5YZ    1345          Purdue\n",
      "R6CH    1345          Purdue\n",
      "X16     1447          Wagner\n",
      "Y10     1438        Virginia\n",
      "Y16     1286      Montana St\n",
      "Z10     1160        Colorado\n"
     ]
    }
   ],
   "source": [
    "with pd.option_context('display.max_rows', None, 'display.max_columns', None): \n",
    "    print(model.gen_bracket(dataset, 2024, 'M', hybrid).join(dataset.all_teams, on='Winner')[['Winner', 'TeamName']])"
   ]
  },
  {
   "cell_type": "code",
   "execution_count": null,
   "id": "9de057b4-a6f3-431a-99d0-baed2b8a7057",
   "metadata": {},
   "outputs": [],
   "source": []
  }
 ],
 "metadata": {
  "kernelspec": {
   "display_name": "Python 3 (ipykernel)",
   "language": "python",
   "name": "python3"
  },
  "language_info": {
   "codemirror_mode": {
    "name": "ipython",
    "version": 3
   },
   "file_extension": ".py",
   "mimetype": "text/x-python",
   "name": "python",
   "nbconvert_exporter": "python",
   "pygments_lexer": "ipython3",
   "version": "3.10.12"
  }
 },
 "nbformat": 4,
 "nbformat_minor": 5
}
