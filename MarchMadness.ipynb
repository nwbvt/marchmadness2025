{
 "cells": [
  {
   "cell_type": "markdown",
   "id": "a4b53588-2c8e-4166-b01d-037b765c2d69",
   "metadata": {},
   "source": [
    "# March Madness 2025"
   ]
  },
  {
   "cell_type": "code",
   "execution_count": 1,
   "id": "dd96dd0b-1844-4dca-9495-b722deda29ed",
   "metadata": {},
   "outputs": [
    {
     "name": "stdout",
     "output_type": "stream",
     "text": [
      "Using cuda device\n"
     ]
    }
   ],
   "source": [
    "import pandas as pd\n",
    "import torch\n",
    "import torch.nn as nn\n",
    "import torch.nn.functional as F\n",
    "import numpy as np\n",
    "from torch.utils.data import TensorDataset, DataLoader\n",
    "import os\n",
    "from sklearn.model_selection import train_test_split\n",
    "import random\n",
    "from data import Data, STATS_COLUMNS\n",
    "import model\n",
    "import elo\n",
    "\n",
    "torch.manual_seed(20250222)\n",
    "random.seed(20250222)\n",
    "np.random.seed(20250222)\n",
    "\n",
    "device = torch.accelerator.current_accelerator().type if torch.accelerator.is_available() else \"cpu\"\n",
    "print(f\"Using {device} device\")"
   ]
  },
  {
   "cell_type": "markdown",
   "id": "81669670-3bd9-4cc0-b0e8-d76f32dfd61f",
   "metadata": {},
   "source": [
    "## Hypothesis\n",
    "Each team can be modeled by x hidden features. In each game, these hidden features interact in a nonlinear fashion to determine the outcome of the game"
   ]
  },
  {
   "cell_type": "markdown",
   "id": "ef008b05-6dc7-46e7-9783-2499977b8249",
   "metadata": {},
   "source": [
    "## Preparing the data\n",
    "Load the data"
   ]
  },
  {
   "cell_type": "code",
   "execution_count": 2,
   "id": "836cd53e-d493-44d7-91d7-f0bd02a9644e",
   "metadata": {},
   "outputs": [
    {
     "data": {
      "text/html": [
       "<div>\n",
       "<style scoped>\n",
       "    .dataframe tbody tr th:only-of-type {\n",
       "        vertical-align: middle;\n",
       "    }\n",
       "\n",
       "    .dataframe tbody tr th {\n",
       "        vertical-align: top;\n",
       "    }\n",
       "\n",
       "    .dataframe thead th {\n",
       "        text-align: right;\n",
       "    }\n",
       "</style>\n",
       "<table border=\"1\" class=\"dataframe\">\n",
       "  <thead>\n",
       "    <tr style=\"text-align: right;\">\n",
       "      <th></th>\n",
       "      <th>Season</th>\n",
       "      <th>DayNum</th>\n",
       "      <th>WTeamID</th>\n",
       "      <th>WScore</th>\n",
       "      <th>LTeamID</th>\n",
       "      <th>LScore</th>\n",
       "      <th>NumOT</th>\n",
       "      <th>WFGM</th>\n",
       "      <th>WFGA</th>\n",
       "      <th>WFGM3</th>\n",
       "      <th>...</th>\n",
       "      <th>LFGA3</th>\n",
       "      <th>LFTM</th>\n",
       "      <th>LFTA</th>\n",
       "      <th>LOR</th>\n",
       "      <th>LDR</th>\n",
       "      <th>LAst</th>\n",
       "      <th>LTO</th>\n",
       "      <th>LStl</th>\n",
       "      <th>LBlk</th>\n",
       "      <th>LPF</th>\n",
       "    </tr>\n",
       "  </thead>\n",
       "  <tbody>\n",
       "    <tr>\n",
       "      <th>count</th>\n",
       "      <td>200590.000000</td>\n",
       "      <td>200590.000000</td>\n",
       "      <td>200590.000000</td>\n",
       "      <td>200590.000000</td>\n",
       "      <td>200590.000000</td>\n",
       "      <td>200590.000000</td>\n",
       "      <td>200590.000000</td>\n",
       "      <td>200590.000000</td>\n",
       "      <td>200590.000000</td>\n",
       "      <td>200590.000000</td>\n",
       "      <td>...</td>\n",
       "      <td>200590.000000</td>\n",
       "      <td>200590.000000</td>\n",
       "      <td>200590.000000</td>\n",
       "      <td>200590.000000</td>\n",
       "      <td>200590.000000</td>\n",
       "      <td>200590.000000</td>\n",
       "      <td>200590.000000</td>\n",
       "      <td>200590.000000</td>\n",
       "      <td>200590.000000</td>\n",
       "      <td>200590.000000</td>\n",
       "    </tr>\n",
       "    <tr>\n",
       "      <th>mean</th>\n",
       "      <td>2015.575896</td>\n",
       "      <td>70.371624</td>\n",
       "      <td>2101.677721</td>\n",
       "      <td>74.190697</td>\n",
       "      <td>2099.323680</td>\n",
       "      <td>61.205668</td>\n",
       "      <td>0.061738</td>\n",
       "      <td>26.180557</td>\n",
       "      <td>57.072441</td>\n",
       "      <td>6.919323</td>\n",
       "      <td>...</td>\n",
       "      <td>19.266279</td>\n",
       "      <td>11.437051</td>\n",
       "      <td>16.819468</td>\n",
       "      <td>10.801152</td>\n",
       "      <td>21.937435</td>\n",
       "      <td>11.218625</td>\n",
       "      <td>15.191485</td>\n",
       "      <td>6.454031</td>\n",
       "      <td>2.849489</td>\n",
       "      <td>18.836014</td>\n",
       "    </tr>\n",
       "    <tr>\n",
       "      <th>std</th>\n",
       "      <td>6.073611</td>\n",
       "      <td>36.089915</td>\n",
       "      <td>986.770174</td>\n",
       "      <td>11.403172</td>\n",
       "      <td>989.989621</td>\n",
       "      <td>11.373177</td>\n",
       "      <td>0.287218</td>\n",
       "      <td>4.809783</td>\n",
       "      <td>7.820486</td>\n",
       "      <td>3.168482</td>\n",
       "      <td>...</td>\n",
       "      <td>6.327385</td>\n",
       "      <td>5.238806</td>\n",
       "      <td>6.985267</td>\n",
       "      <td>4.417465</td>\n",
       "      <td>4.706791</td>\n",
       "      <td>3.764948</td>\n",
       "      <td>5.029754</td>\n",
       "      <td>2.984269</td>\n",
       "      <td>2.036512</td>\n",
       "      <td>4.586616</td>\n",
       "    </tr>\n",
       "    <tr>\n",
       "      <th>min</th>\n",
       "      <td>2003.000000</td>\n",
       "      <td>0.000000</td>\n",
       "      <td>1101.000000</td>\n",
       "      <td>30.000000</td>\n",
       "      <td>1101.000000</td>\n",
       "      <td>11.000000</td>\n",
       "      <td>0.000000</td>\n",
       "      <td>9.000000</td>\n",
       "      <td>26.000000</td>\n",
       "      <td>0.000000</td>\n",
       "      <td>...</td>\n",
       "      <td>0.000000</td>\n",
       "      <td>0.000000</td>\n",
       "      <td>0.000000</td>\n",
       "      <td>0.000000</td>\n",
       "      <td>1.000000</td>\n",
       "      <td>0.000000</td>\n",
       "      <td>0.000000</td>\n",
       "      <td>0.000000</td>\n",
       "      <td>0.000000</td>\n",
       "      <td>3.000000</td>\n",
       "    </tr>\n",
       "    <tr>\n",
       "      <th>25%</th>\n",
       "      <td>2011.000000</td>\n",
       "      <td>38.000000</td>\n",
       "      <td>1261.000000</td>\n",
       "      <td>66.000000</td>\n",
       "      <td>1254.000000</td>\n",
       "      <td>54.000000</td>\n",
       "      <td>0.000000</td>\n",
       "      <td>23.000000</td>\n",
       "      <td>52.000000</td>\n",
       "      <td>5.000000</td>\n",
       "      <td>...</td>\n",
       "      <td>15.000000</td>\n",
       "      <td>8.000000</td>\n",
       "      <td>12.000000</td>\n",
       "      <td>8.000000</td>\n",
       "      <td>19.000000</td>\n",
       "      <td>9.000000</td>\n",
       "      <td>12.000000</td>\n",
       "      <td>4.000000</td>\n",
       "      <td>1.000000</td>\n",
       "      <td>16.000000</td>\n",
       "    </tr>\n",
       "    <tr>\n",
       "      <th>50%</th>\n",
       "      <td>2016.000000</td>\n",
       "      <td>74.000000</td>\n",
       "      <td>1413.000000</td>\n",
       "      <td>74.000000</td>\n",
       "      <td>1407.000000</td>\n",
       "      <td>61.000000</td>\n",
       "      <td>0.000000</td>\n",
       "      <td>26.000000</td>\n",
       "      <td>57.000000</td>\n",
       "      <td>7.000000</td>\n",
       "      <td>...</td>\n",
       "      <td>19.000000</td>\n",
       "      <td>11.000000</td>\n",
       "      <td>16.000000</td>\n",
       "      <td>10.000000</td>\n",
       "      <td>22.000000</td>\n",
       "      <td>11.000000</td>\n",
       "      <td>15.000000</td>\n",
       "      <td>6.000000</td>\n",
       "      <td>3.000000</td>\n",
       "      <td>19.000000</td>\n",
       "    </tr>\n",
       "    <tr>\n",
       "      <th>75%</th>\n",
       "      <td>2021.000000</td>\n",
       "      <td>101.000000</td>\n",
       "      <td>3245.000000</td>\n",
       "      <td>81.000000</td>\n",
       "      <td>3246.000000</td>\n",
       "      <td>69.000000</td>\n",
       "      <td>0.000000</td>\n",
       "      <td>29.000000</td>\n",
       "      <td>62.000000</td>\n",
       "      <td>9.000000</td>\n",
       "      <td>...</td>\n",
       "      <td>23.000000</td>\n",
       "      <td>15.000000</td>\n",
       "      <td>21.000000</td>\n",
       "      <td>14.000000</td>\n",
       "      <td>25.000000</td>\n",
       "      <td>14.000000</td>\n",
       "      <td>18.000000</td>\n",
       "      <td>8.000000</td>\n",
       "      <td>4.000000</td>\n",
       "      <td>22.000000</td>\n",
       "    </tr>\n",
       "    <tr>\n",
       "      <th>max</th>\n",
       "      <td>2025.000000</td>\n",
       "      <td>132.000000</td>\n",
       "      <td>3480.000000</td>\n",
       "      <td>149.000000</td>\n",
       "      <td>3480.000000</td>\n",
       "      <td>144.000000</td>\n",
       "      <td>6.000000</td>\n",
       "      <td>58.000000</td>\n",
       "      <td>113.000000</td>\n",
       "      <td>30.000000</td>\n",
       "      <td>...</td>\n",
       "      <td>80.000000</td>\n",
       "      <td>48.000000</td>\n",
       "      <td>65.000000</td>\n",
       "      <td>38.000000</td>\n",
       "      <td>53.000000</td>\n",
       "      <td>34.000000</td>\n",
       "      <td>49.000000</td>\n",
       "      <td>26.000000</td>\n",
       "      <td>21.000000</td>\n",
       "      <td>47.000000</td>\n",
       "    </tr>\n",
       "  </tbody>\n",
       "</table>\n",
       "<p>8 rows × 33 columns</p>\n",
       "</div>"
      ],
      "text/plain": [
       "              Season         DayNum        WTeamID         WScore  \\\n",
       "count  200590.000000  200590.000000  200590.000000  200590.000000   \n",
       "mean     2015.575896      70.371624    2101.677721      74.190697   \n",
       "std         6.073611      36.089915     986.770174      11.403172   \n",
       "min      2003.000000       0.000000    1101.000000      30.000000   \n",
       "25%      2011.000000      38.000000    1261.000000      66.000000   \n",
       "50%      2016.000000      74.000000    1413.000000      74.000000   \n",
       "75%      2021.000000     101.000000    3245.000000      81.000000   \n",
       "max      2025.000000     132.000000    3480.000000     149.000000   \n",
       "\n",
       "             LTeamID         LScore          NumOT           WFGM  \\\n",
       "count  200590.000000  200590.000000  200590.000000  200590.000000   \n",
       "mean     2099.323680      61.205668       0.061738      26.180557   \n",
       "std       989.989621      11.373177       0.287218       4.809783   \n",
       "min      1101.000000      11.000000       0.000000       9.000000   \n",
       "25%      1254.000000      54.000000       0.000000      23.000000   \n",
       "50%      1407.000000      61.000000       0.000000      26.000000   \n",
       "75%      3246.000000      69.000000       0.000000      29.000000   \n",
       "max      3480.000000     144.000000       6.000000      58.000000   \n",
       "\n",
       "                WFGA          WFGM3  ...          LFGA3           LFTM  \\\n",
       "count  200590.000000  200590.000000  ...  200590.000000  200590.000000   \n",
       "mean       57.072441       6.919323  ...      19.266279      11.437051   \n",
       "std         7.820486       3.168482  ...       6.327385       5.238806   \n",
       "min        26.000000       0.000000  ...       0.000000       0.000000   \n",
       "25%        52.000000       5.000000  ...      15.000000       8.000000   \n",
       "50%        57.000000       7.000000  ...      19.000000      11.000000   \n",
       "75%        62.000000       9.000000  ...      23.000000      15.000000   \n",
       "max       113.000000      30.000000  ...      80.000000      48.000000   \n",
       "\n",
       "                LFTA            LOR            LDR           LAst  \\\n",
       "count  200590.000000  200590.000000  200590.000000  200590.000000   \n",
       "mean       16.819468      10.801152      21.937435      11.218625   \n",
       "std         6.985267       4.417465       4.706791       3.764948   \n",
       "min         0.000000       0.000000       1.000000       0.000000   \n",
       "25%        12.000000       8.000000      19.000000       9.000000   \n",
       "50%        16.000000      10.000000      22.000000      11.000000   \n",
       "75%        21.000000      14.000000      25.000000      14.000000   \n",
       "max        65.000000      38.000000      53.000000      34.000000   \n",
       "\n",
       "                 LTO           LStl           LBlk            LPF  \n",
       "count  200590.000000  200590.000000  200590.000000  200590.000000  \n",
       "mean       15.191485       6.454031       2.849489      18.836014  \n",
       "std         5.029754       2.984269       2.036512       4.586616  \n",
       "min         0.000000       0.000000       0.000000       3.000000  \n",
       "25%        12.000000       4.000000       1.000000      16.000000  \n",
       "50%        15.000000       6.000000       3.000000      19.000000  \n",
       "75%        18.000000       8.000000       4.000000      22.000000  \n",
       "max        49.000000      26.000000      21.000000      47.000000  \n",
       "\n",
       "[8 rows x 33 columns]"
      ]
     },
     "execution_count": 2,
     "metadata": {},
     "output_type": "execute_result"
    }
   ],
   "source": [
    "dataset = Data(batch_size=100)\n",
    "\n",
    "dataset.games.describe()"
   ]
  },
  {
   "cell_type": "markdown",
   "id": "ee119045-207e-4dae-9ec7-1ef186642f48",
   "metadata": {},
   "source": [
    "The x's will be the indexes of two team IDs and program IDs, the y's will include and indicator of who won at the game stats"
   ]
  },
  {
   "cell_type": "markdown",
   "id": "84dff41d-c6ee-4c4c-a11a-e052cc1a7d4a",
   "metadata": {},
   "source": [
    "## Predicting Stats\n",
    "The first model we build will predict game statistics. There is more information encapsulated in the box scores than simply wins and losses so we will use this to build up embeddings that are predictive about how the games will play out"
   ]
  },
  {
   "cell_type": "code",
   "execution_count": 3,
   "id": "3abc258c-3999-4de4-bc7d-580218c95cdc",
   "metadata": {},
   "outputs": [
    {
     "name": "stdout",
     "output_type": "stream",
     "text": [
      "Loading cached data\n"
     ]
    }
   ],
   "source": [
    "stats_train_loader, stats_validation_loader = dataset.train_test_data(output_stats=True, cache=\"stats\", train_size=0.99)"
   ]
  },
  {
   "cell_type": "code",
   "execution_count": 4,
   "id": "5f1c1ad6-2a8d-45b1-abcd-44f5504fbf0a",
   "metadata": {},
   "outputs": [],
   "source": [
    "stats_model = model.StatsModel(program_embedding=512, team_embedding=512,\n",
    "                               num_programs=len(dataset.programs), num_teams=len(dataset.teams),\n",
    "                               model_sizes=(512, 256), dropout=0.5).to(device)"
   ]
  },
  {
   "cell_type": "code",
   "execution_count": 5,
   "id": "16d06777-d854-4645-a06c-a61103aa004a",
   "metadata": {},
   "outputs": [
    {
     "name": "stdout",
     "output_type": "stream",
     "text": [
      "Loading from cache\n"
     ]
    }
   ],
   "source": [
    "model.train(stats_train_loader, stats_validation_loader, stats_model, name=\"stats_model\", learning_rate=0.001, use_cache=True)"
   ]
  },
  {
   "cell_type": "markdown",
   "id": "cf50ea84-42ce-462c-a3b3-3928a04aa7ef",
   "metadata": {},
   "source": [
    "## The Model\n",
    "Now we use the embeddings developed in the first model to build a model to predict which team will win, which is the thing we are, in the end trying to do."
   ]
  },
  {
   "cell_type": "code",
   "execution_count": 6,
   "id": "32f8f3af-835b-4b45-8dbc-2be3e059552d",
   "metadata": {},
   "outputs": [
    {
     "name": "stdout",
     "output_type": "stream",
     "text": [
      "Loading cached data\n"
     ]
    }
   ],
   "source": [
    "result_train_loader, result_validation_loader = dataset.train_test_data(output_stats=False, cache=\"result\", train_size=0.99, seed=20250320)"
   ]
  },
  {
   "cell_type": "code",
   "execution_count": 7,
   "id": "d5629261-0b6d-44c9-828e-698e86006f00",
   "metadata": {},
   "outputs": [],
   "source": [
    "result_model = model.Model(matchup=stats_model.matchup, model_sizes=(384, 64), dropout=0.5).to(device)\n",
    "result_model.matchup.freeze()"
   ]
  },
  {
   "cell_type": "markdown",
   "id": "7d98325a-8ba0-466f-b3ca-6991e8450a08",
   "metadata": {},
   "source": [
    "## Training the model"
   ]
  },
  {
   "cell_type": "markdown",
   "id": "553fca87-08c7-48e0-92dd-52ef4ff8463f",
   "metadata": {},
   "source": [
    "Train the model"
   ]
  },
  {
   "cell_type": "code",
   "execution_count": 8,
   "id": "eb5d54b3-9031-45bb-a66f-ca69765aa76c",
   "metadata": {},
   "outputs": [
    {
     "name": "stdout",
     "output_type": "stream",
     "text": [
      "Epoch   0: Train Loss=0.24952979, Test Loss=0.24954304\n",
      "Epoch   1: Train Loss=0.16384998, Test Loss=0.16688902\n",
      "Epoch   2: Train Loss=0.16364914, Test Loss=0.16687318\n",
      "Epoch   3: Train Loss=0.16343311, Test Loss=0.16700908\n",
      "Epoch   4: Train Loss=0.16386590, Test Loss=0.16731908\n",
      "Epoch   5: Train Loss=0.16347014, Test Loss=0.16696801\n",
      "Epoch   6: Train Loss=0.16384493, Test Loss=0.16762440\n",
      "Epoch   7: Train Loss=0.16168635, Test Loss=0.16576605\n",
      "Epoch   8: Train Loss=0.16357340, Test Loss=0.16767171\n",
      "Epoch   9: Train Loss=0.16140582, Test Loss=0.16539340\n",
      "Epoch  10: Train Loss=0.16281094, Test Loss=0.16674005\n",
      "Epoch  11: Train Loss=0.16151233, Test Loss=0.16537046\n",
      "Epoch  12: Train Loss=0.16246119, Test Loss=0.16643479\n",
      "Epoch  13: Train Loss=0.16358856, Test Loss=0.16764157\n",
      "Epoch  14: Train Loss=0.16210076, Test Loss=0.16608303\n",
      "Epoch  15: Train Loss=0.16299207, Test Loss=0.16733678\n",
      "Epoch  16: Train Loss=0.16302327, Test Loss=0.16745245\n",
      "Best Loss: 0.165370\n"
     ]
    }
   ],
   "source": [
    "model.train(result_train_loader, result_validation_loader, result_model, name=\"result_model\", learning_rate=0.0001)"
   ]
  },
  {
   "cell_type": "code",
   "execution_count": 9,
   "id": "2747754a-2511-40c8-ae98-0b456c66e3b1",
   "metadata": {},
   "outputs": [
    {
     "name": "stdout",
     "output_type": "stream",
     "text": [
      "Validation Results: Accuracy=75.55, Loss=0.165370\n"
     ]
    }
   ],
   "source": [
    "model.print_results(result_validation_loader, result_model, label=\"Validation Results\")"
   ]
  },
  {
   "cell_type": "markdown",
   "id": "3a55a843-9fa3-443f-8342-410abd74688c",
   "metadata": {},
   "source": [
    "With this model we can predict the output of about three quarters of regular season games."
   ]
  },
  {
   "cell_type": "markdown",
   "id": "7afe60ad-2cd9-4339-9600-62264350e6bd",
   "metadata": {},
   "source": [
    "## Load the tourney data to test with"
   ]
  },
  {
   "cell_type": "code",
   "execution_count": 10,
   "id": "093fcd61-386e-4330-b5af-e9d93df1b144",
   "metadata": {},
   "outputs": [],
   "source": [
    "tourney_dataset = dataset.gen_dataset(dataset.tourney)\n",
    "tourney_loader = DataLoader(tourney_dataset, batch_size=500, shuffle=True)"
   ]
  },
  {
   "cell_type": "code",
   "execution_count": 11,
   "id": "08340cd1-6cb0-400a-80fa-dda1171789bd",
   "metadata": {},
   "outputs": [
    {
     "name": "stdout",
     "output_type": "stream",
     "text": [
      "Tournament Results: Accuracy=73.77, Loss=0.169583\n"
     ]
    }
   ],
   "source": [
    "model.print_results(tourney_loader, result_model, label=\"Tournament Results\")"
   ]
  },
  {
   "cell_type": "markdown",
   "id": "ada7c18a-8267-4926-a191-5c3a218bfde2",
   "metadata": {},
   "source": [
    "When it comes to tournament results we get a little worse. The lower result is likely due to teams having increased pairity."
   ]
  },
  {
   "cell_type": "code",
   "execution_count": 12,
   "id": "509da685-8b79-473b-83d8-74e9d47ebe72",
   "metadata": {},
   "outputs": [
    {
     "name": "stdout",
     "output_type": "stream",
     "text": [
      "Stage 1: Accuracy=72.22, Loss=0.175968\n"
     ]
    }
   ],
   "source": [
    "stage1_loader = dataset.tourney_data(after=2021)\n",
    "model.print_results(stage1_loader, result_model, label=f\"Stage 1\")"
   ]
  },
  {
   "cell_type": "markdown",
   "id": "658506a6-6cff-48e4-9562-28cabf03663a",
   "metadata": {},
   "source": [
    "Train with early torney data"
   ]
  },
  {
   "cell_type": "code",
   "execution_count": 13,
   "id": "1b635c43-1cee-4bca-a38c-0cb71c4f3ee4",
   "metadata": {},
   "outputs": [],
   "source": [
    "tourney_df = dataset.tourney[dataset.tourney.Season < 2021]\n",
    "\n",
    "tourney_train_df, tourney_validation_df = train_test_split(tourney_df, train_size=0.8)\n",
    "tourney_train_data = dataset.gen_dataset(tourney_train_df)\n",
    "tourney_validation_data = dataset.gen_dataset(tourney_validation_df)\n",
    "\n",
    "tourney_train_loader = DataLoader(tourney_train_data, batch_size=500)\n",
    "tourney_validation_loader = DataLoader(tourney_validation_data, batch_size=500)"
   ]
  },
  {
   "cell_type": "code",
   "execution_count": 14,
   "id": "911e30c5-e7d4-4bd5-b15a-8fce5a92322b",
   "metadata": {},
   "outputs": [],
   "source": [
    "result_model.matchup.freeze()"
   ]
  },
  {
   "cell_type": "code",
   "execution_count": 15,
   "id": "b985479b-335f-4a69-ad88-6738891b934e",
   "metadata": {},
   "outputs": [
    {
     "name": "stdout",
     "output_type": "stream",
     "text": [
      "Epoch   0: Train Loss=0.16546630, Test Loss=0.17662290\n",
      "Epoch   1: Train Loss=0.16545785, Test Loss=0.17661168\n",
      "Epoch   2: Train Loss=0.16543528, Test Loss=0.17659603\n",
      "Epoch   3: Train Loss=0.16540999, Test Loss=0.17658096\n",
      "Epoch   4: Train Loss=0.16538620, Test Loss=0.17656759\n",
      "Epoch   5: Train Loss=0.16536161, Test Loss=0.17655691\n",
      "Epoch   6: Train Loss=0.16533993, Test Loss=0.17654604\n",
      "Epoch   7: Train Loss=0.16531776, Test Loss=0.17654030\n",
      "Epoch   8: Train Loss=0.16530167, Test Loss=0.17653581\n",
      "Epoch   9: Train Loss=0.16528862, Test Loss=0.17653391\n",
      "Epoch  10: Train Loss=0.16527576, Test Loss=0.17653423\n",
      "Epoch  11: Train Loss=0.16526148, Test Loss=0.17653588\n",
      "Epoch  12: Train Loss=0.16525004, Test Loss=0.17653739\n",
      "Epoch  13: Train Loss=0.16524082, Test Loss=0.17653682\n",
      "Epoch  14: Train Loss=0.16523103, Test Loss=0.17653600\n",
      "Best Loss: 0.176534\n"
     ]
    }
   ],
   "source": [
    "model.train(tourney_train_loader, tourney_validation_loader, result_model, name=\"tuned_model\", learning_rate=0.00001)"
   ]
  },
  {
   "cell_type": "code",
   "execution_count": 16,
   "id": "16f6836e-039b-4611-9acd-d356ea6c24ca",
   "metadata": {},
   "outputs": [
    {
     "name": "stdout",
     "output_type": "stream",
     "text": [
      "Stage 1: Accuracy=72.41, Loss=0.175946\n"
     ]
    }
   ],
   "source": [
    "model.print_results(stage1_loader, result_model, label=f\"Stage 1\")"
   ]
  },
  {
   "cell_type": "markdown",
   "id": "9bd8ba4d-cd61-4693-9cda-963ecca19c07",
   "metadata": {},
   "source": [
    "### Performance by year\n"
   ]
  },
  {
   "cell_type": "code",
   "execution_count": 17,
   "id": "fda1ddd2-af9c-4bed-9812-fc24e0c56d4d",
   "metadata": {},
   "outputs": [
    {
     "name": "stdout",
     "output_type": "stream",
     "text": [
      "2003 Tournament: Accuracy=77.34, Loss=0.166988\n",
      "2004 Tournament: Accuracy=71.09, Loss=0.183239\n",
      "2005 Tournament: Accuracy=74.22, Loss=0.177916\n",
      "2006 Tournament: Accuracy=67.97, Loss=0.202736\n",
      "2007 Tournament: Accuracy=75.78, Loss=0.175399\n",
      "2008 Tournament: Accuracy=78.91, Loss=0.167004\n",
      "2009 Tournament: Accuracy=73.44, Loss=0.154179\n",
      "2010 Tournament: Accuracy=70.87, Loss=0.171937\n",
      "2011 Tournament: Accuracy=73.08, Loss=0.171794\n",
      "2012 Tournament: Accuracy=75.77, Loss=0.158762\n",
      "2013 Tournament: Accuracy=71.15, Loss=0.176945\n",
      "2014 Tournament: Accuracy=74.23, Loss=0.163316\n",
      "2015 Tournament: Accuracy=80.00, Loss=0.141707\n",
      "2016 Tournament: Accuracy=74.62, Loss=0.171323\n",
      "2017 Tournament: Accuracy=78.85, Loss=0.154087\n",
      "2018 Tournament: Accuracy=68.46, Loss=0.189347\n",
      "2019 Tournament: Accuracy=76.15, Loss=0.149333\n",
      "2021 Tournament: Accuracy=71.32, Loss=0.178091\n",
      "2022 Tournament: Accuracy=74.25, Loss=0.172679\n",
      "2023 Tournament: Accuracy=69.78, Loss=0.188652\n",
      "2024 Tournament: Accuracy=74.25, Loss=0.164444\n"
     ]
    }
   ],
   "source": [
    "for season in dataset.tourney.Season.unique():\n",
    "    loader = dataset.tourney_data(year=season)\n",
    "    model.print_results(loader, result_model, label=f\"{season} Tournament\")"
   ]
  },
  {
   "cell_type": "markdown",
   "id": "c6c2687e-5887-49ee-ab96-ae27a6f2bb8e",
   "metadata": {},
   "source": [
    "Breaking out by league"
   ]
  },
  {
   "cell_type": "code",
   "execution_count": 18,
   "id": "21b242b3-48af-4495-9605-08880cbc820c",
   "metadata": {},
   "outputs": [
    {
     "name": "stdout",
     "output_type": "stream",
     "text": [
      "2003 M Tournament: Accuracy=77.34, Loss=0.166988\n",
      "2004 M Tournament: Accuracy=71.09, Loss=0.183239\n",
      "2005 M Tournament: Accuracy=74.22, Loss=0.177916\n",
      "2006 M Tournament: Accuracy=67.97, Loss=0.202736\n",
      "2007 M Tournament: Accuracy=75.78, Loss=0.175399\n",
      "2008 M Tournament: Accuracy=78.91, Loss=0.167004\n",
      "2009 M Tournament: Accuracy=73.44, Loss=0.154179\n",
      "2010 M Tournament: Accuracy=67.19, Loss=0.201895\n",
      "2010 W Tournament: Accuracy=74.60, Loss=0.141504\n",
      "2011 M Tournament: Accuracy=66.42, Loss=0.220170\n",
      "2011 W Tournament: Accuracy=80.16, Loss=0.120346\n",
      "2012 M Tournament: Accuracy=69.40, Loss=0.187889\n",
      "2012 W Tournament: Accuracy=82.54, Loss=0.127786\n",
      "2013 M Tournament: Accuracy=65.67, Loss=0.203179\n",
      "2013 W Tournament: Accuracy=76.98, Loss=0.149045\n",
      "2014 M Tournament: Accuracy=66.42, Loss=0.202810\n",
      "2014 W Tournament: Accuracy=82.54, Loss=0.121315\n",
      "2015 M Tournament: Accuracy=77.61, Loss=0.160232\n",
      "2015 W Tournament: Accuracy=82.54, Loss=0.122005\n",
      "2016 M Tournament: Accuracy=73.88, Loss=0.187399\n",
      "2016 W Tournament: Accuracy=75.40, Loss=0.154226\n",
      "2017 M Tournament: Accuracy=73.88, Loss=0.166535\n",
      "2017 W Tournament: Accuracy=84.13, Loss=0.140849\n",
      "2018 M Tournament: Accuracy=62.69, Loss=0.215439\n",
      "2018 W Tournament: Accuracy=74.60, Loss=0.161598\n",
      "2019 M Tournament: Accuracy=71.64, Loss=0.168033\n",
      "2019 W Tournament: Accuracy=80.95, Loss=0.129446\n",
      "2021 M Tournament: Accuracy=68.94, Loss=0.203453\n",
      "2021 W Tournament: Accuracy=73.81, Loss=0.151522\n",
      "2022 M Tournament: Accuracy=70.90, Loss=0.205730\n",
      "2022 W Tournament: Accuracy=77.61, Loss=0.139627\n",
      "2023 M Tournament: Accuracy=64.18, Loss=0.205211\n",
      "2023 W Tournament: Accuracy=75.37, Loss=0.172092\n",
      "2024 M Tournament: Accuracy=67.91, Loss=0.195398\n",
      "2024 W Tournament: Accuracy=80.60, Loss=0.133490\n"
     ]
    }
   ],
   "source": [
    "for season in dataset.tourney.Season.unique():\n",
    "    for league in dataset.tourney[dataset.tourney.Season == season].League.unique():\n",
    "        loader = dataset.tourney_data(year=season, league=league)\n",
    "        model.print_results(loader, result_model, label=f\"{season} {league} Tournament\")"
   ]
  },
  {
   "cell_type": "markdown",
   "id": "9e8e259c-bcf2-43bd-a478-acbd02ef7b24",
   "metadata": {},
   "source": [
    "## Inspect the model\n",
    "First what are the sizes of the smallest input and output weights"
   ]
  },
  {
   "cell_type": "code",
   "execution_count": 19,
   "id": "f7a94e95-ac8a-4a7c-a148-d6aa4dfa6f6a",
   "metadata": {
    "scrolled": true
   },
   "outputs": [
    {
     "name": "stdout",
     "output_type": "stream",
     "text": [
      "Program embedding min: 2.373395\n",
      "Team embedding min: 3.467458\n",
      "FC min: 0.005858\n"
     ]
    }
   ],
   "source": [
    "print(f\"Program embedding min: {result_model.matchup.program_embedding.state_dict()['weight'].abs().max(axis=0).values.min().item():>8f}\")\n",
    "print(f\"Team embedding min: {result_model.matchup.team_embedding.state_dict()['weight'].abs().max(axis=0).values.min().item():>8f}\")\n",
    "print(f\"FC min: {result_model.fc3.state_dict()['weight'].abs().max(axis=0).values.min().item():>8f}\")"
   ]
  },
  {
   "cell_type": "markdown",
   "id": "ff1e4997-5ee2-40d3-b7ab-28e722b20e84",
   "metadata": {},
   "source": [
    "Calculate the average gradient for each input feature"
   ]
  },
  {
   "cell_type": "code",
   "execution_count": 20,
   "id": "57673837-e393-4a99-896e-af251d18c8d0",
   "metadata": {},
   "outputs": [],
   "source": [
    "result_model.matchup.unfreeze()"
   ]
  },
  {
   "cell_type": "code",
   "execution_count": 21,
   "id": "1e25e971-f8cc-47df-9e5f-d15de0441bcc",
   "metadata": {},
   "outputs": [],
   "source": [
    "program_weights, team_weights, stats_weights = model.feature_eval(result_model, tourney_loader)"
   ]
  },
  {
   "cell_type": "code",
   "execution_count": 22,
   "id": "6aeb3583-a9f4-4e04-b040-5194d7000441",
   "metadata": {},
   "outputs": [
    {
     "data": {
      "text/plain": [
       "(0.0002655542630236596, 0.00024688150733709335)"
      ]
     },
     "execution_count": 22,
     "metadata": {},
     "output_type": "execute_result"
    }
   ],
   "source": [
    "program_weights.abs().sum().item(), team_weights.abs().sum().item()"
   ]
  },
  {
   "cell_type": "code",
   "execution_count": 23,
   "id": "f47b2ee6-c1ab-4741-b959-883fd51e0c89",
   "metadata": {},
   "outputs": [
    {
     "name": "stdout",
     "output_type": "stream",
     "text": [
      "Year:\t0.000000\n",
      "Game:\t-0.000128\n",
      "League:\t0.001935\n"
     ]
    }
   ],
   "source": [
    "print(f\"Year:\\t{stats_weights[0]:>4f}\")\n",
    "print(f\"Game:\\t{stats_weights[1]:>4f}\")\n",
    "print(f\"League:\\t{stats_weights[2]:>4f}\")"
   ]
  },
  {
   "cell_type": "markdown",
   "id": "38e3b7d8-88d5-4f18-aad2-ce4ede2941f9",
   "metadata": {},
   "source": [
    "## Save the model"
   ]
  },
  {
   "cell_type": "code",
   "execution_count": 24,
   "id": "5da7e66a-9601-40f4-bec7-7aef34b5f229",
   "metadata": {},
   "outputs": [],
   "source": [
    "torch.save(result_model.state_dict(), 'model.pth')"
   ]
  },
  {
   "cell_type": "markdown",
   "id": "667cb6e9-8b1f-459c-be76-f61f39b30f49",
   "metadata": {},
   "source": [
    "## Moderated model\n",
    "\n",
    "Moderate a model by pushing it towards 0.5"
   ]
  },
  {
   "cell_type": "code",
   "execution_count": 25,
   "id": "e18455d2-3fa2-480b-a776-c7fd35255c8f",
   "metadata": {},
   "outputs": [
    {
     "name": "stdout",
     "output_type": "stream",
     "text": [
      "Moderated Model: Accuracy=72.41, Loss=0.180513\n"
     ]
    }
   ],
   "source": [
    "moderated = model.ModeratedModel(result_model, 0.75)\n",
    "model.print_results(stage1_loader, moderated, label=\"Moderated Model\")"
   ]
  },
  {
   "cell_type": "code",
   "execution_count": 26,
   "id": "215a1a7b-ae81-4bf7-8b61-12f2af6e532f",
   "metadata": {
    "scrolled": true
   },
   "outputs": [
    {
     "name": "stdout",
     "output_type": "stream",
     "text": [
      "2003 Tournament: Accuracy=77.34, Loss=0.175176\n",
      "2004 Tournament: Accuracy=71.09, Loss=0.187803\n",
      "2005 Tournament: Accuracy=74.22, Loss=0.182195\n",
      "2006 Tournament: Accuracy=67.97, Loss=0.203827\n",
      "2007 Tournament: Accuracy=75.78, Loss=0.183262\n",
      "2008 Tournament: Accuracy=78.91, Loss=0.176497\n",
      "2009 Tournament: Accuracy=73.44, Loss=0.166375\n",
      "2010 Tournament: Accuracy=70.87, Loss=0.177327\n",
      "2011 Tournament: Accuracy=73.08, Loss=0.176194\n",
      "2012 Tournament: Accuracy=75.77, Loss=0.167994\n",
      "2013 Tournament: Accuracy=71.15, Loss=0.181418\n",
      "2014 Tournament: Accuracy=74.23, Loss=0.170366\n",
      "2015 Tournament: Accuracy=80.00, Loss=0.154094\n",
      "2016 Tournament: Accuracy=74.62, Loss=0.176490\n",
      "2017 Tournament: Accuracy=78.85, Loss=0.163055\n",
      "2018 Tournament: Accuracy=68.46, Loss=0.188568\n",
      "2019 Tournament: Accuracy=76.15, Loss=0.159569\n",
      "2021 Tournament: Accuracy=71.32, Loss=0.181009\n",
      "2022 Tournament: Accuracy=74.25, Loss=0.178961\n",
      "2023 Tournament: Accuracy=69.78, Loss=0.190811\n",
      "2024 Tournament: Accuracy=74.25, Loss=0.171288\n"
     ]
    }
   ],
   "source": [
    "for season in dataset.tourney.Season.unique():\n",
    "    loader = dataset.tourney_data(season)\n",
    "    model.print_results(loader, moderated, label=f\"{season} Tournament\")"
   ]
  },
  {
   "cell_type": "markdown",
   "id": "72537ca9-0eaa-4d1a-8633-34e5e44950f3",
   "metadata": {},
   "source": [
    "It underperforms even in years where there were upsets."
   ]
  },
  {
   "cell_type": "markdown",
   "id": "2ecee29c-6762-463a-89ca-ee49dc3e72db",
   "metadata": {},
   "source": [
    "## Dig into 2023 results"
   ]
  },
  {
   "cell_type": "code",
   "execution_count": 27,
   "id": "cec1416b-ee18-4730-8210-6563239edd23",
   "metadata": {},
   "outputs": [],
   "source": [
    "loader = dataset.tourney_data(2023)\n",
    "\n",
    "x, y = loader.dataset.tensors\n",
    "\n",
    "preds = result_model(x.to(device))"
   ]
  },
  {
   "cell_type": "code",
   "execution_count": 28,
   "id": "86c62b6c-434f-4f23-84fe-0f227ab6f4c2",
   "metadata": {},
   "outputs": [],
   "source": [
    "t_2023 = pd.DataFrame({'winner_name': [dataset.all_teams.loc[dataset.programs.loc[i].TeamID].TeamName for i in x[:,0].tolist()],\n",
    "                       'loser_name': [dataset.all_teams.loc[dataset.programs.loc[i].TeamID].TeamName for i in x[:,2].tolist()],\n",
    "                       'winner': [dataset.programs.loc[i].TeamID for i in x[:,0].tolist()],\n",
    "                       'loser': [dataset.programs.loc[i].TeamID for i in x[:,2].tolist()],\n",
    "                       'actual': y.reshape(-1),\n",
    "                       'predicted': preds.cpu().detach().numpy().reshape(-1)}).iloc[:67]"
   ]
  },
  {
   "cell_type": "code",
   "execution_count": 29,
   "id": "aa17e8a0-ac98-415b-9cb6-d2fc251de985",
   "metadata": {
    "scrolled": true
   },
   "outputs": [
    {
     "data": {
      "text/html": [
       "<div>\n",
       "<style scoped>\n",
       "    .dataframe tbody tr th:only-of-type {\n",
       "        vertical-align: middle;\n",
       "    }\n",
       "\n",
       "    .dataframe tbody tr th {\n",
       "        vertical-align: top;\n",
       "    }\n",
       "\n",
       "    .dataframe thead th {\n",
       "        text-align: right;\n",
       "    }\n",
       "</style>\n",
       "<table border=\"1\" class=\"dataframe\">\n",
       "  <thead>\n",
       "    <tr style=\"text-align: right;\">\n",
       "      <th></th>\n",
       "      <th>winner_name</th>\n",
       "      <th>loser_name</th>\n",
       "      <th>winner</th>\n",
       "      <th>loser</th>\n",
       "      <th>actual</th>\n",
       "      <th>predicted</th>\n",
       "    </tr>\n",
       "  </thead>\n",
       "  <tbody>\n",
       "    <tr>\n",
       "      <th>23</th>\n",
       "      <td>F Dickinson</td>\n",
       "      <td>Purdue</td>\n",
       "      <td>1192</td>\n",
       "      <td>1345</td>\n",
       "      <td>1.0</td>\n",
       "      <td>0.018710</td>\n",
       "    </tr>\n",
       "    <tr>\n",
       "      <th>15</th>\n",
       "      <td>Princeton</td>\n",
       "      <td>Arizona</td>\n",
       "      <td>1343</td>\n",
       "      <td>1112</td>\n",
       "      <td>1.0</td>\n",
       "      <td>0.096016</td>\n",
       "    </tr>\n",
       "    <tr>\n",
       "      <th>8</th>\n",
       "      <td>Furman</td>\n",
       "      <td>Virginia</td>\n",
       "      <td>1202</td>\n",
       "      <td>1438</td>\n",
       "      <td>1.0</td>\n",
       "      <td>0.178230</td>\n",
       "    </tr>\n",
       "    <tr>\n",
       "      <th>53</th>\n",
       "      <td>FL Atlantic</td>\n",
       "      <td>Tennessee</td>\n",
       "      <td>1194</td>\n",
       "      <td>1397</td>\n",
       "      <td>1.0</td>\n",
       "      <td>0.244084</td>\n",
       "    </tr>\n",
       "    <tr>\n",
       "      <th>58</th>\n",
       "      <td>San Diego St</td>\n",
       "      <td>Alabama</td>\n",
       "      <td>1361</td>\n",
       "      <td>1104</td>\n",
       "      <td>1.0</td>\n",
       "      <td>0.274868</td>\n",
       "    </tr>\n",
       "    <tr>\n",
       "      <th>39</th>\n",
       "      <td>Princeton</td>\n",
       "      <td>Missouri</td>\n",
       "      <td>1343</td>\n",
       "      <td>1281</td>\n",
       "      <td>1.0</td>\n",
       "      <td>0.296200</td>\n",
       "    </tr>\n",
       "    <tr>\n",
       "      <th>57</th>\n",
       "      <td>Miami FL</td>\n",
       "      <td>Houston</td>\n",
       "      <td>1274</td>\n",
       "      <td>1222</td>\n",
       "      <td>1.0</td>\n",
       "      <td>0.302939</td>\n",
       "    </tr>\n",
       "    <tr>\n",
       "      <th>50</th>\n",
       "      <td>Michigan St</td>\n",
       "      <td>Marquette</td>\n",
       "      <td>1277</td>\n",
       "      <td>1266</td>\n",
       "      <td>1.0</td>\n",
       "      <td>0.383669</td>\n",
       "    </tr>\n",
       "    <tr>\n",
       "      <th>14</th>\n",
       "      <td>Penn St</td>\n",
       "      <td>Texas A&amp;M</td>\n",
       "      <td>1336</td>\n",
       "      <td>1401</td>\n",
       "      <td>1.0</td>\n",
       "      <td>0.401231</td>\n",
       "    </tr>\n",
       "    <tr>\n",
       "      <th>37</th>\n",
       "      <td>Arkansas</td>\n",
       "      <td>Kansas</td>\n",
       "      <td>1116</td>\n",
       "      <td>1242</td>\n",
       "      <td>1.0</td>\n",
       "      <td>0.410089</td>\n",
       "    </tr>\n",
       "    <tr>\n",
       "      <th>63</th>\n",
       "      <td>San Diego St</td>\n",
       "      <td>Creighton</td>\n",
       "      <td>1361</td>\n",
       "      <td>1166</td>\n",
       "      <td>1.0</td>\n",
       "      <td>0.419716</td>\n",
       "    </tr>\n",
       "    <tr>\n",
       "      <th>32</th>\n",
       "      <td>Pittsburgh</td>\n",
       "      <td>Iowa St</td>\n",
       "      <td>1338</td>\n",
       "      <td>1235</td>\n",
       "      <td>1.0</td>\n",
       "      <td>0.434396</td>\n",
       "    </tr>\n",
       "    <tr>\n",
       "      <th>54</th>\n",
       "      <td>Gonzaga</td>\n",
       "      <td>UCLA</td>\n",
       "      <td>1211</td>\n",
       "      <td>1417</td>\n",
       "      <td>1.0</td>\n",
       "      <td>0.445915</td>\n",
       "    </tr>\n",
       "    <tr>\n",
       "      <th>6</th>\n",
       "      <td>Auburn</td>\n",
       "      <td>Iowa</td>\n",
       "      <td>1120</td>\n",
       "      <td>1234</td>\n",
       "      <td>1.0</td>\n",
       "      <td>0.460223</td>\n",
       "    </tr>\n",
       "    <tr>\n",
       "      <th>12</th>\n",
       "      <td>Missouri</td>\n",
       "      <td>Utah St</td>\n",
       "      <td>1281</td>\n",
       "      <td>1429</td>\n",
       "      <td>1.0</td>\n",
       "      <td>0.465533</td>\n",
       "    </tr>\n",
       "    <tr>\n",
       "      <th>0</th>\n",
       "      <td>Pittsburgh</td>\n",
       "      <td>Mississippi St</td>\n",
       "      <td>1338</td>\n",
       "      <td>1280</td>\n",
       "      <td>1.0</td>\n",
       "      <td>0.466472</td>\n",
       "    </tr>\n",
       "    <tr>\n",
       "      <th>62</th>\n",
       "      <td>Miami FL</td>\n",
       "      <td>Texas</td>\n",
       "      <td>1274</td>\n",
       "      <td>1400</td>\n",
       "      <td>1.0</td>\n",
       "      <td>0.467783</td>\n",
       "    </tr>\n",
       "    <tr>\n",
       "      <th>2</th>\n",
       "      <td>Arizona St</td>\n",
       "      <td>Nevada</td>\n",
       "      <td>1113</td>\n",
       "      <td>1305</td>\n",
       "      <td>1.0</td>\n",
       "      <td>0.468647</td>\n",
       "    </tr>\n",
       "    <tr>\n",
       "      <th>61</th>\n",
       "      <td>FL Atlantic</td>\n",
       "      <td>Kansas St</td>\n",
       "      <td>1194</td>\n",
       "      <td>1243</td>\n",
       "      <td>1.0</td>\n",
       "      <td>0.475462</td>\n",
       "    </tr>\n",
       "    <tr>\n",
       "      <th>5</th>\n",
       "      <td>Arkansas</td>\n",
       "      <td>Illinois</td>\n",
       "      <td>1116</td>\n",
       "      <td>1228</td>\n",
       "      <td>1.0</td>\n",
       "      <td>0.476974</td>\n",
       "    </tr>\n",
       "    <tr>\n",
       "      <th>59</th>\n",
       "      <td>Texas</td>\n",
       "      <td>Xavier</td>\n",
       "      <td>1400</td>\n",
       "      <td>1462</td>\n",
       "      <td>1.0</td>\n",
       "      <td>0.481520</td>\n",
       "    </tr>\n",
       "    <tr>\n",
       "      <th>55</th>\n",
       "      <td>Kansas St</td>\n",
       "      <td>Michigan St</td>\n",
       "      <td>1243</td>\n",
       "      <td>1277</td>\n",
       "      <td>1.0</td>\n",
       "      <td>0.484676</td>\n",
       "    </tr>\n",
       "    <tr>\n",
       "      <th>24</th>\n",
       "      <td>FL Atlantic</td>\n",
       "      <td>Memphis</td>\n",
       "      <td>1194</td>\n",
       "      <td>1272</td>\n",
       "      <td>1.0</td>\n",
       "      <td>0.486924</td>\n",
       "    </tr>\n",
       "  </tbody>\n",
       "</table>\n",
       "</div>"
      ],
      "text/plain": [
       "     winner_name      loser_name  winner  loser  actual  predicted\n",
       "23   F Dickinson          Purdue    1192   1345     1.0   0.018710\n",
       "15     Princeton         Arizona    1343   1112     1.0   0.096016\n",
       "8         Furman        Virginia    1202   1438     1.0   0.178230\n",
       "53   FL Atlantic       Tennessee    1194   1397     1.0   0.244084\n",
       "58  San Diego St         Alabama    1361   1104     1.0   0.274868\n",
       "39     Princeton        Missouri    1343   1281     1.0   0.296200\n",
       "57      Miami FL         Houston    1274   1222     1.0   0.302939\n",
       "50   Michigan St       Marquette    1277   1266     1.0   0.383669\n",
       "14       Penn St       Texas A&M    1336   1401     1.0   0.401231\n",
       "37      Arkansas          Kansas    1116   1242     1.0   0.410089\n",
       "63  San Diego St       Creighton    1361   1166     1.0   0.419716\n",
       "32    Pittsburgh         Iowa St    1338   1235     1.0   0.434396\n",
       "54       Gonzaga            UCLA    1211   1417     1.0   0.445915\n",
       "6         Auburn            Iowa    1120   1234     1.0   0.460223\n",
       "12      Missouri         Utah St    1281   1429     1.0   0.465533\n",
       "0     Pittsburgh  Mississippi St    1338   1280     1.0   0.466472\n",
       "62      Miami FL           Texas    1274   1400     1.0   0.467783\n",
       "2     Arizona St          Nevada    1113   1305     1.0   0.468647\n",
       "61   FL Atlantic       Kansas St    1194   1243     1.0   0.475462\n",
       "5       Arkansas        Illinois    1116   1228     1.0   0.476974\n",
       "59         Texas          Xavier    1400   1462     1.0   0.481520\n",
       "55     Kansas St     Michigan St    1243   1277     1.0   0.484676\n",
       "24   FL Atlantic         Memphis    1194   1272     1.0   0.486924"
      ]
     },
     "execution_count": 29,
     "metadata": {},
     "output_type": "execute_result"
    }
   ],
   "source": [
    "t_2023[t_2023.predicted < 0.5].sort_values('predicted')"
   ]
  },
  {
   "cell_type": "markdown",
   "id": "9f5eb023-fa68-46e5-821f-b9661a988cbe",
   "metadata": {},
   "source": [
    "The biggest thing in this season were the huge upsets in the first round. Purdue was a number one seed and lost which I only gave a 1% chance to happen. Arizona and Virginia were number 2 seeds and lost which I gave 13% and 17% chances of happening respectively."
   ]
  },
  {
   "cell_type": "code",
   "execution_count": 30,
   "id": "28663437-2134-48e8-938f-d40fd2666b7f",
   "metadata": {
    "scrolled": true
   },
   "outputs": [],
   "source": [
    "t_2023['Upset'] = [dataset.upset(2023, winner, loser) for (winner, loser) in zip(t_2023['winner'], t_2023['loser'])]"
   ]
  },
  {
   "cell_type": "code",
   "execution_count": 31,
   "id": "eb00c98a-b6a7-441f-be09-224ad947f71a",
   "metadata": {},
   "outputs": [
    {
     "data": {
      "text/plain": [
       "np.float64(0.3699206977142088)"
      ]
     },
     "execution_count": 31,
     "metadata": {},
     "output_type": "execute_result"
    }
   ],
   "source": [
    "t_2023[t_2023.Upset].predicted.mean()"
   ]
  },
  {
   "cell_type": "markdown",
   "id": "b9c017c5-060c-4478-82b2-4a22bd38a3d8",
   "metadata": {},
   "source": [
    "On average the upsets had a 37% chance of happening"
   ]
  },
  {
   "cell_type": "code",
   "execution_count": 32,
   "id": "2df5dc30-0780-4864-bf1d-25a462985a89",
   "metadata": {},
   "outputs": [
    {
     "data": {
      "text/html": [
       "<div>\n",
       "<style scoped>\n",
       "    .dataframe tbody tr th:only-of-type {\n",
       "        vertical-align: middle;\n",
       "    }\n",
       "\n",
       "    .dataframe tbody tr th {\n",
       "        vertical-align: top;\n",
       "    }\n",
       "\n",
       "    .dataframe thead th {\n",
       "        text-align: right;\n",
       "    }\n",
       "</style>\n",
       "<table border=\"1\" class=\"dataframe\">\n",
       "  <thead>\n",
       "    <tr style=\"text-align: right;\">\n",
       "      <th></th>\n",
       "      <th>winner_name</th>\n",
       "      <th>loser_name</th>\n",
       "      <th>winner</th>\n",
       "      <th>loser</th>\n",
       "      <th>actual</th>\n",
       "      <th>predicted</th>\n",
       "      <th>Upset</th>\n",
       "    </tr>\n",
       "  </thead>\n",
       "  <tbody>\n",
       "    <tr>\n",
       "      <th>45</th>\n",
       "      <td>Creighton</td>\n",
       "      <td>Baylor</td>\n",
       "      <td>1166</td>\n",
       "      <td>1124</td>\n",
       "      <td>1.0</td>\n",
       "      <td>0.577829</td>\n",
       "      <td>True</td>\n",
       "    </tr>\n",
       "    <tr>\n",
       "      <th>60</th>\n",
       "      <td>Connecticut</td>\n",
       "      <td>Gonzaga</td>\n",
       "      <td>1163</td>\n",
       "      <td>1211</td>\n",
       "      <td>1.0</td>\n",
       "      <td>0.566729</td>\n",
       "      <td>True</td>\n",
       "    </tr>\n",
       "    <tr>\n",
       "      <th>49</th>\n",
       "      <td>Miami FL</td>\n",
       "      <td>Indiana</td>\n",
       "      <td>1274</td>\n",
       "      <td>1231</td>\n",
       "      <td>1.0</td>\n",
       "      <td>0.507195</td>\n",
       "      <td>True</td>\n",
       "    </tr>\n",
       "  </tbody>\n",
       "</table>\n",
       "</div>"
      ],
      "text/plain": [
       "    winner_name loser_name  winner  loser  actual  predicted  Upset\n",
       "45    Creighton     Baylor    1166   1124     1.0   0.577829   True\n",
       "60  Connecticut    Gonzaga    1163   1211     1.0   0.566729   True\n",
       "49     Miami FL    Indiana    1274   1231     1.0   0.507195   True"
      ]
     },
     "execution_count": 32,
     "metadata": {},
     "output_type": "execute_result"
    }
   ],
   "source": [
    "t_2023[t_2023.Upset & (t_2023.predicted >= 0.5)].sort_values('predicted', ascending=False)"
   ]
  },
  {
   "cell_type": "markdown",
   "id": "311a0984-fa4f-408e-9a66-4f90296c8a1c",
   "metadata": {},
   "source": [
    "I correctly predicted 4 upsets, though all were closely ranked"
   ]
  },
  {
   "cell_type": "code",
   "execution_count": 33,
   "id": "260a480d-a8d9-4e6d-a25b-d5358ddbd591",
   "metadata": {},
   "outputs": [
    {
     "data": {
      "text/html": [
       "<div>\n",
       "<style scoped>\n",
       "    .dataframe tbody tr th:only-of-type {\n",
       "        vertical-align: middle;\n",
       "    }\n",
       "\n",
       "    .dataframe tbody tr th {\n",
       "        vertical-align: top;\n",
       "    }\n",
       "\n",
       "    .dataframe thead th {\n",
       "        text-align: right;\n",
       "    }\n",
       "</style>\n",
       "<table border=\"1\" class=\"dataframe\">\n",
       "  <thead>\n",
       "    <tr style=\"text-align: right;\">\n",
       "      <th></th>\n",
       "      <th>winner_name</th>\n",
       "      <th>loser_name</th>\n",
       "      <th>winner</th>\n",
       "      <th>loser</th>\n",
       "      <th>actual</th>\n",
       "      <th>predicted</th>\n",
       "      <th>Upset</th>\n",
       "    </tr>\n",
       "  </thead>\n",
       "  <tbody>\n",
       "    <tr>\n",
       "      <th>63</th>\n",
       "      <td>San Diego St</td>\n",
       "      <td>Creighton</td>\n",
       "      <td>1361</td>\n",
       "      <td>1166</td>\n",
       "      <td>1.0</td>\n",
       "      <td>0.419716</td>\n",
       "      <td>False</td>\n",
       "    </tr>\n",
       "    <tr>\n",
       "      <th>12</th>\n",
       "      <td>Missouri</td>\n",
       "      <td>Utah St</td>\n",
       "      <td>1281</td>\n",
       "      <td>1429</td>\n",
       "      <td>1.0</td>\n",
       "      <td>0.465533</td>\n",
       "      <td>False</td>\n",
       "    </tr>\n",
       "    <tr>\n",
       "      <th>0</th>\n",
       "      <td>Pittsburgh</td>\n",
       "      <td>Mississippi St</td>\n",
       "      <td>1338</td>\n",
       "      <td>1280</td>\n",
       "      <td>1.0</td>\n",
       "      <td>0.466472</td>\n",
       "      <td>False</td>\n",
       "    </tr>\n",
       "    <tr>\n",
       "      <th>2</th>\n",
       "      <td>Arizona St</td>\n",
       "      <td>Nevada</td>\n",
       "      <td>1113</td>\n",
       "      <td>1305</td>\n",
       "      <td>1.0</td>\n",
       "      <td>0.468647</td>\n",
       "      <td>False</td>\n",
       "    </tr>\n",
       "    <tr>\n",
       "      <th>5</th>\n",
       "      <td>Arkansas</td>\n",
       "      <td>Illinois</td>\n",
       "      <td>1116</td>\n",
       "      <td>1228</td>\n",
       "      <td>1.0</td>\n",
       "      <td>0.476974</td>\n",
       "      <td>False</td>\n",
       "    </tr>\n",
       "    <tr>\n",
       "      <th>59</th>\n",
       "      <td>Texas</td>\n",
       "      <td>Xavier</td>\n",
       "      <td>1400</td>\n",
       "      <td>1462</td>\n",
       "      <td>1.0</td>\n",
       "      <td>0.481520</td>\n",
       "      <td>False</td>\n",
       "    </tr>\n",
       "    <tr>\n",
       "      <th>55</th>\n",
       "      <td>Kansas St</td>\n",
       "      <td>Michigan St</td>\n",
       "      <td>1243</td>\n",
       "      <td>1277</td>\n",
       "      <td>1.0</td>\n",
       "      <td>0.484676</td>\n",
       "      <td>False</td>\n",
       "    </tr>\n",
       "  </tbody>\n",
       "</table>\n",
       "</div>"
      ],
      "text/plain": [
       "     winner_name      loser_name  winner  loser  actual  predicted  Upset\n",
       "63  San Diego St       Creighton    1361   1166     1.0   0.419716  False\n",
       "12      Missouri         Utah St    1281   1429     1.0   0.465533  False\n",
       "0     Pittsburgh  Mississippi St    1338   1280     1.0   0.466472  False\n",
       "2     Arizona St          Nevada    1113   1305     1.0   0.468647  False\n",
       "5       Arkansas        Illinois    1116   1228     1.0   0.476974  False\n",
       "59         Texas          Xavier    1400   1462     1.0   0.481520  False\n",
       "55     Kansas St     Michigan St    1243   1277     1.0   0.484676  False"
      ]
     },
     "execution_count": 33,
     "metadata": {},
     "output_type": "execute_result"
    }
   ],
   "source": [
    "t_2023[~t_2023.Upset & (t_2023.predicted < 0.5)].sort_values('predicted')"
   ]
  },
  {
   "cell_type": "markdown",
   "id": "25b225a9-822d-417d-bf83-e329ec0c2020",
   "metadata": {},
   "source": [
    "I also incorrectly predicted 5 upsets"
   ]
  },
  {
   "cell_type": "markdown",
   "id": "40bd0e20-15ce-42b8-aaf3-b07965ccb410",
   "metadata": {},
   "source": [
    "Looking at all the tourneys"
   ]
  },
  {
   "cell_type": "code",
   "execution_count": 34,
   "id": "e081fd5c-52cb-483a-90d1-3b65039e2857",
   "metadata": {},
   "outputs": [],
   "source": [
    "x, y = tourney_loader.dataset.tensors\n",
    "preds = result_model(x.to(device))\n",
    "tourney_df = pd.DataFrame({'season': x[:,4].tolist(),\n",
    "                           'winner_name': [dataset.all_teams.loc[dataset.programs.loc[i].TeamID].TeamName for i in x[:,0].tolist()],\n",
    "                           'loser_name': [dataset.all_teams.loc[dataset.programs.loc[i].TeamID].TeamName for i in x[:,2].tolist()],\n",
    "                           'winner': [dataset.programs.loc[i].TeamID for i in x[:,0].tolist()],\n",
    "                           'loser': [dataset.programs.loc[i].TeamID for i in x[:,2].tolist()],\n",
    "                           'actual': y.reshape([-1]),\n",
    "                           'predicted': np.array(preds.tolist()).reshape([-1])})\n",
    "tourney_df = tourney_df[tourney_df.actual == 1.0]\n",
    "tourney_df['Upset'] = [dataset.upset(season, winner, loser) for (winner, loser, season)\n",
    "                       in zip(tourney_df['winner'], tourney_df['loser'], tourney_df['season'])]"
   ]
  },
  {
   "cell_type": "code",
   "execution_count": 35,
   "id": "f5ab6d89-db40-499b-a6c2-7823c13fdfc9",
   "metadata": {},
   "outputs": [
    {
     "data": {
      "text/plain": [
       "29"
      ]
     },
     "execution_count": 35,
     "metadata": {},
     "output_type": "execute_result"
    }
   ],
   "source": [
    "len(tourney_df[tourney_df.Upset & (tourney_df.predicted >= 0.5) & (tourney_df.season > 2020)].sort_values('predicted', ascending=False))"
   ]
  },
  {
   "cell_type": "code",
   "execution_count": 36,
   "id": "7f614719-0380-4eea-aea1-6d6730329208",
   "metadata": {},
   "outputs": [
    {
     "data": {
      "text/plain": [
       "39"
      ]
     },
     "execution_count": 36,
     "metadata": {},
     "output_type": "execute_result"
    }
   ],
   "source": [
    "len(tourney_df[~tourney_df.Upset & (tourney_df.predicted < 0.5) & (tourney_df.season > 2020)].sort_values('predicted'))"
   ]
  },
  {
   "cell_type": "markdown",
   "id": "121a8c8b-3e75-4455-940a-b59d2e742175",
   "metadata": {},
   "source": [
    "Overall I predicted 25 upsets correctly, and 36 incorrectly"
   ]
  },
  {
   "cell_type": "markdown",
   "id": "11f41c41-df65-47ff-a6e5-ddfd3a274cb5",
   "metadata": {},
   "source": [
    "## Predicting by seeds\n",
    "What if I predict just using the seeds?"
   ]
  },
  {
   "cell_type": "code",
   "execution_count": 37,
   "id": "71e280ae-4aba-46d0-9d98-3cfdfada40b5",
   "metadata": {},
   "outputs": [],
   "source": [
    "odds = dataset.odds_by_seed_diff(before=2021)"
   ]
  },
  {
   "cell_type": "code",
   "execution_count": 38,
   "id": "a7388d50-2810-4bbe-8938-3a2f1db41e41",
   "metadata": {
    "scrolled": true
   },
   "outputs": [
    {
     "data": {
      "text/plain": [
       "np.float64(0.18527460145235355)"
      ]
     },
     "execution_count": 38,
     "metadata": {},
     "output_type": "execute_result"
    }
   ],
   "source": [
    "dataset.tourney_df(after=2021).SeedDiff.map(lambda x: odds[x]**2).mean()"
   ]
  },
  {
   "cell_type": "markdown",
   "id": "cfb055ef-ea46-4543-bffb-f1e6082797b1",
   "metadata": {},
   "source": [
    "This results in a test Brier score of about 0.185."
   ]
  },
  {
   "cell_type": "markdown",
   "id": "46c848de-a572-4e37-aa5f-f8a81b46e964",
   "metadata": {},
   "source": [
    "## Using Elo\n",
    "I can also compute Elo rankings"
   ]
  },
  {
   "cell_type": "code",
   "execution_count": 39,
   "id": "96f9aab9-6434-4ec8-b36a-3a2830df5c64",
   "metadata": {},
   "outputs": [
    {
     "name": "stdout",
     "output_type": "stream",
     "text": [
      "Elo Model: Accuracy=73.45, Loss=0.178886\n"
     ]
    }
   ],
   "source": [
    "elo_model = elo.EloModel(dataset, k=50)\n",
    "model.print_results(stage1_loader, elo_model, label=\"Elo Model\")"
   ]
  },
  {
   "cell_type": "markdown",
   "id": "6f6408b5-6b28-42b6-adbd-1abc3076549e",
   "metadata": {},
   "source": [
    "It is similar to our model"
   ]
  },
  {
   "cell_type": "markdown",
   "id": "fbbc2c9a-6d4b-4848-9f9d-2f924fdccc70",
   "metadata": {},
   "source": [
    "## Hybrid Model\n",
    "Building a model using the neural net and seeds"
   ]
  },
  {
   "cell_type": "code",
   "execution_count": 40,
   "id": "24c86c49-234c-4e07-9053-e0dbd1baa579",
   "metadata": {},
   "outputs": [
    {
     "name": "stdout",
     "output_type": "stream",
     "text": [
      "Seed Model: Accuracy=72.03, Loss=0.184022\n",
      "Elo Model: Accuracy=73.45, Loss=0.178886\n",
      "Base NN: Accuracy=72.41, Loss=0.175946\n"
     ]
    }
   ],
   "source": [
    "seed_model = model.SeedModel(dataset)\n",
    "model.print_results(stage1_loader, seed_model, label=\"Seed Model\")\n",
    "model.print_results(stage1_loader, elo_model, label=\"Elo Model\")\n",
    "model.print_results(stage1_loader, result_model, label=\"Base NN\")"
   ]
  },
  {
   "cell_type": "code",
   "execution_count": 41,
   "id": "aeccf89b-1c24-4b8f-8dbb-a1694725304a",
   "metadata": {},
   "outputs": [
    {
     "name": "stdout",
     "output_type": "stream",
     "text": [
      "Hybrid Model: Accuracy=73.35, Loss=0.174767\n"
     ]
    }
   ],
   "source": [
    "hybrid = model.HybridModel([result_model, seed_model, elo_model], [0.7, 0.2, 0.1])\n",
    "\n",
    "model.print_results(stage1_loader, hybrid, label=\"Hybrid Model\")"
   ]
  },
  {
   "cell_type": "markdown",
   "id": "a05ae290-cbb8-4d56-b0da-92cf9a654de9",
   "metadata": {},
   "source": [
    "They hybrid model outperforms all individual models"
   ]
  },
  {
   "cell_type": "code",
   "execution_count": 42,
   "id": "15f38211-8d21-4b6a-ac91-d2835a00ed5c",
   "metadata": {},
   "outputs": [
    {
     "name": "stdout",
     "output_type": "stream",
     "text": [
      "2021 M Tournament: Accuracy=68.94, Loss=0.208920\n",
      "2021 W Tournament: Accuracy=76.98, Loss=0.148420\n",
      "2022 M Tournament: Accuracy=70.15, Loss=0.203967\n",
      "2022 W Tournament: Accuracy=77.61, Loss=0.142581\n",
      "2023 M Tournament: Accuracy=68.66, Loss=0.204670\n",
      "2023 W Tournament: Accuracy=76.12, Loss=0.166905\n",
      "2024 M Tournament: Accuracy=65.67, Loss=0.192711\n",
      "2024 W Tournament: Accuracy=82.84, Loss=0.128901\n"
     ]
    }
   ],
   "source": [
    "for season in range(2021, 2025):\n",
    "    for league in ['M', 'W']:\n",
    "        loader = dataset.tourney_data(year=season, league=league)\n",
    "        model.print_results(loader, hybrid, label=f\"{season} {league} Tournament\")"
   ]
  },
  {
   "cell_type": "markdown",
   "id": "e4afd4bc-a7fc-43bd-a1b6-1b37a85f8f79",
   "metadata": {},
   "source": [
    "## Generating the submission file\n",
    "### Phase 2\n",
    "\n",
    "Write the results"
   ]
  },
  {
   "cell_type": "code",
   "execution_count": 43,
   "id": "aa73ccc9-58fb-4142-a558-cf8c79ae0ac5",
   "metadata": {
    "scrolled": true
   },
   "outputs": [],
   "source": [
    "model.gen_submission(hybrid, dataset, fname=\"hybrid.csv\")"
   ]
  },
  {
   "cell_type": "code",
   "execution_count": 44,
   "id": "510529ef-5f56-4342-86f3-0b3eddfea3ea",
   "metadata": {},
   "outputs": [],
   "source": [
    "model.gen_submission(result_model, dataset, fname=\"base.csv\")"
   ]
  },
  {
   "cell_type": "markdown",
   "id": "6b676e8c-8344-4fbc-aca2-7fa778c4fdfa",
   "metadata": {},
   "source": [
    "## Generate a bracket"
   ]
  },
  {
   "cell_type": "markdown",
   "id": "57846ef1-a91f-4618-ab53-9d7b3f06edec",
   "metadata": {},
   "source": [
    "With the hybrid model"
   ]
  },
  {
   "cell_type": "code",
   "execution_count": 45,
   "id": "325190ea-44b2-4a86-ad2c-4fb861d8c12d",
   "metadata": {},
   "outputs": [],
   "source": [
    "season, league = 2025, 'M'"
   ]
  },
  {
   "cell_type": "code",
   "execution_count": 46,
   "id": "d0c08cb5-dec3-42f6-8627-052dcf7adacb",
   "metadata": {},
   "outputs": [
    {
     "name": "stdout",
     "output_type": "stream",
     "text": [
      "      Winner        TeamName         P\n",
      "Slot                                  \n",
      "R1W1    1181            Duke  0.988545\n",
      "R1W2    1104         Alabama  0.901317\n",
      "R1W3    1458       Wisconsin  0.922428\n",
      "R1W4    1112         Arizona  0.865854\n",
      "R1W5    1332          Oregon  0.761146\n",
      "R1W6    1140             BYU  0.563347\n",
      "R1W7    1388    St Mary's CA  0.638845\n",
      "R1W8    1280  Mississippi St  0.501853\n",
      "R1X1    1222         Houston  0.980536\n",
      "R1X2    1397       Tennessee  0.945282\n",
      "R1X3    1246        Kentucky  0.859264\n",
      "R1X4    1345          Purdue  0.827910\n",
      "R1X5    1155         Clemson  0.807394\n",
      "R1X6    1228        Illinois  0.654205\n",
      "R1X7    1417            UCLA  0.580206\n",
      "R1X8    1211         Gonzaga  0.612678\n",
      "R1Y1    1120          Auburn  0.991398\n",
      "R1Y2    1277     Michigan St  0.945788\n",
      "R1Y3    1235         Iowa St  0.853873\n",
      "R1Y4    1401       Texas A&M  0.763280\n",
      "R1Y5    1276        Michigan  0.626640\n",
      "R1Y6    1314  North Carolina  0.522028\n",
      "R1Y7    1266       Marquette  0.590047\n",
      "R1Y8    1257      Louisville  0.540177\n",
      "R1Z1    1196         Florida  0.974027\n",
      "R1Z2    1385       St John's  0.935867\n",
      "R1Z3    1403      Texas Tech  0.870873\n",
      "R1Z4    1268        Maryland  0.845034\n",
      "R1Z5    1272         Memphis  0.546431\n",
      "R1Z6    1281        Missouri  0.633874\n",
      "R1Z7    1242          Kansas  0.658704\n",
      "R1Z8    1163     Connecticut  0.634433\n",
      "R2W1    1181            Duke  0.816633\n",
      "R2W2    1104         Alabama  0.578741\n",
      "R2W3    1458       Wisconsin  0.557436\n",
      "R2W4    1112         Arizona  0.588362\n",
      "R2X1    1222         Houston  0.608894\n",
      "R2X2    1397       Tennessee  0.683975\n",
      "R2X3    1246        Kentucky  0.518376\n",
      "R2X4    1155         Clemson  0.523845\n",
      "R2Y1    1120          Auburn  0.674567\n",
      "R2Y2    1277     Michigan St  0.589200\n",
      "R2Y3    1235         Iowa St  0.622557\n",
      "R2Y4    1276        Michigan  0.501164\n",
      "R2Z1    1196         Florida  0.742105\n",
      "R2Z2    1385       St John's  0.543011\n",
      "R2Z3    1403      Texas Tech  0.568719\n",
      "R2Z4    1268        Maryland  0.676453\n",
      "R3W1    1181            Duke  0.767293\n",
      "R3W2    1104         Alabama  0.574438\n",
      "R3X1    1222         Houston  0.632243\n",
      "R3X2    1397       Tennessee  0.595694\n",
      "R3Y1    1120          Auburn  0.693373\n",
      "R3Y2    1277     Michigan St  0.527261\n",
      "R3Z1    1196         Florida  0.636802\n",
      "R3Z2    1385       St John's  0.530345\n",
      "R4W1    1181            Duke  0.695741\n",
      "R4X1    1222         Houston  0.523818\n",
      "R4Y1    1120          Auburn  0.583723\n",
      "R4Z1    1196         Florida  0.614435\n",
      "R5WX    1181            Duke  0.644918\n",
      "R5YZ    1120          Auburn  0.522494\n",
      "R6CH    1181            Duke  0.586649\n",
      "W16     1110   American Univ  0.501893\n",
      "X11     1462          Xavier  0.507818\n",
      "Y11     1314  North Carolina  0.582817\n",
      "Y16     1106      Alabama St  0.521402\n"
     ]
    }
   ],
   "source": [
    "bracket = model.gen_bracket(dataset, season, league, hybrid).join(dataset.all_teams, on='Winner')[['Winner', 'TeamName', 'P']]\n",
    "with pd.option_context('display.max_rows', None, 'display.max_columns', None): \n",
    "    print(bracket)"
   ]
  },
  {
   "cell_type": "code",
   "execution_count": 47,
   "id": "66de2086-aeb8-4346-bd60-45d79b340003",
   "metadata": {},
   "outputs": [
    {
     "data": {
      "text/plain": [
       "140.15078814263353"
      ]
     },
     "execution_count": 47,
     "metadata": {},
     "output_type": "execute_result"
    }
   ],
   "source": [
    "model.tiebreaker(bracket, stats_model, dataset, season, league)"
   ]
  },
  {
   "cell_type": "markdown",
   "id": "167a35c1-9f81-443b-9827-1df82600a3d7",
   "metadata": {},
   "source": [
    "And with the base model"
   ]
  },
  {
   "cell_type": "code",
   "execution_count": 48,
   "id": "9de057b4-a6f3-431a-99d0-baed2b8a7057",
   "metadata": {},
   "outputs": [
    {
     "name": "stdout",
     "output_type": "stream",
     "text": [
      "      Winner        TeamName         P\n",
      "Slot                                  \n",
      "R1W1    1181            Duke  0.989738\n",
      "R1W2    1104         Alabama  0.880963\n",
      "R1W3    1458       Wisconsin  0.920310\n",
      "R1W4    1112         Arizona  0.872895\n",
      "R1W5    1332          Oregon  0.757838\n",
      "R1W6    1140             BYU  0.523774\n",
      "R1W7    1388    St Mary's CA  0.621937\n",
      "R1W8    1124          Baylor  0.503354\n",
      "R1X1    1222         Houston  0.977154\n",
      "R1X2    1397       Tennessee  0.940266\n",
      "R1X3    1246        Kentucky  0.832365\n",
      "R1X4    1345          Purdue  0.814198\n",
      "R1X5    1155         Clemson  0.813531\n",
      "R1X6    1228        Illinois  0.666892\n",
      "R1X7    1417            UCLA  0.563648\n",
      "R1X8    1211         Gonzaga  0.620728\n",
      "R1Y1    1120          Auburn  0.992736\n",
      "R1Y2    1277     Michigan St  0.941991\n",
      "R1Y3    1235         Iowa St  0.820584\n",
      "R1Y4    1401       Texas A&M  0.733190\n",
      "R1Y5    1276        Michigan  0.570024\n",
      "R1Y6    1314  North Carolina  0.569749\n",
      "R1Y7    1266       Marquette  0.572964\n",
      "R1Y8    1257      Louisville  0.554043\n",
      "R1Z1    1196         Florida  0.968765\n",
      "R1Z2    1385       St John's  0.926534\n",
      "R1Z3    1403      Texas Tech  0.850525\n",
      "R1Z4    1268        Maryland  0.845926\n",
      "R1Z5    1161     Colorado St  0.502510\n",
      "R1Z6    1281        Missouri  0.668700\n",
      "R1Z7    1242          Kansas  0.671636\n",
      "R1Z8    1163     Connecticut  0.646264\n",
      "R2W1    1181            Duke  0.868191\n",
      "R2W2    1104         Alabama  0.554535\n",
      "R2W3    1458       Wisconsin  0.542880\n",
      "R2W4    1112         Arizona  0.608421\n",
      "R2X1    1222         Houston  0.540972\n",
      "R2X2    1397       Tennessee  0.690335\n",
      "R2X3    1228        Illinois  0.519360\n",
      "R2X4    1155         Clemson  0.544516\n",
      "R2Y1    1120          Auburn  0.645459\n",
      "R2Y2    1277     Michigan St  0.561609\n",
      "R2Y3    1235         Iowa St  0.577522\n",
      "R2Y4    1276        Michigan  0.504793\n",
      "R2Z1    1196         Florida  0.748043\n",
      "R2Z2    1242          Kansas  0.516236\n",
      "R2Z3    1403      Texas Tech  0.519047\n",
      "R2Z4    1268        Maryland  0.732087\n",
      "R3W1    1181            Duke  0.808413\n",
      "R3W2    1104         Alabama  0.576758\n",
      "R3X1    1222         Houston  0.571525\n",
      "R3X2    1397       Tennessee  0.608351\n",
      "R3Y1    1120          Auburn  0.679610\n",
      "R3Y2    1277     Michigan St  0.507421\n",
      "R3Z1    1196         Florida  0.616664\n",
      "R3Z2    1242          Kansas  0.533778\n",
      "R4W1    1181            Duke  0.753519\n",
      "R4X1    1397       Tennessee  0.509000\n",
      "R4Y1    1120          Auburn  0.597307\n",
      "R4Z1    1196         Florida  0.650932\n",
      "R5WX    1181            Duke  0.683902\n",
      "R5YZ    1120          Auburn  0.540289\n",
      "R6CH    1181            Duke  0.621500\n",
      "W16     1110   American Univ  0.513357\n",
      "X11     1462          Xavier  0.502794\n",
      "Y11     1314  North Carolina  0.604399\n",
      "Y16     1106      Alabama St  0.530609\n"
     ]
    }
   ],
   "source": [
    "base_bracket = model.gen_bracket(dataset, 2025, 'M', result_model).join(dataset.all_teams, on='Winner')[['Winner', 'TeamName', 'P']]\n",
    "with pd.option_context('display.max_rows', None, 'display.max_columns', None): \n",
    "    print(base_bracket)"
   ]
  },
  {
   "cell_type": "code",
   "execution_count": 49,
   "id": "ffcc3124-890c-43d9-96c1-032c3742c27d",
   "metadata": {},
   "outputs": [
    {
     "data": {
      "text/plain": [
       "140.15078814263353"
      ]
     },
     "execution_count": 49,
     "metadata": {},
     "output_type": "execute_result"
    }
   ],
   "source": [
    "model.tiebreaker(base_bracket, stats_model, dataset, season, league)"
   ]
  },
  {
   "cell_type": "code",
   "execution_count": null,
   "id": "1a6ece79-b9b3-469f-b7d7-feeb4b1a49b6",
   "metadata": {},
   "outputs": [],
   "source": []
  }
 ],
 "metadata": {
  "kernelspec": {
   "display_name": "Python 3 (ipykernel)",
   "language": "python",
   "name": "python3"
  },
  "language_info": {
   "codemirror_mode": {
    "name": "ipython",
    "version": 3
   },
   "file_extension": ".py",
   "mimetype": "text/x-python",
   "name": "python",
   "nbconvert_exporter": "python",
   "pygments_lexer": "ipython3",
   "version": "3.10.12"
  }
 },
 "nbformat": 4,
 "nbformat_minor": 5
}
