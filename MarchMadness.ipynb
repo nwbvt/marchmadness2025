{
 "cells": [
  {
   "cell_type": "markdown",
   "id": "a4b53588-2c8e-4166-b01d-037b765c2d69",
   "metadata": {},
   "source": [
    "# March Madness 2025"
   ]
  },
  {
   "cell_type": "code",
   "execution_count": 1,
   "id": "dd96dd0b-1844-4dca-9495-b722deda29ed",
   "metadata": {},
   "outputs": [
    {
     "name": "stdout",
     "output_type": "stream",
     "text": [
      "Using cuda device\n"
     ]
    }
   ],
   "source": [
    "import pandas as pd\n",
    "import torch\n",
    "import torch.nn as nn\n",
    "import torch.nn.functional as F\n",
    "import numpy as np\n",
    "from torch.utils.data import TensorDataset, DataLoader\n",
    "import os\n",
    "from sklearn.model_selection import train_test_split\n",
    "import random\n",
    "from data import Data, STATS_COLUMNS\n",
    "from model import *\n",
    "\n",
    "torch.manual_seed(20250222)\n",
    "random.seed(20250222)\n",
    "\n",
    "device = torch.accelerator.current_accelerator().type if torch.accelerator.is_available() else \"cpu\"\n",
    "print(f\"Using {device} device\")"
   ]
  },
  {
   "cell_type": "markdown",
   "id": "81669670-3bd9-4cc0-b0e8-d76f32dfd61f",
   "metadata": {},
   "source": [
    "## Hypothesis\n",
    "Each team can be modeled by x hidden features. In each game, these hidden features interact in a nonlinear fashion to determine the outcome of the game"
   ]
  },
  {
   "cell_type": "markdown",
   "id": "ef008b05-6dc7-46e7-9783-2499977b8249",
   "metadata": {},
   "source": [
    "## Preparing the data\n",
    "Load the data"
   ]
  },
  {
   "cell_type": "code",
   "execution_count": 2,
   "id": "836cd53e-d493-44d7-91d7-f0bd02a9644e",
   "metadata": {},
   "outputs": [
    {
     "data": {
      "text/html": [
       "<div>\n",
       "<style scoped>\n",
       "    .dataframe tbody tr th:only-of-type {\n",
       "        vertical-align: middle;\n",
       "    }\n",
       "\n",
       "    .dataframe tbody tr th {\n",
       "        vertical-align: top;\n",
       "    }\n",
       "\n",
       "    .dataframe thead th {\n",
       "        text-align: right;\n",
       "    }\n",
       "</style>\n",
       "<table border=\"1\" class=\"dataframe\">\n",
       "  <thead>\n",
       "    <tr style=\"text-align: right;\">\n",
       "      <th></th>\n",
       "      <th>Season</th>\n",
       "      <th>DayNum</th>\n",
       "      <th>WTeamID</th>\n",
       "      <th>WScore</th>\n",
       "      <th>LTeamID</th>\n",
       "      <th>LScore</th>\n",
       "      <th>NumOT</th>\n",
       "      <th>WFGM</th>\n",
       "      <th>WFGA</th>\n",
       "      <th>WFGM3</th>\n",
       "      <th>...</th>\n",
       "      <th>LFGA3</th>\n",
       "      <th>LFTM</th>\n",
       "      <th>LFTA</th>\n",
       "      <th>LOR</th>\n",
       "      <th>LDR</th>\n",
       "      <th>LAst</th>\n",
       "      <th>LTO</th>\n",
       "      <th>LStl</th>\n",
       "      <th>LBlk</th>\n",
       "      <th>LPF</th>\n",
       "    </tr>\n",
       "  </thead>\n",
       "  <tbody>\n",
       "    <tr>\n",
       "      <th>count</th>\n",
       "      <td>198374.000000</td>\n",
       "      <td>198374.000000</td>\n",
       "      <td>198374.000000</td>\n",
       "      <td>198374.000000</td>\n",
       "      <td>198374.000000</td>\n",
       "      <td>198374.000000</td>\n",
       "      <td>198374.000000</td>\n",
       "      <td>198374.000000</td>\n",
       "      <td>198374.000000</td>\n",
       "      <td>198374.000000</td>\n",
       "      <td>...</td>\n",
       "      <td>198374.000000</td>\n",
       "      <td>198374.000000</td>\n",
       "      <td>198374.000000</td>\n",
       "      <td>198374.000000</td>\n",
       "      <td>198374.000000</td>\n",
       "      <td>198374.000000</td>\n",
       "      <td>198374.000000</td>\n",
       "      <td>198374.000000</td>\n",
       "      <td>198374.000000</td>\n",
       "      <td>198374.000000</td>\n",
       "    </tr>\n",
       "    <tr>\n",
       "      <th>mean</th>\n",
       "      <td>2015.470621</td>\n",
       "      <td>69.843291</td>\n",
       "      <td>2099.847868</td>\n",
       "      <td>74.183169</td>\n",
       "      <td>2097.450588</td>\n",
       "      <td>61.187026</td>\n",
       "      <td>0.061787</td>\n",
       "      <td>26.176339</td>\n",
       "      <td>57.063405</td>\n",
       "      <td>6.912005</td>\n",
       "      <td>...</td>\n",
       "      <td>19.248818</td>\n",
       "      <td>11.436922</td>\n",
       "      <td>16.826656</td>\n",
       "      <td>10.826832</td>\n",
       "      <td>21.949363</td>\n",
       "      <td>11.217125</td>\n",
       "      <td>15.214630</td>\n",
       "      <td>6.453946</td>\n",
       "      <td>2.848942</td>\n",
       "      <td>18.853504</td>\n",
       "    </tr>\n",
       "    <tr>\n",
       "      <th>std</th>\n",
       "      <td>6.024751</td>\n",
       "      <td>35.933736</td>\n",
       "      <td>986.382716</td>\n",
       "      <td>11.406085</td>\n",
       "      <td>989.676138</td>\n",
       "      <td>11.373007</td>\n",
       "      <td>0.287403</td>\n",
       "      <td>4.811306</td>\n",
       "      <td>7.828931</td>\n",
       "      <td>3.166580</td>\n",
       "      <td>...</td>\n",
       "      <td>6.325219</td>\n",
       "      <td>5.239163</td>\n",
       "      <td>6.987616</td>\n",
       "      <td>4.418293</td>\n",
       "      <td>4.708807</td>\n",
       "      <td>3.765042</td>\n",
       "      <td>5.028571</td>\n",
       "      <td>2.985335</td>\n",
       "      <td>2.037092</td>\n",
       "      <td>4.587468</td>\n",
       "    </tr>\n",
       "    <tr>\n",
       "      <th>min</th>\n",
       "      <td>2003.000000</td>\n",
       "      <td>0.000000</td>\n",
       "      <td>1101.000000</td>\n",
       "      <td>30.000000</td>\n",
       "      <td>1101.000000</td>\n",
       "      <td>11.000000</td>\n",
       "      <td>0.000000</td>\n",
       "      <td>9.000000</td>\n",
       "      <td>26.000000</td>\n",
       "      <td>0.000000</td>\n",
       "      <td>...</td>\n",
       "      <td>0.000000</td>\n",
       "      <td>0.000000</td>\n",
       "      <td>0.000000</td>\n",
       "      <td>0.000000</td>\n",
       "      <td>1.000000</td>\n",
       "      <td>0.000000</td>\n",
       "      <td>0.000000</td>\n",
       "      <td>0.000000</td>\n",
       "      <td>0.000000</td>\n",
       "      <td>3.000000</td>\n",
       "    </tr>\n",
       "    <tr>\n",
       "      <th>25%</th>\n",
       "      <td>2011.000000</td>\n",
       "      <td>37.000000</td>\n",
       "      <td>1260.000000</td>\n",
       "      <td>66.000000</td>\n",
       "      <td>1253.000000</td>\n",
       "      <td>53.000000</td>\n",
       "      <td>0.000000</td>\n",
       "      <td>23.000000</td>\n",
       "      <td>52.000000</td>\n",
       "      <td>5.000000</td>\n",
       "      <td>...</td>\n",
       "      <td>15.000000</td>\n",
       "      <td>8.000000</td>\n",
       "      <td>12.000000</td>\n",
       "      <td>8.000000</td>\n",
       "      <td>19.000000</td>\n",
       "      <td>9.000000</td>\n",
       "      <td>12.000000</td>\n",
       "      <td>4.000000</td>\n",
       "      <td>1.000000</td>\n",
       "      <td>16.000000</td>\n",
       "    </tr>\n",
       "    <tr>\n",
       "      <th>50%</th>\n",
       "      <td>2016.000000</td>\n",
       "      <td>73.000000</td>\n",
       "      <td>1413.000000</td>\n",
       "      <td>74.000000</td>\n",
       "      <td>1407.000000</td>\n",
       "      <td>61.000000</td>\n",
       "      <td>0.000000</td>\n",
       "      <td>26.000000</td>\n",
       "      <td>57.000000</td>\n",
       "      <td>7.000000</td>\n",
       "      <td>...</td>\n",
       "      <td>19.000000</td>\n",
       "      <td>11.000000</td>\n",
       "      <td>16.000000</td>\n",
       "      <td>10.000000</td>\n",
       "      <td>22.000000</td>\n",
       "      <td>11.000000</td>\n",
       "      <td>15.000000</td>\n",
       "      <td>6.000000</td>\n",
       "      <td>3.000000</td>\n",
       "      <td>19.000000</td>\n",
       "    </tr>\n",
       "    <tr>\n",
       "      <th>75%</th>\n",
       "      <td>2020.000000</td>\n",
       "      <td>101.000000</td>\n",
       "      <td>3244.000000</td>\n",
       "      <td>81.000000</td>\n",
       "      <td>3245.000000</td>\n",
       "      <td>69.000000</td>\n",
       "      <td>0.000000</td>\n",
       "      <td>29.000000</td>\n",
       "      <td>62.000000</td>\n",
       "      <td>9.000000</td>\n",
       "      <td>...</td>\n",
       "      <td>23.000000</td>\n",
       "      <td>15.000000</td>\n",
       "      <td>21.000000</td>\n",
       "      <td>14.000000</td>\n",
       "      <td>25.000000</td>\n",
       "      <td>14.000000</td>\n",
       "      <td>18.000000</td>\n",
       "      <td>8.000000</td>\n",
       "      <td>4.000000</td>\n",
       "      <td>22.000000</td>\n",
       "    </tr>\n",
       "    <tr>\n",
       "      <th>max</th>\n",
       "      <td>2025.000000</td>\n",
       "      <td>132.000000</td>\n",
       "      <td>3480.000000</td>\n",
       "      <td>149.000000</td>\n",
       "      <td>3480.000000</td>\n",
       "      <td>144.000000</td>\n",
       "      <td>6.000000</td>\n",
       "      <td>58.000000</td>\n",
       "      <td>113.000000</td>\n",
       "      <td>30.000000</td>\n",
       "      <td>...</td>\n",
       "      <td>80.000000</td>\n",
       "      <td>48.000000</td>\n",
       "      <td>65.000000</td>\n",
       "      <td>38.000000</td>\n",
       "      <td>53.000000</td>\n",
       "      <td>34.000000</td>\n",
       "      <td>49.000000</td>\n",
       "      <td>26.000000</td>\n",
       "      <td>21.000000</td>\n",
       "      <td>47.000000</td>\n",
       "    </tr>\n",
       "  </tbody>\n",
       "</table>\n",
       "<p>8 rows × 33 columns</p>\n",
       "</div>"
      ],
      "text/plain": [
       "              Season         DayNum        WTeamID         WScore  \\\n",
       "count  198374.000000  198374.000000  198374.000000  198374.000000   \n",
       "mean     2015.470621      69.843291    2099.847868      74.183169   \n",
       "std         6.024751      35.933736     986.382716      11.406085   \n",
       "min      2003.000000       0.000000    1101.000000      30.000000   \n",
       "25%      2011.000000      37.000000    1260.000000      66.000000   \n",
       "50%      2016.000000      73.000000    1413.000000      74.000000   \n",
       "75%      2020.000000     101.000000    3244.000000      81.000000   \n",
       "max      2025.000000     132.000000    3480.000000     149.000000   \n",
       "\n",
       "             LTeamID         LScore          NumOT           WFGM  \\\n",
       "count  198374.000000  198374.000000  198374.000000  198374.000000   \n",
       "mean     2097.450588      61.187026       0.061787      26.176339   \n",
       "std       989.676138      11.373007       0.287403       4.811306   \n",
       "min      1101.000000      11.000000       0.000000       9.000000   \n",
       "25%      1253.000000      53.000000       0.000000      23.000000   \n",
       "50%      1407.000000      61.000000       0.000000      26.000000   \n",
       "75%      3245.000000      69.000000       0.000000      29.000000   \n",
       "max      3480.000000     144.000000       6.000000      58.000000   \n",
       "\n",
       "                WFGA          WFGM3  ...          LFGA3           LFTM  \\\n",
       "count  198374.000000  198374.000000  ...  198374.000000  198374.000000   \n",
       "mean       57.063405       6.912005  ...      19.248818      11.436922   \n",
       "std         7.828931       3.166580  ...       6.325219       5.239163   \n",
       "min        26.000000       0.000000  ...       0.000000       0.000000   \n",
       "25%        52.000000       5.000000  ...      15.000000       8.000000   \n",
       "50%        57.000000       7.000000  ...      19.000000      11.000000   \n",
       "75%        62.000000       9.000000  ...      23.000000      15.000000   \n",
       "max       113.000000      30.000000  ...      80.000000      48.000000   \n",
       "\n",
       "                LFTA            LOR            LDR           LAst  \\\n",
       "count  198374.000000  198374.000000  198374.000000  198374.000000   \n",
       "mean       16.826656      10.826832      21.949363      11.217125   \n",
       "std         6.987616       4.418293       4.708807       3.765042   \n",
       "min         0.000000       0.000000       1.000000       0.000000   \n",
       "25%        12.000000       8.000000      19.000000       9.000000   \n",
       "50%        16.000000      10.000000      22.000000      11.000000   \n",
       "75%        21.000000      14.000000      25.000000      14.000000   \n",
       "max        65.000000      38.000000      53.000000      34.000000   \n",
       "\n",
       "                 LTO           LStl           LBlk            LPF  \n",
       "count  198374.000000  198374.000000  198374.000000  198374.000000  \n",
       "mean       15.214630       6.453946       2.848942      18.853504  \n",
       "std         5.028571       2.985335       2.037092       4.587468  \n",
       "min         0.000000       0.000000       0.000000       3.000000  \n",
       "25%        12.000000       4.000000       1.000000      16.000000  \n",
       "50%        15.000000       6.000000       3.000000      19.000000  \n",
       "75%        18.000000       8.000000       4.000000      22.000000  \n",
       "max        49.000000      26.000000      21.000000      47.000000  \n",
       "\n",
       "[8 rows x 33 columns]"
      ]
     },
     "execution_count": 2,
     "metadata": {},
     "output_type": "execute_result"
    }
   ],
   "source": [
    "dataset = Data()\n",
    "\n",
    "dataset.games.describe()"
   ]
  },
  {
   "cell_type": "markdown",
   "id": "ee119045-207e-4dae-9ec7-1ef186642f48",
   "metadata": {},
   "source": [
    "The x's will be the indexes of two team IDs and program IDs, the y's will include and indicator of who won at the game stats"
   ]
  },
  {
   "cell_type": "code",
   "execution_count": 3,
   "id": "3abc258c-3999-4de4-bc7d-580218c95cdc",
   "metadata": {},
   "outputs": [
    {
     "name": "stdout",
     "output_type": "stream",
     "text": [
      "Loading cached data\n"
     ]
    }
   ],
   "source": [
    "train_loader, validation_loader = dataset.train_test_data()"
   ]
  },
  {
   "cell_type": "markdown",
   "id": "cf50ea84-42ce-462c-a3b3-3928a04aa7ef",
   "metadata": {},
   "source": [
    "## The Model\n",
    "Define the model. Combine the embeddings for the two teams, go to a hidden layer, and then output to a prediction if the first team won"
   ]
  },
  {
   "cell_type": "code",
   "execution_count": 4,
   "id": "d5629261-0b6d-44c9-828e-698e86006f00",
   "metadata": {},
   "outputs": [],
   "source": [
    "model = Model(embedding_sizes=[32, 1024], model_sizes=(256,256), dropout=0.5, dataset=dataset).to(device)"
   ]
  },
  {
   "cell_type": "markdown",
   "id": "7d98325a-8ba0-466f-b3ca-6991e8450a08",
   "metadata": {},
   "source": [
    "## Training the model"
   ]
  },
  {
   "cell_type": "markdown",
   "id": "553fca87-08c7-48e0-92dd-52ef4ff8463f",
   "metadata": {},
   "source": [
    "Train the model"
   ]
  },
  {
   "cell_type": "code",
   "execution_count": 5,
   "id": "eb5d54b3-9031-45bb-a66f-ca69765aa76c",
   "metadata": {},
   "outputs": [
    {
     "name": "stdout",
     "output_type": "stream",
     "text": [
      "Initial: Accuracy: 49.97%, Stats loss: 779.717531 Result loss: 0.251805\n",
      "Epoch 0\n",
      "Train: Accuracy: 50.04%, Stats loss: 332.950312 Result loss: 0.249938\n",
      "Test: Accuracy: 50.09%, Stats loss: 331.385604 Result loss: 0.249928\n",
      "Epoch 1\n",
      "Train: Accuracy: 52.84%, Stats loss: 318.473992 Result loss: 0.249037\n",
      "Test: Accuracy: 52.65%, Stats loss: 316.938637 Result loss: 0.249111\n",
      "Epoch 2\n",
      "Train: Accuracy: 51.73%, Stats loss: 272.182236 Result loss: 0.246814\n",
      "Test: Accuracy: 51.61%, Stats loss: 270.828944 Result loss: 0.247011\n",
      "Epoch 3\n",
      "Train: Accuracy: 63.56%, Stats loss: 226.443790 Result loss: 0.236886\n",
      "Test: Accuracy: 63.44%, Stats loss: 225.220446 Result loss: 0.236973\n",
      "Epoch 4\n",
      "Train: Accuracy: 65.63%, Stats loss: 117.833823 Result loss: 0.224032\n",
      "Test: Accuracy: 65.73%, Stats loss: 117.058685 Result loss: 0.224130\n",
      "Epoch 5\n",
      "Train: Accuracy: 64.78%, Stats loss: 37.641530 Result loss: 0.219517\n",
      "Test: Accuracy: 64.89%, Stats loss: 37.468539 Result loss: 0.219800\n",
      "Epoch 6\n",
      "Train: Accuracy: 65.76%, Stats loss: 36.386880 Result loss: 0.217569\n",
      "Test: Accuracy: 66.21%, Stats loss: 36.227788 Result loss: 0.217575\n",
      "Epoch 7\n",
      "Train: Accuracy: 62.75%, Stats loss: 35.332891 Result loss: 0.218322\n",
      "Test: Accuracy: 62.46%, Stats loss: 35.235560 Result loss: 0.218458\n",
      "Epoch 8\n",
      "Train: Accuracy: 64.80%, Stats loss: 34.841536 Result loss: 0.213216\n",
      "Test: Accuracy: 64.65%, Stats loss: 34.811376 Result loss: 0.213573\n",
      "Epoch 9\n",
      "Train: Accuracy: 63.15%, Stats loss: 33.654637 Result loss: 0.216218\n",
      "Test: Accuracy: 62.88%, Stats loss: 33.710854 Result loss: 0.216579\n",
      "Epoch 10\n",
      "Train: Accuracy: 67.01%, Stats loss: 33.680143 Result loss: 0.210315\n",
      "Test: Accuracy: 67.01%, Stats loss: 33.735666 Result loss: 0.210998\n",
      "Epoch 11\n",
      "Train: Accuracy: 65.97%, Stats loss: 32.957884 Result loss: 0.209243\n",
      "Test: Accuracy: 65.81%, Stats loss: 33.127180 Result loss: 0.209828\n",
      "Epoch 12\n",
      "Train: Accuracy: 66.10%, Stats loss: 32.604842 Result loss: 0.210358\n",
      "Test: Accuracy: 66.17%, Stats loss: 32.781300 Result loss: 0.210939\n",
      "Epoch 13\n",
      "Train: Accuracy: 66.83%, Stats loss: 32.561083 Result loss: 0.207826\n",
      "Test: Accuracy: 66.29%, Stats loss: 32.732853 Result loss: 0.208454\n",
      "Epoch 14\n",
      "Train: Accuracy: 66.09%, Stats loss: 32.219862 Result loss: 0.207689\n",
      "Test: Accuracy: 65.78%, Stats loss: 32.426275 Result loss: 0.208348\n",
      "Epoch 15\n",
      "Train: Accuracy: 67.94%, Stats loss: 32.118807 Result loss: 0.205594\n",
      "Test: Accuracy: 67.68%, Stats loss: 32.341457 Result loss: 0.206864\n",
      "Epoch 16\n",
      "Train: Accuracy: 66.27%, Stats loss: 32.012613 Result loss: 0.205970\n",
      "Test: Accuracy: 65.75%, Stats loss: 32.272369 Result loss: 0.207166\n",
      "Epoch 17\n",
      "Train: Accuracy: 68.73%, Stats loss: 32.009615 Result loss: 0.200495\n",
      "Test: Accuracy: 68.33%, Stats loss: 32.245269 Result loss: 0.201958\n",
      "Epoch 18\n",
      "Train: Accuracy: 68.44%, Stats loss: 32.029717 Result loss: 0.202711\n",
      "Test: Accuracy: 67.82%, Stats loss: 32.283199 Result loss: 0.204335\n",
      "Epoch 19\n",
      "Train: Accuracy: 68.08%, Stats loss: 31.622135 Result loss: 0.201284\n",
      "Test: Accuracy: 67.80%, Stats loss: 31.983315 Result loss: 0.202777\n",
      "Epoch 20\n",
      "Train: Accuracy: 69.55%, Stats loss: 32.289746 Result loss: 0.197614\n",
      "Test: Accuracy: 69.01%, Stats loss: 32.526712 Result loss: 0.199426\n",
      "Epoch 21\n",
      "Train: Accuracy: 70.05%, Stats loss: 31.539235 Result loss: 0.197276\n",
      "Test: Accuracy: 69.45%, Stats loss: 31.892887 Result loss: 0.199710\n",
      "Epoch 22\n",
      "Train: Accuracy: 69.82%, Stats loss: 31.216892 Result loss: 0.195428\n",
      "Test: Accuracy: 68.92%, Stats loss: 31.585801 Result loss: 0.198218\n",
      "Epoch 23\n",
      "Train: Accuracy: 69.10%, Stats loss: 30.928448 Result loss: 0.196452\n",
      "Test: Accuracy: 68.32%, Stats loss: 31.403213 Result loss: 0.199469\n",
      "Epoch 24\n",
      "Train: Accuracy: 69.25%, Stats loss: 31.007914 Result loss: 0.193657\n",
      "Test: Accuracy: 68.19%, Stats loss: 31.407527 Result loss: 0.196934\n",
      "Epoch 25\n",
      "Train: Accuracy: 71.85%, Stats loss: 31.246175 Result loss: 0.189512\n",
      "Test: Accuracy: 70.85%, Stats loss: 31.648394 Result loss: 0.193175\n",
      "Epoch 26\n",
      "Train: Accuracy: 72.17%, Stats loss: 31.044152 Result loss: 0.187806\n",
      "Test: Accuracy: 71.36%, Stats loss: 31.463231 Result loss: 0.191428\n",
      "Epoch 27\n",
      "Train: Accuracy: 72.07%, Stats loss: 30.782967 Result loss: 0.186955\n",
      "Test: Accuracy: 71.03%, Stats loss: 31.238780 Result loss: 0.191218\n",
      "Epoch 28\n",
      "Train: Accuracy: 69.98%, Stats loss: 31.080891 Result loss: 0.191311\n",
      "Test: Accuracy: 68.86%, Stats loss: 31.487622 Result loss: 0.195878\n",
      "Epoch 29\n",
      "Train: Accuracy: 72.62%, Stats loss: 30.637076 Result loss: 0.182063\n",
      "Test: Accuracy: 71.46%, Stats loss: 31.077350 Result loss: 0.187374\n",
      "Epoch 30\n",
      "Train: Accuracy: 73.22%, Stats loss: 31.285863 Result loss: 0.181287\n",
      "Test: Accuracy: 72.26%, Stats loss: 31.760085 Result loss: 0.186645\n",
      "Epoch 31\n",
      "Train: Accuracy: 73.26%, Stats loss: 30.907263 Result loss: 0.183652\n",
      "Test: Accuracy: 71.87%, Stats loss: 31.387350 Result loss: 0.188925\n",
      "Epoch 32\n",
      "Train: Accuracy: 72.22%, Stats loss: 30.908540 Result loss: 0.185261\n",
      "Test: Accuracy: 70.88%, Stats loss: 31.373105 Result loss: 0.190826\n",
      "Epoch 33\n",
      "Train: Accuracy: 73.59%, Stats loss: 31.006341 Result loss: 0.180595\n",
      "Test: Accuracy: 71.76%, Stats loss: 31.439253 Result loss: 0.186745\n",
      "Epoch 34\n",
      "Train: Accuracy: 72.82%, Stats loss: 30.485065 Result loss: 0.178101\n",
      "Test: Accuracy: 71.32%, Stats loss: 30.998858 Result loss: 0.185211\n",
      "Epoch 35\n",
      "Train: Accuracy: 73.80%, Stats loss: 30.655638 Result loss: 0.179492\n",
      "Test: Accuracy: 72.23%, Stats loss: 31.189065 Result loss: 0.185852\n",
      "Epoch 36\n",
      "Train: Accuracy: 73.34%, Stats loss: 30.666807 Result loss: 0.178611\n",
      "Test: Accuracy: 71.86%, Stats loss: 31.209315 Result loss: 0.185016\n",
      "Epoch 37\n",
      "Train: Accuracy: 73.89%, Stats loss: 30.362497 Result loss: 0.178449\n",
      "Test: Accuracy: 72.38%, Stats loss: 30.910862 Result loss: 0.185207\n",
      "Epoch 38\n",
      "Train: Accuracy: 74.74%, Stats loss: 30.303357 Result loss: 0.172072\n",
      "Test: Accuracy: 73.15%, Stats loss: 30.886242 Result loss: 0.179902\n",
      "Epoch 39\n",
      "Train: Accuracy: 71.90%, Stats loss: 30.800147 Result loss: 0.181838\n",
      "Test: Accuracy: 70.64%, Stats loss: 31.260320 Result loss: 0.189242\n",
      "Epoch 40\n",
      "Train: Accuracy: 74.58%, Stats loss: 30.289828 Result loss: 0.173097\n",
      "Test: Accuracy: 72.81%, Stats loss: 30.882777 Result loss: 0.180884\n",
      "Epoch 41\n",
      "Train: Accuracy: 73.48%, Stats loss: 30.720625 Result loss: 0.178491\n",
      "Test: Accuracy: 71.88%, Stats loss: 31.266719 Result loss: 0.185432\n",
      "Epoch 42\n",
      "Train: Accuracy: 74.41%, Stats loss: 30.418667 Result loss: 0.172394\n",
      "Test: Accuracy: 72.68%, Stats loss: 30.929452 Result loss: 0.180201\n",
      "Epoch 43\n",
      "Train: Accuracy: 74.71%, Stats loss: 30.511523 Result loss: 0.172223\n",
      "Test: Accuracy: 72.99%, Stats loss: 31.039952 Result loss: 0.180222\n",
      "Epoch 44\n",
      "Train: Accuracy: 74.86%, Stats loss: 30.620596 Result loss: 0.175427\n",
      "Test: Accuracy: 73.10%, Stats loss: 31.126859 Result loss: 0.182608\n",
      "Epoch 45\n",
      "Train: Accuracy: 73.65%, Stats loss: 30.685564 Result loss: 0.175311\n",
      "Test: Accuracy: 72.03%, Stats loss: 31.203970 Result loss: 0.182883\n",
      "Epoch 46\n",
      "Train: Accuracy: 72.88%, Stats loss: 30.445360 Result loss: 0.174570\n",
      "Test: Accuracy: 71.27%, Stats loss: 30.971472 Result loss: 0.182966\n",
      "Epoch 47\n",
      "Train: Accuracy: 74.19%, Stats loss: 30.129269 Result loss: 0.170333\n",
      "Test: Accuracy: 72.23%, Stats loss: 30.720442 Result loss: 0.178920\n",
      "Epoch 48\n",
      "Train: Accuracy: 74.99%, Stats loss: 30.031227 Result loss: 0.168822\n",
      "Test: Accuracy: 72.93%, Stats loss: 30.640406 Result loss: 0.177643\n",
      "Epoch 49\n",
      "Train: Accuracy: 74.94%, Stats loss: 29.908705 Result loss: 0.168891\n",
      "Test: Accuracy: 72.99%, Stats loss: 30.541002 Result loss: 0.177935\n",
      "Epoch 50\n",
      "Train: Accuracy: 74.32%, Stats loss: 30.288587 Result loss: 0.172754\n",
      "Test: Accuracy: 72.20%, Stats loss: 30.907234 Result loss: 0.180800\n",
      "Epoch 51\n",
      "Train: Accuracy: 75.28%, Stats loss: 30.460965 Result loss: 0.168464\n",
      "Test: Accuracy: 73.48%, Stats loss: 31.003003 Result loss: 0.176944\n",
      "Epoch 52\n",
      "Train: Accuracy: 75.21%, Stats loss: 30.210890 Result loss: 0.170150\n",
      "Test: Accuracy: 73.38%, Stats loss: 30.785205 Result loss: 0.178714\n",
      "Epoch 53\n",
      "Train: Accuracy: 74.18%, Stats loss: 30.238177 Result loss: 0.174575\n",
      "Test: Accuracy: 72.30%, Stats loss: 30.815256 Result loss: 0.182514\n",
      "Epoch 54\n",
      "Train: Accuracy: 74.75%, Stats loss: 30.254045 Result loss: 0.171313\n",
      "Test: Accuracy: 72.66%, Stats loss: 30.868890 Result loss: 0.179744\n",
      "Epoch 55\n",
      "Train: Accuracy: 73.44%, Stats loss: 29.918560 Result loss: 0.173797\n",
      "Test: Accuracy: 71.54%, Stats loss: 30.553900 Result loss: 0.182399\n",
      "Epoch 56\n",
      "Train: Accuracy: 74.65%, Stats loss: 30.282206 Result loss: 0.170254\n",
      "Test: Accuracy: 72.73%, Stats loss: 30.898661 Result loss: 0.179186\n",
      "Epoch 57\n",
      "Train: Accuracy: 74.40%, Stats loss: 29.949923 Result loss: 0.171395\n",
      "Test: Accuracy: 72.49%, Stats loss: 30.632387 Result loss: 0.179810\n",
      "Epoch 58\n",
      "Train: Accuracy: 75.60%, Stats loss: 30.219359 Result loss: 0.166853\n",
      "Test: Accuracy: 73.74%, Stats loss: 30.818408 Result loss: 0.175855\n",
      "Epoch 59\n",
      "Train: Accuracy: 74.41%, Stats loss: 29.853759 Result loss: 0.173237\n",
      "Test: Accuracy: 72.52%, Stats loss: 30.513478 Result loss: 0.181569\n",
      "Epoch 60\n",
      "Train: Accuracy: 75.38%, Stats loss: 30.020088 Result loss: 0.169619\n",
      "Test: Accuracy: 73.39%, Stats loss: 30.650455 Result loss: 0.178011\n",
      "Epoch 61\n",
      "Train: Accuracy: 74.07%, Stats loss: 29.787414 Result loss: 0.170877\n",
      "Test: Accuracy: 72.36%, Stats loss: 30.426980 Result loss: 0.179746\n",
      "Epoch 62\n",
      "Train: Accuracy: 73.57%, Stats loss: 30.363837 Result loss: 0.173172\n",
      "Test: Accuracy: 71.74%, Stats loss: 30.976765 Result loss: 0.182185\n",
      "Epoch 63\n",
      "Train: Accuracy: 75.17%, Stats loss: 29.964871 Result loss: 0.168236\n",
      "Test: Accuracy: 73.09%, Stats loss: 30.620543 Result loss: 0.177210\n",
      "Epoch 64\n",
      "Train: Accuracy: 75.33%, Stats loss: 29.981517 Result loss: 0.168118\n",
      "Test: Accuracy: 73.30%, Stats loss: 30.600555 Result loss: 0.177312\n",
      "Epoch 65\n",
      "Train: Accuracy: 74.79%, Stats loss: 29.996157 Result loss: 0.167531\n",
      "Test: Accuracy: 72.83%, Stats loss: 30.611674 Result loss: 0.177122\n",
      "Epoch 66\n",
      "Train: Accuracy: 75.20%, Stats loss: 30.245834 Result loss: 0.169303\n",
      "Test: Accuracy: 73.36%, Stats loss: 30.866794 Result loss: 0.177836\n",
      "Epoch 67\n",
      "Train: Accuracy: 75.29%, Stats loss: 30.124380 Result loss: 0.168383\n",
      "Test: Accuracy: 73.06%, Stats loss: 30.772951 Result loss: 0.177533\n",
      "Epoch 68\n",
      "Train: Accuracy: 74.66%, Stats loss: 30.217579 Result loss: 0.172096\n",
      "Test: Accuracy: 72.83%, Stats loss: 30.855260 Result loss: 0.181175\n",
      "Best Loss: 0.175855\n"
     ]
    }
   ],
   "source": [
    "train(train_loader, validation_loader, model, streak=10, learning_rate=0.001)"
   ]
  },
  {
   "cell_type": "markdown",
   "id": "41aaf28c-130c-4579-a627-7475f7abc2a2",
   "metadata": {},
   "source": [
    "Fine tune with only the result"
   ]
  },
  {
   "cell_type": "code",
   "execution_count": 6,
   "id": "d4074860-e773-4900-96d3-7859687f15ae",
   "metadata": {},
   "outputs": [
    {
     "name": "stdout",
     "output_type": "stream",
     "text": [
      "Initial: Accuracy: 73.74%, Stats loss: 30.818408 Result loss: 0.175855\n",
      "Epoch 0\n",
      "Train: Accuracy: 75.71%, Stats loss: 31.431244 Result loss: 0.167611\n",
      "Test: Accuracy: 73.80%, Stats loss: 32.049383 Result loss: 0.176447\n",
      "Epoch 1\n",
      "Train: Accuracy: 75.74%, Stats loss: 32.496431 Result loss: 0.166384\n",
      "Test: Accuracy: 73.78%, Stats loss: 33.129390 Result loss: 0.175567\n",
      "Epoch 2\n",
      "Train: Accuracy: 75.77%, Stats loss: 34.107860 Result loss: 0.167503\n",
      "Test: Accuracy: 73.67%, Stats loss: 34.765274 Result loss: 0.176390\n",
      "Epoch 3\n",
      "Train: Accuracy: 75.70%, Stats loss: 35.136596 Result loss: 0.165988\n",
      "Test: Accuracy: 73.62%, Stats loss: 35.791058 Result loss: 0.175521\n",
      "Epoch 4\n",
      "Train: Accuracy: 75.84%, Stats loss: 36.935512 Result loss: 0.164271\n",
      "Test: Accuracy: 73.62%, Stats loss: 37.619871 Result loss: 0.174215\n",
      "Epoch 5\n",
      "Train: Accuracy: 75.98%, Stats loss: 37.586101 Result loss: 0.164268\n",
      "Test: Accuracy: 73.94%, Stats loss: 38.257915 Result loss: 0.174189\n",
      "Epoch 6\n",
      "Train: Accuracy: 75.79%, Stats loss: 39.113754 Result loss: 0.164667\n",
      "Test: Accuracy: 73.53%, Stats loss: 39.758822 Result loss: 0.174714\n",
      "Epoch 7\n",
      "Train: Accuracy: 76.03%, Stats loss: 39.471895 Result loss: 0.163273\n",
      "Test: Accuracy: 73.75%, Stats loss: 40.123204 Result loss: 0.173752\n",
      "Epoch 8\n",
      "Train: Accuracy: 76.04%, Stats loss: 39.978000 Result loss: 0.162681\n",
      "Test: Accuracy: 73.80%, Stats loss: 40.630821 Result loss: 0.173426\n",
      "Epoch 9\n",
      "Train: Accuracy: 76.16%, Stats loss: 40.899295 Result loss: 0.163981\n",
      "Test: Accuracy: 73.67%, Stats loss: 41.512733 Result loss: 0.174259\n",
      "Epoch 10\n",
      "Train: Accuracy: 76.31%, Stats loss: 44.731483 Result loss: 0.160939\n",
      "Test: Accuracy: 73.80%, Stats loss: 45.399664 Result loss: 0.172434\n",
      "Epoch 11\n",
      "Train: Accuracy: 76.31%, Stats loss: 46.743354 Result loss: 0.160784\n",
      "Test: Accuracy: 73.82%, Stats loss: 47.287325 Result loss: 0.172552\n",
      "Epoch 12\n",
      "Train: Accuracy: 76.13%, Stats loss: 47.676132 Result loss: 0.161572\n",
      "Test: Accuracy: 73.52%, Stats loss: 48.230020 Result loss: 0.173117\n",
      "Epoch 13\n",
      "Train: Accuracy: 76.23%, Stats loss: 48.350614 Result loss: 0.162150\n",
      "Test: Accuracy: 73.49%, Stats loss: 48.927051 Result loss: 0.173648\n",
      "Epoch 14\n",
      "Train: Accuracy: 76.48%, Stats loss: 50.447711 Result loss: 0.160313\n",
      "Test: Accuracy: 73.91%, Stats loss: 51.017071 Result loss: 0.172460\n",
      "Epoch 15\n",
      "Train: Accuracy: 76.43%, Stats loss: 51.436691 Result loss: 0.161099\n",
      "Test: Accuracy: 73.73%, Stats loss: 51.999324 Result loss: 0.173205\n",
      "Best Loss: 0.172434\n"
     ]
    }
   ],
   "source": [
    "train(train_loader, validation_loader, model, learning_rate=0.0001, full_loss=False)"
   ]
  },
  {
   "cell_type": "markdown",
   "id": "3a55a843-9fa3-443f-8342-410abd74688c",
   "metadata": {},
   "source": [
    "With this model we can predict the output of about three quarters of regular season games."
   ]
  },
  {
   "cell_type": "markdown",
   "id": "7afe60ad-2cd9-4339-9600-62264350e6bd",
   "metadata": {},
   "source": [
    "## Load the tourney data to test with"
   ]
  },
  {
   "cell_type": "code",
   "execution_count": 7,
   "id": "093fcd61-386e-4330-b5af-e9d93df1b144",
   "metadata": {},
   "outputs": [],
   "source": [
    "tourney_dataset = dataset.gen_dataset(dataset.tourney)\n",
    "tourney_loader = DataLoader(tourney_dataset, batch_size=500, shuffle=True)"
   ]
  },
  {
   "cell_type": "code",
   "execution_count": 8,
   "id": "08340cd1-6cb0-400a-80fa-dda1171789bd",
   "metadata": {},
   "outputs": [
    {
     "name": "stdout",
     "output_type": "stream",
     "text": [
      "Tourney: Accuracy: 74.43%, Stats loss: 53.046376 Result loss: 0.170006\n"
     ]
    },
    {
     "data": {
      "text/plain": [
       "0.170006353825528"
      ]
     },
     "execution_count": 8,
     "metadata": {},
     "output_type": "execute_result"
    }
   ],
   "source": [
    "test(tourney_loader, model, device, label=\"Tourney\")"
   ]
  },
  {
   "cell_type": "markdown",
   "id": "ada7c18a-8267-4926-a191-5c3a218bfde2",
   "metadata": {},
   "source": [
    "When it comes to tournament results we get a little worse. The lower result is likely due to teams having increased pairity."
   ]
  },
  {
   "cell_type": "markdown",
   "id": "658506a6-6cff-48e4-9562-28cabf03663a",
   "metadata": {},
   "source": [
    "Train with early torney data"
   ]
  },
  {
   "cell_type": "code",
   "execution_count": 9,
   "id": "1b635c43-1cee-4bca-a38c-0cb71c4f3ee4",
   "metadata": {},
   "outputs": [],
   "source": [
    "tourney_df = dataset.tourney[dataset.tourney.Season < 2021]\n",
    "\n",
    "tourney_train_df, tourney_validation_df = train_test_split(tourney_df, train_size=0.8)\n",
    "tourney_train_data = dataset.gen_dataset(tourney_train_df)\n",
    "tourney_validation_data = dataset.gen_dataset(tourney_validation_df)\n",
    "\n",
    "tourney_train_loader = DataLoader(tourney_train_data, batch_size=500)\n",
    "tourney_validation_loader = DataLoader(tourney_validation_data, batch_size=500)"
   ]
  },
  {
   "cell_type": "code",
   "execution_count": 10,
   "id": "911e30c5-e7d4-4bd5-b15a-8fce5a92322b",
   "metadata": {},
   "outputs": [],
   "source": [
    "for param in model.team_embedding.parameters():\n",
    "    param.requires_grad=False\n",
    "for param in model.program_embedding.parameters():\n",
    "    param.requires_grad=False"
   ]
  },
  {
   "cell_type": "code",
   "execution_count": 11,
   "id": "b985479b-335f-4a69-ad88-6738891b934e",
   "metadata": {},
   "outputs": [
    {
     "name": "stdout",
     "output_type": "stream",
     "text": [
      "Initial: Accuracy: 72.78%, Stats loss: 50.980049 Result loss: 0.176675\n",
      "Epoch 0\n",
      "Train: Accuracy: 74.32%, Stats loss: 54.820784 Result loss: 0.167484\n",
      "Test: Accuracy: 71.06%, Stats loss: 51.735402 Result loss: 0.178341\n",
      "Epoch 1\n",
      "Train: Accuracy: 74.36%, Stats loss: 54.400267 Result loss: 0.166984\n",
      "Test: Accuracy: 71.63%, Stats loss: 51.347660 Result loss: 0.177814\n",
      "Epoch 2\n",
      "Train: Accuracy: 75.04%, Stats loss: 53.846538 Result loss: 0.166395\n",
      "Test: Accuracy: 72.49%, Stats loss: 50.835494 Result loss: 0.177212\n",
      "Epoch 3\n",
      "Train: Accuracy: 75.14%, Stats loss: 53.425259 Result loss: 0.166242\n",
      "Test: Accuracy: 72.49%, Stats loss: 50.445406 Result loss: 0.177014\n",
      "Epoch 4\n",
      "Train: Accuracy: 75.36%, Stats loss: 53.082672 Result loss: 0.166420\n",
      "Test: Accuracy: 72.21%, Stats loss: 50.135898 Result loss: 0.177196\n",
      "Best Loss: 0.176675\n"
     ]
    }
   ],
   "source": [
    "train(tourney_train_loader, tourney_validation_loader, model, learning_rate=0.0001, full_loss=False)"
   ]
  },
  {
   "cell_type": "markdown",
   "id": "9bd8ba4d-cd61-4693-9cda-963ecca19c07",
   "metadata": {},
   "source": [
    "### Performance by year\n"
   ]
  },
  {
   "cell_type": "code",
   "execution_count": 12,
   "id": "fda1ddd2-af9c-4bed-9812-fc24e0c56d4d",
   "metadata": {},
   "outputs": [
    {
     "name": "stdout",
     "output_type": "stream",
     "text": [
      "2003 Tournament: Accuracy: 73.44%, Stats loss: 41.515386 Result loss: 0.175513\n",
      "2004 Tournament: Accuracy: 67.97%, Stats loss: 42.141219 Result loss: 0.193112\n",
      "2005 Tournament: Accuracy: 77.34%, Stats loss: 49.714191 Result loss: 0.170388\n",
      "2006 Tournament: Accuracy: 68.75%, Stats loss: 44.408278 Result loss: 0.203433\n",
      "2007 Tournament: Accuracy: 76.56%, Stats loss: 41.584393 Result loss: 0.169004\n",
      "2008 Tournament: Accuracy: 79.69%, Stats loss: 41.974294 Result loss: 0.167370\n",
      "2009 Tournament: Accuracy: 75.78%, Stats loss: 38.860264 Result loss: 0.160685\n",
      "2010 Tournament: Accuracy: 72.44%, Stats loss: 55.417293 Result loss: 0.170627\n",
      "2011 Tournament: Accuracy: 72.69%, Stats loss: 59.221989 Result loss: 0.171243\n",
      "2012 Tournament: Accuracy: 77.69%, Stats loss: 52.910825 Result loss: 0.152537\n",
      "2013 Tournament: Accuracy: 73.08%, Stats loss: 56.071231 Result loss: 0.180318\n",
      "2014 Tournament: Accuracy: 74.62%, Stats loss: 56.349579 Result loss: 0.167210\n",
      "2015 Tournament: Accuracy: 80.38%, Stats loss: 65.254587 Result loss: 0.145464\n",
      "2016 Tournament: Accuracy: 75.77%, Stats loss: 53.544326 Result loss: 0.172694\n",
      "2017 Tournament: Accuracy: 78.46%, Stats loss: 54.180707 Result loss: 0.153056\n",
      "2018 Tournament: Accuracy: 71.54%, Stats loss: 60.815256 Result loss: 0.181371\n",
      "2019 Tournament: Accuracy: 74.23%, Stats loss: 56.825546 Result loss: 0.154872\n",
      "2021 Tournament: Accuracy: 69.77%, Stats loss: 48.070262 Result loss: 0.184054\n",
      "2022 Tournament: Accuracy: 76.49%, Stats loss: 49.954767 Result loss: 0.169189\n",
      "2023 Tournament: Accuracy: 70.52%, Stats loss: 50.218371 Result loss: 0.186213\n",
      "2024 Tournament: Accuracy: 75.00%, Stats loss: 58.850688 Result loss: 0.166645\n"
     ]
    }
   ],
   "source": [
    "for season in dataset.tourney.Season.unique():\n",
    "    loader = dataset.tourney_data(year=season)\n",
    "    test(loader, model, device, label=f\"{season} Tournament\")"
   ]
  },
  {
   "cell_type": "code",
   "execution_count": 13,
   "id": "509da685-8b79-473b-83d8-74e9d47ebe72",
   "metadata": {},
   "outputs": [
    {
     "name": "stdout",
     "output_type": "stream",
     "text": [
      "Stage 1: Accuracy: 72.98%, Stats loss: 51.808393 Result loss: 0.176454\n"
     ]
    },
    {
     "data": {
      "text/plain": [
       "0.17645428783175324"
      ]
     },
     "execution_count": 13,
     "metadata": {},
     "output_type": "execute_result"
    }
   ],
   "source": [
    "stage1_loader = dataset.tourney_data(after=2021)\n",
    "test(stage1_loader, model, device=device, label=f\"Stage 1\")"
   ]
  },
  {
   "cell_type": "markdown",
   "id": "c6c2687e-5887-49ee-ab96-ae27a6f2bb8e",
   "metadata": {},
   "source": [
    "Breaking out by league"
   ]
  },
  {
   "cell_type": "code",
   "execution_count": 14,
   "id": "21b242b3-48af-4495-9605-08880cbc820c",
   "metadata": {},
   "outputs": [
    {
     "name": "stdout",
     "output_type": "stream",
     "text": [
      "2003 M Tournament: Accuracy: 73.44%, Stats loss: 41.515386 Result loss: 0.175513\n",
      "2004 M Tournament: Accuracy: 67.97%, Stats loss: 42.141219 Result loss: 0.193112\n",
      "2005 M Tournament: Accuracy: 77.34%, Stats loss: 49.714191 Result loss: 0.170388\n",
      "2006 M Tournament: Accuracy: 68.75%, Stats loss: 44.408278 Result loss: 0.203433\n",
      "2007 M Tournament: Accuracy: 76.56%, Stats loss: 41.584393 Result loss: 0.169004\n",
      "2008 M Tournament: Accuracy: 79.69%, Stats loss: 41.974294 Result loss: 0.167370\n",
      "2009 M Tournament: Accuracy: 75.78%, Stats loss: 38.860264 Result loss: 0.160685\n",
      "2010 M Tournament: Accuracy: 67.97%, Stats loss: 41.640482 Result loss: 0.199143\n",
      "2010 W Tournament: Accuracy: 76.98%, Stats loss: 69.412784 Result loss: 0.141658\n",
      "2011 M Tournament: Accuracy: 67.16%, Stats loss: 41.044958 Result loss: 0.212341\n",
      "2011 W Tournament: Accuracy: 78.57%, Stats loss: 78.553117 Result loss: 0.127536\n",
      "2012 M Tournament: Accuracy: 70.90%, Stats loss: 33.141167 Result loss: 0.185668\n",
      "2012 W Tournament: Accuracy: 84.92%, Stats loss: 73.935700 Result loss: 0.117302\n",
      "2013 M Tournament: Accuracy: 70.90%, Stats loss: 43.301003 Result loss: 0.206515\n",
      "2013 W Tournament: Accuracy: 75.40%, Stats loss: 69.652267 Result loss: 0.152457\n",
      "2014 M Tournament: Accuracy: 66.42%, Stats loss: 36.639378 Result loss: 0.208596\n",
      "2014 W Tournament: Accuracy: 83.33%, Stats loss: 77.311222 Result loss: 0.123196\n",
      "2015 M Tournament: Accuracy: 77.61%, Stats loss: 42.106584 Result loss: 0.165281\n",
      "2015 W Tournament: Accuracy: 83.33%, Stats loss: 89.872305 Result loss: 0.124388\n",
      "2016 M Tournament: Accuracy: 75.37%, Stats loss: 37.787654 Result loss: 0.186109\n",
      "2016 W Tournament: Accuracy: 76.19%, Stats loss: 70.301422 Result loss: 0.158429\n",
      "2017 M Tournament: Accuracy: 74.63%, Stats loss: 37.880859 Result loss: 0.166036\n",
      "2017 W Tournament: Accuracy: 82.54%, Stats loss: 71.515466 Result loss: 0.139251\n",
      "2018 M Tournament: Accuracy: 67.91%, Stats loss: 43.439905 Result loss: 0.202739\n",
      "2018 W Tournament: Accuracy: 75.40%, Stats loss: 79.293803 Result loss: 0.158646\n",
      "2019 M Tournament: Accuracy: 67.91%, Stats loss: 42.829261 Result loss: 0.179193\n",
      "2019 W Tournament: Accuracy: 80.95%, Stats loss: 71.710485 Result loss: 0.129006\n",
      "2021 M Tournament: Accuracy: 62.88%, Stats loss: 39.394737 Result loss: 0.216454\n",
      "2021 W Tournament: Accuracy: 76.98%, Stats loss: 57.158908 Result loss: 0.150111\n",
      "2022 M Tournament: Accuracy: 72.39%, Stats loss: 41.164826 Result loss: 0.195190\n",
      "2022 W Tournament: Accuracy: 80.60%, Stats loss: 58.744708 Result loss: 0.143188\n",
      "2023 M Tournament: Accuracy: 65.67%, Stats loss: 34.772138 Result loss: 0.204188\n",
      "2023 W Tournament: Accuracy: 75.37%, Stats loss: 65.664605 Result loss: 0.168237\n",
      "2024 M Tournament: Accuracy: 73.13%, Stats loss: 51.972149 Result loss: 0.191946\n",
      "2024 W Tournament: Accuracy: 76.87%, Stats loss: 65.729227 Result loss: 0.141344\n"
     ]
    }
   ],
   "source": [
    "for season in dataset.tourney.Season.unique():\n",
    "    for league in dataset.tourney[dataset.tourney.Season == season].League.unique():\n",
    "        loader = dataset.tourney_data(year=season, league=league)\n",
    "        test(loader, model, device, label=f\"{season} {league} Tournament\")"
   ]
  },
  {
   "cell_type": "markdown",
   "id": "9e8e259c-bcf2-43bd-a478-acbd02ef7b24",
   "metadata": {},
   "source": [
    "## Inspect the model\n",
    "First what are the sizes of the smallest input and output weights"
   ]
  },
  {
   "cell_type": "code",
   "execution_count": 15,
   "id": "f7a94e95-ac8a-4a7c-a148-d6aa4dfa6f6a",
   "metadata": {
    "scrolled": true
   },
   "outputs": [
    {
     "name": "stdout",
     "output_type": "stream",
     "text": [
      "Program embedding min: 2.469010\n",
      "Team embedding min: 3.898871\n",
      "FC min: 0.000035\n"
     ]
    }
   ],
   "source": [
    "print(f\"Program embedding min: {model.program_embedding.state_dict()['weight'].abs().max(axis=0).values.min().item():>8f}\")\n",
    "print(f\"Team embedding min: {model.team_embedding.state_dict()['weight'].abs().max(axis=0).values.min().item():>8f}\")\n",
    "print(f\"FC min: {model.result_fc.state_dict()['weight'].abs().max(axis=0).values.min().item():>8f}\")"
   ]
  },
  {
   "cell_type": "markdown",
   "id": "ff1e4997-5ee2-40d3-b7ab-28e722b20e84",
   "metadata": {},
   "source": [
    "Calculate the average gradient for each input feature"
   ]
  },
  {
   "cell_type": "code",
   "execution_count": 16,
   "id": "57673837-e393-4a99-896e-af251d18c8d0",
   "metadata": {},
   "outputs": [],
   "source": [
    "for param in model.team_embedding.parameters():\n",
    "    param.requires_grad=True\n",
    "for param in model.program_embedding.parameters():\n",
    "    param.requires_grad=True"
   ]
  },
  {
   "cell_type": "code",
   "execution_count": 17,
   "id": "1e25e971-f8cc-47df-9e5f-d15de0441bcc",
   "metadata": {},
   "outputs": [],
   "source": [
    "program_weights, team_weights, stats_weights = feature_eval(model, tourney_loader)"
   ]
  },
  {
   "cell_type": "code",
   "execution_count": 18,
   "id": "6aeb3583-a9f4-4e04-b040-5194d7000441",
   "metadata": {},
   "outputs": [
    {
     "data": {
      "text/plain": [
       "(0.00707292091101408, 0.002075385767966509)"
      ]
     },
     "execution_count": 18,
     "metadata": {},
     "output_type": "execute_result"
    }
   ],
   "source": [
    "program_weights.abs().sum().item(), team_weights.abs().sum().item()"
   ]
  },
  {
   "cell_type": "code",
   "execution_count": 19,
   "id": "f47b2ee6-c1ab-4741-b959-883fd51e0c89",
   "metadata": {},
   "outputs": [
    {
     "name": "stdout",
     "output_type": "stream",
     "text": [
      "Year:\t-0.000641\n",
      "Game:\t-0.001509\n",
      "League:\t0.161647\n"
     ]
    }
   ],
   "source": [
    "print(f\"Year:\\t{stats_weights[0]:>4f}\")\n",
    "print(f\"Game:\\t{stats_weights[1]:>4f}\")\n",
    "print(f\"League:\\t{stats_weights[2]:>4f}\")"
   ]
  },
  {
   "cell_type": "markdown",
   "id": "e4afd4bc-a7fc-43bd-a1b6-1b37a85f8f79",
   "metadata": {},
   "source": [
    "## Generating the submission file\n",
    "### Phase 2\n",
    "\n",
    "Write the results"
   ]
  },
  {
   "cell_type": "code",
   "execution_count": 20,
   "id": "5fab9e75-36e9-47a4-826f-42c9588de50f",
   "metadata": {},
   "outputs": [],
   "source": [
    "odds = model_odds(dataset, 2025, 'M', model)"
   ]
  },
  {
   "cell_type": "code",
   "execution_count": 21,
   "id": "aa73ccc9-58fb-4142-a558-cf8c79ae0ac5",
   "metadata": {
    "scrolled": true
   },
   "outputs": [],
   "source": [
    "gen_submission(model, dataset)"
   ]
  },
  {
   "cell_type": "markdown",
   "id": "38e3b7d8-88d5-4f18-aad2-ce4ede2941f9",
   "metadata": {},
   "source": [
    "## Save the model"
   ]
  },
  {
   "cell_type": "code",
   "execution_count": 22,
   "id": "5da7e66a-9601-40f4-bec7-7aef34b5f229",
   "metadata": {},
   "outputs": [],
   "source": [
    "torch.save(model.state_dict(), 'model.pth')"
   ]
  },
  {
   "cell_type": "markdown",
   "id": "667cb6e9-8b1f-459c-be76-f61f39b30f49",
   "metadata": {},
   "source": [
    "## Moderated model\n",
    "\n",
    "Moderate a model by pushing it towards 0.5"
   ]
  },
  {
   "cell_type": "code",
   "execution_count": 23,
   "id": "e18455d2-3fa2-480b-a776-c7fd35255c8f",
   "metadata": {},
   "outputs": [],
   "source": [
    "moderated = ModeratedModel(model, 0.75)"
   ]
  },
  {
   "cell_type": "code",
   "execution_count": 24,
   "id": "215a1a7b-ae81-4bf7-8b61-12f2af6e532f",
   "metadata": {
    "scrolled": true
   },
   "outputs": [
    {
     "name": "stdout",
     "output_type": "stream",
     "text": [
      "2003 Tournament: Accuracy: 73.44%, Stats loss: 99.852550 Result loss: 0.175513\n",
      "2004 Tournament: Accuracy: 67.97%, Stats loss: 92.603881 Result loss: 0.193112\n",
      "2005 Tournament: Accuracy: 77.34%, Stats loss: 101.214382 Result loss: 0.170388\n",
      "2006 Tournament: Accuracy: 68.75%, Stats loss: 95.639798 Result loss: 0.203433\n",
      "2007 Tournament: Accuracy: 76.56%, Stats loss: 99.113837 Result loss: 0.169004\n",
      "2008 Tournament: Accuracy: 79.69%, Stats loss: 94.479729 Result loss: 0.167370\n",
      "2009 Tournament: Accuracy: 75.78%, Stats loss: 98.087652 Result loss: 0.160685\n",
      "2010 Tournament: Accuracy: 72.44%, Stats loss: 93.392190 Result loss: 0.170627\n",
      "2011 Tournament: Accuracy: 72.69%, Stats loss: 92.231896 Result loss: 0.171243\n",
      "2012 Tournament: Accuracy: 77.69%, Stats loss: 89.471828 Result loss: 0.152537\n",
      "2013 Tournament: Accuracy: 73.08%, Stats loss: 91.853646 Result loss: 0.180318\n",
      "2014 Tournament: Accuracy: 74.62%, Stats loss: 96.466534 Result loss: 0.167210\n",
      "2015 Tournament: Accuracy: 80.38%, Stats loss: 101.154665 Result loss: 0.145464\n",
      "2016 Tournament: Accuracy: 75.77%, Stats loss: 98.897435 Result loss: 0.172694\n",
      "2017 Tournament: Accuracy: 78.46%, Stats loss: 104.955908 Result loss: 0.153056\n",
      "2018 Tournament: Accuracy: 71.54%, Stats loss: 111.428408 Result loss: 0.181371\n",
      "2019 Tournament: Accuracy: 74.23%, Stats loss: 105.666632 Result loss: 0.154872\n",
      "2021 Tournament: Accuracy: 69.77%, Stats loss: 85.183250 Result loss: 0.184054\n",
      "2022 Tournament: Accuracy: 76.49%, Stats loss: 98.334057 Result loss: 0.169189\n",
      "2023 Tournament: Accuracy: 70.52%, Stats loss: 92.166639 Result loss: 0.186213\n",
      "2024 Tournament: Accuracy: 75.00%, Stats loss: 106.781194 Result loss: 0.166645\n"
     ]
    }
   ],
   "source": [
    "for season in dataset.tourney.Season.unique():\n",
    "    loader = dataset.tourney_data(season)\n",
    "    test(loader, moderated, label=f\"{season} Tournament\")"
   ]
  },
  {
   "cell_type": "markdown",
   "id": "2ecee29c-6762-463a-89ca-ee49dc3e72db",
   "metadata": {},
   "source": [
    "## Dig into 2023 results"
   ]
  },
  {
   "cell_type": "code",
   "execution_count": 25,
   "id": "cec1416b-ee18-4730-8210-6563239edd23",
   "metadata": {},
   "outputs": [],
   "source": [
    "loader = dataset.tourney_data(2023)\n",
    "\n",
    "x, y = loader.dataset.tensors\n",
    "\n",
    "preds = model(x.to(device))"
   ]
  },
  {
   "cell_type": "code",
   "execution_count": 26,
   "id": "86c62b6c-434f-4f23-84fe-0f227ab6f4c2",
   "metadata": {},
   "outputs": [],
   "source": [
    "t_2023 = pd.DataFrame({'winner_name': [dataset.all_teams.loc[dataset.programs.loc[i].TeamID].TeamName for i in x[:,0].tolist()],\n",
    "                       'loser_name': [dataset.all_teams.loc[dataset.programs.loc[i].TeamID].TeamName for i in x[:,2].tolist()],\n",
    "                       'winner': [dataset.programs.loc[i].TeamID for i in x[:,0].tolist()],\n",
    "                       'loser': [dataset.programs.loc[i].TeamID for i in x[:,2].tolist()],\n",
    "                       'actual': y[:,0].reshape([-1]),\n",
    "                       'predicted': np.array(preds[0].tolist()).reshape([-1])}).iloc[:67]"
   ]
  },
  {
   "cell_type": "code",
   "execution_count": 27,
   "id": "aa17e8a0-ac98-415b-9cb6-d2fc251de985",
   "metadata": {
    "scrolled": true
   },
   "outputs": [
    {
     "data": {
      "text/html": [
       "<div>\n",
       "<style scoped>\n",
       "    .dataframe tbody tr th:only-of-type {\n",
       "        vertical-align: middle;\n",
       "    }\n",
       "\n",
       "    .dataframe tbody tr th {\n",
       "        vertical-align: top;\n",
       "    }\n",
       "\n",
       "    .dataframe thead th {\n",
       "        text-align: right;\n",
       "    }\n",
       "</style>\n",
       "<table border=\"1\" class=\"dataframe\">\n",
       "  <thead>\n",
       "    <tr style=\"text-align: right;\">\n",
       "      <th></th>\n",
       "      <th>winner_name</th>\n",
       "      <th>loser_name</th>\n",
       "      <th>winner</th>\n",
       "      <th>loser</th>\n",
       "      <th>actual</th>\n",
       "      <th>predicted</th>\n",
       "    </tr>\n",
       "  </thead>\n",
       "  <tbody>\n",
       "    <tr>\n",
       "      <th>23</th>\n",
       "      <td>F Dickinson</td>\n",
       "      <td>Purdue</td>\n",
       "      <td>1192</td>\n",
       "      <td>1345</td>\n",
       "      <td>1.0</td>\n",
       "      <td>0.052146</td>\n",
       "    </tr>\n",
       "    <tr>\n",
       "      <th>15</th>\n",
       "      <td>Princeton</td>\n",
       "      <td>Arizona</td>\n",
       "      <td>1343</td>\n",
       "      <td>1112</td>\n",
       "      <td>1.0</td>\n",
       "      <td>0.154607</td>\n",
       "    </tr>\n",
       "    <tr>\n",
       "      <th>8</th>\n",
       "      <td>Furman</td>\n",
       "      <td>Virginia</td>\n",
       "      <td>1202</td>\n",
       "      <td>1438</td>\n",
       "      <td>1.0</td>\n",
       "      <td>0.154886</td>\n",
       "    </tr>\n",
       "    <tr>\n",
       "      <th>53</th>\n",
       "      <td>FL Atlantic</td>\n",
       "      <td>Tennessee</td>\n",
       "      <td>1194</td>\n",
       "      <td>1397</td>\n",
       "      <td>1.0</td>\n",
       "      <td>0.282018</td>\n",
       "    </tr>\n",
       "    <tr>\n",
       "      <th>39</th>\n",
       "      <td>Princeton</td>\n",
       "      <td>Missouri</td>\n",
       "      <td>1343</td>\n",
       "      <td>1281</td>\n",
       "      <td>1.0</td>\n",
       "      <td>0.286480</td>\n",
       "    </tr>\n",
       "    <tr>\n",
       "      <th>37</th>\n",
       "      <td>Arkansas</td>\n",
       "      <td>Kansas</td>\n",
       "      <td>1116</td>\n",
       "      <td>1242</td>\n",
       "      <td>1.0</td>\n",
       "      <td>0.310562</td>\n",
       "    </tr>\n",
       "    <tr>\n",
       "      <th>58</th>\n",
       "      <td>San Diego St</td>\n",
       "      <td>Alabama</td>\n",
       "      <td>1361</td>\n",
       "      <td>1104</td>\n",
       "      <td>1.0</td>\n",
       "      <td>0.313391</td>\n",
       "    </tr>\n",
       "    <tr>\n",
       "      <th>57</th>\n",
       "      <td>Miami FL</td>\n",
       "      <td>Houston</td>\n",
       "      <td>1274</td>\n",
       "      <td>1222</td>\n",
       "      <td>1.0</td>\n",
       "      <td>0.360942</td>\n",
       "    </tr>\n",
       "    <tr>\n",
       "      <th>63</th>\n",
       "      <td>San Diego St</td>\n",
       "      <td>Creighton</td>\n",
       "      <td>1361</td>\n",
       "      <td>1166</td>\n",
       "      <td>1.0</td>\n",
       "      <td>0.370548</td>\n",
       "    </tr>\n",
       "    <tr>\n",
       "      <th>32</th>\n",
       "      <td>Pittsburgh</td>\n",
       "      <td>Iowa St</td>\n",
       "      <td>1338</td>\n",
       "      <td>1235</td>\n",
       "      <td>1.0</td>\n",
       "      <td>0.391482</td>\n",
       "    </tr>\n",
       "    <tr>\n",
       "      <th>62</th>\n",
       "      <td>Miami FL</td>\n",
       "      <td>Texas</td>\n",
       "      <td>1274</td>\n",
       "      <td>1400</td>\n",
       "      <td>1.0</td>\n",
       "      <td>0.437251</td>\n",
       "    </tr>\n",
       "    <tr>\n",
       "      <th>14</th>\n",
       "      <td>Penn St</td>\n",
       "      <td>Texas A&amp;M</td>\n",
       "      <td>1336</td>\n",
       "      <td>1401</td>\n",
       "      <td>1.0</td>\n",
       "      <td>0.447032</td>\n",
       "    </tr>\n",
       "    <tr>\n",
       "      <th>49</th>\n",
       "      <td>Miami FL</td>\n",
       "      <td>Indiana</td>\n",
       "      <td>1274</td>\n",
       "      <td>1231</td>\n",
       "      <td>1.0</td>\n",
       "      <td>0.453301</td>\n",
       "    </tr>\n",
       "    <tr>\n",
       "      <th>61</th>\n",
       "      <td>FL Atlantic</td>\n",
       "      <td>Kansas St</td>\n",
       "      <td>1194</td>\n",
       "      <td>1243</td>\n",
       "      <td>1.0</td>\n",
       "      <td>0.455496</td>\n",
       "    </tr>\n",
       "    <tr>\n",
       "      <th>5</th>\n",
       "      <td>Arkansas</td>\n",
       "      <td>Illinois</td>\n",
       "      <td>1116</td>\n",
       "      <td>1228</td>\n",
       "      <td>1.0</td>\n",
       "      <td>0.457721</td>\n",
       "    </tr>\n",
       "    <tr>\n",
       "      <th>6</th>\n",
       "      <td>Auburn</td>\n",
       "      <td>Iowa</td>\n",
       "      <td>1120</td>\n",
       "      <td>1234</td>\n",
       "      <td>1.0</td>\n",
       "      <td>0.460632</td>\n",
       "    </tr>\n",
       "    <tr>\n",
       "      <th>50</th>\n",
       "      <td>Michigan St</td>\n",
       "      <td>Marquette</td>\n",
       "      <td>1277</td>\n",
       "      <td>1266</td>\n",
       "      <td>1.0</td>\n",
       "      <td>0.462163</td>\n",
       "    </tr>\n",
       "    <tr>\n",
       "      <th>54</th>\n",
       "      <td>Gonzaga</td>\n",
       "      <td>UCLA</td>\n",
       "      <td>1211</td>\n",
       "      <td>1417</td>\n",
       "      <td>1.0</td>\n",
       "      <td>0.466726</td>\n",
       "    </tr>\n",
       "    <tr>\n",
       "      <th>12</th>\n",
       "      <td>Missouri</td>\n",
       "      <td>Utah St</td>\n",
       "      <td>1281</td>\n",
       "      <td>1429</td>\n",
       "      <td>1.0</td>\n",
       "      <td>0.472966</td>\n",
       "    </tr>\n",
       "    <tr>\n",
       "      <th>59</th>\n",
       "      <td>Texas</td>\n",
       "      <td>Xavier</td>\n",
       "      <td>1400</td>\n",
       "      <td>1462</td>\n",
       "      <td>1.0</td>\n",
       "      <td>0.475819</td>\n",
       "    </tr>\n",
       "    <tr>\n",
       "      <th>48</th>\n",
       "      <td>Kansas St</td>\n",
       "      <td>Kentucky</td>\n",
       "      <td>1243</td>\n",
       "      <td>1246</td>\n",
       "      <td>1.0</td>\n",
       "      <td>0.479989</td>\n",
       "    </tr>\n",
       "    <tr>\n",
       "      <th>11</th>\n",
       "      <td>Maryland</td>\n",
       "      <td>West Virginia</td>\n",
       "      <td>1268</td>\n",
       "      <td>1452</td>\n",
       "      <td>1.0</td>\n",
       "      <td>0.481532</td>\n",
       "    </tr>\n",
       "    <tr>\n",
       "      <th>28</th>\n",
       "      <td>Kentucky</td>\n",
       "      <td>Providence</td>\n",
       "      <td>1246</td>\n",
       "      <td>1344</td>\n",
       "      <td>1.0</td>\n",
       "      <td>0.485881</td>\n",
       "    </tr>\n",
       "    <tr>\n",
       "      <th>24</th>\n",
       "      <td>FL Atlantic</td>\n",
       "      <td>Memphis</td>\n",
       "      <td>1194</td>\n",
       "      <td>1272</td>\n",
       "      <td>1.0</td>\n",
       "      <td>0.499351</td>\n",
       "    </tr>\n",
       "  </tbody>\n",
       "</table>\n",
       "</div>"
      ],
      "text/plain": [
       "     winner_name     loser_name  winner  loser  actual  predicted\n",
       "23   F Dickinson         Purdue    1192   1345     1.0   0.052146\n",
       "15     Princeton        Arizona    1343   1112     1.0   0.154607\n",
       "8         Furman       Virginia    1202   1438     1.0   0.154886\n",
       "53   FL Atlantic      Tennessee    1194   1397     1.0   0.282018\n",
       "39     Princeton       Missouri    1343   1281     1.0   0.286480\n",
       "37      Arkansas         Kansas    1116   1242     1.0   0.310562\n",
       "58  San Diego St        Alabama    1361   1104     1.0   0.313391\n",
       "57      Miami FL        Houston    1274   1222     1.0   0.360942\n",
       "63  San Diego St      Creighton    1361   1166     1.0   0.370548\n",
       "32    Pittsburgh        Iowa St    1338   1235     1.0   0.391482\n",
       "62      Miami FL          Texas    1274   1400     1.0   0.437251\n",
       "14       Penn St      Texas A&M    1336   1401     1.0   0.447032\n",
       "49      Miami FL        Indiana    1274   1231     1.0   0.453301\n",
       "61   FL Atlantic      Kansas St    1194   1243     1.0   0.455496\n",
       "5       Arkansas       Illinois    1116   1228     1.0   0.457721\n",
       "6         Auburn           Iowa    1120   1234     1.0   0.460632\n",
       "50   Michigan St      Marquette    1277   1266     1.0   0.462163\n",
       "54       Gonzaga           UCLA    1211   1417     1.0   0.466726\n",
       "12      Missouri        Utah St    1281   1429     1.0   0.472966\n",
       "59         Texas         Xavier    1400   1462     1.0   0.475819\n",
       "48     Kansas St       Kentucky    1243   1246     1.0   0.479989\n",
       "11      Maryland  West Virginia    1268   1452     1.0   0.481532\n",
       "28      Kentucky     Providence    1246   1344     1.0   0.485881\n",
       "24   FL Atlantic        Memphis    1194   1272     1.0   0.499351"
      ]
     },
     "execution_count": 27,
     "metadata": {},
     "output_type": "execute_result"
    }
   ],
   "source": [
    "t_2023[t_2023.predicted < 0.5].sort_values('predicted')"
   ]
  },
  {
   "cell_type": "markdown",
   "id": "9f5eb023-fa68-46e5-821f-b9661a988cbe",
   "metadata": {},
   "source": [
    "The biggest thing in this season were the huge upsets in the first round. Purdue was a number one seed and lost which I only gave a .4% chance to happen. Arizona and Virginia were number 2 seeds and lost which I gave 7% and 15% chances of happening respectively."
   ]
  },
  {
   "cell_type": "code",
   "execution_count": 28,
   "id": "28663437-2134-48e8-938f-d40fd2666b7f",
   "metadata": {
    "scrolled": true
   },
   "outputs": [],
   "source": [
    "t_2023['Upset'] = [dataset.upset(2023, winner, loser) for (winner, loser) in zip(t_2023['winner'], t_2023['loser'])]"
   ]
  },
  {
   "cell_type": "code",
   "execution_count": 29,
   "id": "eb00c98a-b6a7-441f-be09-224ad947f71a",
   "metadata": {},
   "outputs": [
    {
     "data": {
      "text/plain": [
       "np.float64(0.3718946044226497)"
      ]
     },
     "execution_count": 29,
     "metadata": {},
     "output_type": "execute_result"
    }
   ],
   "source": [
    "t_2023[t_2023.Upset].predicted.mean()"
   ]
  },
  {
   "cell_type": "markdown",
   "id": "b9c017c5-060c-4478-82b2-4a22bd38a3d8",
   "metadata": {},
   "source": [
    "On average the upsets had a 32% chance of happening"
   ]
  },
  {
   "cell_type": "code",
   "execution_count": 30,
   "id": "2df5dc30-0780-4864-bf1d-25a462985a89",
   "metadata": {},
   "outputs": [
    {
     "data": {
      "text/html": [
       "<div>\n",
       "<style scoped>\n",
       "    .dataframe tbody tr th:only-of-type {\n",
       "        vertical-align: middle;\n",
       "    }\n",
       "\n",
       "    .dataframe tbody tr th {\n",
       "        vertical-align: top;\n",
       "    }\n",
       "\n",
       "    .dataframe thead th {\n",
       "        text-align: right;\n",
       "    }\n",
       "</style>\n",
       "<table border=\"1\" class=\"dataframe\">\n",
       "  <thead>\n",
       "    <tr style=\"text-align: right;\">\n",
       "      <th></th>\n",
       "      <th>winner_name</th>\n",
       "      <th>loser_name</th>\n",
       "      <th>winner</th>\n",
       "      <th>loser</th>\n",
       "      <th>actual</th>\n",
       "      <th>predicted</th>\n",
       "      <th>Upset</th>\n",
       "    </tr>\n",
       "  </thead>\n",
       "  <tbody>\n",
       "    <tr>\n",
       "      <th>45</th>\n",
       "      <td>Creighton</td>\n",
       "      <td>Baylor</td>\n",
       "      <td>1166</td>\n",
       "      <td>1124</td>\n",
       "      <td>1.0</td>\n",
       "      <td>0.539444</td>\n",
       "      <td>True</td>\n",
       "    </tr>\n",
       "    <tr>\n",
       "      <th>60</th>\n",
       "      <td>Connecticut</td>\n",
       "      <td>Gonzaga</td>\n",
       "      <td>1163</td>\n",
       "      <td>1211</td>\n",
       "      <td>1.0</td>\n",
       "      <td>0.538088</td>\n",
       "      <td>True</td>\n",
       "    </tr>\n",
       "  </tbody>\n",
       "</table>\n",
       "</div>"
      ],
      "text/plain": [
       "    winner_name loser_name  winner  loser  actual  predicted  Upset\n",
       "45    Creighton     Baylor    1166   1124     1.0   0.539444   True\n",
       "60  Connecticut    Gonzaga    1163   1211     1.0   0.538088   True"
      ]
     },
     "execution_count": 30,
     "metadata": {},
     "output_type": "execute_result"
    }
   ],
   "source": [
    "t_2023[t_2023.Upset & (t_2023.predicted >= 0.5)].sort_values('predicted', ascending=False)"
   ]
  },
  {
   "cell_type": "markdown",
   "id": "311a0984-fa4f-408e-9a66-4f90296c8a1c",
   "metadata": {},
   "source": [
    "I correctly predicted 2 upsets, though all were closely ranked"
   ]
  },
  {
   "cell_type": "code",
   "execution_count": 31,
   "id": "260a480d-a8d9-4e6d-a25b-d5358ddbd591",
   "metadata": {},
   "outputs": [
    {
     "data": {
      "text/html": [
       "<div>\n",
       "<style scoped>\n",
       "    .dataframe tbody tr th:only-of-type {\n",
       "        vertical-align: middle;\n",
       "    }\n",
       "\n",
       "    .dataframe tbody tr th {\n",
       "        vertical-align: top;\n",
       "    }\n",
       "\n",
       "    .dataframe thead th {\n",
       "        text-align: right;\n",
       "    }\n",
       "</style>\n",
       "<table border=\"1\" class=\"dataframe\">\n",
       "  <thead>\n",
       "    <tr style=\"text-align: right;\">\n",
       "      <th></th>\n",
       "      <th>winner_name</th>\n",
       "      <th>loser_name</th>\n",
       "      <th>winner</th>\n",
       "      <th>loser</th>\n",
       "      <th>actual</th>\n",
       "      <th>predicted</th>\n",
       "      <th>Upset</th>\n",
       "    </tr>\n",
       "  </thead>\n",
       "  <tbody>\n",
       "    <tr>\n",
       "      <th>63</th>\n",
       "      <td>San Diego St</td>\n",
       "      <td>Creighton</td>\n",
       "      <td>1361</td>\n",
       "      <td>1166</td>\n",
       "      <td>1.0</td>\n",
       "      <td>0.370548</td>\n",
       "      <td>False</td>\n",
       "    </tr>\n",
       "    <tr>\n",
       "      <th>5</th>\n",
       "      <td>Arkansas</td>\n",
       "      <td>Illinois</td>\n",
       "      <td>1116</td>\n",
       "      <td>1228</td>\n",
       "      <td>1.0</td>\n",
       "      <td>0.457721</td>\n",
       "      <td>False</td>\n",
       "    </tr>\n",
       "    <tr>\n",
       "      <th>12</th>\n",
       "      <td>Missouri</td>\n",
       "      <td>Utah St</td>\n",
       "      <td>1281</td>\n",
       "      <td>1429</td>\n",
       "      <td>1.0</td>\n",
       "      <td>0.472966</td>\n",
       "      <td>False</td>\n",
       "    </tr>\n",
       "    <tr>\n",
       "      <th>59</th>\n",
       "      <td>Texas</td>\n",
       "      <td>Xavier</td>\n",
       "      <td>1400</td>\n",
       "      <td>1462</td>\n",
       "      <td>1.0</td>\n",
       "      <td>0.475819</td>\n",
       "      <td>False</td>\n",
       "    </tr>\n",
       "    <tr>\n",
       "      <th>48</th>\n",
       "      <td>Kansas St</td>\n",
       "      <td>Kentucky</td>\n",
       "      <td>1243</td>\n",
       "      <td>1246</td>\n",
       "      <td>1.0</td>\n",
       "      <td>0.479989</td>\n",
       "      <td>False</td>\n",
       "    </tr>\n",
       "    <tr>\n",
       "      <th>11</th>\n",
       "      <td>Maryland</td>\n",
       "      <td>West Virginia</td>\n",
       "      <td>1268</td>\n",
       "      <td>1452</td>\n",
       "      <td>1.0</td>\n",
       "      <td>0.481532</td>\n",
       "      <td>False</td>\n",
       "    </tr>\n",
       "    <tr>\n",
       "      <th>28</th>\n",
       "      <td>Kentucky</td>\n",
       "      <td>Providence</td>\n",
       "      <td>1246</td>\n",
       "      <td>1344</td>\n",
       "      <td>1.0</td>\n",
       "      <td>0.485881</td>\n",
       "      <td>False</td>\n",
       "    </tr>\n",
       "  </tbody>\n",
       "</table>\n",
       "</div>"
      ],
      "text/plain": [
       "     winner_name     loser_name  winner  loser  actual  predicted  Upset\n",
       "63  San Diego St      Creighton    1361   1166     1.0   0.370548  False\n",
       "5       Arkansas       Illinois    1116   1228     1.0   0.457721  False\n",
       "12      Missouri        Utah St    1281   1429     1.0   0.472966  False\n",
       "59         Texas         Xavier    1400   1462     1.0   0.475819  False\n",
       "48     Kansas St       Kentucky    1243   1246     1.0   0.479989  False\n",
       "11      Maryland  West Virginia    1268   1452     1.0   0.481532  False\n",
       "28      Kentucky     Providence    1246   1344     1.0   0.485881  False"
      ]
     },
     "execution_count": 31,
     "metadata": {},
     "output_type": "execute_result"
    }
   ],
   "source": [
    "t_2023[~t_2023.Upset & (t_2023.predicted < 0.5)].sort_values('predicted')"
   ]
  },
  {
   "cell_type": "markdown",
   "id": "25b225a9-822d-417d-bf83-e329ec0c2020",
   "metadata": {},
   "source": [
    "I also incorrectly predicted 4 upsets"
   ]
  },
  {
   "cell_type": "markdown",
   "id": "40bd0e20-15ce-42b8-aaf3-b07965ccb410",
   "metadata": {},
   "source": [
    "Looking at all the tourneys"
   ]
  },
  {
   "cell_type": "code",
   "execution_count": 32,
   "id": "e081fd5c-52cb-483a-90d1-3b65039e2857",
   "metadata": {},
   "outputs": [],
   "source": [
    "x, y = tourney_loader.dataset.tensors\n",
    "preds = model(x.to(device))\n",
    "tourney_df = pd.DataFrame({'season': x[:,4].tolist(),\n",
    "                           'winner_name': [dataset.all_teams.loc[dataset.programs.loc[i].TeamID].TeamName for i in x[:,0].tolist()],\n",
    "                           'loser_name': [dataset.all_teams.loc[dataset.programs.loc[i].TeamID].TeamName for i in x[:,2].tolist()],\n",
    "                           'winner': [dataset.programs.loc[i].TeamID for i in x[:,0].tolist()],\n",
    "                           'loser': [dataset.programs.loc[i].TeamID for i in x[:,2].tolist()],\n",
    "                           'actual': y[:,0].reshape([-1]),\n",
    "                           'predicted': np.array(preds[0].tolist()).reshape([-1])})\n",
    "tourney_df = tourney_df[tourney_df.actual == 1.0]\n",
    "tourney_df['Upset'] = [dataset.upset(season, winner, loser) for (winner, loser, season)\n",
    "                       in zip(tourney_df['winner'], tourney_df['loser'], tourney_df['season'])]"
   ]
  },
  {
   "cell_type": "code",
   "execution_count": 33,
   "id": "f5ab6d89-db40-499b-a6c2-7823c13fdfc9",
   "metadata": {},
   "outputs": [
    {
     "data": {
      "text/plain": [
       "24"
      ]
     },
     "execution_count": 33,
     "metadata": {},
     "output_type": "execute_result"
    }
   ],
   "source": [
    "len(tourney_df[tourney_df.Upset & (tourney_df.predicted >= 0.5) & (tourney_df.season > 2020)].sort_values('predicted', ascending=False))"
   ]
  },
  {
   "cell_type": "code",
   "execution_count": 34,
   "id": "7f614719-0380-4eea-aea1-6d6730329208",
   "metadata": {},
   "outputs": [
    {
     "data": {
      "text/plain": [
       "42"
      ]
     },
     "execution_count": 34,
     "metadata": {},
     "output_type": "execute_result"
    }
   ],
   "source": [
    "len(tourney_df[~tourney_df.Upset & (tourney_df.predicted < 0.5) & (tourney_df.season > 2020)].sort_values('predicted'))"
   ]
  },
  {
   "cell_type": "markdown",
   "id": "121a8c8b-3e75-4455-940a-b59d2e742175",
   "metadata": {},
   "source": [
    "Overall I predicted 19 upsets correctly, and 30 incorrectly"
   ]
  },
  {
   "cell_type": "markdown",
   "id": "11f41c41-df65-47ff-a6e5-ddfd3a274cb5",
   "metadata": {},
   "source": [
    "## Predicting by seeds\n",
    "What if I predict just using the seeds?"
   ]
  },
  {
   "cell_type": "code",
   "execution_count": 35,
   "id": "71e280ae-4aba-46d0-9d98-3cfdfada40b5",
   "metadata": {},
   "outputs": [],
   "source": [
    "odds = dataset.odds_by_seed_diff(before=2021)"
   ]
  },
  {
   "cell_type": "code",
   "execution_count": 36,
   "id": "a7388d50-2810-4bbe-8938-3a2f1db41e41",
   "metadata": {
    "scrolled": true
   },
   "outputs": [
    {
     "data": {
      "text/plain": [
       "np.float64(0.18527460145235355)"
      ]
     },
     "execution_count": 36,
     "metadata": {},
     "output_type": "execute_result"
    }
   ],
   "source": [
    "dataset.tourney_df(after=2021).SeedDiff.map(lambda x: odds[x]**2).mean()"
   ]
  },
  {
   "cell_type": "markdown",
   "id": "cfb055ef-ea46-4543-bffb-f1e6082797b1",
   "metadata": {},
   "source": [
    "This results in a test Brier score of about 0.185."
   ]
  },
  {
   "cell_type": "markdown",
   "id": "fbbc2c9a-6d4b-4848-9f9d-2f924fdccc70",
   "metadata": {},
   "source": [
    "## Hybrid Model\n",
    "Building a model using the neural net and seeds"
   ]
  },
  {
   "cell_type": "code",
   "execution_count": 37,
   "id": "3b9fd541-e152-4173-a518-0ccb8470e755",
   "metadata": {},
   "outputs": [
    {
     "name": "stdout",
     "output_type": "stream",
     "text": [
      "Seeds: Accuracy: 72.22%, Stats loss: 821.501009 Result loss: 0.182851\n"
     ]
    },
    {
     "data": {
      "text/plain": [
       "0.1828505115610905"
      ]
     },
     "execution_count": 37,
     "metadata": {},
     "output_type": "execute_result"
    }
   ],
   "source": [
    "seed_model = SeedModel(dataset, after=2021)\n",
    "test(stage1_loader, seed_model, label=f\"Seeds\")"
   ]
  },
  {
   "cell_type": "code",
   "execution_count": 38,
   "id": "2a180204-1fb0-4ec6-85dd-58ac8ae34929",
   "metadata": {},
   "outputs": [
    {
     "name": "stdout",
     "output_type": "stream",
     "text": [
      "NN: Accuracy: 72.98%, Stats loss: 51.808393 Result loss: 0.176454\n"
     ]
    },
    {
     "data": {
      "text/plain": [
       "0.17645428783175324"
      ]
     },
     "execution_count": 38,
     "metadata": {},
     "output_type": "execute_result"
    }
   ],
   "source": [
    "test(stage1_loader, model, label=\"NN\")"
   ]
  },
  {
   "cell_type": "code",
   "execution_count": 39,
   "id": "d5f47474-12e5-49b6-8b00-e675700f4716",
   "metadata": {},
   "outputs": [],
   "source": [
    "hybrid = HybridModel([model, seed_model], [0.8, 0.2])"
   ]
  },
  {
   "cell_type": "code",
   "execution_count": 40,
   "id": "6159dd7e-3f08-4f37-bc4a-3c5ff12b94a8",
   "metadata": {},
   "outputs": [
    {
     "name": "stdout",
     "output_type": "stream",
     "text": [
      "Hybrid: Accuracy: 74.01%, Stats loss: 821.501009 Result loss: 0.175478\n"
     ]
    },
    {
     "data": {
      "text/plain": [
       "0.1754780095065946"
      ]
     },
     "execution_count": 40,
     "metadata": {},
     "output_type": "execute_result"
    }
   ],
   "source": [
    "test(stage1_loader, hybrid, label=f\"Hybrid\")"
   ]
  },
  {
   "cell_type": "markdown",
   "id": "a05ae290-cbb8-4d56-b0da-92cf9a654de9",
   "metadata": {},
   "source": [
    "They hybrid model outperforms both individual models"
   ]
  },
  {
   "cell_type": "code",
   "execution_count": 41,
   "id": "15f38211-8d21-4b6a-ac91-d2835a00ed5c",
   "metadata": {},
   "outputs": [
    {
     "name": "stdout",
     "output_type": "stream",
     "text": [
      "2021 M Tournament: Accuracy: 71.71%, Stats loss: 799.078627 Result loss: 0.183947\n",
      "2021 W Tournament: Accuracy: 71.71%, Stats loss: 799.078627 Result loss: 0.183947\n",
      "2022 M Tournament: Accuracy: 75.37%, Stats loss: 813.262527 Result loss: 0.170425\n",
      "2022 W Tournament: Accuracy: 75.37%, Stats loss: 813.262527 Result loss: 0.170425\n",
      "2023 M Tournament: Accuracy: 72.01%, Stats loss: 815.193230 Result loss: 0.184606\n",
      "2023 W Tournament: Accuracy: 72.01%, Stats loss: 815.193230 Result loss: 0.184606\n",
      "2024 M Tournament: Accuracy: 76.87%, Stats loss: 857.632996 Result loss: 0.163250\n",
      "2024 W Tournament: Accuracy: 76.87%, Stats loss: 857.632996 Result loss: 0.163250\n"
     ]
    }
   ],
   "source": [
    "for season in range(2021, 2025):\n",
    "    for league in ['M', 'W']:\n",
    "        loader = dataset.tourney_data(season, league)\n",
    "        test(loader, hybrid, label=f\"{season} {league} Tournament\")"
   ]
  },
  {
   "cell_type": "markdown",
   "id": "6b676e8c-8344-4fbc-aca2-7fa778c4fdfa",
   "metadata": {},
   "source": [
    "## Generate a bracket"
   ]
  },
  {
   "cell_type": "code",
   "execution_count": 42,
   "id": "d0c08cb5-dec3-42f6-8627-052dcf7adacb",
   "metadata": {},
   "outputs": [
    {
     "name": "stdout",
     "output_type": "stream",
     "text": [
      "      Winner        TeamName\n",
      "Slot                        \n",
      "R1W1    1163     Connecticut\n",
      "R1W2    1235         Iowa St\n",
      "R1W3    1228        Illinois\n",
      "R1W4    1120          Auburn\n",
      "R1W5    1361    San Diego St\n",
      "R1W6    1140             BYU\n",
      "R1W7    1450   Washington St\n",
      "R1W8    1321    Northwestern\n",
      "R1X1    1314  North Carolina\n",
      "R1X2    1112         Arizona\n",
      "R1X3    1124          Baylor\n",
      "R1X4    1104         Alabama\n",
      "R1X5    1388    St Mary's CA\n",
      "R1X6    1155         Clemson\n",
      "R1X7    1173          Dayton\n",
      "R1X8    1277     Michigan St\n",
      "R1Y1    1345          Purdue\n",
      "R1Y2    1397       Tennessee\n",
      "R1Y3    1166       Creighton\n",
      "R1Y4    1242          Kansas\n",
      "R1Y5    1211         Gonzaga\n",
      "R1Y6    1332          Oregon\n",
      "R1Y7    1400           Texas\n",
      "R1Y8    1395             TCU\n",
      "R1Z1    1222         Houston\n",
      "R1Z2    1266       Marquette\n",
      "R1Z3    1246        Kentucky\n",
      "R1Z4    1181            Duke\n",
      "R1Z5    1458       Wisconsin\n",
      "R1Z6    1403      Texas Tech\n",
      "R1Z7    1196         Florida\n",
      "R1Z8    1401       Texas A&M\n",
      "R2W1    1163     Connecticut\n",
      "R2W2    1235         Iowa St\n",
      "R2W3    1228        Illinois\n",
      "R2W4    1120          Auburn\n",
      "R2X1    1314  North Carolina\n",
      "R2X2    1112         Arizona\n",
      "R2X3    1124          Baylor\n",
      "R2X4    1104         Alabama\n",
      "R2Y1    1345          Purdue\n",
      "R2Y2    1397       Tennessee\n",
      "R2Y3    1166       Creighton\n",
      "R2Y4    1242          Kansas\n",
      "R2Z1    1222         Houston\n",
      "R2Z2    1266       Marquette\n",
      "R2Z3    1246        Kentucky\n",
      "R2Z4    1181            Duke\n",
      "R3W1    1163     Connecticut\n",
      "R3W2    1235         Iowa St\n",
      "R3X1    1314  North Carolina\n",
      "R3X2    1112         Arizona\n",
      "R3Y1    1345          Purdue\n",
      "R3Y2    1397       Tennessee\n",
      "R3Z1    1181            Duke\n",
      "R3Z2    1246        Kentucky\n",
      "R4W1    1235         Iowa St\n",
      "R4X1    1112         Arizona\n",
      "R4Y1    1345          Purdue\n",
      "R4Z1    1181            Duke\n",
      "R5WX    1112         Arizona\n",
      "R5YZ    1345          Purdue\n",
      "R6CH    1345          Purdue\n",
      "X16     1447          Wagner\n",
      "Y10     1438        Virginia\n",
      "Y16     1286      Montana St\n",
      "Z10     1160        Colorado\n"
     ]
    }
   ],
   "source": [
    "with pd.option_context('display.max_rows', None, 'display.max_columns', None): \n",
    "    print(gen_bracket(dataset, 2024, 'M', hybrid).join(dataset.all_teams, on='Winner')[['Winner', 'TeamName']])"
   ]
  }
 ],
 "metadata": {
  "kernelspec": {
   "display_name": "Python 3 (ipykernel)",
   "language": "python",
   "name": "python3"
  },
  "language_info": {
   "codemirror_mode": {
    "name": "ipython",
    "version": 3
   },
   "file_extension": ".py",
   "mimetype": "text/x-python",
   "name": "python",
   "nbconvert_exporter": "python",
   "pygments_lexer": "ipython3",
   "version": "3.10.12"
  }
 },
 "nbformat": 4,
 "nbformat_minor": 5
}
