{
 "cells": [
  {
   "cell_type": "markdown",
   "id": "a4b53588-2c8e-4166-b01d-037b765c2d69",
   "metadata": {},
   "source": [
    "# March Madness 2025"
   ]
  },
  {
   "cell_type": "code",
   "execution_count": 1,
   "id": "dd96dd0b-1844-4dca-9495-b722deda29ed",
   "metadata": {},
   "outputs": [
    {
     "name": "stdout",
     "output_type": "stream",
     "text": [
      "Using cuda device\n"
     ]
    }
   ],
   "source": [
    "import pandas as pd\n",
    "import torch\n",
    "import torch.nn as nn\n",
    "import torch.nn.functional as F\n",
    "import numpy as np\n",
    "from torch.utils.data import TensorDataset, DataLoader\n",
    "import os\n",
    "from sklearn.model_selection import train_test_split\n",
    "import random\n",
    "from data import Data, STATS_COLUMNS\n",
    "import model\n",
    "import elo\n",
    "\n",
    "torch.manual_seed(20250222)\n",
    "random.seed(20250222)\n",
    "np.random.seed(20250222)\n",
    "\n",
    "device = torch.accelerator.current_accelerator().type if torch.accelerator.is_available() else \"cpu\"\n",
    "print(f\"Using {device} device\")"
   ]
  },
  {
   "cell_type": "markdown",
   "id": "81669670-3bd9-4cc0-b0e8-d76f32dfd61f",
   "metadata": {},
   "source": [
    "## Hypothesis\n",
    "Each team can be modeled by x hidden features. In each game, these hidden features interact in a nonlinear fashion to determine the outcome of the game"
   ]
  },
  {
   "cell_type": "markdown",
   "id": "ef008b05-6dc7-46e7-9783-2499977b8249",
   "metadata": {},
   "source": [
    "## Preparing the data\n",
    "Load the data"
   ]
  },
  {
   "cell_type": "code",
   "execution_count": 2,
   "id": "836cd53e-d493-44d7-91d7-f0bd02a9644e",
   "metadata": {},
   "outputs": [
    {
     "data": {
      "text/html": [
       "<div>\n",
       "<style scoped>\n",
       "    .dataframe tbody tr th:only-of-type {\n",
       "        vertical-align: middle;\n",
       "    }\n",
       "\n",
       "    .dataframe tbody tr th {\n",
       "        vertical-align: top;\n",
       "    }\n",
       "\n",
       "    .dataframe thead th {\n",
       "        text-align: right;\n",
       "    }\n",
       "</style>\n",
       "<table border=\"1\" class=\"dataframe\">\n",
       "  <thead>\n",
       "    <tr style=\"text-align: right;\">\n",
       "      <th></th>\n",
       "      <th>Season</th>\n",
       "      <th>DayNum</th>\n",
       "      <th>WTeamID</th>\n",
       "      <th>WScore</th>\n",
       "      <th>LTeamID</th>\n",
       "      <th>LScore</th>\n",
       "      <th>NumOT</th>\n",
       "      <th>WFGM</th>\n",
       "      <th>WFGA</th>\n",
       "      <th>WFGM3</th>\n",
       "      <th>...</th>\n",
       "      <th>LFGA3</th>\n",
       "      <th>LFTM</th>\n",
       "      <th>LFTA</th>\n",
       "      <th>LOR</th>\n",
       "      <th>LDR</th>\n",
       "      <th>LAst</th>\n",
       "      <th>LTO</th>\n",
       "      <th>LStl</th>\n",
       "      <th>LBlk</th>\n",
       "      <th>LPF</th>\n",
       "    </tr>\n",
       "  </thead>\n",
       "  <tbody>\n",
       "    <tr>\n",
       "      <th>count</th>\n",
       "      <td>200590.000000</td>\n",
       "      <td>200590.000000</td>\n",
       "      <td>200590.000000</td>\n",
       "      <td>200590.000000</td>\n",
       "      <td>200590.000000</td>\n",
       "      <td>200590.000000</td>\n",
       "      <td>200590.000000</td>\n",
       "      <td>200590.000000</td>\n",
       "      <td>200590.000000</td>\n",
       "      <td>200590.000000</td>\n",
       "      <td>...</td>\n",
       "      <td>200590.000000</td>\n",
       "      <td>200590.000000</td>\n",
       "      <td>200590.000000</td>\n",
       "      <td>200590.000000</td>\n",
       "      <td>200590.000000</td>\n",
       "      <td>200590.000000</td>\n",
       "      <td>200590.000000</td>\n",
       "      <td>200590.000000</td>\n",
       "      <td>200590.000000</td>\n",
       "      <td>200590.000000</td>\n",
       "    </tr>\n",
       "    <tr>\n",
       "      <th>mean</th>\n",
       "      <td>2015.575896</td>\n",
       "      <td>70.371624</td>\n",
       "      <td>2101.677721</td>\n",
       "      <td>74.190697</td>\n",
       "      <td>2099.323680</td>\n",
       "      <td>61.205668</td>\n",
       "      <td>0.061738</td>\n",
       "      <td>26.180557</td>\n",
       "      <td>57.072441</td>\n",
       "      <td>6.919323</td>\n",
       "      <td>...</td>\n",
       "      <td>19.266279</td>\n",
       "      <td>11.437051</td>\n",
       "      <td>16.819468</td>\n",
       "      <td>10.801152</td>\n",
       "      <td>21.937435</td>\n",
       "      <td>11.218625</td>\n",
       "      <td>15.191485</td>\n",
       "      <td>6.454031</td>\n",
       "      <td>2.849489</td>\n",
       "      <td>18.836014</td>\n",
       "    </tr>\n",
       "    <tr>\n",
       "      <th>std</th>\n",
       "      <td>6.073611</td>\n",
       "      <td>36.089915</td>\n",
       "      <td>986.770174</td>\n",
       "      <td>11.403172</td>\n",
       "      <td>989.989621</td>\n",
       "      <td>11.373177</td>\n",
       "      <td>0.287218</td>\n",
       "      <td>4.809783</td>\n",
       "      <td>7.820486</td>\n",
       "      <td>3.168482</td>\n",
       "      <td>...</td>\n",
       "      <td>6.327385</td>\n",
       "      <td>5.238806</td>\n",
       "      <td>6.985267</td>\n",
       "      <td>4.417465</td>\n",
       "      <td>4.706791</td>\n",
       "      <td>3.764948</td>\n",
       "      <td>5.029754</td>\n",
       "      <td>2.984269</td>\n",
       "      <td>2.036512</td>\n",
       "      <td>4.586616</td>\n",
       "    </tr>\n",
       "    <tr>\n",
       "      <th>min</th>\n",
       "      <td>2003.000000</td>\n",
       "      <td>0.000000</td>\n",
       "      <td>1101.000000</td>\n",
       "      <td>30.000000</td>\n",
       "      <td>1101.000000</td>\n",
       "      <td>11.000000</td>\n",
       "      <td>0.000000</td>\n",
       "      <td>9.000000</td>\n",
       "      <td>26.000000</td>\n",
       "      <td>0.000000</td>\n",
       "      <td>...</td>\n",
       "      <td>0.000000</td>\n",
       "      <td>0.000000</td>\n",
       "      <td>0.000000</td>\n",
       "      <td>0.000000</td>\n",
       "      <td>1.000000</td>\n",
       "      <td>0.000000</td>\n",
       "      <td>0.000000</td>\n",
       "      <td>0.000000</td>\n",
       "      <td>0.000000</td>\n",
       "      <td>3.000000</td>\n",
       "    </tr>\n",
       "    <tr>\n",
       "      <th>25%</th>\n",
       "      <td>2011.000000</td>\n",
       "      <td>38.000000</td>\n",
       "      <td>1261.000000</td>\n",
       "      <td>66.000000</td>\n",
       "      <td>1254.000000</td>\n",
       "      <td>54.000000</td>\n",
       "      <td>0.000000</td>\n",
       "      <td>23.000000</td>\n",
       "      <td>52.000000</td>\n",
       "      <td>5.000000</td>\n",
       "      <td>...</td>\n",
       "      <td>15.000000</td>\n",
       "      <td>8.000000</td>\n",
       "      <td>12.000000</td>\n",
       "      <td>8.000000</td>\n",
       "      <td>19.000000</td>\n",
       "      <td>9.000000</td>\n",
       "      <td>12.000000</td>\n",
       "      <td>4.000000</td>\n",
       "      <td>1.000000</td>\n",
       "      <td>16.000000</td>\n",
       "    </tr>\n",
       "    <tr>\n",
       "      <th>50%</th>\n",
       "      <td>2016.000000</td>\n",
       "      <td>74.000000</td>\n",
       "      <td>1413.000000</td>\n",
       "      <td>74.000000</td>\n",
       "      <td>1407.000000</td>\n",
       "      <td>61.000000</td>\n",
       "      <td>0.000000</td>\n",
       "      <td>26.000000</td>\n",
       "      <td>57.000000</td>\n",
       "      <td>7.000000</td>\n",
       "      <td>...</td>\n",
       "      <td>19.000000</td>\n",
       "      <td>11.000000</td>\n",
       "      <td>16.000000</td>\n",
       "      <td>10.000000</td>\n",
       "      <td>22.000000</td>\n",
       "      <td>11.000000</td>\n",
       "      <td>15.000000</td>\n",
       "      <td>6.000000</td>\n",
       "      <td>3.000000</td>\n",
       "      <td>19.000000</td>\n",
       "    </tr>\n",
       "    <tr>\n",
       "      <th>75%</th>\n",
       "      <td>2021.000000</td>\n",
       "      <td>101.000000</td>\n",
       "      <td>3245.000000</td>\n",
       "      <td>81.000000</td>\n",
       "      <td>3246.000000</td>\n",
       "      <td>69.000000</td>\n",
       "      <td>0.000000</td>\n",
       "      <td>29.000000</td>\n",
       "      <td>62.000000</td>\n",
       "      <td>9.000000</td>\n",
       "      <td>...</td>\n",
       "      <td>23.000000</td>\n",
       "      <td>15.000000</td>\n",
       "      <td>21.000000</td>\n",
       "      <td>14.000000</td>\n",
       "      <td>25.000000</td>\n",
       "      <td>14.000000</td>\n",
       "      <td>18.000000</td>\n",
       "      <td>8.000000</td>\n",
       "      <td>4.000000</td>\n",
       "      <td>22.000000</td>\n",
       "    </tr>\n",
       "    <tr>\n",
       "      <th>max</th>\n",
       "      <td>2025.000000</td>\n",
       "      <td>132.000000</td>\n",
       "      <td>3480.000000</td>\n",
       "      <td>149.000000</td>\n",
       "      <td>3480.000000</td>\n",
       "      <td>144.000000</td>\n",
       "      <td>6.000000</td>\n",
       "      <td>58.000000</td>\n",
       "      <td>113.000000</td>\n",
       "      <td>30.000000</td>\n",
       "      <td>...</td>\n",
       "      <td>80.000000</td>\n",
       "      <td>48.000000</td>\n",
       "      <td>65.000000</td>\n",
       "      <td>38.000000</td>\n",
       "      <td>53.000000</td>\n",
       "      <td>34.000000</td>\n",
       "      <td>49.000000</td>\n",
       "      <td>26.000000</td>\n",
       "      <td>21.000000</td>\n",
       "      <td>47.000000</td>\n",
       "    </tr>\n",
       "  </tbody>\n",
       "</table>\n",
       "<p>8 rows × 33 columns</p>\n",
       "</div>"
      ],
      "text/plain": [
       "              Season         DayNum        WTeamID         WScore  \\\n",
       "count  200590.000000  200590.000000  200590.000000  200590.000000   \n",
       "mean     2015.575896      70.371624    2101.677721      74.190697   \n",
       "std         6.073611      36.089915     986.770174      11.403172   \n",
       "min      2003.000000       0.000000    1101.000000      30.000000   \n",
       "25%      2011.000000      38.000000    1261.000000      66.000000   \n",
       "50%      2016.000000      74.000000    1413.000000      74.000000   \n",
       "75%      2021.000000     101.000000    3245.000000      81.000000   \n",
       "max      2025.000000     132.000000    3480.000000     149.000000   \n",
       "\n",
       "             LTeamID         LScore          NumOT           WFGM  \\\n",
       "count  200590.000000  200590.000000  200590.000000  200590.000000   \n",
       "mean     2099.323680      61.205668       0.061738      26.180557   \n",
       "std       989.989621      11.373177       0.287218       4.809783   \n",
       "min      1101.000000      11.000000       0.000000       9.000000   \n",
       "25%      1254.000000      54.000000       0.000000      23.000000   \n",
       "50%      1407.000000      61.000000       0.000000      26.000000   \n",
       "75%      3246.000000      69.000000       0.000000      29.000000   \n",
       "max      3480.000000     144.000000       6.000000      58.000000   \n",
       "\n",
       "                WFGA          WFGM3  ...          LFGA3           LFTM  \\\n",
       "count  200590.000000  200590.000000  ...  200590.000000  200590.000000   \n",
       "mean       57.072441       6.919323  ...      19.266279      11.437051   \n",
       "std         7.820486       3.168482  ...       6.327385       5.238806   \n",
       "min        26.000000       0.000000  ...       0.000000       0.000000   \n",
       "25%        52.000000       5.000000  ...      15.000000       8.000000   \n",
       "50%        57.000000       7.000000  ...      19.000000      11.000000   \n",
       "75%        62.000000       9.000000  ...      23.000000      15.000000   \n",
       "max       113.000000      30.000000  ...      80.000000      48.000000   \n",
       "\n",
       "                LFTA            LOR            LDR           LAst  \\\n",
       "count  200590.000000  200590.000000  200590.000000  200590.000000   \n",
       "mean       16.819468      10.801152      21.937435      11.218625   \n",
       "std         6.985267       4.417465       4.706791       3.764948   \n",
       "min         0.000000       0.000000       1.000000       0.000000   \n",
       "25%        12.000000       8.000000      19.000000       9.000000   \n",
       "50%        16.000000      10.000000      22.000000      11.000000   \n",
       "75%        21.000000      14.000000      25.000000      14.000000   \n",
       "max        65.000000      38.000000      53.000000      34.000000   \n",
       "\n",
       "                 LTO           LStl           LBlk            LPF  \n",
       "count  200590.000000  200590.000000  200590.000000  200590.000000  \n",
       "mean       15.191485       6.454031       2.849489      18.836014  \n",
       "std         5.029754       2.984269       2.036512       4.586616  \n",
       "min         0.000000       0.000000       0.000000       3.000000  \n",
       "25%        12.000000       4.000000       1.000000      16.000000  \n",
       "50%        15.000000       6.000000       3.000000      19.000000  \n",
       "75%        18.000000       8.000000       4.000000      22.000000  \n",
       "max        49.000000      26.000000      21.000000      47.000000  \n",
       "\n",
       "[8 rows x 33 columns]"
      ]
     },
     "execution_count": 2,
     "metadata": {},
     "output_type": "execute_result"
    }
   ],
   "source": [
    "dataset = Data(batch_size=100)\n",
    "\n",
    "dataset.games.describe()"
   ]
  },
  {
   "cell_type": "markdown",
   "id": "ee119045-207e-4dae-9ec7-1ef186642f48",
   "metadata": {},
   "source": [
    "The x's will be the indexes of two team IDs and program IDs, the y's will include and indicator of who won at the game stats"
   ]
  },
  {
   "cell_type": "markdown",
   "id": "84dff41d-c6ee-4c4c-a11a-e052cc1a7d4a",
   "metadata": {},
   "source": [
    "## Predicting Stats\n",
    "The first model we build will predict game statistics. There is more information encapsulated in the box scores than simply wins and losses so we will use this to build up embeddings that are predictive about how the games will play out"
   ]
  },
  {
   "cell_type": "code",
   "execution_count": 3,
   "id": "3abc258c-3999-4de4-bc7d-580218c95cdc",
   "metadata": {},
   "outputs": [
    {
     "name": "stdout",
     "output_type": "stream",
     "text": [
      "Loading cached data\n"
     ]
    }
   ],
   "source": [
    "stats_train_loader, stats_validation_loader = dataset.train_test_data(output_stats=True, cache=\"stats\", train_size=0.99)"
   ]
  },
  {
   "cell_type": "code",
   "execution_count": 4,
   "id": "5f1c1ad6-2a8d-45b1-abcd-44f5504fbf0a",
   "metadata": {},
   "outputs": [],
   "source": [
    "stats_model = model.StatsModel(program_embedding=512, team_embedding=512,\n",
    "                               num_programs=len(dataset.programs), num_teams=len(dataset.teams),\n",
    "                               model_sizes=(512, 256), dropout=0.5).to(device)"
   ]
  },
  {
   "cell_type": "code",
   "execution_count": 5,
   "id": "16d06777-d854-4645-a06c-a61103aa004a",
   "metadata": {},
   "outputs": [
    {
     "name": "stdout",
     "output_type": "stream",
     "text": [
      "Loading from cache\n"
     ]
    }
   ],
   "source": [
    "model.train(stats_train_loader, stats_validation_loader, stats_model, name=\"stats_model\", learning_rate=0.001, use_cache=True)"
   ]
  },
  {
   "cell_type": "markdown",
   "id": "cf50ea84-42ce-462c-a3b3-3928a04aa7ef",
   "metadata": {},
   "source": [
    "## The Model\n",
    "Now we use the embeddings developed in the first model to build a model to predict which team will win, which is the thing we are, in the end trying to do."
   ]
  },
  {
   "cell_type": "code",
   "execution_count": 6,
   "id": "32f8f3af-835b-4b45-8dbc-2be3e059552d",
   "metadata": {},
   "outputs": [
    {
     "name": "stdout",
     "output_type": "stream",
     "text": [
      "Loading cached data\n"
     ]
    }
   ],
   "source": [
    "result_train_loader, result_validation_loader = dataset.train_test_data(output_stats=False, cache=\"result\", train_size=0.99, seed=20250320)"
   ]
  },
  {
   "cell_type": "code",
   "execution_count": 7,
   "id": "d5629261-0b6d-44c9-828e-698e86006f00",
   "metadata": {},
   "outputs": [],
   "source": [
    "result_model = model.Model(matchup=stats_model.matchup, model_sizes=(384, 32), dropout=0.5).to(device)\n",
    "result_model.matchup.freeze()"
   ]
  },
  {
   "cell_type": "markdown",
   "id": "7d98325a-8ba0-466f-b3ca-6991e8450a08",
   "metadata": {},
   "source": [
    "## Training the model"
   ]
  },
  {
   "cell_type": "markdown",
   "id": "553fca87-08c7-48e0-92dd-52ef4ff8463f",
   "metadata": {},
   "source": [
    "Train the model"
   ]
  },
  {
   "cell_type": "code",
   "execution_count": 8,
   "id": "eb5d54b3-9031-45bb-a66f-ca69765aa76c",
   "metadata": {},
   "outputs": [
    {
     "name": "stdout",
     "output_type": "stream",
     "text": [
      "Epoch   0: Train Loss=0.24881859, Test Loss=0.24883938\n",
      "Epoch   1: Train Loss=0.16938005, Test Loss=0.17200699\n",
      "Epoch   2: Train Loss=0.16415690, Test Loss=0.16759954\n",
      "Epoch   3: Train Loss=0.16248913, Test Loss=0.16621562\n",
      "Epoch   4: Train Loss=0.16414274, Test Loss=0.16760223\n",
      "Epoch   5: Train Loss=0.16271739, Test Loss=0.16623589\n",
      "Epoch   6: Train Loss=0.16380225, Test Loss=0.16746641\n",
      "Epoch   7: Train Loss=0.16083402, Test Loss=0.16491942\n",
      "Epoch   8: Train Loss=0.16227809, Test Loss=0.16604713\n",
      "Epoch   9: Train Loss=0.16250004, Test Loss=0.16647970\n",
      "Epoch  10: Train Loss=0.16230731, Test Loss=0.16640287\n",
      "Epoch  11: Train Loss=0.16291618, Test Loss=0.16710496\n",
      "Epoch  12: Train Loss=0.16210578, Test Loss=0.16664009\n",
      "Best Loss: 0.164919\n"
     ]
    }
   ],
   "source": [
    "model.train(result_train_loader, result_validation_loader, result_model, name=\"result_model\", learning_rate=0.0001)"
   ]
  },
  {
   "cell_type": "code",
   "execution_count": 9,
   "id": "2747754a-2511-40c8-ae98-0b456c66e3b1",
   "metadata": {},
   "outputs": [
    {
     "name": "stdout",
     "output_type": "stream",
     "text": [
      "Validation Results: Accuracy=75.42, Loss=0.164919\n"
     ]
    }
   ],
   "source": [
    "model.print_results(result_validation_loader, result_model, label=\"Validation Results\")"
   ]
  },
  {
   "cell_type": "markdown",
   "id": "3a55a843-9fa3-443f-8342-410abd74688c",
   "metadata": {},
   "source": [
    "With this model we can predict the output of about three quarters of regular season games."
   ]
  },
  {
   "cell_type": "markdown",
   "id": "7afe60ad-2cd9-4339-9600-62264350e6bd",
   "metadata": {},
   "source": [
    "## Load the tourney data to test with"
   ]
  },
  {
   "cell_type": "code",
   "execution_count": 10,
   "id": "093fcd61-386e-4330-b5af-e9d93df1b144",
   "metadata": {},
   "outputs": [],
   "source": [
    "tourney_dataset = dataset.gen_dataset(dataset.tourney)\n",
    "tourney_loader = DataLoader(tourney_dataset, batch_size=500, shuffle=True)"
   ]
  },
  {
   "cell_type": "code",
   "execution_count": 11,
   "id": "08340cd1-6cb0-400a-80fa-dda1171789bd",
   "metadata": {},
   "outputs": [
    {
     "name": "stdout",
     "output_type": "stream",
     "text": [
      "Tournament Results: Accuracy=73.77, Loss=0.169402\n"
     ]
    }
   ],
   "source": [
    "model.print_results(tourney_loader, result_model, label=\"Tournament Results\")"
   ]
  },
  {
   "cell_type": "markdown",
   "id": "ada7c18a-8267-4926-a191-5c3a218bfde2",
   "metadata": {},
   "source": [
    "When it comes to tournament results we get a little worse. The lower result is likely due to teams having increased pairity."
   ]
  },
  {
   "cell_type": "code",
   "execution_count": 12,
   "id": "509da685-8b79-473b-83d8-74e9d47ebe72",
   "metadata": {},
   "outputs": [
    {
     "name": "stdout",
     "output_type": "stream",
     "text": [
      "Stage 1: Accuracy=71.94, Loss=0.176030\n"
     ]
    }
   ],
   "source": [
    "stage1_loader = dataset.tourney_data(after=2021)\n",
    "model.print_results(stage1_loader, result_model, label=f\"Stage 1\")"
   ]
  },
  {
   "cell_type": "markdown",
   "id": "658506a6-6cff-48e4-9562-28cabf03663a",
   "metadata": {},
   "source": [
    "Train with early torney data"
   ]
  },
  {
   "cell_type": "code",
   "execution_count": 13,
   "id": "1b635c43-1cee-4bca-a38c-0cb71c4f3ee4",
   "metadata": {},
   "outputs": [],
   "source": [
    "tourney_df = dataset.tourney[dataset.tourney.Season < 2021]\n",
    "\n",
    "tourney_train_df, tourney_validation_df = train_test_split(tourney_df, train_size=0.8)\n",
    "tourney_train_data = dataset.gen_dataset(tourney_train_df)\n",
    "tourney_validation_data = dataset.gen_dataset(tourney_validation_df)\n",
    "\n",
    "tourney_train_loader = DataLoader(tourney_train_data, batch_size=500)\n",
    "tourney_validation_loader = DataLoader(tourney_validation_data, batch_size=500)"
   ]
  },
  {
   "cell_type": "code",
   "execution_count": 14,
   "id": "911e30c5-e7d4-4bd5-b15a-8fce5a92322b",
   "metadata": {},
   "outputs": [],
   "source": [
    "result_model.matchup.freeze()"
   ]
  },
  {
   "cell_type": "code",
   "execution_count": 15,
   "id": "b985479b-335f-4a69-ad88-6738891b934e",
   "metadata": {},
   "outputs": [
    {
     "name": "stdout",
     "output_type": "stream",
     "text": [
      "Epoch   0: Train Loss=0.16850019, Test Loss=0.18120284\n",
      "Epoch   1: Train Loss=0.16619061, Test Loss=0.17887312\n",
      "Epoch   2: Train Loss=0.16478221, Test Loss=0.17726855\n",
      "Epoch   3: Train Loss=0.16461945, Test Loss=0.17701522\n",
      "Epoch   4: Train Loss=0.16493289, Test Loss=0.17723300\n",
      "Epoch   5: Train Loss=0.16508848, Test Loss=0.17735451\n",
      "Epoch   6: Train Loss=0.16502304, Test Loss=0.17735909\n",
      "Epoch   7: Train Loss=0.16477234, Test Loss=0.17719668\n",
      "Epoch   8: Train Loss=0.16446371, Test Loss=0.17704411\n",
      "Best Loss: 0.177015\n"
     ]
    }
   ],
   "source": [
    "model.train(tourney_train_loader, tourney_validation_loader, result_model, name=\"tuned_model\", learning_rate=0.0001)"
   ]
  },
  {
   "cell_type": "code",
   "execution_count": 16,
   "id": "16f6836e-039b-4611-9acd-d356ea6c24ca",
   "metadata": {},
   "outputs": [
    {
     "name": "stdout",
     "output_type": "stream",
     "text": [
      "Stage 1: Accuracy=71.66, Loss=0.175859\n"
     ]
    }
   ],
   "source": [
    "model.print_results(stage1_loader, result_model, label=f\"Stage 1\")"
   ]
  },
  {
   "cell_type": "markdown",
   "id": "9bd8ba4d-cd61-4693-9cda-963ecca19c07",
   "metadata": {},
   "source": [
    "### Performance by year\n"
   ]
  },
  {
   "cell_type": "code",
   "execution_count": 17,
   "id": "fda1ddd2-af9c-4bed-9812-fc24e0c56d4d",
   "metadata": {},
   "outputs": [
    {
     "name": "stdout",
     "output_type": "stream",
     "text": [
      "2003 Tournament: Accuracy=75.78, Loss=0.166490\n",
      "2004 Tournament: Accuracy=70.31, Loss=0.183649\n",
      "2005 Tournament: Accuracy=75.00, Loss=0.174487\n",
      "2006 Tournament: Accuracy=66.41, Loss=0.202839\n",
      "2007 Tournament: Accuracy=73.44, Loss=0.177222\n",
      "2008 Tournament: Accuracy=78.91, Loss=0.167437\n",
      "2009 Tournament: Accuracy=76.56, Loss=0.153106\n",
      "2010 Tournament: Accuracy=70.87, Loss=0.173079\n",
      "2011 Tournament: Accuracy=74.62, Loss=0.168615\n",
      "2012 Tournament: Accuracy=76.15, Loss=0.158760\n",
      "2013 Tournament: Accuracy=70.77, Loss=0.176898\n",
      "2014 Tournament: Accuracy=74.62, Loss=0.162298\n",
      "2015 Tournament: Accuracy=79.23, Loss=0.142090\n",
      "2016 Tournament: Accuracy=75.00, Loss=0.169759\n",
      "2017 Tournament: Accuracy=79.23, Loss=0.153743\n",
      "2018 Tournament: Accuracy=68.46, Loss=0.188438\n",
      "2019 Tournament: Accuracy=75.77, Loss=0.150102\n",
      "2021 Tournament: Accuracy=71.32, Loss=0.179505\n",
      "2022 Tournament: Accuracy=74.25, Loss=0.170110\n",
      "2023 Tournament: Accuracy=69.78, Loss=0.187507\n",
      "2024 Tournament: Accuracy=71.27, Loss=0.166448\n"
     ]
    }
   ],
   "source": [
    "for season in dataset.tourney.Season.unique():\n",
    "    loader = dataset.tourney_data(year=season)\n",
    "    model.print_results(loader, result_model, label=f\"{season} Tournament\")"
   ]
  },
  {
   "cell_type": "markdown",
   "id": "c6c2687e-5887-49ee-ab96-ae27a6f2bb8e",
   "metadata": {},
   "source": [
    "Breaking out by league"
   ]
  },
  {
   "cell_type": "code",
   "execution_count": 18,
   "id": "21b242b3-48af-4495-9605-08880cbc820c",
   "metadata": {},
   "outputs": [
    {
     "name": "stdout",
     "output_type": "stream",
     "text": [
      "2003 M Tournament: Accuracy=75.78, Loss=0.166490\n",
      "2004 M Tournament: Accuracy=70.31, Loss=0.183649\n",
      "2005 M Tournament: Accuracy=75.00, Loss=0.174487\n",
      "2006 M Tournament: Accuracy=66.41, Loss=0.202839\n",
      "2007 M Tournament: Accuracy=73.44, Loss=0.177222\n",
      "2008 M Tournament: Accuracy=78.91, Loss=0.167437\n",
      "2009 M Tournament: Accuracy=76.56, Loss=0.153106\n",
      "2010 M Tournament: Accuracy=67.97, Loss=0.202302\n",
      "2010 W Tournament: Accuracy=73.81, Loss=0.143392\n",
      "2011 M Tournament: Accuracy=67.91, Loss=0.215889\n",
      "2011 W Tournament: Accuracy=81.75, Loss=0.118339\n",
      "2012 M Tournament: Accuracy=70.15, Loss=0.188095\n",
      "2012 W Tournament: Accuracy=82.54, Loss=0.127563\n",
      "2013 M Tournament: Accuracy=65.67, Loss=0.203679\n",
      "2013 W Tournament: Accuracy=76.19, Loss=0.148416\n",
      "2014 M Tournament: Accuracy=67.16, Loss=0.200977\n",
      "2014 W Tournament: Accuracy=82.54, Loss=0.121163\n",
      "2015 M Tournament: Accuracy=76.12, Loss=0.160593\n",
      "2015 W Tournament: Accuracy=82.54, Loss=0.122412\n",
      "2016 M Tournament: Accuracy=73.88, Loss=0.185158\n",
      "2016 W Tournament: Accuracy=76.19, Loss=0.153383\n",
      "2017 M Tournament: Accuracy=74.63, Loss=0.164959\n",
      "2017 W Tournament: Accuracy=84.13, Loss=0.141815\n",
      "2018 M Tournament: Accuracy=62.69, Loss=0.215685\n",
      "2018 W Tournament: Accuracy=74.60, Loss=0.159461\n",
      "2019 M Tournament: Accuracy=71.64, Loss=0.169029\n",
      "2019 W Tournament: Accuracy=80.16, Loss=0.129972\n",
      "2021 M Tournament: Accuracy=69.70, Loss=0.204910\n",
      "2021 W Tournament: Accuracy=73.02, Loss=0.152890\n",
      "2022 M Tournament: Accuracy=70.90, Loss=0.202149\n",
      "2022 W Tournament: Accuracy=77.61, Loss=0.138071\n",
      "2023 M Tournament: Accuracy=64.93, Loss=0.203826\n",
      "2023 W Tournament: Accuracy=74.63, Loss=0.171188\n",
      "2024 M Tournament: Accuracy=65.67, Loss=0.196683\n",
      "2024 W Tournament: Accuracy=76.87, Loss=0.136213\n"
     ]
    }
   ],
   "source": [
    "for season in dataset.tourney.Season.unique():\n",
    "    for league in dataset.tourney[dataset.tourney.Season == season].League.unique():\n",
    "        loader = dataset.tourney_data(year=season, league=league)\n",
    "        model.print_results(loader, result_model, label=f\"{season} {league} Tournament\")"
   ]
  },
  {
   "cell_type": "markdown",
   "id": "9e8e259c-bcf2-43bd-a478-acbd02ef7b24",
   "metadata": {},
   "source": [
    "## Inspect the model\n",
    "First what are the sizes of the smallest input and output weights"
   ]
  },
  {
   "cell_type": "code",
   "execution_count": 19,
   "id": "f7a94e95-ac8a-4a7c-a148-d6aa4dfa6f6a",
   "metadata": {
    "scrolled": true
   },
   "outputs": [
    {
     "name": "stdout",
     "output_type": "stream",
     "text": [
      "Program embedding min: 2.373395\n",
      "Team embedding min: 3.467458\n",
      "FC min: 0.014745\n"
     ]
    }
   ],
   "source": [
    "print(f\"Program embedding min: {result_model.matchup.program_embedding.state_dict()['weight'].abs().max(axis=0).values.min().item():>8f}\")\n",
    "print(f\"Team embedding min: {result_model.matchup.team_embedding.state_dict()['weight'].abs().max(axis=0).values.min().item():>8f}\")\n",
    "print(f\"FC min: {result_model.fc3.state_dict()['weight'].abs().max(axis=0).values.min().item():>8f}\")"
   ]
  },
  {
   "cell_type": "markdown",
   "id": "ff1e4997-5ee2-40d3-b7ab-28e722b20e84",
   "metadata": {},
   "source": [
    "Calculate the average gradient for each input feature"
   ]
  },
  {
   "cell_type": "code",
   "execution_count": 20,
   "id": "57673837-e393-4a99-896e-af251d18c8d0",
   "metadata": {},
   "outputs": [],
   "source": [
    "result_model.matchup.unfreeze()"
   ]
  },
  {
   "cell_type": "code",
   "execution_count": 21,
   "id": "1e25e971-f8cc-47df-9e5f-d15de0441bcc",
   "metadata": {},
   "outputs": [],
   "source": [
    "program_weights, team_weights, stats_weights = model.feature_eval(result_model, tourney_loader)"
   ]
  },
  {
   "cell_type": "code",
   "execution_count": 22,
   "id": "6aeb3583-a9f4-4e04-b040-5194d7000441",
   "metadata": {},
   "outputs": [
    {
     "data": {
      "text/plain": [
       "(0.0002996377006638795, 0.0002748886472545564)"
      ]
     },
     "execution_count": 22,
     "metadata": {},
     "output_type": "execute_result"
    }
   ],
   "source": [
    "program_weights.abs().sum().item(), team_weights.abs().sum().item()"
   ]
  },
  {
   "cell_type": "code",
   "execution_count": 23,
   "id": "f47b2ee6-c1ab-4741-b959-883fd51e0c89",
   "metadata": {},
   "outputs": [
    {
     "name": "stdout",
     "output_type": "stream",
     "text": [
      "Year:\t-0.000078\n",
      "Game:\t-0.000197\n",
      "League:\t-0.008605\n"
     ]
    }
   ],
   "source": [
    "print(f\"Year:\\t{stats_weights[0]:>4f}\")\n",
    "print(f\"Game:\\t{stats_weights[1]:>4f}\")\n",
    "print(f\"League:\\t{stats_weights[2]:>4f}\")"
   ]
  },
  {
   "cell_type": "markdown",
   "id": "38e3b7d8-88d5-4f18-aad2-ce4ede2941f9",
   "metadata": {},
   "source": [
    "## Save the model"
   ]
  },
  {
   "cell_type": "code",
   "execution_count": 24,
   "id": "5da7e66a-9601-40f4-bec7-7aef34b5f229",
   "metadata": {},
   "outputs": [],
   "source": [
    "torch.save(result_model.state_dict(), 'model.pth')"
   ]
  },
  {
   "cell_type": "markdown",
   "id": "667cb6e9-8b1f-459c-be76-f61f39b30f49",
   "metadata": {},
   "source": [
    "## Moderated model\n",
    "\n",
    "Moderate a model by pushing it towards 0.5"
   ]
  },
  {
   "cell_type": "code",
   "execution_count": 25,
   "id": "e18455d2-3fa2-480b-a776-c7fd35255c8f",
   "metadata": {},
   "outputs": [
    {
     "name": "stdout",
     "output_type": "stream",
     "text": [
      "Moderated Model: Accuracy=71.66, Loss=0.180755\n"
     ]
    }
   ],
   "source": [
    "moderated = model.ModeratedModel(result_model, 0.75)\n",
    "model.print_results(stage1_loader, moderated, label=\"Moderated Model\")"
   ]
  },
  {
   "cell_type": "code",
   "execution_count": 26,
   "id": "215a1a7b-ae81-4bf7-8b61-12f2af6e532f",
   "metadata": {
    "scrolled": true
   },
   "outputs": [
    {
     "name": "stdout",
     "output_type": "stream",
     "text": [
      "2003 Tournament: Accuracy=75.78, Loss=0.175213\n",
      "2004 Tournament: Accuracy=70.31, Loss=0.188372\n",
      "2005 Tournament: Accuracy=75.00, Loss=0.180085\n",
      "2006 Tournament: Accuracy=66.41, Loss=0.204156\n",
      "2007 Tournament: Accuracy=73.44, Loss=0.184794\n",
      "2008 Tournament: Accuracy=78.91, Loss=0.177008\n",
      "2009 Tournament: Accuracy=76.56, Loss=0.165862\n",
      "2010 Tournament: Accuracy=70.87, Loss=0.178527\n",
      "2011 Tournament: Accuracy=74.62, Loss=0.174106\n",
      "2012 Tournament: Accuracy=76.15, Loss=0.168308\n",
      "2013 Tournament: Accuracy=70.77, Loss=0.181667\n",
      "2014 Tournament: Accuracy=74.62, Loss=0.170002\n",
      "2015 Tournament: Accuracy=79.23, Loss=0.154623\n",
      "2016 Tournament: Accuracy=75.00, Loss=0.175353\n",
      "2017 Tournament: Accuracy=79.23, Loss=0.162929\n",
      "2018 Tournament: Accuracy=68.46, Loss=0.188190\n",
      "2019 Tournament: Accuracy=75.77, Loss=0.160406\n",
      "2021 Tournament: Accuracy=71.32, Loss=0.182446\n",
      "2022 Tournament: Accuracy=74.25, Loss=0.177457\n",
      "2023 Tournament: Accuracy=69.78, Loss=0.190179\n",
      "2024 Tournament: Accuracy=71.27, Loss=0.173001\n"
     ]
    }
   ],
   "source": [
    "for season in dataset.tourney.Season.unique():\n",
    "    loader = dataset.tourney_data(season)\n",
    "    model.print_results(loader, moderated, label=f\"{season} Tournament\")"
   ]
  },
  {
   "cell_type": "markdown",
   "id": "72537ca9-0eaa-4d1a-8633-34e5e44950f3",
   "metadata": {},
   "source": [
    "It underperforms even in years where there were upsets."
   ]
  },
  {
   "cell_type": "markdown",
   "id": "2ecee29c-6762-463a-89ca-ee49dc3e72db",
   "metadata": {},
   "source": [
    "## Dig into 2023 results"
   ]
  },
  {
   "cell_type": "code",
   "execution_count": 27,
   "id": "cec1416b-ee18-4730-8210-6563239edd23",
   "metadata": {},
   "outputs": [],
   "source": [
    "loader = dataset.tourney_data(2023)\n",
    "\n",
    "x, y = loader.dataset.tensors\n",
    "\n",
    "preds = result_model(x.to(device))"
   ]
  },
  {
   "cell_type": "code",
   "execution_count": 28,
   "id": "86c62b6c-434f-4f23-84fe-0f227ab6f4c2",
   "metadata": {},
   "outputs": [],
   "source": [
    "t_2023 = pd.DataFrame({'winner_name': [dataset.all_teams.loc[dataset.programs.loc[i].TeamID].TeamName for i in x[:,0].tolist()],\n",
    "                       'loser_name': [dataset.all_teams.loc[dataset.programs.loc[i].TeamID].TeamName for i in x[:,2].tolist()],\n",
    "                       'winner': [dataset.programs.loc[i].TeamID for i in x[:,0].tolist()],\n",
    "                       'loser': [dataset.programs.loc[i].TeamID for i in x[:,2].tolist()],\n",
    "                       'actual': y.reshape(-1),\n",
    "                       'predicted': preds.cpu().detach().numpy().reshape(-1)}).iloc[:67]"
   ]
  },
  {
   "cell_type": "code",
   "execution_count": 29,
   "id": "aa17e8a0-ac98-415b-9cb6-d2fc251de985",
   "metadata": {
    "scrolled": true
   },
   "outputs": [
    {
     "data": {
      "text/html": [
       "<div>\n",
       "<style scoped>\n",
       "    .dataframe tbody tr th:only-of-type {\n",
       "        vertical-align: middle;\n",
       "    }\n",
       "\n",
       "    .dataframe tbody tr th {\n",
       "        vertical-align: top;\n",
       "    }\n",
       "\n",
       "    .dataframe thead th {\n",
       "        text-align: right;\n",
       "    }\n",
       "</style>\n",
       "<table border=\"1\" class=\"dataframe\">\n",
       "  <thead>\n",
       "    <tr style=\"text-align: right;\">\n",
       "      <th></th>\n",
       "      <th>winner_name</th>\n",
       "      <th>loser_name</th>\n",
       "      <th>winner</th>\n",
       "      <th>loser</th>\n",
       "      <th>actual</th>\n",
       "      <th>predicted</th>\n",
       "    </tr>\n",
       "  </thead>\n",
       "  <tbody>\n",
       "    <tr>\n",
       "      <th>23</th>\n",
       "      <td>F Dickinson</td>\n",
       "      <td>Purdue</td>\n",
       "      <td>1192</td>\n",
       "      <td>1345</td>\n",
       "      <td>1.0</td>\n",
       "      <td>0.015271</td>\n",
       "    </tr>\n",
       "    <tr>\n",
       "      <th>15</th>\n",
       "      <td>Princeton</td>\n",
       "      <td>Arizona</td>\n",
       "      <td>1343</td>\n",
       "      <td>1112</td>\n",
       "      <td>1.0</td>\n",
       "      <td>0.105450</td>\n",
       "    </tr>\n",
       "    <tr>\n",
       "      <th>8</th>\n",
       "      <td>Furman</td>\n",
       "      <td>Virginia</td>\n",
       "      <td>1202</td>\n",
       "      <td>1438</td>\n",
       "      <td>1.0</td>\n",
       "      <td>0.196113</td>\n",
       "    </tr>\n",
       "    <tr>\n",
       "      <th>53</th>\n",
       "      <td>FL Atlantic</td>\n",
       "      <td>Tennessee</td>\n",
       "      <td>1194</td>\n",
       "      <td>1397</td>\n",
       "      <td>1.0</td>\n",
       "      <td>0.267572</td>\n",
       "    </tr>\n",
       "    <tr>\n",
       "      <th>39</th>\n",
       "      <td>Princeton</td>\n",
       "      <td>Missouri</td>\n",
       "      <td>1343</td>\n",
       "      <td>1281</td>\n",
       "      <td>1.0</td>\n",
       "      <td>0.286336</td>\n",
       "    </tr>\n",
       "    <tr>\n",
       "      <th>58</th>\n",
       "      <td>San Diego St</td>\n",
       "      <td>Alabama</td>\n",
       "      <td>1361</td>\n",
       "      <td>1104</td>\n",
       "      <td>1.0</td>\n",
       "      <td>0.294405</td>\n",
       "    </tr>\n",
       "    <tr>\n",
       "      <th>57</th>\n",
       "      <td>Miami FL</td>\n",
       "      <td>Houston</td>\n",
       "      <td>1274</td>\n",
       "      <td>1222</td>\n",
       "      <td>1.0</td>\n",
       "      <td>0.321572</td>\n",
       "    </tr>\n",
       "    <tr>\n",
       "      <th>50</th>\n",
       "      <td>Michigan St</td>\n",
       "      <td>Marquette</td>\n",
       "      <td>1277</td>\n",
       "      <td>1266</td>\n",
       "      <td>1.0</td>\n",
       "      <td>0.367600</td>\n",
       "    </tr>\n",
       "    <tr>\n",
       "      <th>14</th>\n",
       "      <td>Penn St</td>\n",
       "      <td>Texas A&amp;M</td>\n",
       "      <td>1336</td>\n",
       "      <td>1401</td>\n",
       "      <td>1.0</td>\n",
       "      <td>0.372930</td>\n",
       "    </tr>\n",
       "    <tr>\n",
       "      <th>63</th>\n",
       "      <td>San Diego St</td>\n",
       "      <td>Creighton</td>\n",
       "      <td>1361</td>\n",
       "      <td>1166</td>\n",
       "      <td>1.0</td>\n",
       "      <td>0.394807</td>\n",
       "    </tr>\n",
       "    <tr>\n",
       "      <th>37</th>\n",
       "      <td>Arkansas</td>\n",
       "      <td>Kansas</td>\n",
       "      <td>1116</td>\n",
       "      <td>1242</td>\n",
       "      <td>1.0</td>\n",
       "      <td>0.395354</td>\n",
       "    </tr>\n",
       "    <tr>\n",
       "      <th>32</th>\n",
       "      <td>Pittsburgh</td>\n",
       "      <td>Iowa St</td>\n",
       "      <td>1338</td>\n",
       "      <td>1235</td>\n",
       "      <td>1.0</td>\n",
       "      <td>0.436585</td>\n",
       "    </tr>\n",
       "    <tr>\n",
       "      <th>62</th>\n",
       "      <td>Miami FL</td>\n",
       "      <td>Texas</td>\n",
       "      <td>1274</td>\n",
       "      <td>1400</td>\n",
       "      <td>1.0</td>\n",
       "      <td>0.436784</td>\n",
       "    </tr>\n",
       "    <tr>\n",
       "      <th>12</th>\n",
       "      <td>Missouri</td>\n",
       "      <td>Utah St</td>\n",
       "      <td>1281</td>\n",
       "      <td>1429</td>\n",
       "      <td>1.0</td>\n",
       "      <td>0.437063</td>\n",
       "    </tr>\n",
       "    <tr>\n",
       "      <th>6</th>\n",
       "      <td>Auburn</td>\n",
       "      <td>Iowa</td>\n",
       "      <td>1120</td>\n",
       "      <td>1234</td>\n",
       "      <td>1.0</td>\n",
       "      <td>0.454274</td>\n",
       "    </tr>\n",
       "    <tr>\n",
       "      <th>0</th>\n",
       "      <td>Pittsburgh</td>\n",
       "      <td>Mississippi St</td>\n",
       "      <td>1338</td>\n",
       "      <td>1280</td>\n",
       "      <td>1.0</td>\n",
       "      <td>0.456306</td>\n",
       "    </tr>\n",
       "    <tr>\n",
       "      <th>2</th>\n",
       "      <td>Arizona St</td>\n",
       "      <td>Nevada</td>\n",
       "      <td>1113</td>\n",
       "      <td>1305</td>\n",
       "      <td>1.0</td>\n",
       "      <td>0.456842</td>\n",
       "    </tr>\n",
       "    <tr>\n",
       "      <th>54</th>\n",
       "      <td>Gonzaga</td>\n",
       "      <td>UCLA</td>\n",
       "      <td>1211</td>\n",
       "      <td>1417</td>\n",
       "      <td>1.0</td>\n",
       "      <td>0.465725</td>\n",
       "    </tr>\n",
       "    <tr>\n",
       "      <th>59</th>\n",
       "      <td>Texas</td>\n",
       "      <td>Xavier</td>\n",
       "      <td>1400</td>\n",
       "      <td>1462</td>\n",
       "      <td>1.0</td>\n",
       "      <td>0.474238</td>\n",
       "    </tr>\n",
       "    <tr>\n",
       "      <th>24</th>\n",
       "      <td>FL Atlantic</td>\n",
       "      <td>Memphis</td>\n",
       "      <td>1194</td>\n",
       "      <td>1272</td>\n",
       "      <td>1.0</td>\n",
       "      <td>0.476872</td>\n",
       "    </tr>\n",
       "    <tr>\n",
       "      <th>61</th>\n",
       "      <td>FL Atlantic</td>\n",
       "      <td>Kansas St</td>\n",
       "      <td>1194</td>\n",
       "      <td>1243</td>\n",
       "      <td>1.0</td>\n",
       "      <td>0.490136</td>\n",
       "    </tr>\n",
       "    <tr>\n",
       "      <th>5</th>\n",
       "      <td>Arkansas</td>\n",
       "      <td>Illinois</td>\n",
       "      <td>1116</td>\n",
       "      <td>1228</td>\n",
       "      <td>1.0</td>\n",
       "      <td>0.492024</td>\n",
       "    </tr>\n",
       "    <tr>\n",
       "      <th>48</th>\n",
       "      <td>Kansas St</td>\n",
       "      <td>Kentucky</td>\n",
       "      <td>1243</td>\n",
       "      <td>1246</td>\n",
       "      <td>1.0</td>\n",
       "      <td>0.494278</td>\n",
       "    </tr>\n",
       "  </tbody>\n",
       "</table>\n",
       "</div>"
      ],
      "text/plain": [
       "     winner_name      loser_name  winner  loser  actual  predicted\n",
       "23   F Dickinson          Purdue    1192   1345     1.0   0.015271\n",
       "15     Princeton         Arizona    1343   1112     1.0   0.105450\n",
       "8         Furman        Virginia    1202   1438     1.0   0.196113\n",
       "53   FL Atlantic       Tennessee    1194   1397     1.0   0.267572\n",
       "39     Princeton        Missouri    1343   1281     1.0   0.286336\n",
       "58  San Diego St         Alabama    1361   1104     1.0   0.294405\n",
       "57      Miami FL         Houston    1274   1222     1.0   0.321572\n",
       "50   Michigan St       Marquette    1277   1266     1.0   0.367600\n",
       "14       Penn St       Texas A&M    1336   1401     1.0   0.372930\n",
       "63  San Diego St       Creighton    1361   1166     1.0   0.394807\n",
       "37      Arkansas          Kansas    1116   1242     1.0   0.395354\n",
       "32    Pittsburgh         Iowa St    1338   1235     1.0   0.436585\n",
       "62      Miami FL           Texas    1274   1400     1.0   0.436784\n",
       "12      Missouri         Utah St    1281   1429     1.0   0.437063\n",
       "6         Auburn            Iowa    1120   1234     1.0   0.454274\n",
       "0     Pittsburgh  Mississippi St    1338   1280     1.0   0.456306\n",
       "2     Arizona St          Nevada    1113   1305     1.0   0.456842\n",
       "54       Gonzaga            UCLA    1211   1417     1.0   0.465725\n",
       "59         Texas          Xavier    1400   1462     1.0   0.474238\n",
       "24   FL Atlantic         Memphis    1194   1272     1.0   0.476872\n",
       "61   FL Atlantic       Kansas St    1194   1243     1.0   0.490136\n",
       "5       Arkansas        Illinois    1116   1228     1.0   0.492024\n",
       "48     Kansas St        Kentucky    1243   1246     1.0   0.494278"
      ]
     },
     "execution_count": 29,
     "metadata": {},
     "output_type": "execute_result"
    }
   ],
   "source": [
    "t_2023[t_2023.predicted < 0.5].sort_values('predicted')"
   ]
  },
  {
   "cell_type": "markdown",
   "id": "9f5eb023-fa68-46e5-821f-b9661a988cbe",
   "metadata": {},
   "source": [
    "The biggest thing in this season were the huge upsets in the first round. Purdue was a number one seed and lost which I only gave a 1% chance to happen. Arizona and Virginia were number 2 seeds and lost which I gave 13% and 17% chances of happening respectively."
   ]
  },
  {
   "cell_type": "code",
   "execution_count": 30,
   "id": "28663437-2134-48e8-938f-d40fd2666b7f",
   "metadata": {
    "scrolled": true
   },
   "outputs": [],
   "source": [
    "t_2023['Upset'] = [dataset.upset(2023, winner, loser) for (winner, loser) in zip(t_2023['winner'], t_2023['loser'])]"
   ]
  },
  {
   "cell_type": "code",
   "execution_count": 31,
   "id": "eb00c98a-b6a7-441f-be09-224ad947f71a",
   "metadata": {},
   "outputs": [
    {
     "data": {
      "text/plain": [
       "np.float64(0.3694488912563835)"
      ]
     },
     "execution_count": 31,
     "metadata": {},
     "output_type": "execute_result"
    }
   ],
   "source": [
    "t_2023[t_2023.Upset].predicted.mean()"
   ]
  },
  {
   "cell_type": "markdown",
   "id": "b9c017c5-060c-4478-82b2-4a22bd38a3d8",
   "metadata": {},
   "source": [
    "On average the upsets had a 37% chance of happening"
   ]
  },
  {
   "cell_type": "code",
   "execution_count": 32,
   "id": "2df5dc30-0780-4864-bf1d-25a462985a89",
   "metadata": {},
   "outputs": [
    {
     "data": {
      "text/html": [
       "<div>\n",
       "<style scoped>\n",
       "    .dataframe tbody tr th:only-of-type {\n",
       "        vertical-align: middle;\n",
       "    }\n",
       "\n",
       "    .dataframe tbody tr th {\n",
       "        vertical-align: top;\n",
       "    }\n",
       "\n",
       "    .dataframe thead th {\n",
       "        text-align: right;\n",
       "    }\n",
       "</style>\n",
       "<table border=\"1\" class=\"dataframe\">\n",
       "  <thead>\n",
       "    <tr style=\"text-align: right;\">\n",
       "      <th></th>\n",
       "      <th>winner_name</th>\n",
       "      <th>loser_name</th>\n",
       "      <th>winner</th>\n",
       "      <th>loser</th>\n",
       "      <th>actual</th>\n",
       "      <th>predicted</th>\n",
       "      <th>Upset</th>\n",
       "    </tr>\n",
       "  </thead>\n",
       "  <tbody>\n",
       "    <tr>\n",
       "      <th>45</th>\n",
       "      <td>Creighton</td>\n",
       "      <td>Baylor</td>\n",
       "      <td>1166</td>\n",
       "      <td>1124</td>\n",
       "      <td>1.0</td>\n",
       "      <td>0.570718</td>\n",
       "      <td>True</td>\n",
       "    </tr>\n",
       "    <tr>\n",
       "      <th>60</th>\n",
       "      <td>Connecticut</td>\n",
       "      <td>Gonzaga</td>\n",
       "      <td>1163</td>\n",
       "      <td>1211</td>\n",
       "      <td>1.0</td>\n",
       "      <td>0.564477</td>\n",
       "      <td>True</td>\n",
       "    </tr>\n",
       "    <tr>\n",
       "      <th>49</th>\n",
       "      <td>Miami FL</td>\n",
       "      <td>Indiana</td>\n",
       "      <td>1274</td>\n",
       "      <td>1231</td>\n",
       "      <td>1.0</td>\n",
       "      <td>0.501356</td>\n",
       "      <td>True</td>\n",
       "    </tr>\n",
       "  </tbody>\n",
       "</table>\n",
       "</div>"
      ],
      "text/plain": [
       "    winner_name loser_name  winner  loser  actual  predicted  Upset\n",
       "45    Creighton     Baylor    1166   1124     1.0   0.570718   True\n",
       "60  Connecticut    Gonzaga    1163   1211     1.0   0.564477   True\n",
       "49     Miami FL    Indiana    1274   1231     1.0   0.501356   True"
      ]
     },
     "execution_count": 32,
     "metadata": {},
     "output_type": "execute_result"
    }
   ],
   "source": [
    "t_2023[t_2023.Upset & (t_2023.predicted >= 0.5)].sort_values('predicted', ascending=False)"
   ]
  },
  {
   "cell_type": "markdown",
   "id": "311a0984-fa4f-408e-9a66-4f90296c8a1c",
   "metadata": {},
   "source": [
    "I correctly predicted 4 upsets, though all were closely ranked"
   ]
  },
  {
   "cell_type": "code",
   "execution_count": 33,
   "id": "260a480d-a8d9-4e6d-a25b-d5358ddbd591",
   "metadata": {},
   "outputs": [
    {
     "data": {
      "text/html": [
       "<div>\n",
       "<style scoped>\n",
       "    .dataframe tbody tr th:only-of-type {\n",
       "        vertical-align: middle;\n",
       "    }\n",
       "\n",
       "    .dataframe tbody tr th {\n",
       "        vertical-align: top;\n",
       "    }\n",
       "\n",
       "    .dataframe thead th {\n",
       "        text-align: right;\n",
       "    }\n",
       "</style>\n",
       "<table border=\"1\" class=\"dataframe\">\n",
       "  <thead>\n",
       "    <tr style=\"text-align: right;\">\n",
       "      <th></th>\n",
       "      <th>winner_name</th>\n",
       "      <th>loser_name</th>\n",
       "      <th>winner</th>\n",
       "      <th>loser</th>\n",
       "      <th>actual</th>\n",
       "      <th>predicted</th>\n",
       "      <th>Upset</th>\n",
       "    </tr>\n",
       "  </thead>\n",
       "  <tbody>\n",
       "    <tr>\n",
       "      <th>63</th>\n",
       "      <td>San Diego St</td>\n",
       "      <td>Creighton</td>\n",
       "      <td>1361</td>\n",
       "      <td>1166</td>\n",
       "      <td>1.0</td>\n",
       "      <td>0.394807</td>\n",
       "      <td>False</td>\n",
       "    </tr>\n",
       "    <tr>\n",
       "      <th>12</th>\n",
       "      <td>Missouri</td>\n",
       "      <td>Utah St</td>\n",
       "      <td>1281</td>\n",
       "      <td>1429</td>\n",
       "      <td>1.0</td>\n",
       "      <td>0.437063</td>\n",
       "      <td>False</td>\n",
       "    </tr>\n",
       "    <tr>\n",
       "      <th>0</th>\n",
       "      <td>Pittsburgh</td>\n",
       "      <td>Mississippi St</td>\n",
       "      <td>1338</td>\n",
       "      <td>1280</td>\n",
       "      <td>1.0</td>\n",
       "      <td>0.456306</td>\n",
       "      <td>False</td>\n",
       "    </tr>\n",
       "    <tr>\n",
       "      <th>2</th>\n",
       "      <td>Arizona St</td>\n",
       "      <td>Nevada</td>\n",
       "      <td>1113</td>\n",
       "      <td>1305</td>\n",
       "      <td>1.0</td>\n",
       "      <td>0.456842</td>\n",
       "      <td>False</td>\n",
       "    </tr>\n",
       "    <tr>\n",
       "      <th>59</th>\n",
       "      <td>Texas</td>\n",
       "      <td>Xavier</td>\n",
       "      <td>1400</td>\n",
       "      <td>1462</td>\n",
       "      <td>1.0</td>\n",
       "      <td>0.474238</td>\n",
       "      <td>False</td>\n",
       "    </tr>\n",
       "    <tr>\n",
       "      <th>5</th>\n",
       "      <td>Arkansas</td>\n",
       "      <td>Illinois</td>\n",
       "      <td>1116</td>\n",
       "      <td>1228</td>\n",
       "      <td>1.0</td>\n",
       "      <td>0.492024</td>\n",
       "      <td>False</td>\n",
       "    </tr>\n",
       "    <tr>\n",
       "      <th>48</th>\n",
       "      <td>Kansas St</td>\n",
       "      <td>Kentucky</td>\n",
       "      <td>1243</td>\n",
       "      <td>1246</td>\n",
       "      <td>1.0</td>\n",
       "      <td>0.494278</td>\n",
       "      <td>False</td>\n",
       "    </tr>\n",
       "  </tbody>\n",
       "</table>\n",
       "</div>"
      ],
      "text/plain": [
       "     winner_name      loser_name  winner  loser  actual  predicted  Upset\n",
       "63  San Diego St       Creighton    1361   1166     1.0   0.394807  False\n",
       "12      Missouri         Utah St    1281   1429     1.0   0.437063  False\n",
       "0     Pittsburgh  Mississippi St    1338   1280     1.0   0.456306  False\n",
       "2     Arizona St          Nevada    1113   1305     1.0   0.456842  False\n",
       "59         Texas          Xavier    1400   1462     1.0   0.474238  False\n",
       "5       Arkansas        Illinois    1116   1228     1.0   0.492024  False\n",
       "48     Kansas St        Kentucky    1243   1246     1.0   0.494278  False"
      ]
     },
     "execution_count": 33,
     "metadata": {},
     "output_type": "execute_result"
    }
   ],
   "source": [
    "t_2023[~t_2023.Upset & (t_2023.predicted < 0.5)].sort_values('predicted')"
   ]
  },
  {
   "cell_type": "markdown",
   "id": "25b225a9-822d-417d-bf83-e329ec0c2020",
   "metadata": {},
   "source": [
    "I also incorrectly predicted 5 upsets"
   ]
  },
  {
   "cell_type": "markdown",
   "id": "40bd0e20-15ce-42b8-aaf3-b07965ccb410",
   "metadata": {},
   "source": [
    "Looking at all the tourneys"
   ]
  },
  {
   "cell_type": "code",
   "execution_count": 34,
   "id": "e081fd5c-52cb-483a-90d1-3b65039e2857",
   "metadata": {},
   "outputs": [],
   "source": [
    "x, y = tourney_loader.dataset.tensors\n",
    "preds = result_model(x.to(device))\n",
    "tourney_df = pd.DataFrame({'season': x[:,4].tolist(),\n",
    "                           'winner_name': [dataset.all_teams.loc[dataset.programs.loc[i].TeamID].TeamName for i in x[:,0].tolist()],\n",
    "                           'loser_name': [dataset.all_teams.loc[dataset.programs.loc[i].TeamID].TeamName for i in x[:,2].tolist()],\n",
    "                           'winner': [dataset.programs.loc[i].TeamID for i in x[:,0].tolist()],\n",
    "                           'loser': [dataset.programs.loc[i].TeamID for i in x[:,2].tolist()],\n",
    "                           'actual': y.reshape([-1]),\n",
    "                           'predicted': np.array(preds.tolist()).reshape([-1])})\n",
    "tourney_df = tourney_df[tourney_df.actual == 1.0]\n",
    "tourney_df['Upset'] = [dataset.upset(season, winner, loser) for (winner, loser, season)\n",
    "                       in zip(tourney_df['winner'], tourney_df['loser'], tourney_df['season'])]"
   ]
  },
  {
   "cell_type": "code",
   "execution_count": 35,
   "id": "f5ab6d89-db40-499b-a6c2-7823c13fdfc9",
   "metadata": {},
   "outputs": [
    {
     "data": {
      "text/plain": [
       "27"
      ]
     },
     "execution_count": 35,
     "metadata": {},
     "output_type": "execute_result"
    }
   ],
   "source": [
    "len(tourney_df[tourney_df.Upset & (tourney_df.predicted >= 0.5) & (tourney_df.season > 2020)].sort_values('predicted', ascending=False))"
   ]
  },
  {
   "cell_type": "code",
   "execution_count": 36,
   "id": "7f614719-0380-4eea-aea1-6d6730329208",
   "metadata": {},
   "outputs": [
    {
     "data": {
      "text/plain": [
       "43"
      ]
     },
     "execution_count": 36,
     "metadata": {},
     "output_type": "execute_result"
    }
   ],
   "source": [
    "len(tourney_df[~tourney_df.Upset & (tourney_df.predicted < 0.5) & (tourney_df.season > 2020)].sort_values('predicted'))"
   ]
  },
  {
   "cell_type": "markdown",
   "id": "121a8c8b-3e75-4455-940a-b59d2e742175",
   "metadata": {},
   "source": [
    "Overall I predicted 25 upsets correctly, and 36 incorrectly"
   ]
  },
  {
   "cell_type": "markdown",
   "id": "11f41c41-df65-47ff-a6e5-ddfd3a274cb5",
   "metadata": {},
   "source": [
    "## Predicting by seeds\n",
    "What if I predict just using the seeds?"
   ]
  },
  {
   "cell_type": "code",
   "execution_count": 37,
   "id": "71e280ae-4aba-46d0-9d98-3cfdfada40b5",
   "metadata": {},
   "outputs": [],
   "source": [
    "odds = dataset.odds_by_seed_diff(before=2021)"
   ]
  },
  {
   "cell_type": "code",
   "execution_count": 38,
   "id": "a7388d50-2810-4bbe-8938-3a2f1db41e41",
   "metadata": {
    "scrolled": true
   },
   "outputs": [
    {
     "data": {
      "text/plain": [
       "np.float64(0.18527460145235355)"
      ]
     },
     "execution_count": 38,
     "metadata": {},
     "output_type": "execute_result"
    }
   ],
   "source": [
    "dataset.tourney_df(after=2021).SeedDiff.map(lambda x: odds[x]**2).mean()"
   ]
  },
  {
   "cell_type": "markdown",
   "id": "cfb055ef-ea46-4543-bffb-f1e6082797b1",
   "metadata": {},
   "source": [
    "This results in a test Brier score of about 0.185."
   ]
  },
  {
   "cell_type": "markdown",
   "id": "46c848de-a572-4e37-aa5f-f8a81b46e964",
   "metadata": {},
   "source": [
    "## Using Elo\n",
    "I can also compute Elo rankings"
   ]
  },
  {
   "cell_type": "code",
   "execution_count": 39,
   "id": "96f9aab9-6434-4ec8-b36a-3a2830df5c64",
   "metadata": {},
   "outputs": [
    {
     "name": "stdout",
     "output_type": "stream",
     "text": [
      "Elo Model: Accuracy=73.45, Loss=0.178886\n"
     ]
    }
   ],
   "source": [
    "elo_model = elo.EloModel(dataset, k=50)\n",
    "model.print_results(stage1_loader, elo_model, label=\"Elo Model\")"
   ]
  },
  {
   "cell_type": "markdown",
   "id": "6f6408b5-6b28-42b6-adbd-1abc3076549e",
   "metadata": {},
   "source": [
    "It is similar to our model"
   ]
  },
  {
   "cell_type": "markdown",
   "id": "fbbc2c9a-6d4b-4848-9f9d-2f924fdccc70",
   "metadata": {},
   "source": [
    "## Hybrid Model\n",
    "Building a model using the neural net and seeds"
   ]
  },
  {
   "cell_type": "code",
   "execution_count": 40,
   "id": "24c86c49-234c-4e07-9053-e0dbd1baa579",
   "metadata": {},
   "outputs": [
    {
     "name": "stdout",
     "output_type": "stream",
     "text": [
      "Seed Model: Accuracy=72.03, Loss=0.184022\n",
      "Elo Model: Accuracy=73.45, Loss=0.178886\n",
      "Base NN: Accuracy=71.66, Loss=0.175859\n"
     ]
    }
   ],
   "source": [
    "seed_model = model.SeedModel(dataset)\n",
    "model.print_results(stage1_loader, seed_model, label=\"Seed Model\")\n",
    "model.print_results(stage1_loader, elo_model, label=\"Elo Model\")\n",
    "model.print_results(stage1_loader, result_model, label=\"Base NN\")"
   ]
  },
  {
   "cell_type": "code",
   "execution_count": 41,
   "id": "aeccf89b-1c24-4b8f-8dbb-a1694725304a",
   "metadata": {},
   "outputs": [
    {
     "name": "stdout",
     "output_type": "stream",
     "text": [
      "Hybrid Model: Accuracy=73.54, Loss=0.174659\n"
     ]
    }
   ],
   "source": [
    "hybrid = model.HybridModel([result_model, seed_model, elo_model], [0.7, 0.2, 0.1])\n",
    "\n",
    "model.print_results(stage1_loader, hybrid, label=\"Hybrid Model\")"
   ]
  },
  {
   "cell_type": "markdown",
   "id": "a05ae290-cbb8-4d56-b0da-92cf9a654de9",
   "metadata": {},
   "source": [
    "They hybrid model outperforms all individual models"
   ]
  },
  {
   "cell_type": "code",
   "execution_count": 42,
   "id": "15f38211-8d21-4b6a-ac91-d2835a00ed5c",
   "metadata": {},
   "outputs": [
    {
     "name": "stdout",
     "output_type": "stream",
     "text": [
      "2021 M Tournament: Accuracy=68.94, Loss=0.209730\n",
      "2021 W Tournament: Accuracy=77.78, Loss=0.149420\n",
      "2022 M Tournament: Accuracy=71.64, Loss=0.201304\n",
      "2022 W Tournament: Accuracy=78.36, Loss=0.141393\n",
      "2023 M Tournament: Accuracy=69.40, Loss=0.203721\n",
      "2023 W Tournament: Accuracy=76.12, Loss=0.166271\n",
      "2024 M Tournament: Accuracy=64.93, Loss=0.193715\n",
      "2024 W Tournament: Accuracy=81.34, Loss=0.130731\n"
     ]
    }
   ],
   "source": [
    "for season in range(2021, 2025):\n",
    "    for league in ['M', 'W']:\n",
    "        loader = dataset.tourney_data(year=season, league=league)\n",
    "        model.print_results(loader, hybrid, label=f\"{season} {league} Tournament\")"
   ]
  },
  {
   "cell_type": "markdown",
   "id": "e4afd4bc-a7fc-43bd-a1b6-1b37a85f8f79",
   "metadata": {},
   "source": [
    "## Generating the submission file\n",
    "### Phase 2\n",
    "\n",
    "Write the results"
   ]
  },
  {
   "cell_type": "code",
   "execution_count": 43,
   "id": "aa73ccc9-58fb-4142-a558-cf8c79ae0ac5",
   "metadata": {
    "scrolled": true
   },
   "outputs": [],
   "source": [
    "model.gen_submission(hybrid, dataset, fname=\"hybrid.csv\")"
   ]
  },
  {
   "cell_type": "code",
   "execution_count": 44,
   "id": "510529ef-5f56-4342-86f3-0b3eddfea3ea",
   "metadata": {},
   "outputs": [],
   "source": [
    "model.gen_submission(result_model, dataset, fname=\"base.csv\")"
   ]
  },
  {
   "cell_type": "markdown",
   "id": "6b676e8c-8344-4fbc-aca2-7fa778c4fdfa",
   "metadata": {},
   "source": [
    "## Generate a bracket"
   ]
  },
  {
   "cell_type": "markdown",
   "id": "57846ef1-a91f-4618-ab53-9d7b3f06edec",
   "metadata": {},
   "source": [
    "With the hybrid model"
   ]
  },
  {
   "cell_type": "code",
   "execution_count": 45,
   "id": "325190ea-44b2-4a86-ad2c-4fb861d8c12d",
   "metadata": {},
   "outputs": [],
   "source": [
    "season, league = 2025, 'M'"
   ]
  },
  {
   "cell_type": "code",
   "execution_count": 46,
   "id": "d0c08cb5-dec3-42f6-8627-052dcf7adacb",
   "metadata": {},
   "outputs": [
    {
     "name": "stdout",
     "output_type": "stream",
     "text": [
      "      Winner        TeamName         P\n",
      "Slot                                  \n",
      "R1W1    1181            Duke  0.988571\n",
      "R1W2    1104         Alabama  0.902399\n",
      "R1W3    1458       Wisconsin  0.909682\n",
      "R1W4    1112         Arizona  0.860633\n",
      "R1W5    1332          Oregon  0.761523\n",
      "R1W6    1140             BYU  0.560719\n",
      "R1W7    1388    St Mary's CA  0.663156\n",
      "R1W8    1280  Mississippi St  0.511135\n",
      "R1X1    1222         Houston  0.981250\n",
      "R1X2    1397       Tennessee  0.939480\n",
      "R1X3    1246        Kentucky  0.870813\n",
      "R1X4    1345          Purdue  0.814709\n",
      "R1X5    1155         Clemson  0.811335\n",
      "R1X6    1228        Illinois  0.656811\n",
      "R1X7    1417            UCLA  0.577876\n",
      "R1X8    1211         Gonzaga  0.621978\n",
      "R1Y1    1120          Auburn  0.991566\n",
      "R1Y2    1277     Michigan St  0.937645\n",
      "R1Y3    1235         Iowa St  0.865923\n",
      "R1Y4    1401       Texas A&M  0.766161\n",
      "R1Y5    1276        Michigan  0.658669\n",
      "R1Y6    1314  North Carolina  0.539235\n",
      "R1Y7    1266       Marquette  0.585068\n",
      "R1Y8    1257      Louisville  0.547274\n",
      "R1Z1    1196         Florida  0.974554\n",
      "R1Z2    1385       St John's  0.944329\n",
      "R1Z3    1403      Texas Tech  0.866286\n",
      "R1Z4    1268        Maryland  0.841269\n",
      "R1Z5    1272         Memphis  0.563468\n",
      "R1Z6    1281        Missouri  0.656713\n",
      "R1Z7    1242          Kansas  0.671494\n",
      "R1Z8    1163     Connecticut  0.608699\n",
      "R2W1    1181            Duke  0.816411\n",
      "R2W2    1104         Alabama  0.568406\n",
      "R2W3    1458       Wisconsin  0.552255\n",
      "R2W4    1112         Arizona  0.580905\n",
      "R2X1    1222         Houston  0.599569\n",
      "R2X2    1397       Tennessee  0.666482\n",
      "R2X3    1246        Kentucky  0.521888\n",
      "R2X4    1155         Clemson  0.517975\n",
      "R2Y1    1120          Auburn  0.661187\n",
      "R2Y2    1277     Michigan St  0.593317\n",
      "R2Y3    1235         Iowa St  0.609650\n",
      "R2Y4    1401       Texas A&M  0.510414\n",
      "R2Z1    1196         Florida  0.733605\n",
      "R2Z2    1385       St John's  0.539811\n",
      "R2Z3    1403      Texas Tech  0.580520\n",
      "R2Z4    1268        Maryland  0.651334\n",
      "R3W1    1181            Duke  0.745428\n",
      "R3W2    1104         Alabama  0.581887\n",
      "R3X1    1222         Houston  0.641147\n",
      "R3X2    1397       Tennessee  0.577001\n",
      "R3Y1    1120          Auburn  0.672013\n",
      "R3Y2    1277     Michigan St  0.531942\n",
      "R3Z1    1196         Florida  0.626569\n",
      "R3Z2    1385       St John's  0.530945\n",
      "R4W1    1181            Duke  0.672632\n",
      "R4X1    1222         Houston  0.512331\n",
      "R4Y1    1120          Auburn  0.566489\n",
      "R4Z1    1196         Florida  0.626517\n",
      "R5WX    1181            Duke  0.643811\n",
      "R5YZ    1120          Auburn  0.513245\n",
      "R6CH    1181            Duke  0.598019\n",
      "W16     1110   American Univ  0.511310\n",
      "X11     1462          Xavier  0.516005\n",
      "Y11     1314  North Carolina  0.591149\n",
      "Y16     1106      Alabama St  0.531967\n"
     ]
    }
   ],
   "source": [
    "bracket = model.gen_bracket(dataset, season, league, hybrid).join(dataset.all_teams, on='Winner')[['Winner', 'TeamName', 'P']]\n",
    "with pd.option_context('display.max_rows', None, 'display.max_columns', None): \n",
    "    print(bracket)"
   ]
  },
  {
   "cell_type": "code",
   "execution_count": 47,
   "id": "66de2086-aeb8-4346-bd60-45d79b340003",
   "metadata": {},
   "outputs": [
    {
     "data": {
      "text/plain": [
       "140.15078814263353"
      ]
     },
     "execution_count": 47,
     "metadata": {},
     "output_type": "execute_result"
    }
   ],
   "source": [
    "model.tiebreaker(bracket, stats_model, dataset, season, league)"
   ]
  },
  {
   "cell_type": "markdown",
   "id": "167a35c1-9f81-443b-9827-1df82600a3d7",
   "metadata": {},
   "source": [
    "And with the base model"
   ]
  },
  {
   "cell_type": "code",
   "execution_count": 48,
   "id": "9de057b4-a6f3-431a-99d0-baed2b8a7057",
   "metadata": {},
   "outputs": [
    {
     "name": "stdout",
     "output_type": "stream",
     "text": [
      "      Winner        TeamName         P\n",
      "Slot                                  \n",
      "R1W1    1181            Duke  0.989775\n",
      "R1W2    1104         Alabama  0.882510\n",
      "R1W3    1458       Wisconsin  0.902102\n",
      "R1W4    1112         Arizona  0.865436\n",
      "R1W5    1332          Oregon  0.758375\n",
      "R1W6    1140             BYU  0.520019\n",
      "R1W7    1388    St Mary's CA  0.656668\n",
      "R1W8    1280  Mississippi St  0.509907\n",
      "R1X1    1222         Houston  0.978175\n",
      "R1X2    1397       Tennessee  0.931978\n",
      "R1X3    1246        Kentucky  0.848863\n",
      "R1X4    1345          Purdue  0.795338\n",
      "R1X5    1155         Clemson  0.819162\n",
      "R1X6    1228        Illinois  0.670615\n",
      "R1X7    1417            UCLA  0.560319\n",
      "R1X8    1211         Gonzaga  0.634015\n",
      "R1Y1    1120          Auburn  0.992976\n",
      "R1Y2    1277     Michigan St  0.930358\n",
      "R1Y3    1235         Iowa St  0.837799\n",
      "R1Y4    1401       Texas A&M  0.737306\n",
      "R1Y5    1276        Michigan  0.615780\n",
      "R1Y6    1314  North Carolina  0.594330\n",
      "R1Y7    1266       Marquette  0.565851\n",
      "R1Y8    1257      Louisville  0.564182\n",
      "R1Z1    1196         Florida  0.969518\n",
      "R1Z2    1385       St John's  0.938622\n",
      "R1Z3    1403      Texas Tech  0.843973\n",
      "R1Z4    1268        Maryland  0.840547\n",
      "R1Z5    1272         Memphis  0.521829\n",
      "R1Z6    1281        Missouri  0.701327\n",
      "R1Z7    1242          Kansas  0.689909\n",
      "R1Z8    1163     Connecticut  0.609501\n",
      "R2W1    1181            Duke  0.833195\n",
      "R2W2    1104         Alabama  0.539771\n",
      "R2W3    1458       Wisconsin  0.535479\n",
      "R2W4    1112         Arizona  0.597767\n",
      "R2X1    1222         Houston  0.527650\n",
      "R2X2    1397       Tennessee  0.665346\n",
      "R2X3    1228        Illinois  0.514344\n",
      "R2X4    1155         Clemson  0.536130\n",
      "R2Y1    1120          Auburn  0.626344\n",
      "R2Y2    1277     Michigan St  0.567491\n",
      "R2Y3    1235         Iowa St  0.559083\n",
      "R2Y4    1401       Texas A&M  0.511747\n",
      "R2Z1    1196         Florida  0.735900\n",
      "R2Z2    1242          Kansas  0.520808\n",
      "R2Z3    1403      Texas Tech  0.535906\n",
      "R2Z4    1268        Maryland  0.693476\n",
      "R3W1    1181            Duke  0.777177\n",
      "R3W2    1104         Alabama  0.587400\n",
      "R3X1    1222         Houston  0.584245\n",
      "R3X2    1397       Tennessee  0.571175\n",
      "R3Y1    1120          Auburn  0.667293\n",
      "R3Y2    1277     Michigan St  0.514108\n",
      "R3Z1    1196         Florida  0.602045\n",
      "R3Z2    1242          Kansas  0.518585\n",
      "R4W1    1181            Duke  0.720507\n",
      "R4X1    1397       Tennessee  0.525410\n",
      "R4Y1    1120          Auburn  0.572688\n",
      "R4Z1    1196         Florida  0.605465\n",
      "R5WX    1181            Duke  0.681072\n",
      "R5YZ    1120          Auburn  0.527077\n",
      "R6CH    1181            Duke  0.637742\n",
      "W16     1110   American Univ  0.526810\n",
      "X11     1462          Xavier  0.514490\n",
      "Y11     1314  North Carolina  0.616303\n",
      "Y16     1106      Alabama St  0.545701\n"
     ]
    }
   ],
   "source": [
    "base_bracket = model.gen_bracket(dataset, 2025, 'M', result_model).join(dataset.all_teams, on='Winner')[['Winner', 'TeamName', 'P']]\n",
    "with pd.option_context('display.max_rows', None, 'display.max_columns', None): \n",
    "    print(base_bracket)"
   ]
  },
  {
   "cell_type": "code",
   "execution_count": 49,
   "id": "ffcc3124-890c-43d9-96c1-032c3742c27d",
   "metadata": {},
   "outputs": [
    {
     "data": {
      "text/plain": [
       "140.15078814263353"
      ]
     },
     "execution_count": 49,
     "metadata": {},
     "output_type": "execute_result"
    }
   ],
   "source": [
    "model.tiebreaker(base_bracket, stats_model, dataset, season, league)"
   ]
  },
  {
   "cell_type": "markdown",
   "id": "375fa027-b27c-40be-a32b-6929ac8aaa50",
   "metadata": {},
   "source": [
    "Women's bracket"
   ]
  },
  {
   "cell_type": "code",
   "execution_count": 50,
   "id": "1a6ece79-b9b3-469f-b7d7-feeb4b1a49b6",
   "metadata": {},
   "outputs": [
    {
     "name": "stdout",
     "output_type": "stream",
     "text": [
      "      Winner        TeamName         P\n",
      "Slot                                  \n",
      "R1W1    3376  South Carolina  0.987182\n",
      "R1W2    3181            Duke  0.963826\n",
      "R1W3    3314  North Carolina  0.894958\n",
      "R1W4    3268        Maryland  0.859462\n",
      "R1W5    3104         Alabama  0.743075\n",
      "R1W6    3452   West Virginia  0.758468\n",
      "R1W7    3435      Vanderbilt  0.687302\n",
      "R1W8    3428            Utah  0.534326\n",
      "R1X1    3400           Texas  0.992336\n",
      "R1X2    3395             TCU  0.977019\n",
      "R1X3    3323      Notre Dame  0.966947\n",
      "R1X4    3326         Ohio St  0.876933\n",
      "R1X5    3397       Tennessee  0.845943\n",
      "R1X6    3276        Michigan  0.625051\n",
      "R1X7    3257      Louisville  0.551182\n",
      "R1X8    3166       Creighton  0.586805\n",
      "R1Y1    3417            UCLA  0.987875\n",
      "R1Y2    3301        NC State  0.940300\n",
      "R1Y3    3261             LSU  0.938488\n",
      "R1Y4    3124          Baylor  0.863746\n",
      "R1Y5    3279     Mississippi  0.747616\n",
      "R1Y6    3199      Florida St  0.758305\n",
      "R1Y7    3277     Michigan St  0.707538\n",
      "R1Y8    3210    Georgia Tech  0.554857\n",
      "R1Z1    3425             USC  0.988603\n",
      "R1Z2    3163     Connecticut  0.984507\n",
      "R1Z3    3328        Oklahoma  0.867494\n",
      "R1Z4    3246        Kentucky  0.859709\n",
      "R1Z5    3243       Kansas St  0.863070\n",
      "R1Z6    3234            Iowa  0.802441\n",
      "R1Z7    3329     Oklahoma St  0.642611\n",
      "R1Z8    3143      California  0.640795\n",
      "R2W1    3376  South Carolina  0.874576\n",
      "R2W2    3181            Duke  0.713779\n",
      "R2W3    3452   West Virginia  0.596703\n",
      "R2W4    3268        Maryland  0.555131\n",
      "R2X1    3400           Texas  0.806756\n",
      "R2X2    3395             TCU  0.710067\n",
      "R2X3    3323      Notre Dame  0.772363\n",
      "R2X4    3326         Ohio St  0.539206\n",
      "R2Y1    3417            UCLA  0.847798\n",
      "R2Y2    3301        NC State  0.589609\n",
      "R2Y3    3261             LSU  0.656103\n",
      "R2Y4    3124          Baylor  0.613012\n",
      "R2Z1    3425             USC  0.794415\n",
      "R2Z2    3163     Connecticut  0.826661\n",
      "R2Z3    3328        Oklahoma  0.578598\n",
      "R2Z4    3243       Kansas St  0.623058\n",
      "R3W1    3376  South Carolina  0.870849\n",
      "R3W2    3181            Duke  0.610547\n",
      "R3X1    3400           Texas  0.707366\n",
      "R3X2    3323      Notre Dame  0.650319\n",
      "R3Y1    3417            UCLA  0.749885\n",
      "R3Y2    3261             LSU  0.561943\n",
      "R3Z1    3425             USC  0.602479\n",
      "R3Z2    3163     Connecticut  0.727600\n",
      "R4W1    3376  South Carolina  0.753720\n",
      "R4X1    3400           Texas  0.508794\n",
      "R4Y1    3417            UCLA  0.697202\n",
      "R4Z1    3163     Connecticut  0.595298\n",
      "R5WX    3376  South Carolina  0.656023\n",
      "R5YZ    3417            UCLA  0.511081\n",
      "R6CH    3376  South Carolina  0.590158\n",
      "W11     3162        Columbia  0.507783\n",
      "X11     3235         Iowa St  0.703020\n",
      "X16     3219      High Point  0.560092\n",
      "Y16     3471    UC San Diego  0.662229\n"
     ]
    }
   ],
   "source": [
    "season, league = 2025, 'W'\n",
    "bracket = model.gen_bracket(dataset, season, league, hybrid).join(dataset.all_teams, on='Winner')[['Winner', 'TeamName', 'P']]\n",
    "with pd.option_context('display.max_rows', None, 'display.max_columns', None): \n",
    "    print(bracket)"
   ]
  },
  {
   "cell_type": "code",
   "execution_count": 51,
   "id": "b5673f69-859a-4e30-ae15-5cb990d39e6d",
   "metadata": {},
   "outputs": [
    {
     "name": "stdout",
     "output_type": "stream",
     "text": [
      "      Winner        TeamName         P\n",
      "Slot                                  \n",
      "R1W1    3376  South Carolina  0.986467\n",
      "R1W2    3181            Duke  0.965509\n",
      "R1W3    3314  North Carolina  0.888143\n",
      "R1W4    3268        Maryland  0.855386\n",
      "R1W5    3104         Alabama  0.747574\n",
      "R1W6    3452   West Virginia  0.808438\n",
      "R1W7    3435      Vanderbilt  0.708061\n",
      "R1W8    3428            Utah  0.544414\n",
      "R1X1    3400           Texas  0.993559\n",
      "R1X2    3395             TCU  0.983954\n",
      "R1X3    3323      Notre Dame  0.975735\n",
      "R1X4    3326         Ohio St  0.876339\n",
      "R1X5    3397       Tennessee  0.878410\n",
      "R1X6    3276        Michigan  0.625778\n",
      "R1X7    3257      Louisville  0.508384\n",
      "R1X8    3166       Creighton  0.604719\n",
      "R1Y1    3417            UCLA  0.987758\n",
      "R1Y2    3301        NC State  0.931551\n",
      "R1Y3    3261             LSU  0.938817\n",
      "R1Y4    3124          Baylor  0.866156\n",
      "R1Y5    3279     Mississippi  0.748539\n",
      "R1Y6    3199      Florida St  0.787772\n",
      "R1Y7    3277     Michigan St  0.728643\n",
      "R1Y8    3210    Georgia Tech  0.594519\n",
      "R1Z1    3425             USC  0.989613\n",
      "R1Z2    3163     Connecticut  0.993747\n",
      "R1Z3    3328        Oklahoma  0.861393\n",
      "R1Z4    3246        Kentucky  0.875190\n",
      "R1Z5    3243       Kansas St  0.905244\n",
      "R1Z6    3234            Iowa  0.838780\n",
      "R1Z7    3329     Oklahoma St  0.662959\n",
      "R1Z8    3143      California  0.659032\n",
      "R2W1    3376  South Carolina  0.899944\n",
      "R2W2    3181            Duke  0.719826\n",
      "R2W3    3452   West Virginia  0.698688\n",
      "R2W4    3268        Maryland  0.543145\n",
      "R2X1    3400           Texas  0.814814\n",
      "R2X2    3395             TCU  0.745941\n",
      "R2X3    3323      Notre Dame  0.809677\n",
      "R2X4    3326         Ohio St  0.514763\n",
      "R2Y1    3417            UCLA  0.854613\n",
      "R2Y2    3301        NC State  0.547995\n",
      "R2Y3    3261             LSU  0.648020\n",
      "R2Y4    3124          Baylor  0.637740\n",
      "R2Z1    3425             USC  0.798948\n",
      "R2Z2    3163     Connecticut  0.872944\n",
      "R2Z3    3328        Oklahoma  0.564303\n",
      "R2Z4    3243       Kansas St  0.689051\n",
      "R3W1    3376  South Carolina  0.925696\n",
      "R3W2    3181            Duke  0.548973\n",
      "R3X1    3400           Texas  0.714688\n",
      "R3X2    3323      Notre Dame  0.708720\n",
      "R3Y1    3417            UCLA  0.768478\n",
      "R3Y2    3261             LSU  0.605849\n",
      "R3Z1    3425             USC  0.520217\n",
      "R3Z2    3163     Connecticut  0.773671\n",
      "R4W1    3376  South Carolina  0.800869\n",
      "R4X1    3323      Notre Dame  0.568197\n",
      "R4Y1    3417            UCLA  0.696082\n",
      "R4Z1    3163     Connecticut  0.648894\n",
      "R5WX    3376  South Carolina  0.645547\n",
      "R5YZ    3163     Connecticut  0.501242\n",
      "R6CH    3376  South Carolina  0.646203\n",
      "W11     3162        Columbia  0.506182\n",
      "X11     3235         Iowa St  0.773391\n",
      "X16     3219      High Point  0.589828\n",
      "Y16     3471    UC San Diego  0.706114\n"
     ]
    }
   ],
   "source": [
    "bracket = model.gen_bracket(dataset, season, league, result_model).join(dataset.all_teams, on='Winner')[['Winner', 'TeamName', 'P']]\n",
    "with pd.option_context('display.max_rows', None, 'display.max_columns', None): \n",
    "    print(bracket)"
   ]
  },
  {
   "cell_type": "markdown",
   "id": "cc130723-bcc1-4df5-a9f2-79cba78427b2",
   "metadata": {},
   "source": [
    "## |Actual Results"
   ]
  },
  {
   "cell_type": "code",
   "execution_count": 108,
   "id": "063d790d-5e35-41b2-a66c-84a5d74bd51d",
   "metadata": {},
   "outputs": [
    {
     "name": "stdout",
     "output_type": "stream",
     "text": [
      "Actual Hybrid Model: Accuracy=71.43, Loss=0.161531\n",
      "Actual Base Model: Accuracy=71.43, Loss=0.168684\n",
      "Actual Moderated Model: Accuracy=71.43, Loss=0.171515\n",
      "Actual Elo Model: Accuracy=85.71, Loss=0.133248\n",
      "Actual Seeds Model: Accuracy=71.43, Loss=0.161353\n"
     ]
    }
   ],
   "source": [
    "actual_games = np.array([dataset.matchup(winner, loser, 2025, league) for winner, loser, league in\n",
    "                         [# Mens\n",
    "                          # Round 1\n",
    "                          [1120,1106,'M'],[1166,1257,'M'],[1276,1471,'M'],[1401,1463,'M'],[1235,1252,'M'],#South\n",
    "                          [1181,1291,'M'],[1140,1433,'M'],[1458,1285,'M'],[1124,1277,'M'],[1104,1352,'M'],#East\n",
    "                          [1161,1272,'M'],[1179,1281,'M'],[1403,1423,'M'],[1116,1242,'M'],[1385,1303,'M'],#West\n",
    "                          [1222,1188,'M'],[1211,1208,'M'],[1270,1155,'M'],[1345,1219,'M'],[1417,1429,'M'],[1397,1459,'M']#Midwest\n",
    "                         ]])\n",
    "actual_results = np.ones((len(actual_games),1))\n",
    "actual_ds = TensorDataset(torch.from_numpy(actual_games), torch.from_numpy(actual_results))\n",
    "actual_loader = DataLoader(actual_ds)\n",
    "model.print_results(actual_loader, hybrid, label=\"Actual Hybrid Model\")\n",
    "model.print_results(actual_loader, result_model, label=\"Actual Base Model\")\n",
    "model.print_results(actual_loader, moderated, label=\"Actual Moderated Model\")\n",
    "model.print_results(actual_loader, elo_model, label=\"Actual Elo Model\")\n",
    "model.print_results(actual_loader, seed_model, label=\"Actual Seeds Model\")\n"
   ]
  },
  {
   "cell_type": "markdown",
   "id": "35a01d9b-43bb-4823-959c-4a9b324a1540",
   "metadata": {},
   "source": [
    "### Men's ELO Rankings"
   ]
  },
  {
   "cell_type": "code",
   "execution_count": 103,
   "id": "8a0bdc1e-8e95-4cce-af0a-069e072026e8",
   "metadata": {},
   "outputs": [
    {
     "name": "stdout",
     "output_type": "stream",
     "text": [
      "Akron (1103): 1238.11\n",
      "Alabama (1104): 1612.31\n",
      "Alabama St (1106): 788.55\n",
      "American Univ (1110): 933.42\n",
      "Arizona (1112): 1525.12\n",
      "Arkansas (1116): 1405.07\n",
      "Auburn (1120): 1659.61\n",
      "Baylor (1124): 1422.12\n",
      "Bryant (1136): 1049.31\n",
      "BYU (1140): 1565.44\n",
      "Clemson (1155): 1515.53\n",
      "Colorado St (1161): 1486.80\n",
      "Connecticut (1163): 1557.59\n",
      "Creighton (1166): 1534.52\n",
      "Drake (1179): 1447.69\n",
      "Duke (1181): 1670.73\n",
      "SIUE (1188): 887.49\n",
      "Florida (1196): 1699.45\n",
      "Georgia (1208): 1385.18\n",
      "Gonzaga (1211): 1517.88\n",
      "Grand Canyon (1213): 1258.72\n",
      "High Point (1219): 1166.02\n",
      "Houston (1222): 1770.81\n",
      "Illinois (1228): 1501.04\n",
      "Iowa St (1235): 1534.19\n",
      "Kansas (1242): 1453.77\n",
      "Kentucky (1246): 1503.35\n",
      "Liberty (1251): 1249.57\n",
      "Lipscomb (1252): 1094.69\n",
      "Louisville (1257): 1481.30\n",
      "Marquette (1266): 1483.97\n",
      "Maryland (1268): 1521.87\n",
      "McNeese St (1270): 1155.86\n",
      "Memphis (1272): 1480.30\n",
      "Michigan (1276): 1538.41\n",
      "Michigan St (1277): 1620.11\n",
      "Mississippi (1279): 1445.07\n",
      "Mississippi St (1280): 1382.01\n",
      "Missouri (1281): 1365.28\n",
      "Montana (1285): 1126.47\n",
      "Mt St Mary's (1291): 985.62\n",
      "NE Omaha (1303): 1040.91\n",
      "New Mexico (1307): 1432.34\n",
      "Norfolk St (1313): 940.64\n",
      "North Carolina (1314): 1449.45\n",
      "Oklahoma (1328): 1392.66\n",
      "Oregon (1332): 1507.60\n",
      "Purdue (1345): 1497.22\n",
      "Robert Morris (1352): 1113.47\n",
      "San Diego St (1361): 1380.91\n",
      "St Francis PA (1384): 788.72\n",
      "St John's (1385): 1663.18\n",
      "St Mary's CA (1388): 1518.80\n",
      "Tennessee (1397): 1622.20\n",
      "Texas (1400): 1390.01\n",
      "Texas A&M (1401): 1484.07\n",
      "Texas Tech (1403): 1545.10\n",
      "Troy (1407): 1126.11\n",
      "UCLA (1417): 1446.64\n",
      "UNC Wilmington (1423): 1187.79\n",
      "Utah St (1429): 1418.39\n",
      "VCU (1433): 1424.17\n",
      "Vanderbilt (1435): 1355.66\n",
      "Wisconsin (1458): 1536.35\n",
      "Wofford (1459): 1012.57\n",
      "Xavier (1462): 1430.93\n",
      "Yale (1463): 1252.46\n",
      "UC San Diego (1471): 1313.43\n"
     ]
    }
   ],
   "source": [
    "elo_rankings = [(team, elo_model.ratings[dataset.teamMapping[(team, 2025)]],) \n",
    "                for team in dataset.seeds.loc[2025].loc['M'].index]\n",
    "for team, ranking in sorted(elo_rankings):\n",
    "    print(f\"{dataset.all_teams.loc[team].TeamName} ({team}): {ranking:.2f}\")"
   ]
  },
  {
   "cell_type": "markdown",
   "id": "e1593280-6db3-43ae-ad68-ea962bb570d1",
   "metadata": {},
   "source": [
    "## Women's Elo Rankings"
   ]
  },
  {
   "cell_type": "code",
   "execution_count": 97,
   "id": "f5313d7e-87f0-4464-abfd-f99ecff6eaf0",
   "metadata": {},
   "outputs": [
    {
     "name": "stdout",
     "output_type": "stream",
     "text": [
      "South Carolina (3376): 2051.64\n",
      "Texas (3400): 1908.29\n",
      "UCLA (3417): 1895.33\n",
      "Connecticut (3163): 1881.40\n",
      "USC (3425): 1874.32\n",
      "Notre Dame (3323): 1788.93\n",
      "Duke (3181): 1774.16\n",
      "NC State (3301): 1763.91\n",
      "LSU (3261): 1748.59\n",
      "Ohio St (3326): 1712.88\n",
      "TCU (3395): 1687.75\n",
      "Oklahoma (3328): 1680.38\n",
      "Creighton (3166): 1666.87\n",
      "Iowa (3234): 1666.54\n",
      "North Carolina (3314): 1655.81\n",
      "Baylor (3124): 1650.63\n",
      "Maryland (3268): 1644.01\n",
      "Louisville (3257): 1613.82\n",
      "Michigan (3276): 1607.29\n",
      "Mississippi (3279): 1604.18\n",
      "Florida St (3199): 1593.95\n",
      "West Virginia (3452): 1579.69\n",
      "Tennessee (3397): 1574.51\n",
      "Indiana (3231): 1568.17\n",
      "California (3143): 1558.56\n",
      "S Dakota St (3355): 1553.67\n",
      "Iowa St (3235): 1539.89\n",
      "Michigan St (3277): 1538.06\n",
      "Kansas St (3243): 1537.08\n",
      "Alabama (3104): 1536.62\n",
      "Kentucky (3246): 1532.42\n",
      "Oklahoma St (3329): 1532.40\n",
      "Utah (3428): 1521.25\n",
      "Nebraska (3304): 1515.99\n",
      "Vanderbilt (3435): 1505.10\n",
      "Illinois (3228): 1490.10\n",
      "Columbia (3162): 1471.12\n",
      "FGCU (3195): 1463.76\n",
      "Princeton (3343): 1457.45\n",
      "Richmond (3350): 1448.99\n",
      "Washington (3449): 1447.07\n",
      "Georgia Tech (3210): 1439.54\n",
      "Oregon (3332): 1434.21\n",
      "Harvard (3217): 1423.66\n",
      "Ball St (3123): 1417.78\n",
      "Mississippi St (3280): 1415.28\n",
      "WI Green Bay (3453): 1384.01\n",
      "George Mason (3206): 1359.16\n",
      "Oregon St (3333): 1334.39\n",
      "Liberty (3251): 1330.59\n",
      "Grand Canyon (3213): 1327.55\n",
      "Murray St (3293): 1322.56\n",
      "South Florida (3378): 1311.87\n",
      "Fairfield (3193): 1293.24\n",
      "Montana St (3286): 1274.27\n",
      "Norfolk St (3313): 1266.46\n",
      "San Diego St (3361): 1255.40\n",
      "SF Austin (3372): 1179.58\n",
      "Tennessee Tech (3399): 1127.68\n",
      "UNC Greensboro (3422): 1117.87\n",
      "Arkansas St (3117): 1102.43\n",
      "Lehigh (3250): 1100.76\n",
      "Vermont (3436): 1067.79\n",
      "UC San Diego (3471): 1034.07\n",
      "F Dickinson (3192): 987.93\n",
      "William & Mary (3456): 917.62\n",
      "Southern Univ (3380): 903.53\n",
      "High Point (3219): 898.23\n"
     ]
    }
   ],
   "source": [
    "elo_rankings = [(elo_model.ratings[dataset.teamMapping[(team, 2025)]],team) \n",
    "                for team in dataset.seeds.loc[2025].loc['W'].index]\n",
    "for ranking, team in sorted(elo_rankings, reverse=True):\n",
    "    print(f\"{dataset.all_teams.loc[team].TeamName} ({team}): {ranking:.2f}\")"
   ]
  },
  {
   "cell_type": "code",
   "execution_count": null,
   "id": "beeef299-466b-4298-b8e0-f4c9bb158f0c",
   "metadata": {},
   "outputs": [],
   "source": []
  }
 ],
 "metadata": {
  "kernelspec": {
   "display_name": "Python 3 (ipykernel)",
   "language": "python",
   "name": "python3"
  },
  "language_info": {
   "codemirror_mode": {
    "name": "ipython",
    "version": 3
   },
   "file_extension": ".py",
   "mimetype": "text/x-python",
   "name": "python",
   "nbconvert_exporter": "python",
   "pygments_lexer": "ipython3",
   "version": "3.10.12"
  }
 },
 "nbformat": 4,
 "nbformat_minor": 5
}
