{
 "cells": [
  {
   "cell_type": "markdown",
   "id": "a4b53588-2c8e-4166-b01d-037b765c2d69",
   "metadata": {},
   "source": [
    "# March Madness 2025"
   ]
  },
  {
   "cell_type": "code",
   "execution_count": 1,
   "id": "dd96dd0b-1844-4dca-9495-b722deda29ed",
   "metadata": {},
   "outputs": [
    {
     "name": "stdout",
     "output_type": "stream",
     "text": [
      "Using cuda device\n"
     ]
    }
   ],
   "source": [
    "import pandas as pd\n",
    "import torch\n",
    "import torch.nn as nn\n",
    "import torch.nn.functional as F\n",
    "import numpy as np\n",
    "from torch.utils.data import TensorDataset, DataLoader\n",
    "import os\n",
    "from sklearn.model_selection import train_test_split\n",
    "import random\n",
    "from data import Data, STATS_COLUMNS\n",
    "from model import *\n",
    "\n",
    "torch.manual_seed(20250222)\n",
    "random.seed(20250222)\n",
    "\n",
    "device = torch.accelerator.current_accelerator().type if torch.accelerator.is_available() else \"cpu\"\n",
    "print(f\"Using {device} device\")"
   ]
  },
  {
   "cell_type": "markdown",
   "id": "81669670-3bd9-4cc0-b0e8-d76f32dfd61f",
   "metadata": {},
   "source": [
    "## Hypothesis\n",
    "Each team can be modeled by x hidden features. In each game, these hidden features interact in a nonlinear fashion to determine the outcome of the game"
   ]
  },
  {
   "cell_type": "markdown",
   "id": "ef008b05-6dc7-46e7-9783-2499977b8249",
   "metadata": {},
   "source": [
    "## Preparing the data\n",
    "Load the data"
   ]
  },
  {
   "cell_type": "code",
   "execution_count": 2,
   "id": "836cd53e-d493-44d7-91d7-f0bd02a9644e",
   "metadata": {},
   "outputs": [
    {
     "data": {
      "text/html": [
       "<div>\n",
       "<style scoped>\n",
       "    .dataframe tbody tr th:only-of-type {\n",
       "        vertical-align: middle;\n",
       "    }\n",
       "\n",
       "    .dataframe tbody tr th {\n",
       "        vertical-align: top;\n",
       "    }\n",
       "\n",
       "    .dataframe thead th {\n",
       "        text-align: right;\n",
       "    }\n",
       "</style>\n",
       "<table border=\"1\" class=\"dataframe\">\n",
       "  <thead>\n",
       "    <tr style=\"text-align: right;\">\n",
       "      <th></th>\n",
       "      <th>Season</th>\n",
       "      <th>DayNum</th>\n",
       "      <th>WTeamID</th>\n",
       "      <th>WScore</th>\n",
       "      <th>LTeamID</th>\n",
       "      <th>LScore</th>\n",
       "      <th>NumOT</th>\n",
       "      <th>WFGM</th>\n",
       "      <th>WFGA</th>\n",
       "      <th>WFGM3</th>\n",
       "      <th>...</th>\n",
       "      <th>LFGA3</th>\n",
       "      <th>LFTM</th>\n",
       "      <th>LFTA</th>\n",
       "      <th>LOR</th>\n",
       "      <th>LDR</th>\n",
       "      <th>LAst</th>\n",
       "      <th>LTO</th>\n",
       "      <th>LStl</th>\n",
       "      <th>LBlk</th>\n",
       "      <th>LPF</th>\n",
       "    </tr>\n",
       "  </thead>\n",
       "  <tbody>\n",
       "    <tr>\n",
       "      <th>count</th>\n",
       "      <td>198374.000000</td>\n",
       "      <td>198374.000000</td>\n",
       "      <td>198374.000000</td>\n",
       "      <td>198374.000000</td>\n",
       "      <td>198374.000000</td>\n",
       "      <td>198374.000000</td>\n",
       "      <td>198374.000000</td>\n",
       "      <td>198374.000000</td>\n",
       "      <td>198374.000000</td>\n",
       "      <td>198374.000000</td>\n",
       "      <td>...</td>\n",
       "      <td>198374.000000</td>\n",
       "      <td>198374.000000</td>\n",
       "      <td>198374.000000</td>\n",
       "      <td>198374.000000</td>\n",
       "      <td>198374.000000</td>\n",
       "      <td>198374.000000</td>\n",
       "      <td>198374.000000</td>\n",
       "      <td>198374.000000</td>\n",
       "      <td>198374.000000</td>\n",
       "      <td>198374.000000</td>\n",
       "    </tr>\n",
       "    <tr>\n",
       "      <th>mean</th>\n",
       "      <td>2015.470621</td>\n",
       "      <td>69.843291</td>\n",
       "      <td>2099.847868</td>\n",
       "      <td>74.183169</td>\n",
       "      <td>2097.450588</td>\n",
       "      <td>61.187026</td>\n",
       "      <td>0.061787</td>\n",
       "      <td>26.176339</td>\n",
       "      <td>57.063405</td>\n",
       "      <td>6.912005</td>\n",
       "      <td>...</td>\n",
       "      <td>19.248818</td>\n",
       "      <td>11.436922</td>\n",
       "      <td>16.826656</td>\n",
       "      <td>10.826832</td>\n",
       "      <td>21.949363</td>\n",
       "      <td>11.217125</td>\n",
       "      <td>15.214630</td>\n",
       "      <td>6.453946</td>\n",
       "      <td>2.848942</td>\n",
       "      <td>18.853504</td>\n",
       "    </tr>\n",
       "    <tr>\n",
       "      <th>std</th>\n",
       "      <td>6.024751</td>\n",
       "      <td>35.933736</td>\n",
       "      <td>986.382716</td>\n",
       "      <td>11.406085</td>\n",
       "      <td>989.676138</td>\n",
       "      <td>11.373007</td>\n",
       "      <td>0.287403</td>\n",
       "      <td>4.811306</td>\n",
       "      <td>7.828931</td>\n",
       "      <td>3.166580</td>\n",
       "      <td>...</td>\n",
       "      <td>6.325219</td>\n",
       "      <td>5.239163</td>\n",
       "      <td>6.987616</td>\n",
       "      <td>4.418293</td>\n",
       "      <td>4.708807</td>\n",
       "      <td>3.765042</td>\n",
       "      <td>5.028571</td>\n",
       "      <td>2.985335</td>\n",
       "      <td>2.037092</td>\n",
       "      <td>4.587468</td>\n",
       "    </tr>\n",
       "    <tr>\n",
       "      <th>min</th>\n",
       "      <td>2003.000000</td>\n",
       "      <td>0.000000</td>\n",
       "      <td>1101.000000</td>\n",
       "      <td>30.000000</td>\n",
       "      <td>1101.000000</td>\n",
       "      <td>11.000000</td>\n",
       "      <td>0.000000</td>\n",
       "      <td>9.000000</td>\n",
       "      <td>26.000000</td>\n",
       "      <td>0.000000</td>\n",
       "      <td>...</td>\n",
       "      <td>0.000000</td>\n",
       "      <td>0.000000</td>\n",
       "      <td>0.000000</td>\n",
       "      <td>0.000000</td>\n",
       "      <td>1.000000</td>\n",
       "      <td>0.000000</td>\n",
       "      <td>0.000000</td>\n",
       "      <td>0.000000</td>\n",
       "      <td>0.000000</td>\n",
       "      <td>3.000000</td>\n",
       "    </tr>\n",
       "    <tr>\n",
       "      <th>25%</th>\n",
       "      <td>2011.000000</td>\n",
       "      <td>37.000000</td>\n",
       "      <td>1260.000000</td>\n",
       "      <td>66.000000</td>\n",
       "      <td>1253.000000</td>\n",
       "      <td>53.000000</td>\n",
       "      <td>0.000000</td>\n",
       "      <td>23.000000</td>\n",
       "      <td>52.000000</td>\n",
       "      <td>5.000000</td>\n",
       "      <td>...</td>\n",
       "      <td>15.000000</td>\n",
       "      <td>8.000000</td>\n",
       "      <td>12.000000</td>\n",
       "      <td>8.000000</td>\n",
       "      <td>19.000000</td>\n",
       "      <td>9.000000</td>\n",
       "      <td>12.000000</td>\n",
       "      <td>4.000000</td>\n",
       "      <td>1.000000</td>\n",
       "      <td>16.000000</td>\n",
       "    </tr>\n",
       "    <tr>\n",
       "      <th>50%</th>\n",
       "      <td>2016.000000</td>\n",
       "      <td>73.000000</td>\n",
       "      <td>1413.000000</td>\n",
       "      <td>74.000000</td>\n",
       "      <td>1407.000000</td>\n",
       "      <td>61.000000</td>\n",
       "      <td>0.000000</td>\n",
       "      <td>26.000000</td>\n",
       "      <td>57.000000</td>\n",
       "      <td>7.000000</td>\n",
       "      <td>...</td>\n",
       "      <td>19.000000</td>\n",
       "      <td>11.000000</td>\n",
       "      <td>16.000000</td>\n",
       "      <td>10.000000</td>\n",
       "      <td>22.000000</td>\n",
       "      <td>11.000000</td>\n",
       "      <td>15.000000</td>\n",
       "      <td>6.000000</td>\n",
       "      <td>3.000000</td>\n",
       "      <td>19.000000</td>\n",
       "    </tr>\n",
       "    <tr>\n",
       "      <th>75%</th>\n",
       "      <td>2020.000000</td>\n",
       "      <td>101.000000</td>\n",
       "      <td>3244.000000</td>\n",
       "      <td>81.000000</td>\n",
       "      <td>3245.000000</td>\n",
       "      <td>69.000000</td>\n",
       "      <td>0.000000</td>\n",
       "      <td>29.000000</td>\n",
       "      <td>62.000000</td>\n",
       "      <td>9.000000</td>\n",
       "      <td>...</td>\n",
       "      <td>23.000000</td>\n",
       "      <td>15.000000</td>\n",
       "      <td>21.000000</td>\n",
       "      <td>14.000000</td>\n",
       "      <td>25.000000</td>\n",
       "      <td>14.000000</td>\n",
       "      <td>18.000000</td>\n",
       "      <td>8.000000</td>\n",
       "      <td>4.000000</td>\n",
       "      <td>22.000000</td>\n",
       "    </tr>\n",
       "    <tr>\n",
       "      <th>max</th>\n",
       "      <td>2025.000000</td>\n",
       "      <td>132.000000</td>\n",
       "      <td>3480.000000</td>\n",
       "      <td>149.000000</td>\n",
       "      <td>3480.000000</td>\n",
       "      <td>144.000000</td>\n",
       "      <td>6.000000</td>\n",
       "      <td>58.000000</td>\n",
       "      <td>113.000000</td>\n",
       "      <td>30.000000</td>\n",
       "      <td>...</td>\n",
       "      <td>80.000000</td>\n",
       "      <td>48.000000</td>\n",
       "      <td>65.000000</td>\n",
       "      <td>38.000000</td>\n",
       "      <td>53.000000</td>\n",
       "      <td>34.000000</td>\n",
       "      <td>49.000000</td>\n",
       "      <td>26.000000</td>\n",
       "      <td>21.000000</td>\n",
       "      <td>47.000000</td>\n",
       "    </tr>\n",
       "  </tbody>\n",
       "</table>\n",
       "<p>8 rows × 33 columns</p>\n",
       "</div>"
      ],
      "text/plain": [
       "              Season         DayNum        WTeamID         WScore  \\\n",
       "count  198374.000000  198374.000000  198374.000000  198374.000000   \n",
       "mean     2015.470621      69.843291    2099.847868      74.183169   \n",
       "std         6.024751      35.933736     986.382716      11.406085   \n",
       "min      2003.000000       0.000000    1101.000000      30.000000   \n",
       "25%      2011.000000      37.000000    1260.000000      66.000000   \n",
       "50%      2016.000000      73.000000    1413.000000      74.000000   \n",
       "75%      2020.000000     101.000000    3244.000000      81.000000   \n",
       "max      2025.000000     132.000000    3480.000000     149.000000   \n",
       "\n",
       "             LTeamID         LScore          NumOT           WFGM  \\\n",
       "count  198374.000000  198374.000000  198374.000000  198374.000000   \n",
       "mean     2097.450588      61.187026       0.061787      26.176339   \n",
       "std       989.676138      11.373007       0.287403       4.811306   \n",
       "min      1101.000000      11.000000       0.000000       9.000000   \n",
       "25%      1253.000000      53.000000       0.000000      23.000000   \n",
       "50%      1407.000000      61.000000       0.000000      26.000000   \n",
       "75%      3245.000000      69.000000       0.000000      29.000000   \n",
       "max      3480.000000     144.000000       6.000000      58.000000   \n",
       "\n",
       "                WFGA          WFGM3  ...          LFGA3           LFTM  \\\n",
       "count  198374.000000  198374.000000  ...  198374.000000  198374.000000   \n",
       "mean       57.063405       6.912005  ...      19.248818      11.436922   \n",
       "std         7.828931       3.166580  ...       6.325219       5.239163   \n",
       "min        26.000000       0.000000  ...       0.000000       0.000000   \n",
       "25%        52.000000       5.000000  ...      15.000000       8.000000   \n",
       "50%        57.000000       7.000000  ...      19.000000      11.000000   \n",
       "75%        62.000000       9.000000  ...      23.000000      15.000000   \n",
       "max       113.000000      30.000000  ...      80.000000      48.000000   \n",
       "\n",
       "                LFTA            LOR            LDR           LAst  \\\n",
       "count  198374.000000  198374.000000  198374.000000  198374.000000   \n",
       "mean       16.826656      10.826832      21.949363      11.217125   \n",
       "std         6.987616       4.418293       4.708807       3.765042   \n",
       "min         0.000000       0.000000       1.000000       0.000000   \n",
       "25%        12.000000       8.000000      19.000000       9.000000   \n",
       "50%        16.000000      10.000000      22.000000      11.000000   \n",
       "75%        21.000000      14.000000      25.000000      14.000000   \n",
       "max        65.000000      38.000000      53.000000      34.000000   \n",
       "\n",
       "                 LTO           LStl           LBlk            LPF  \n",
       "count  198374.000000  198374.000000  198374.000000  198374.000000  \n",
       "mean       15.214630       6.453946       2.848942      18.853504  \n",
       "std         5.028571       2.985335       2.037092       4.587468  \n",
       "min         0.000000       0.000000       0.000000       3.000000  \n",
       "25%        12.000000       4.000000       1.000000      16.000000  \n",
       "50%        15.000000       6.000000       3.000000      19.000000  \n",
       "75%        18.000000       8.000000       4.000000      22.000000  \n",
       "max        49.000000      26.000000      21.000000      47.000000  \n",
       "\n",
       "[8 rows x 33 columns]"
      ]
     },
     "execution_count": 2,
     "metadata": {},
     "output_type": "execute_result"
    }
   ],
   "source": [
    "dataset = Data()\n",
    "\n",
    "dataset.games.describe()"
   ]
  },
  {
   "cell_type": "markdown",
   "id": "ee119045-207e-4dae-9ec7-1ef186642f48",
   "metadata": {},
   "source": [
    "The x's will be the indexes of two team IDs and program IDs, the y's will include and indicator of who won at the game stats"
   ]
  },
  {
   "cell_type": "code",
   "execution_count": 3,
   "id": "3abc258c-3999-4de4-bc7d-580218c95cdc",
   "metadata": {},
   "outputs": [
    {
     "name": "stdout",
     "output_type": "stream",
     "text": [
      "Loading cached data\n"
     ]
    }
   ],
   "source": [
    "train_loader, validation_loader = dataset.train_test_data()"
   ]
  },
  {
   "cell_type": "markdown",
   "id": "cf50ea84-42ce-462c-a3b3-3928a04aa7ef",
   "metadata": {},
   "source": [
    "## The Model\n",
    "Define the model. Combine the embeddings for the two teams, go to a hidden layer, and then output to a prediction if the first team won"
   ]
  },
  {
   "cell_type": "code",
   "execution_count": 4,
   "id": "d5629261-0b6d-44c9-828e-698e86006f00",
   "metadata": {},
   "outputs": [],
   "source": [
    "model = Model(embedding_sizes=[128, 512], model_sizes=(128,128), dropout=0.1, dataset=dataset).to(device)"
   ]
  },
  {
   "cell_type": "markdown",
   "id": "7d98325a-8ba0-466f-b3ca-6991e8450a08",
   "metadata": {},
   "source": [
    "## Training the model"
   ]
  },
  {
   "cell_type": "code",
   "execution_count": 5,
   "id": "2ab2ee77-d1dd-444f-b7bc-b5e7d057ec29",
   "metadata": {},
   "outputs": [],
   "source": [
    "loss_fn = nn.MSELoss()\n",
    "optimizer = torch.optim.Adam(model.parameters(), lr=0.001)"
   ]
  },
  {
   "cell_type": "markdown",
   "id": "553fca87-08c7-48e0-92dd-52ef4ff8463f",
   "metadata": {},
   "source": [
    "Train the model"
   ]
  },
  {
   "cell_type": "code",
   "execution_count": 6,
   "id": "eb5d54b3-9031-45bb-a66f-ca69765aa76c",
   "metadata": {},
   "outputs": [
    {
     "name": "stdout",
     "output_type": "stream",
     "text": [
      "Epoch 0\n",
      "Train: Accuracy: 52.51%, Stats loss: 47.206682 Result loss: 0.246384\n",
      "Validation: Accuracy: 52.58%, Stats loss: 47.054583 Result loss: 0.246431\n",
      "Epoch 1\n",
      "Train: Accuracy: 63.83%, Stats loss: 47.754198 Result loss: 0.218775\n",
      "Validation: Accuracy: 63.76%, Stats loss: 47.955850 Result loss: 0.218506\n",
      "Epoch 2\n",
      "Train: Accuracy: 67.70%, Stats loss: 52.876410 Result loss: 0.201621\n",
      "Validation: Accuracy: 67.70%, Stats loss: 53.233140 Result loss: 0.202847\n",
      "Epoch 3\n",
      "Train: Accuracy: 65.86%, Stats loss: 49.094177 Result loss: 0.205607\n",
      "Validation: Accuracy: 65.46%, Stats loss: 49.628423 Result loss: 0.208335\n",
      "Epoch 4\n",
      "Train: Accuracy: 72.39%, Stats loss: 47.344315 Result loss: 0.180020\n",
      "Validation: Accuracy: 71.13%, Stats loss: 48.051276 Result loss: 0.186123\n",
      "Epoch 5\n",
      "Train: Accuracy: 73.41%, Stats loss: 49.878504 Result loss: 0.173423\n",
      "Validation: Accuracy: 71.94%, Stats loss: 50.675102 Result loss: 0.181872\n",
      "Epoch 6\n",
      "Train: Accuracy: 75.07%, Stats loss: 48.135970 Result loss: 0.166600\n",
      "Validation: Accuracy: 73.36%, Stats loss: 48.958896 Result loss: 0.176295\n",
      "Epoch 7\n",
      "Train: Accuracy: 74.94%, Stats loss: 46.429447 Result loss: 0.165171\n",
      "Validation: Accuracy: 73.11%, Stats loss: 47.275191 Result loss: 0.176221\n",
      "Epoch 8\n",
      "Train: Accuracy: 75.59%, Stats loss: 43.957885 Result loss: 0.162207\n",
      "Validation: Accuracy: 73.67%, Stats loss: 45.011801 Result loss: 0.173759\n",
      "Epoch 9\n",
      "Train: Accuracy: 75.58%, Stats loss: 44.578043 Result loss: 0.162266\n",
      "Validation: Accuracy: 73.45%, Stats loss: 45.665960 Result loss: 0.174365\n",
      "Epoch 10\n",
      "Train: Accuracy: 75.79%, Stats loss: 46.982720 Result loss: 0.160677\n",
      "Validation: Accuracy: 73.83%, Stats loss: 48.119928 Result loss: 0.173005\n",
      "Epoch 11\n",
      "Train: Accuracy: 76.05%, Stats loss: 44.712701 Result loss: 0.159366\n",
      "Validation: Accuracy: 73.94%, Stats loss: 45.874913 Result loss: 0.172115\n",
      "Epoch 12\n",
      "Train: Accuracy: 76.19%, Stats loss: 45.032230 Result loss: 0.159365\n",
      "Validation: Accuracy: 74.07%, Stats loss: 46.296907 Result loss: 0.171666\n",
      "Epoch 13\n",
      "Train: Accuracy: 76.11%, Stats loss: 43.464459 Result loss: 0.159536\n",
      "Validation: Accuracy: 73.88%, Stats loss: 44.930180 Result loss: 0.171838\n",
      "Epoch 14\n",
      "Train: Accuracy: 76.28%, Stats loss: 40.557754 Result loss: 0.158316\n",
      "Validation: Accuracy: 73.88%, Stats loss: 42.066391 Result loss: 0.171502\n"
     ]
    }
   ],
   "source": [
    "n_epochs = 15\n",
    "for i in range(n_epochs):\n",
    "    print(f\"Epoch {i}\")\n",
    "    train(train_loader, model, loss_fn, optimizer, device)\n",
    "    test(train_loader, model, loss_fn, device, label=\"Train\")\n",
    "    test(validation_loader, model, loss_fn, device, label=\"Validation\")"
   ]
  },
  {
   "cell_type": "markdown",
   "id": "41aaf28c-130c-4579-a627-7475f7abc2a2",
   "metadata": {},
   "source": [
    "Fine tune with only the result"
   ]
  },
  {
   "cell_type": "code",
   "execution_count": 7,
   "id": "d4074860-e773-4900-96d3-7859687f15ae",
   "metadata": {},
   "outputs": [
    {
     "name": "stdout",
     "output_type": "stream",
     "text": [
      "Epoch 0\n",
      "Train: Accuracy: 76.47%, Stats loss: 28.738524 Result loss: 0.157151\n",
      "Validation: Accuracy: 74.25%, Stats loss: 30.444574 Result loss: 0.171003\n",
      "Epoch 1\n",
      "Train: Accuracy: 76.21%, Stats loss: 31.124827 Result loss: 0.158332\n",
      "Validation: Accuracy: 73.95%, Stats loss: 32.742888 Result loss: 0.172664\n",
      "Epoch 2\n",
      "Train: Accuracy: 76.24%, Stats loss: 34.360288 Result loss: 0.158166\n",
      "Validation: Accuracy: 73.83%, Stats loss: 35.872392 Result loss: 0.173151\n",
      "Epoch 3\n",
      "Train: Accuracy: 76.76%, Stats loss: 38.160312 Result loss: 0.155620\n",
      "Validation: Accuracy: 74.19%, Stats loss: 39.583336 Result loss: 0.171265\n"
     ]
    }
   ],
   "source": [
    "for i in range(4):\n",
    "    print(f\"Epoch {i}\")\n",
    "    train(train_loader, model, loss_fn, optimizer, device, full_loss=False)\n",
    "    test(train_loader, model, loss_fn, device, label=\"Train\")\n",
    "    test(validation_loader, model, loss_fn, device, label=\"Validation\")"
   ]
  },
  {
   "cell_type": "markdown",
   "id": "3a55a843-9fa3-443f-8342-410abd74688c",
   "metadata": {},
   "source": [
    "With this model we can predict the output of about three quarters of regular season games."
   ]
  },
  {
   "cell_type": "markdown",
   "id": "7afe60ad-2cd9-4339-9600-62264350e6bd",
   "metadata": {},
   "source": [
    "## Load the tourney data to test with"
   ]
  },
  {
   "cell_type": "code",
   "execution_count": 8,
   "id": "093fcd61-386e-4330-b5af-e9d93df1b144",
   "metadata": {},
   "outputs": [],
   "source": [
    "tourney_dataset = dataset.gen_dataset(dataset.tourney)\n",
    "tourney_loader = DataLoader(tourney_dataset, batch_size=500, shuffle=True)"
   ]
  },
  {
   "cell_type": "code",
   "execution_count": 9,
   "id": "08340cd1-6cb0-400a-80fa-dda1171789bd",
   "metadata": {},
   "outputs": [
    {
     "name": "stdout",
     "output_type": "stream",
     "text": [
      "Tourney: Accuracy: 73.84%, Stats loss: 39.395060 Result loss: 0.167882\n"
     ]
    }
   ],
   "source": [
    "test(tourney_loader, model, loss_fn, device, label=\"Tourney\")"
   ]
  },
  {
   "cell_type": "markdown",
   "id": "ada7c18a-8267-4926-a191-5c3a218bfde2",
   "metadata": {},
   "source": [
    "When it comes to tournament results we get a little worse. The lower result is likely due to teams having increased pairity."
   ]
  },
  {
   "cell_type": "markdown",
   "id": "658506a6-6cff-48e4-9562-28cabf03663a",
   "metadata": {},
   "source": [
    "Train with early torney data"
   ]
  },
  {
   "cell_type": "code",
   "execution_count": 10,
   "id": "1b635c43-1cee-4bca-a38c-0cb71c4f3ee4",
   "metadata": {},
   "outputs": [],
   "source": [
    "tourney_df = dataset.tourney[dataset.tourney.Season < 2021]\n",
    "\n",
    "tourney_train_df, tourney_validation_df = train_test_split(tourney_df, train_size=0.8)\n",
    "tourney_train_data = dataset.gen_dataset(tourney_train_df)\n",
    "tourney_validation_data = dataset.gen_dataset(tourney_validation_df)\n",
    "\n",
    "tourney_train_loader = DataLoader(tourney_train_data, batch_size=500)\n",
    "tourney_validation_loader = DataLoader(tourney_validation_data, batch_size=500)"
   ]
  },
  {
   "cell_type": "code",
   "execution_count": 11,
   "id": "911e30c5-e7d4-4bd5-b15a-8fce5a92322b",
   "metadata": {},
   "outputs": [],
   "source": [
    "for param in model.team_embedding.parameters():\n",
    "    param.requires_grad=False\n",
    "for param in model.program_embedding.parameters():\n",
    "    param.requires_grad=False"
   ]
  },
  {
   "cell_type": "code",
   "execution_count": 12,
   "id": "b985479b-335f-4a69-ad88-6738891b934e",
   "metadata": {},
   "outputs": [
    {
     "name": "stdout",
     "output_type": "stream",
     "text": [
      "Epoch 0\n",
      "Train: Accuracy: 73.14%, Stats loss: 40.523599 Result loss: 0.169425\n",
      "Validation: Accuracy: 74.21%, Stats loss: 40.000788 Result loss: 0.171116\n",
      "Epoch 1\n",
      "Train: Accuracy: 67.84%, Stats loss: 41.984469 Result loss: 0.219457\n",
      "Validation: Accuracy: 67.48%, Stats loss: 41.388264 Result loss: 0.219832\n",
      "Epoch 2\n",
      "Train: Accuracy: 73.50%, Stats loss: 42.924543 Result loss: 0.173968\n",
      "Validation: Accuracy: 75.21%, Stats loss: 42.246563 Result loss: 0.173769\n",
      "Epoch 3\n",
      "Train: Accuracy: 74.18%, Stats loss: 43.872863 Result loss: 0.169553\n",
      "Validation: Accuracy: 76.50%, Stats loss: 43.158166 Result loss: 0.170385\n",
      "Epoch 4\n",
      "Train: Accuracy: 72.74%, Stats loss: 44.921731 Result loss: 0.181968\n",
      "Validation: Accuracy: 72.78%, Stats loss: 44.204015 Result loss: 0.184198\n",
      "Epoch 5\n",
      "Train: Accuracy: 73.85%, Stats loss: 45.770155 Result loss: 0.172250\n",
      "Validation: Accuracy: 74.64%, Stats loss: 45.029332 Result loss: 0.175985\n",
      "Epoch 6\n",
      "Train: Accuracy: 74.68%, Stats loss: 46.620849 Result loss: 0.164455\n",
      "Validation: Accuracy: 75.21%, Stats loss: 45.852055 Result loss: 0.169729\n",
      "Epoch 7\n",
      "Train: Accuracy: 73.67%, Stats loss: 47.514807 Result loss: 0.169795\n",
      "Validation: Accuracy: 73.64%, Stats loss: 46.729711 Result loss: 0.175953\n",
      "Epoch 8\n",
      "Train: Accuracy: 74.21%, Stats loss: 48.331506 Result loss: 0.166422\n",
      "Validation: Accuracy: 74.21%, Stats loss: 47.522909 Result loss: 0.173461\n",
      "Epoch 9\n",
      "Train: Accuracy: 74.86%, Stats loss: 49.115269 Result loss: 0.163943\n",
      "Validation: Accuracy: 74.50%, Stats loss: 48.285003 Result loss: 0.171709\n"
     ]
    }
   ],
   "source": [
    "for i in range(10):\n",
    "    print(f\"Epoch {i}\")\n",
    "    train(tourney_train_loader, model, loss_fn, optimizer, device, full_loss=False)\n",
    "    test(tourney_train_loader, model, loss_fn, device, label=\"Train\")\n",
    "    test(tourney_validation_loader, model, loss_fn, device, label=\"Validation\")"
   ]
  },
  {
   "cell_type": "markdown",
   "id": "9bd8ba4d-cd61-4693-9cda-963ecca19c07",
   "metadata": {},
   "source": [
    "### Performance by year\n"
   ]
  },
  {
   "cell_type": "code",
   "execution_count": 13,
   "id": "fda1ddd2-af9c-4bed-9812-fc24e0c56d4d",
   "metadata": {},
   "outputs": [
    {
     "name": "stdout",
     "output_type": "stream",
     "text": [
      "2003 Tournament: Accuracy: 75.78%, Stats loss: 46.292977 Result loss: 0.170337\n",
      "2004 Tournament: Accuracy: 71.09%, Stats loss: 47.512802 Result loss: 0.178198\n",
      "2005 Tournament: Accuracy: 75.78%, Stats loss: 50.357204 Result loss: 0.173980\n",
      "2006 Tournament: Accuracy: 69.53%, Stats loss: 47.931528 Result loss: 0.196173\n",
      "2007 Tournament: Accuracy: 72.66%, Stats loss: 50.362513 Result loss: 0.169179\n",
      "2008 Tournament: Accuracy: 75.00%, Stats loss: 50.145625 Result loss: 0.164608\n",
      "2009 Tournament: Accuracy: 77.34%, Stats loss: 48.571267 Result loss: 0.164459\n",
      "2010 Tournament: Accuracy: 74.80%, Stats loss: 48.310326 Result loss: 0.162069\n",
      "2011 Tournament: Accuracy: 72.31%, Stats loss: 45.640664 Result loss: 0.175736\n",
      "2012 Tournament: Accuracy: 77.31%, Stats loss: 45.940925 Result loss: 0.153567\n",
      "2013 Tournament: Accuracy: 73.08%, Stats loss: 48.004678 Result loss: 0.175580\n",
      "2014 Tournament: Accuracy: 74.23%, Stats loss: 45.733544 Result loss: 0.161482\n",
      "2015 Tournament: Accuracy: 79.62%, Stats loss: 49.533336 Result loss: 0.144449\n",
      "2016 Tournament: Accuracy: 73.08%, Stats loss: 52.551967 Result loss: 0.173038\n",
      "2017 Tournament: Accuracy: 78.46%, Stats loss: 52.558269 Result loss: 0.146527\n",
      "2018 Tournament: Accuracy: 72.31%, Stats loss: 51.333807 Result loss: 0.183870\n",
      "2019 Tournament: Accuracy: 75.77%, Stats loss: 50.593880 Result loss: 0.149785\n",
      "2021 Tournament: Accuracy: 69.77%, Stats loss: 42.994003 Result loss: 0.183792\n",
      "2022 Tournament: Accuracy: 73.13%, Stats loss: 50.165958 Result loss: 0.182238\n",
      "2023 Tournament: Accuracy: 70.15%, Stats loss: 45.468960 Result loss: 0.192222\n",
      "2024 Tournament: Accuracy: 72.39%, Stats loss: 48.827073 Result loss: 0.168599\n"
     ]
    }
   ],
   "source": [
    "for season in dataset.tourney.Season.unique():\n",
    "    loader = dataset.tourney_data(year=season)\n",
    "    test(loader, model, loss_fn, device, label=f\"{season} Tournament\")"
   ]
  },
  {
   "cell_type": "code",
   "execution_count": 14,
   "id": "509da685-8b79-473b-83d8-74e9d47ebe72",
   "metadata": {},
   "outputs": [
    {
     "name": "stdout",
     "output_type": "stream",
     "text": [
      "Stage 1: Accuracy: 71.37%, Stats loss: 46.900439 Result loss: 0.181693\n"
     ]
    }
   ],
   "source": [
    "stage1_loader = dataset.tourney_data(after=2021)\n",
    "test(stage1_loader, model, loss_fn, device=device, label=f\"Stage 1\")"
   ]
  },
  {
   "cell_type": "markdown",
   "id": "c6c2687e-5887-49ee-ab96-ae27a6f2bb8e",
   "metadata": {},
   "source": [
    "Breaking out by league"
   ]
  },
  {
   "cell_type": "code",
   "execution_count": 15,
   "id": "21b242b3-48af-4495-9605-08880cbc820c",
   "metadata": {},
   "outputs": [
    {
     "name": "stdout",
     "output_type": "stream",
     "text": [
      "2003 M Tournament: Accuracy: 75.78%, Stats loss: 46.292977 Result loss: 0.170337\n",
      "2004 M Tournament: Accuracy: 71.09%, Stats loss: 47.512802 Result loss: 0.178198\n",
      "2005 M Tournament: Accuracy: 75.78%, Stats loss: 50.357204 Result loss: 0.173980\n",
      "2006 M Tournament: Accuracy: 69.53%, Stats loss: 47.931528 Result loss: 0.196173\n",
      "2007 M Tournament: Accuracy: 72.66%, Stats loss: 50.362513 Result loss: 0.169179\n",
      "2008 M Tournament: Accuracy: 75.00%, Stats loss: 50.145625 Result loss: 0.164608\n",
      "2009 M Tournament: Accuracy: 77.34%, Stats loss: 48.571267 Result loss: 0.164459\n",
      "2010 M Tournament: Accuracy: 71.88%, Stats loss: 46.688357 Result loss: 0.190434\n",
      "2010 W Tournament: Accuracy: 77.78%, Stats loss: 49.958041 Result loss: 0.133254\n",
      "2011 M Tournament: Accuracy: 66.42%, Stats loss: 43.013172 Result loss: 0.222603\n",
      "2011 W Tournament: Accuracy: 78.57%, Stats loss: 48.434981 Result loss: 0.125892\n",
      "2012 M Tournament: Accuracy: 70.90%, Stats loss: 38.685952 Result loss: 0.189210\n",
      "2012 W Tournament: Accuracy: 84.13%, Stats loss: 53.656532 Result loss: 0.115661\n",
      "2013 M Tournament: Accuracy: 67.91%, Stats loss: 41.398369 Result loss: 0.198483\n",
      "2013 W Tournament: Accuracy: 78.57%, Stats loss: 55.030436 Result loss: 0.151223\n",
      "2014 M Tournament: Accuracy: 68.66%, Stats loss: 42.405191 Result loss: 0.200266\n",
      "2014 W Tournament: Accuracy: 80.16%, Stats loss: 49.273222 Result loss: 0.120236\n",
      "2015 M Tournament: Accuracy: 76.12%, Stats loss: 45.255813 Result loss: 0.168723\n",
      "2015 W Tournament: Accuracy: 83.33%, Stats loss: 54.082447 Result loss: 0.118634\n",
      "2016 M Tournament: Accuracy: 73.88%, Stats loss: 49.544076 Result loss: 0.185250\n",
      "2016 W Tournament: Accuracy: 72.22%, Stats loss: 55.750836 Result loss: 0.160051\n",
      "2017 M Tournament: Accuracy: 73.88%, Stats loss: 50.054340 Result loss: 0.159751\n",
      "2017 W Tournament: Accuracy: 83.33%, Stats loss: 55.221176 Result loss: 0.132464\n",
      "2018 M Tournament: Accuracy: 68.66%, Stats loss: 44.982857 Result loss: 0.205090\n",
      "2018 W Tournament: Accuracy: 76.19%, Stats loss: 58.087992 Result loss: 0.161304\n",
      "2019 M Tournament: Accuracy: 72.39%, Stats loss: 45.868891 Result loss: 0.169608\n",
      "2019 W Tournament: Accuracy: 79.37%, Stats loss: 55.618869 Result loss: 0.128703\n",
      "2021 M Tournament: Accuracy: 63.64%, Stats loss: 43.703025 Result loss: 0.212178\n",
      "2021 W Tournament: Accuracy: 76.19%, Stats loss: 42.251217 Result loss: 0.154055\n",
      "2022 M Tournament: Accuracy: 66.42%, Stats loss: 48.849615 Result loss: 0.218581\n",
      "2022 W Tournament: Accuracy: 79.85%, Stats loss: 51.482301 Result loss: 0.145896\n",
      "2023 M Tournament: Accuracy: 66.42%, Stats loss: 42.883483 Result loss: 0.217574\n",
      "2023 W Tournament: Accuracy: 73.88%, Stats loss: 48.054437 Result loss: 0.166871\n",
      "2024 M Tournament: Accuracy: 66.42%, Stats loss: 50.645586 Result loss: 0.207277\n",
      "2024 W Tournament: Accuracy: 78.36%, Stats loss: 47.008560 Result loss: 0.129920\n"
     ]
    }
   ],
   "source": [
    "for season in dataset.tourney.Season.unique():\n",
    "    for league in dataset.tourney[dataset.tourney.Season == season].League.unique():\n",
    "        loader = dataset.tourney_data(year=season, league=league)\n",
    "        test(loader, model, loss_fn, device, label=f\"{season} {league} Tournament\")"
   ]
  },
  {
   "cell_type": "markdown",
   "id": "9e8e259c-bcf2-43bd-a478-acbd02ef7b24",
   "metadata": {},
   "source": [
    "## Inspect the model\n",
    "First what are the sizes of the smallest input and output weights"
   ]
  },
  {
   "cell_type": "code",
   "execution_count": 16,
   "id": "f7a94e95-ac8a-4a7c-a148-d6aa4dfa6f6a",
   "metadata": {
    "scrolled": true
   },
   "outputs": [
    {
     "name": "stdout",
     "output_type": "stream",
     "text": [
      "Program embedding min: 2.707756\n",
      "Team embedding min: 3.589032\n",
      "FC min: 0.000109\n"
     ]
    }
   ],
   "source": [
    "print(f\"Program embedding min: {model.program_embedding.state_dict()['weight'].abs().max(axis=0).values.min().item():>8f}\")\n",
    "print(f\"Team embedding min: {model.team_embedding.state_dict()['weight'].abs().max(axis=0).values.min().item():>8f}\")\n",
    "print(f\"FC min: {model.result_fc.state_dict()['weight'].abs().max(axis=0).values.min().item():>8f}\")"
   ]
  },
  {
   "cell_type": "markdown",
   "id": "ff1e4997-5ee2-40d3-b7ab-28e722b20e84",
   "metadata": {},
   "source": [
    "Calculate the average gradient for each input feature"
   ]
  },
  {
   "cell_type": "code",
   "execution_count": 17,
   "id": "57673837-e393-4a99-896e-af251d18c8d0",
   "metadata": {},
   "outputs": [],
   "source": [
    "for param in model.team_embedding.parameters():\n",
    "    param.requires_grad=True\n",
    "for param in model.program_embedding.parameters():\n",
    "    param.requires_grad=True"
   ]
  },
  {
   "cell_type": "code",
   "execution_count": 18,
   "id": "1e25e971-f8cc-47df-9e5f-d15de0441bcc",
   "metadata": {},
   "outputs": [],
   "source": [
    "program_weights, team_weights, stats_weights = feature_eval(model, tourney_loader)"
   ]
  },
  {
   "cell_type": "code",
   "execution_count": 19,
   "id": "6aeb3583-a9f4-4e04-b040-5194d7000441",
   "metadata": {},
   "outputs": [
    {
     "data": {
      "text/plain": [
       "(0.015611924231052399, 0.019144713878631592)"
      ]
     },
     "execution_count": 19,
     "metadata": {},
     "output_type": "execute_result"
    }
   ],
   "source": [
    "program_weights.abs().sum().item(), team_weights.abs().sum().item()"
   ]
  },
  {
   "cell_type": "code",
   "execution_count": 20,
   "id": "f47b2ee6-c1ab-4741-b959-883fd51e0c89",
   "metadata": {},
   "outputs": [
    {
     "name": "stdout",
     "output_type": "stream",
     "text": [
      "Year:\t0.068918\n",
      "Game:\t-0.030033\n",
      "League:\t-0.150893\n"
     ]
    }
   ],
   "source": [
    "print(f\"Year:\\t{stats_weights[0]:>4f}\")\n",
    "print(f\"Game:\\t{stats_weights[1]:>4f}\")\n",
    "print(f\"League:\\t{stats_weights[2]:>4f}\")"
   ]
  },
  {
   "cell_type": "markdown",
   "id": "e4afd4bc-a7fc-43bd-a1b6-1b37a85f8f79",
   "metadata": {},
   "source": [
    "## Generating the submission file\n",
    "### Phase 2\n",
    "\n",
    "Write the results"
   ]
  },
  {
   "cell_type": "code",
   "execution_count": 21,
   "id": "5fab9e75-36e9-47a4-826f-42c9588de50f",
   "metadata": {},
   "outputs": [],
   "source": [
    "odds = model_odds(dataset, 2025, 'M', model)"
   ]
  },
  {
   "cell_type": "code",
   "execution_count": 22,
   "id": "aa73ccc9-58fb-4142-a558-cf8c79ae0ac5",
   "metadata": {
    "scrolled": true
   },
   "outputs": [],
   "source": [
    "gen_submission(model, dataset)"
   ]
  },
  {
   "cell_type": "markdown",
   "id": "38e3b7d8-88d5-4f18-aad2-ce4ede2941f9",
   "metadata": {},
   "source": [
    "## Save the model"
   ]
  },
  {
   "cell_type": "code",
   "execution_count": 23,
   "id": "5da7e66a-9601-40f4-bec7-7aef34b5f229",
   "metadata": {},
   "outputs": [],
   "source": [
    "torch.save(model.state_dict(), 'model.pth')"
   ]
  },
  {
   "cell_type": "markdown",
   "id": "667cb6e9-8b1f-459c-be76-f61f39b30f49",
   "metadata": {},
   "source": [
    "## Moderated model\n",
    "\n",
    "Moderate a model by pushing it towards 0.5"
   ]
  },
  {
   "cell_type": "code",
   "execution_count": 24,
   "id": "e18455d2-3fa2-480b-a776-c7fd35255c8f",
   "metadata": {},
   "outputs": [],
   "source": [
    "moderated = ModeratedModel(model, 0.75)"
   ]
  },
  {
   "cell_type": "code",
   "execution_count": 25,
   "id": "215a1a7b-ae81-4bf7-8b61-12f2af6e532f",
   "metadata": {
    "scrolled": true
   },
   "outputs": [
    {
     "name": "stdout",
     "output_type": "stream",
     "text": [
      "2003 Tournament: Accuracy: 75.78%, Stats loss: 135.510502 Result loss: 0.170337\n",
      "2004 Tournament: Accuracy: 71.09%, Stats loss: 133.569301 Result loss: 0.178198\n",
      "2005 Tournament: Accuracy: 75.78%, Stats loss: 137.189553 Result loss: 0.173980\n",
      "2006 Tournament: Accuracy: 69.53%, Stats loss: 129.811370 Result loss: 0.196173\n",
      "2007 Tournament: Accuracy: 72.66%, Stats loss: 139.023585 Result loss: 0.169179\n",
      "2008 Tournament: Accuracy: 75.00%, Stats loss: 137.650415 Result loss: 0.164608\n",
      "2009 Tournament: Accuracy: 77.34%, Stats loss: 139.123234 Result loss: 0.164459\n",
      "2010 Tournament: Accuracy: 74.80%, Stats loss: 133.522514 Result loss: 0.162069\n",
      "2011 Tournament: Accuracy: 72.31%, Stats loss: 127.846658 Result loss: 0.175736\n",
      "2012 Tournament: Accuracy: 77.31%, Stats loss: 127.206225 Result loss: 0.153567\n",
      "2013 Tournament: Accuracy: 73.08%, Stats loss: 130.906086 Result loss: 0.175580\n",
      "2014 Tournament: Accuracy: 74.23%, Stats loss: 129.540168 Result loss: 0.161482\n",
      "2015 Tournament: Accuracy: 79.62%, Stats loss: 135.706381 Result loss: 0.144449\n",
      "2016 Tournament: Accuracy: 73.08%, Stats loss: 144.668747 Result loss: 0.173038\n",
      "2017 Tournament: Accuracy: 78.46%, Stats loss: 148.214009 Result loss: 0.146527\n",
      "2018 Tournament: Accuracy: 72.31%, Stats loss: 143.353892 Result loss: 0.183870\n",
      "2019 Tournament: Accuracy: 75.77%, Stats loss: 143.267840 Result loss: 0.149785\n",
      "2021 Tournament: Accuracy: 69.77%, Stats loss: 124.472763 Result loss: 0.183792\n",
      "2022 Tournament: Accuracy: 73.13%, Stats loss: 137.393379 Result loss: 0.182238\n",
      "2023 Tournament: Accuracy: 70.15%, Stats loss: 130.787742 Result loss: 0.192222\n",
      "2024 Tournament: Accuracy: 72.39%, Stats loss: 139.431897 Result loss: 0.168599\n"
     ]
    }
   ],
   "source": [
    "for season in dataset.tourney.Season.unique():\n",
    "    loader = dataset.tourney_data(season)\n",
    "    test(loader, moderated, loss_fn, label=f\"{season} Tournament\")"
   ]
  },
  {
   "cell_type": "markdown",
   "id": "2ecee29c-6762-463a-89ca-ee49dc3e72db",
   "metadata": {},
   "source": [
    "## Dig into 2023 results"
   ]
  },
  {
   "cell_type": "code",
   "execution_count": 26,
   "id": "cec1416b-ee18-4730-8210-6563239edd23",
   "metadata": {},
   "outputs": [],
   "source": [
    "loader = dataset.tourney_data(2023)\n",
    "\n",
    "x, y = loader.dataset.tensors\n",
    "\n",
    "preds = model(x.to(device))"
   ]
  },
  {
   "cell_type": "code",
   "execution_count": 27,
   "id": "86c62b6c-434f-4f23-84fe-0f227ab6f4c2",
   "metadata": {},
   "outputs": [],
   "source": [
    "t_2023 = pd.DataFrame({'winner_name': [dataset.all_teams.loc[dataset.programs.loc[i].TeamID].TeamName for i in x[:,0].tolist()],\n",
    "                       'loser_name': [dataset.all_teams.loc[dataset.programs.loc[i].TeamID].TeamName for i in x[:,2].tolist()],\n",
    "                       'winner': [dataset.programs.loc[i].TeamID for i in x[:,0].tolist()],\n",
    "                       'loser': [dataset.programs.loc[i].TeamID for i in x[:,2].tolist()],\n",
    "                       'actual': y[:,0].reshape([-1]),\n",
    "                       'predicted': np.array(preds[0].tolist()).reshape([-1])}).iloc[:67]"
   ]
  },
  {
   "cell_type": "code",
   "execution_count": 28,
   "id": "aa17e8a0-ac98-415b-9cb6-d2fc251de985",
   "metadata": {
    "scrolled": true
   },
   "outputs": [
    {
     "data": {
      "text/html": [
       "<div>\n",
       "<style scoped>\n",
       "    .dataframe tbody tr th:only-of-type {\n",
       "        vertical-align: middle;\n",
       "    }\n",
       "\n",
       "    .dataframe tbody tr th {\n",
       "        vertical-align: top;\n",
       "    }\n",
       "\n",
       "    .dataframe thead th {\n",
       "        text-align: right;\n",
       "    }\n",
       "</style>\n",
       "<table border=\"1\" class=\"dataframe\">\n",
       "  <thead>\n",
       "    <tr style=\"text-align: right;\">\n",
       "      <th></th>\n",
       "      <th>winner_name</th>\n",
       "      <th>loser_name</th>\n",
       "      <th>winner</th>\n",
       "      <th>loser</th>\n",
       "      <th>actual</th>\n",
       "      <th>predicted</th>\n",
       "    </tr>\n",
       "  </thead>\n",
       "  <tbody>\n",
       "    <tr>\n",
       "      <th>23</th>\n",
       "      <td>F Dickinson</td>\n",
       "      <td>Purdue</td>\n",
       "      <td>1192</td>\n",
       "      <td>1345</td>\n",
       "      <td>1.0</td>\n",
       "      <td>0.006511</td>\n",
       "    </tr>\n",
       "    <tr>\n",
       "      <th>15</th>\n",
       "      <td>Princeton</td>\n",
       "      <td>Arizona</td>\n",
       "      <td>1343</td>\n",
       "      <td>1112</td>\n",
       "      <td>1.0</td>\n",
       "      <td>0.049004</td>\n",
       "    </tr>\n",
       "    <tr>\n",
       "      <th>8</th>\n",
       "      <td>Furman</td>\n",
       "      <td>Virginia</td>\n",
       "      <td>1202</td>\n",
       "      <td>1438</td>\n",
       "      <td>1.0</td>\n",
       "      <td>0.118974</td>\n",
       "    </tr>\n",
       "    <tr>\n",
       "      <th>39</th>\n",
       "      <td>Princeton</td>\n",
       "      <td>Missouri</td>\n",
       "      <td>1343</td>\n",
       "      <td>1281</td>\n",
       "      <td>1.0</td>\n",
       "      <td>0.138603</td>\n",
       "    </tr>\n",
       "    <tr>\n",
       "      <th>53</th>\n",
       "      <td>FL Atlantic</td>\n",
       "      <td>Tennessee</td>\n",
       "      <td>1194</td>\n",
       "      <td>1397</td>\n",
       "      <td>1.0</td>\n",
       "      <td>0.159113</td>\n",
       "    </tr>\n",
       "    <tr>\n",
       "      <th>58</th>\n",
       "      <td>San Diego St</td>\n",
       "      <td>Alabama</td>\n",
       "      <td>1361</td>\n",
       "      <td>1104</td>\n",
       "      <td>1.0</td>\n",
       "      <td>0.210439</td>\n",
       "    </tr>\n",
       "    <tr>\n",
       "      <th>57</th>\n",
       "      <td>Miami FL</td>\n",
       "      <td>Houston</td>\n",
       "      <td>1274</td>\n",
       "      <td>1222</td>\n",
       "      <td>1.0</td>\n",
       "      <td>0.230937</td>\n",
       "    </tr>\n",
       "    <tr>\n",
       "      <th>54</th>\n",
       "      <td>Gonzaga</td>\n",
       "      <td>UCLA</td>\n",
       "      <td>1211</td>\n",
       "      <td>1417</td>\n",
       "      <td>1.0</td>\n",
       "      <td>0.240717</td>\n",
       "    </tr>\n",
       "    <tr>\n",
       "      <th>37</th>\n",
       "      <td>Arkansas</td>\n",
       "      <td>Kansas</td>\n",
       "      <td>1116</td>\n",
       "      <td>1242</td>\n",
       "      <td>1.0</td>\n",
       "      <td>0.267951</td>\n",
       "    </tr>\n",
       "    <tr>\n",
       "      <th>14</th>\n",
       "      <td>Penn St</td>\n",
       "      <td>Texas A&amp;M</td>\n",
       "      <td>1336</td>\n",
       "      <td>1401</td>\n",
       "      <td>1.0</td>\n",
       "      <td>0.272074</td>\n",
       "    </tr>\n",
       "    <tr>\n",
       "      <th>45</th>\n",
       "      <td>Creighton</td>\n",
       "      <td>Baylor</td>\n",
       "      <td>1166</td>\n",
       "      <td>1124</td>\n",
       "      <td>1.0</td>\n",
       "      <td>0.289445</td>\n",
       "    </tr>\n",
       "    <tr>\n",
       "      <th>24</th>\n",
       "      <td>FL Atlantic</td>\n",
       "      <td>Memphis</td>\n",
       "      <td>1194</td>\n",
       "      <td>1272</td>\n",
       "      <td>1.0</td>\n",
       "      <td>0.307428</td>\n",
       "    </tr>\n",
       "    <tr>\n",
       "      <th>12</th>\n",
       "      <td>Missouri</td>\n",
       "      <td>Utah St</td>\n",
       "      <td>1281</td>\n",
       "      <td>1429</td>\n",
       "      <td>1.0</td>\n",
       "      <td>0.337931</td>\n",
       "    </tr>\n",
       "    <tr>\n",
       "      <th>55</th>\n",
       "      <td>Kansas St</td>\n",
       "      <td>Michigan St</td>\n",
       "      <td>1243</td>\n",
       "      <td>1277</td>\n",
       "      <td>1.0</td>\n",
       "      <td>0.342101</td>\n",
       "    </tr>\n",
       "    <tr>\n",
       "      <th>48</th>\n",
       "      <td>Kansas St</td>\n",
       "      <td>Kentucky</td>\n",
       "      <td>1243</td>\n",
       "      <td>1246</td>\n",
       "      <td>1.0</td>\n",
       "      <td>0.342770</td>\n",
       "    </tr>\n",
       "    <tr>\n",
       "      <th>62</th>\n",
       "      <td>Miami FL</td>\n",
       "      <td>Texas</td>\n",
       "      <td>1274</td>\n",
       "      <td>1400</td>\n",
       "      <td>1.0</td>\n",
       "      <td>0.344221</td>\n",
       "    </tr>\n",
       "    <tr>\n",
       "      <th>2</th>\n",
       "      <td>Arizona St</td>\n",
       "      <td>Nevada</td>\n",
       "      <td>1113</td>\n",
       "      <td>1305</td>\n",
       "      <td>1.0</td>\n",
       "      <td>0.350637</td>\n",
       "    </tr>\n",
       "    <tr>\n",
       "      <th>32</th>\n",
       "      <td>Pittsburgh</td>\n",
       "      <td>Iowa St</td>\n",
       "      <td>1338</td>\n",
       "      <td>1235</td>\n",
       "      <td>1.0</td>\n",
       "      <td>0.351134</td>\n",
       "    </tr>\n",
       "    <tr>\n",
       "      <th>63</th>\n",
       "      <td>San Diego St</td>\n",
       "      <td>Creighton</td>\n",
       "      <td>1361</td>\n",
       "      <td>1166</td>\n",
       "      <td>1.0</td>\n",
       "      <td>0.356783</td>\n",
       "    </tr>\n",
       "    <tr>\n",
       "      <th>50</th>\n",
       "      <td>Michigan St</td>\n",
       "      <td>Marquette</td>\n",
       "      <td>1277</td>\n",
       "      <td>1266</td>\n",
       "      <td>1.0</td>\n",
       "      <td>0.358539</td>\n",
       "    </tr>\n",
       "    <tr>\n",
       "      <th>61</th>\n",
       "      <td>FL Atlantic</td>\n",
       "      <td>Kansas St</td>\n",
       "      <td>1194</td>\n",
       "      <td>1243</td>\n",
       "      <td>1.0</td>\n",
       "      <td>0.360577</td>\n",
       "    </tr>\n",
       "    <tr>\n",
       "      <th>0</th>\n",
       "      <td>Pittsburgh</td>\n",
       "      <td>Mississippi St</td>\n",
       "      <td>1338</td>\n",
       "      <td>1280</td>\n",
       "      <td>1.0</td>\n",
       "      <td>0.361718</td>\n",
       "    </tr>\n",
       "    <tr>\n",
       "      <th>5</th>\n",
       "      <td>Arkansas</td>\n",
       "      <td>Illinois</td>\n",
       "      <td>1116</td>\n",
       "      <td>1228</td>\n",
       "      <td>1.0</td>\n",
       "      <td>0.393605</td>\n",
       "    </tr>\n",
       "    <tr>\n",
       "      <th>6</th>\n",
       "      <td>Auburn</td>\n",
       "      <td>Iowa</td>\n",
       "      <td>1120</td>\n",
       "      <td>1234</td>\n",
       "      <td>1.0</td>\n",
       "      <td>0.402057</td>\n",
       "    </tr>\n",
       "    <tr>\n",
       "      <th>11</th>\n",
       "      <td>Maryland</td>\n",
       "      <td>West Virginia</td>\n",
       "      <td>1268</td>\n",
       "      <td>1452</td>\n",
       "      <td>1.0</td>\n",
       "      <td>0.406713</td>\n",
       "    </tr>\n",
       "    <tr>\n",
       "      <th>3</th>\n",
       "      <td>F Dickinson</td>\n",
       "      <td>TX Southern</td>\n",
       "      <td>1192</td>\n",
       "      <td>1411</td>\n",
       "      <td>1.0</td>\n",
       "      <td>0.421772</td>\n",
       "    </tr>\n",
       "    <tr>\n",
       "      <th>59</th>\n",
       "      <td>Texas</td>\n",
       "      <td>Xavier</td>\n",
       "      <td>1400</td>\n",
       "      <td>1462</td>\n",
       "      <td>1.0</td>\n",
       "      <td>0.444377</td>\n",
       "    </tr>\n",
       "    <tr>\n",
       "      <th>49</th>\n",
       "      <td>Miami FL</td>\n",
       "      <td>Indiana</td>\n",
       "      <td>1274</td>\n",
       "      <td>1231</td>\n",
       "      <td>1.0</td>\n",
       "      <td>0.461031</td>\n",
       "    </tr>\n",
       "    <tr>\n",
       "      <th>65</th>\n",
       "      <td>San Diego St</td>\n",
       "      <td>FL Atlantic</td>\n",
       "      <td>1361</td>\n",
       "      <td>1194</td>\n",
       "      <td>1.0</td>\n",
       "      <td>0.476373</td>\n",
       "    </tr>\n",
       "    <tr>\n",
       "      <th>60</th>\n",
       "      <td>Connecticut</td>\n",
       "      <td>Gonzaga</td>\n",
       "      <td>1163</td>\n",
       "      <td>1211</td>\n",
       "      <td>1.0</td>\n",
       "      <td>0.485355</td>\n",
       "    </tr>\n",
       "    <tr>\n",
       "      <th>22</th>\n",
       "      <td>Creighton</td>\n",
       "      <td>NC State</td>\n",
       "      <td>1166</td>\n",
       "      <td>1301</td>\n",
       "      <td>1.0</td>\n",
       "      <td>0.487743</td>\n",
       "    </tr>\n",
       "    <tr>\n",
       "      <th>31</th>\n",
       "      <td>Michigan St</td>\n",
       "      <td>USC</td>\n",
       "      <td>1277</td>\n",
       "      <td>1425</td>\n",
       "      <td>1.0</td>\n",
       "      <td>0.494051</td>\n",
       "    </tr>\n",
       "  </tbody>\n",
       "</table>\n",
       "</div>"
      ],
      "text/plain": [
       "     winner_name      loser_name  winner  loser  actual  predicted\n",
       "23   F Dickinson          Purdue    1192   1345     1.0   0.006511\n",
       "15     Princeton         Arizona    1343   1112     1.0   0.049004\n",
       "8         Furman        Virginia    1202   1438     1.0   0.118974\n",
       "39     Princeton        Missouri    1343   1281     1.0   0.138603\n",
       "53   FL Atlantic       Tennessee    1194   1397     1.0   0.159113\n",
       "58  San Diego St         Alabama    1361   1104     1.0   0.210439\n",
       "57      Miami FL         Houston    1274   1222     1.0   0.230937\n",
       "54       Gonzaga            UCLA    1211   1417     1.0   0.240717\n",
       "37      Arkansas          Kansas    1116   1242     1.0   0.267951\n",
       "14       Penn St       Texas A&M    1336   1401     1.0   0.272074\n",
       "45     Creighton          Baylor    1166   1124     1.0   0.289445\n",
       "24   FL Atlantic         Memphis    1194   1272     1.0   0.307428\n",
       "12      Missouri         Utah St    1281   1429     1.0   0.337931\n",
       "55     Kansas St     Michigan St    1243   1277     1.0   0.342101\n",
       "48     Kansas St        Kentucky    1243   1246     1.0   0.342770\n",
       "62      Miami FL           Texas    1274   1400     1.0   0.344221\n",
       "2     Arizona St          Nevada    1113   1305     1.0   0.350637\n",
       "32    Pittsburgh         Iowa St    1338   1235     1.0   0.351134\n",
       "63  San Diego St       Creighton    1361   1166     1.0   0.356783\n",
       "50   Michigan St       Marquette    1277   1266     1.0   0.358539\n",
       "61   FL Atlantic       Kansas St    1194   1243     1.0   0.360577\n",
       "0     Pittsburgh  Mississippi St    1338   1280     1.0   0.361718\n",
       "5       Arkansas        Illinois    1116   1228     1.0   0.393605\n",
       "6         Auburn            Iowa    1120   1234     1.0   0.402057\n",
       "11      Maryland   West Virginia    1268   1452     1.0   0.406713\n",
       "3    F Dickinson     TX Southern    1192   1411     1.0   0.421772\n",
       "59         Texas          Xavier    1400   1462     1.0   0.444377\n",
       "49      Miami FL         Indiana    1274   1231     1.0   0.461031\n",
       "65  San Diego St     FL Atlantic    1361   1194     1.0   0.476373\n",
       "60   Connecticut         Gonzaga    1163   1211     1.0   0.485355\n",
       "22     Creighton        NC State    1166   1301     1.0   0.487743\n",
       "31   Michigan St             USC    1277   1425     1.0   0.494051"
      ]
     },
     "execution_count": 28,
     "metadata": {},
     "output_type": "execute_result"
    }
   ],
   "source": [
    "t_2023[t_2023.predicted < 0.5].sort_values('predicted')"
   ]
  },
  {
   "cell_type": "markdown",
   "id": "9f5eb023-fa68-46e5-821f-b9661a988cbe",
   "metadata": {},
   "source": [
    "The biggest thing in this season were the huge upsets in the first round. Purdue was a number one seed and lost which I only gave a .4% chance to happen. Arizona and Virginia were number 2 seeds and lost which I gave 7% and 15% chances of happening respectively."
   ]
  },
  {
   "cell_type": "code",
   "execution_count": 29,
   "id": "28663437-2134-48e8-938f-d40fd2666b7f",
   "metadata": {
    "scrolled": true
   },
   "outputs": [],
   "source": [
    "t_2023['Upset'] = [dataset.upset(2023, winner, loser) for (winner, loser) in zip(t_2023['winner'], t_2023['loser'])]"
   ]
  },
  {
   "cell_type": "code",
   "execution_count": 30,
   "id": "eb00c98a-b6a7-441f-be09-224ad947f71a",
   "metadata": {},
   "outputs": [
    {
     "data": {
      "text/plain": [
       "np.float64(0.26600579323515267)"
      ]
     },
     "execution_count": 30,
     "metadata": {},
     "output_type": "execute_result"
    }
   ],
   "source": [
    "t_2023[t_2023.Upset].predicted.mean()"
   ]
  },
  {
   "cell_type": "markdown",
   "id": "b9c017c5-060c-4478-82b2-4a22bd38a3d8",
   "metadata": {},
   "source": [
    "On average the upsets had a 32% chance of happening"
   ]
  },
  {
   "cell_type": "code",
   "execution_count": 31,
   "id": "2df5dc30-0780-4864-bf1d-25a462985a89",
   "metadata": {},
   "outputs": [
    {
     "data": {
      "text/html": [
       "<div>\n",
       "<style scoped>\n",
       "    .dataframe tbody tr th:only-of-type {\n",
       "        vertical-align: middle;\n",
       "    }\n",
       "\n",
       "    .dataframe tbody tr th {\n",
       "        vertical-align: top;\n",
       "    }\n",
       "\n",
       "    .dataframe thead th {\n",
       "        text-align: right;\n",
       "    }\n",
       "</style>\n",
       "<table border=\"1\" class=\"dataframe\">\n",
       "  <thead>\n",
       "    <tr style=\"text-align: right;\">\n",
       "      <th></th>\n",
       "      <th>winner_name</th>\n",
       "      <th>loser_name</th>\n",
       "      <th>winner</th>\n",
       "      <th>loser</th>\n",
       "      <th>actual</th>\n",
       "      <th>predicted</th>\n",
       "      <th>Upset</th>\n",
       "    </tr>\n",
       "  </thead>\n",
       "  <tbody>\n",
       "  </tbody>\n",
       "</table>\n",
       "</div>"
      ],
      "text/plain": [
       "Empty DataFrame\n",
       "Columns: [winner_name, loser_name, winner, loser, actual, predicted, Upset]\n",
       "Index: []"
      ]
     },
     "execution_count": 31,
     "metadata": {},
     "output_type": "execute_result"
    }
   ],
   "source": [
    "t_2023[t_2023.Upset & (t_2023.predicted >= 0.5)].sort_values('predicted', ascending=False)"
   ]
  },
  {
   "cell_type": "markdown",
   "id": "311a0984-fa4f-408e-9a66-4f90296c8a1c",
   "metadata": {},
   "source": [
    "I correctly predicted 2 upsets, though all were closely ranked"
   ]
  },
  {
   "cell_type": "code",
   "execution_count": 32,
   "id": "260a480d-a8d9-4e6d-a25b-d5358ddbd591",
   "metadata": {},
   "outputs": [
    {
     "data": {
      "text/html": [
       "<div>\n",
       "<style scoped>\n",
       "    .dataframe tbody tr th:only-of-type {\n",
       "        vertical-align: middle;\n",
       "    }\n",
       "\n",
       "    .dataframe tbody tr th {\n",
       "        vertical-align: top;\n",
       "    }\n",
       "\n",
       "    .dataframe thead th {\n",
       "        text-align: right;\n",
       "    }\n",
       "</style>\n",
       "<table border=\"1\" class=\"dataframe\">\n",
       "  <thead>\n",
       "    <tr style=\"text-align: right;\">\n",
       "      <th></th>\n",
       "      <th>winner_name</th>\n",
       "      <th>loser_name</th>\n",
       "      <th>winner</th>\n",
       "      <th>loser</th>\n",
       "      <th>actual</th>\n",
       "      <th>predicted</th>\n",
       "      <th>Upset</th>\n",
       "    </tr>\n",
       "  </thead>\n",
       "  <tbody>\n",
       "    <tr>\n",
       "      <th>12</th>\n",
       "      <td>Missouri</td>\n",
       "      <td>Utah St</td>\n",
       "      <td>1281</td>\n",
       "      <td>1429</td>\n",
       "      <td>1.0</td>\n",
       "      <td>0.337931</td>\n",
       "      <td>False</td>\n",
       "    </tr>\n",
       "    <tr>\n",
       "      <th>55</th>\n",
       "      <td>Kansas St</td>\n",
       "      <td>Michigan St</td>\n",
       "      <td>1243</td>\n",
       "      <td>1277</td>\n",
       "      <td>1.0</td>\n",
       "      <td>0.342101</td>\n",
       "      <td>False</td>\n",
       "    </tr>\n",
       "    <tr>\n",
       "      <th>48</th>\n",
       "      <td>Kansas St</td>\n",
       "      <td>Kentucky</td>\n",
       "      <td>1243</td>\n",
       "      <td>1246</td>\n",
       "      <td>1.0</td>\n",
       "      <td>0.342770</td>\n",
       "      <td>False</td>\n",
       "    </tr>\n",
       "    <tr>\n",
       "      <th>2</th>\n",
       "      <td>Arizona St</td>\n",
       "      <td>Nevada</td>\n",
       "      <td>1113</td>\n",
       "      <td>1305</td>\n",
       "      <td>1.0</td>\n",
       "      <td>0.350637</td>\n",
       "      <td>False</td>\n",
       "    </tr>\n",
       "    <tr>\n",
       "      <th>63</th>\n",
       "      <td>San Diego St</td>\n",
       "      <td>Creighton</td>\n",
       "      <td>1361</td>\n",
       "      <td>1166</td>\n",
       "      <td>1.0</td>\n",
       "      <td>0.356783</td>\n",
       "      <td>False</td>\n",
       "    </tr>\n",
       "    <tr>\n",
       "      <th>0</th>\n",
       "      <td>Pittsburgh</td>\n",
       "      <td>Mississippi St</td>\n",
       "      <td>1338</td>\n",
       "      <td>1280</td>\n",
       "      <td>1.0</td>\n",
       "      <td>0.361718</td>\n",
       "      <td>False</td>\n",
       "    </tr>\n",
       "    <tr>\n",
       "      <th>5</th>\n",
       "      <td>Arkansas</td>\n",
       "      <td>Illinois</td>\n",
       "      <td>1116</td>\n",
       "      <td>1228</td>\n",
       "      <td>1.0</td>\n",
       "      <td>0.393605</td>\n",
       "      <td>False</td>\n",
       "    </tr>\n",
       "    <tr>\n",
       "      <th>11</th>\n",
       "      <td>Maryland</td>\n",
       "      <td>West Virginia</td>\n",
       "      <td>1268</td>\n",
       "      <td>1452</td>\n",
       "      <td>1.0</td>\n",
       "      <td>0.406713</td>\n",
       "      <td>False</td>\n",
       "    </tr>\n",
       "    <tr>\n",
       "      <th>3</th>\n",
       "      <td>F Dickinson</td>\n",
       "      <td>TX Southern</td>\n",
       "      <td>1192</td>\n",
       "      <td>1411</td>\n",
       "      <td>1.0</td>\n",
       "      <td>0.421772</td>\n",
       "      <td>False</td>\n",
       "    </tr>\n",
       "    <tr>\n",
       "      <th>59</th>\n",
       "      <td>Texas</td>\n",
       "      <td>Xavier</td>\n",
       "      <td>1400</td>\n",
       "      <td>1462</td>\n",
       "      <td>1.0</td>\n",
       "      <td>0.444377</td>\n",
       "      <td>False</td>\n",
       "    </tr>\n",
       "    <tr>\n",
       "      <th>65</th>\n",
       "      <td>San Diego St</td>\n",
       "      <td>FL Atlantic</td>\n",
       "      <td>1361</td>\n",
       "      <td>1194</td>\n",
       "      <td>1.0</td>\n",
       "      <td>0.476373</td>\n",
       "      <td>False</td>\n",
       "    </tr>\n",
       "    <tr>\n",
       "      <th>22</th>\n",
       "      <td>Creighton</td>\n",
       "      <td>NC State</td>\n",
       "      <td>1166</td>\n",
       "      <td>1301</td>\n",
       "      <td>1.0</td>\n",
       "      <td>0.487743</td>\n",
       "      <td>False</td>\n",
       "    </tr>\n",
       "    <tr>\n",
       "      <th>31</th>\n",
       "      <td>Michigan St</td>\n",
       "      <td>USC</td>\n",
       "      <td>1277</td>\n",
       "      <td>1425</td>\n",
       "      <td>1.0</td>\n",
       "      <td>0.494051</td>\n",
       "      <td>False</td>\n",
       "    </tr>\n",
       "  </tbody>\n",
       "</table>\n",
       "</div>"
      ],
      "text/plain": [
       "     winner_name      loser_name  winner  loser  actual  predicted  Upset\n",
       "12      Missouri         Utah St    1281   1429     1.0   0.337931  False\n",
       "55     Kansas St     Michigan St    1243   1277     1.0   0.342101  False\n",
       "48     Kansas St        Kentucky    1243   1246     1.0   0.342770  False\n",
       "2     Arizona St          Nevada    1113   1305     1.0   0.350637  False\n",
       "63  San Diego St       Creighton    1361   1166     1.0   0.356783  False\n",
       "0     Pittsburgh  Mississippi St    1338   1280     1.0   0.361718  False\n",
       "5       Arkansas        Illinois    1116   1228     1.0   0.393605  False\n",
       "11      Maryland   West Virginia    1268   1452     1.0   0.406713  False\n",
       "3    F Dickinson     TX Southern    1192   1411     1.0   0.421772  False\n",
       "59         Texas          Xavier    1400   1462     1.0   0.444377  False\n",
       "65  San Diego St     FL Atlantic    1361   1194     1.0   0.476373  False\n",
       "22     Creighton        NC State    1166   1301     1.0   0.487743  False\n",
       "31   Michigan St             USC    1277   1425     1.0   0.494051  False"
      ]
     },
     "execution_count": 32,
     "metadata": {},
     "output_type": "execute_result"
    }
   ],
   "source": [
    "t_2023[~t_2023.Upset & (t_2023.predicted < 0.5)].sort_values('predicted')"
   ]
  },
  {
   "cell_type": "markdown",
   "id": "25b225a9-822d-417d-bf83-e329ec0c2020",
   "metadata": {},
   "source": [
    "I also incorrectly predicted 4 upsets"
   ]
  },
  {
   "cell_type": "markdown",
   "id": "40bd0e20-15ce-42b8-aaf3-b07965ccb410",
   "metadata": {},
   "source": [
    "Looking at all the tourneys"
   ]
  },
  {
   "cell_type": "code",
   "execution_count": 33,
   "id": "e081fd5c-52cb-483a-90d1-3b65039e2857",
   "metadata": {},
   "outputs": [],
   "source": [
    "x, y = tourney_loader.dataset.tensors\n",
    "preds = model(x.to(device))\n",
    "tourney_df = pd.DataFrame({'season': x[:,4].tolist(),\n",
    "                           'winner_name': [dataset.all_teams.loc[dataset.programs.loc[i].TeamID].TeamName for i in x[:,0].tolist()],\n",
    "                           'loser_name': [dataset.all_teams.loc[dataset.programs.loc[i].TeamID].TeamName for i in x[:,2].tolist()],\n",
    "                           'winner': [dataset.programs.loc[i].TeamID for i in x[:,0].tolist()],\n",
    "                           'loser': [dataset.programs.loc[i].TeamID for i in x[:,2].tolist()],\n",
    "                           'actual': y[:,0].reshape([-1]),\n",
    "                           'predicted': np.array(preds[0].tolist()).reshape([-1])})\n",
    "tourney_df = tourney_df[tourney_df.actual == 1.0]\n",
    "tourney_df['Upset'] = [dataset.upset(season, winner, loser) for (winner, loser, season)\n",
    "                       in zip(tourney_df['winner'], tourney_df['loser'], tourney_df['season'])]"
   ]
  },
  {
   "cell_type": "code",
   "execution_count": 34,
   "id": "f5ab6d89-db40-499b-a6c2-7823c13fdfc9",
   "metadata": {},
   "outputs": [
    {
     "data": {
      "text/plain": [
       "10"
      ]
     },
     "execution_count": 34,
     "metadata": {},
     "output_type": "execute_result"
    }
   ],
   "source": [
    "len(tourney_df[tourney_df.Upset & (tourney_df.predicted >= 0.5) & (tourney_df.season > 2020)].sort_values('predicted', ascending=False))"
   ]
  },
  {
   "cell_type": "code",
   "execution_count": 35,
   "id": "7f614719-0380-4eea-aea1-6d6730329208",
   "metadata": {},
   "outputs": [
    {
     "data": {
      "text/plain": [
       "83"
      ]
     },
     "execution_count": 35,
     "metadata": {},
     "output_type": "execute_result"
    }
   ],
   "source": [
    "len(tourney_df[~tourney_df.Upset & (tourney_df.predicted < 0.5) & (tourney_df.season > 2020)].sort_values('predicted'))"
   ]
  },
  {
   "cell_type": "markdown",
   "id": "121a8c8b-3e75-4455-940a-b59d2e742175",
   "metadata": {},
   "source": [
    "Overall I predicted 19 upsets correctly, and 30 incorrectly"
   ]
  },
  {
   "cell_type": "markdown",
   "id": "11f41c41-df65-47ff-a6e5-ddfd3a274cb5",
   "metadata": {},
   "source": [
    "## Predicting by seeds\n",
    "What if I predict just using the seeds?"
   ]
  },
  {
   "cell_type": "code",
   "execution_count": 36,
   "id": "71e280ae-4aba-46d0-9d98-3cfdfada40b5",
   "metadata": {},
   "outputs": [],
   "source": [
    "odds = dataset.odds_by_seed_diff(before=2021)"
   ]
  },
  {
   "cell_type": "code",
   "execution_count": 37,
   "id": "a7388d50-2810-4bbe-8938-3a2f1db41e41",
   "metadata": {
    "scrolled": true
   },
   "outputs": [
    {
     "data": {
      "text/plain": [
       "np.float64(0.18527460145235355)"
      ]
     },
     "execution_count": 37,
     "metadata": {},
     "output_type": "execute_result"
    }
   ],
   "source": [
    "dataset.tourney_df(after=2021).SeedDiff.map(lambda x: odds[x]**2).mean()"
   ]
  },
  {
   "cell_type": "markdown",
   "id": "cfb055ef-ea46-4543-bffb-f1e6082797b1",
   "metadata": {},
   "source": [
    "This results in a test Brier score of about 0.185."
   ]
  },
  {
   "cell_type": "markdown",
   "id": "fbbc2c9a-6d4b-4848-9f9d-2f924fdccc70",
   "metadata": {},
   "source": [
    "## Hybrid Model\n",
    "Building a model using the neural net and seeds"
   ]
  },
  {
   "cell_type": "code",
   "execution_count": 41,
   "id": "3b9fd541-e152-4173-a518-0ccb8470e755",
   "metadata": {},
   "outputs": [
    {
     "name": "stdout",
     "output_type": "stream",
     "text": [
      "Seeds: Accuracy: 50.00%, Stats loss: 821.501009 Result loss: 0.250000\n"
     ]
    }
   ],
   "source": [
    "seed_model = SeedModel(dataset, after=2021)\n",
    "test(stage1_loader, seed_model, loss_fn, label=f\"Seeds\")"
   ]
  },
  {
   "cell_type": "code",
   "execution_count": 42,
   "id": "2a180204-1fb0-4ec6-85dd-58ac8ae34929",
   "metadata": {},
   "outputs": [
    {
     "name": "stdout",
     "output_type": "stream",
     "text": [
      "NN: Accuracy: 71.37%, Stats loss: 46.900439 Result loss: 0.181693\n"
     ]
    }
   ],
   "source": [
    "test(stage1_loader, model, loss_fn, label=\"NN\")"
   ]
  },
  {
   "cell_type": "code",
   "execution_count": 43,
   "id": "d5f47474-12e5-49b6-8b00-e675700f4716",
   "metadata": {},
   "outputs": [],
   "source": [
    "hybrid = HybridModel([model, seed_model], [0.8, 0.2])"
   ]
  },
  {
   "cell_type": "code",
   "execution_count": 44,
   "id": "6159dd7e-3f08-4f37-bc4a-3c5ff12b94a8",
   "metadata": {},
   "outputs": [
    {
     "name": "stdout",
     "output_type": "stream",
     "text": [
      "Hybrid: Accuracy: 71.37%, Stats loss: 821.501009 Result loss: 0.180293\n"
     ]
    }
   ],
   "source": [
    "test(stage1_loader, hybrid, loss_fn, label=f\"Hybrid\")"
   ]
  },
  {
   "cell_type": "markdown",
   "id": "a05ae290-cbb8-4d56-b0da-92cf9a654de9",
   "metadata": {},
   "source": [
    "They hybrid model outperforms both individual models"
   ]
  },
  {
   "cell_type": "code",
   "execution_count": 45,
   "id": "15f38211-8d21-4b6a-ac91-d2835a00ed5c",
   "metadata": {},
   "outputs": [
    {
     "name": "stdout",
     "output_type": "stream",
     "text": [
      "2021 M Tournament: Accuracy: 69.77%, Stats loss: 799.078627 Result loss: 0.180692\n",
      "2021 W Tournament: Accuracy: 69.77%, Stats loss: 799.078627 Result loss: 0.180692\n",
      "2022 M Tournament: Accuracy: 73.13%, Stats loss: 813.262527 Result loss: 0.181059\n",
      "2022 W Tournament: Accuracy: 73.13%, Stats loss: 813.262527 Result loss: 0.181059\n",
      "2023 M Tournament: Accuracy: 70.15%, Stats loss: 815.193230 Result loss: 0.190260\n",
      "2023 W Tournament: Accuracy: 70.15%, Stats loss: 815.193230 Result loss: 0.190260\n",
      "2024 M Tournament: Accuracy: 72.39%, Stats loss: 857.632996 Result loss: 0.169177\n",
      "2024 W Tournament: Accuracy: 72.39%, Stats loss: 857.632996 Result loss: 0.169177\n"
     ]
    }
   ],
   "source": [
    "for season in range(2021, 2025):\n",
    "    for league in ['M', 'W']:\n",
    "        loader = dataset.tourney_data(season, league)\n",
    "        test(loader, hybrid, loss_fn, label=f\"{season} {league} Tournament\")"
   ]
  },
  {
   "cell_type": "markdown",
   "id": "6b676e8c-8344-4fbc-aca2-7fa778c4fdfa",
   "metadata": {},
   "source": [
    "## Generate a bracket"
   ]
  },
  {
   "cell_type": "code",
   "execution_count": null,
   "id": "d0c08cb5-dec3-42f6-8627-052dcf7adacb",
   "metadata": {},
   "outputs": [],
   "source": [
    "with pd.option_context('display.max_rows', None, 'display.max_columns', None): \n",
    "    print(gen_bracket(dataset, 2024, 'M', hybrid).join(dataset.all_teams, on='Winner')[['Winner', 'TeamName']])"
   ]
  }
 ],
 "metadata": {
  "kernelspec": {
   "display_name": "Python 3 (ipykernel)",
   "language": "python",
   "name": "python3"
  },
  "language_info": {
   "codemirror_mode": {
    "name": "ipython",
    "version": 3
   },
   "file_extension": ".py",
   "mimetype": "text/x-python",
   "name": "python",
   "nbconvert_exporter": "python",
   "pygments_lexer": "ipython3",
   "version": "3.10.12"
  }
 },
 "nbformat": 4,
 "nbformat_minor": 5
}
