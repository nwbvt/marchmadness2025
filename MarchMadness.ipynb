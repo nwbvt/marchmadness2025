{
 "cells": [
  {
   "cell_type": "markdown",
   "id": "a4b53588-2c8e-4166-b01d-037b765c2d69",
   "metadata": {},
   "source": [
    "# March Madness 2025"
   ]
  },
  {
   "cell_type": "code",
   "execution_count": 1,
   "id": "dd96dd0b-1844-4dca-9495-b722deda29ed",
   "metadata": {},
   "outputs": [
    {
     "name": "stdout",
     "output_type": "stream",
     "text": [
      "Using cuda device\n"
     ]
    }
   ],
   "source": [
    "import pandas as pd\n",
    "import torch\n",
    "import torch.nn as nn\n",
    "import torch.nn.functional as F\n",
    "import numpy as np\n",
    "from torch.utils.data import TensorDataset, DataLoader\n",
    "import os\n",
    "from sklearn.model_selection import train_test_split\n",
    "import random\n",
    "from data import Data, STATS_COLUMNS\n",
    "from model import *\n",
    "\n",
    "torch.manual_seed(20250222)\n",
    "random.seed(20250222)\n",
    "\n",
    "device = torch.accelerator.current_accelerator().type if torch.accelerator.is_available() else \"cpu\"\n",
    "print(f\"Using {device} device\")"
   ]
  },
  {
   "cell_type": "markdown",
   "id": "81669670-3bd9-4cc0-b0e8-d76f32dfd61f",
   "metadata": {},
   "source": [
    "## Hypothesis\n",
    "Each team can be modeled by x hidden features. In each game, these hidden features interact in a nonlinear fashion to determine the outcome of the game"
   ]
  },
  {
   "cell_type": "markdown",
   "id": "ef008b05-6dc7-46e7-9783-2499977b8249",
   "metadata": {},
   "source": [
    "## Preparing the data\n",
    "Load the data"
   ]
  },
  {
   "cell_type": "code",
   "execution_count": 2,
   "id": "836cd53e-d493-44d7-91d7-f0bd02a9644e",
   "metadata": {},
   "outputs": [
    {
     "data": {
      "text/html": [
       "<div>\n",
       "<style scoped>\n",
       "    .dataframe tbody tr th:only-of-type {\n",
       "        vertical-align: middle;\n",
       "    }\n",
       "\n",
       "    .dataframe tbody tr th {\n",
       "        vertical-align: top;\n",
       "    }\n",
       "\n",
       "    .dataframe thead th {\n",
       "        text-align: right;\n",
       "    }\n",
       "</style>\n",
       "<table border=\"1\" class=\"dataframe\">\n",
       "  <thead>\n",
       "    <tr style=\"text-align: right;\">\n",
       "      <th></th>\n",
       "      <th>Season</th>\n",
       "      <th>DayNum</th>\n",
       "      <th>WTeamID</th>\n",
       "      <th>WScore</th>\n",
       "      <th>LTeamID</th>\n",
       "      <th>LScore</th>\n",
       "      <th>NumOT</th>\n",
       "      <th>WFGM</th>\n",
       "      <th>WFGA</th>\n",
       "      <th>WFGM3</th>\n",
       "      <th>...</th>\n",
       "      <th>LFGA3</th>\n",
       "      <th>LFTM</th>\n",
       "      <th>LFTA</th>\n",
       "      <th>LOR</th>\n",
       "      <th>LDR</th>\n",
       "      <th>LAst</th>\n",
       "      <th>LTO</th>\n",
       "      <th>LStl</th>\n",
       "      <th>LBlk</th>\n",
       "      <th>LPF</th>\n",
       "    </tr>\n",
       "  </thead>\n",
       "  <tbody>\n",
       "    <tr>\n",
       "      <th>count</th>\n",
       "      <td>198374.000000</td>\n",
       "      <td>198374.000000</td>\n",
       "      <td>198374.000000</td>\n",
       "      <td>198374.000000</td>\n",
       "      <td>198374.000000</td>\n",
       "      <td>198374.000000</td>\n",
       "      <td>198374.000000</td>\n",
       "      <td>198374.000000</td>\n",
       "      <td>198374.000000</td>\n",
       "      <td>198374.000000</td>\n",
       "      <td>...</td>\n",
       "      <td>198374.000000</td>\n",
       "      <td>198374.000000</td>\n",
       "      <td>198374.000000</td>\n",
       "      <td>198374.000000</td>\n",
       "      <td>198374.000000</td>\n",
       "      <td>198374.000000</td>\n",
       "      <td>198374.000000</td>\n",
       "      <td>198374.000000</td>\n",
       "      <td>198374.000000</td>\n",
       "      <td>198374.000000</td>\n",
       "    </tr>\n",
       "    <tr>\n",
       "      <th>mean</th>\n",
       "      <td>2015.470621</td>\n",
       "      <td>69.843291</td>\n",
       "      <td>2099.847868</td>\n",
       "      <td>74.183169</td>\n",
       "      <td>2097.450588</td>\n",
       "      <td>61.187026</td>\n",
       "      <td>0.061787</td>\n",
       "      <td>26.176339</td>\n",
       "      <td>57.063405</td>\n",
       "      <td>6.912005</td>\n",
       "      <td>...</td>\n",
       "      <td>19.248818</td>\n",
       "      <td>11.436922</td>\n",
       "      <td>16.826656</td>\n",
       "      <td>10.826832</td>\n",
       "      <td>21.949363</td>\n",
       "      <td>11.217125</td>\n",
       "      <td>15.214630</td>\n",
       "      <td>6.453946</td>\n",
       "      <td>2.848942</td>\n",
       "      <td>18.853504</td>\n",
       "    </tr>\n",
       "    <tr>\n",
       "      <th>std</th>\n",
       "      <td>6.024751</td>\n",
       "      <td>35.933736</td>\n",
       "      <td>986.382716</td>\n",
       "      <td>11.406085</td>\n",
       "      <td>989.676138</td>\n",
       "      <td>11.373007</td>\n",
       "      <td>0.287403</td>\n",
       "      <td>4.811306</td>\n",
       "      <td>7.828931</td>\n",
       "      <td>3.166580</td>\n",
       "      <td>...</td>\n",
       "      <td>6.325219</td>\n",
       "      <td>5.239163</td>\n",
       "      <td>6.987616</td>\n",
       "      <td>4.418293</td>\n",
       "      <td>4.708807</td>\n",
       "      <td>3.765042</td>\n",
       "      <td>5.028571</td>\n",
       "      <td>2.985335</td>\n",
       "      <td>2.037092</td>\n",
       "      <td>4.587468</td>\n",
       "    </tr>\n",
       "    <tr>\n",
       "      <th>min</th>\n",
       "      <td>2003.000000</td>\n",
       "      <td>0.000000</td>\n",
       "      <td>1101.000000</td>\n",
       "      <td>30.000000</td>\n",
       "      <td>1101.000000</td>\n",
       "      <td>11.000000</td>\n",
       "      <td>0.000000</td>\n",
       "      <td>9.000000</td>\n",
       "      <td>26.000000</td>\n",
       "      <td>0.000000</td>\n",
       "      <td>...</td>\n",
       "      <td>0.000000</td>\n",
       "      <td>0.000000</td>\n",
       "      <td>0.000000</td>\n",
       "      <td>0.000000</td>\n",
       "      <td>1.000000</td>\n",
       "      <td>0.000000</td>\n",
       "      <td>0.000000</td>\n",
       "      <td>0.000000</td>\n",
       "      <td>0.000000</td>\n",
       "      <td>3.000000</td>\n",
       "    </tr>\n",
       "    <tr>\n",
       "      <th>25%</th>\n",
       "      <td>2011.000000</td>\n",
       "      <td>37.000000</td>\n",
       "      <td>1260.000000</td>\n",
       "      <td>66.000000</td>\n",
       "      <td>1253.000000</td>\n",
       "      <td>53.000000</td>\n",
       "      <td>0.000000</td>\n",
       "      <td>23.000000</td>\n",
       "      <td>52.000000</td>\n",
       "      <td>5.000000</td>\n",
       "      <td>...</td>\n",
       "      <td>15.000000</td>\n",
       "      <td>8.000000</td>\n",
       "      <td>12.000000</td>\n",
       "      <td>8.000000</td>\n",
       "      <td>19.000000</td>\n",
       "      <td>9.000000</td>\n",
       "      <td>12.000000</td>\n",
       "      <td>4.000000</td>\n",
       "      <td>1.000000</td>\n",
       "      <td>16.000000</td>\n",
       "    </tr>\n",
       "    <tr>\n",
       "      <th>50%</th>\n",
       "      <td>2016.000000</td>\n",
       "      <td>73.000000</td>\n",
       "      <td>1413.000000</td>\n",
       "      <td>74.000000</td>\n",
       "      <td>1407.000000</td>\n",
       "      <td>61.000000</td>\n",
       "      <td>0.000000</td>\n",
       "      <td>26.000000</td>\n",
       "      <td>57.000000</td>\n",
       "      <td>7.000000</td>\n",
       "      <td>...</td>\n",
       "      <td>19.000000</td>\n",
       "      <td>11.000000</td>\n",
       "      <td>16.000000</td>\n",
       "      <td>10.000000</td>\n",
       "      <td>22.000000</td>\n",
       "      <td>11.000000</td>\n",
       "      <td>15.000000</td>\n",
       "      <td>6.000000</td>\n",
       "      <td>3.000000</td>\n",
       "      <td>19.000000</td>\n",
       "    </tr>\n",
       "    <tr>\n",
       "      <th>75%</th>\n",
       "      <td>2020.000000</td>\n",
       "      <td>101.000000</td>\n",
       "      <td>3244.000000</td>\n",
       "      <td>81.000000</td>\n",
       "      <td>3245.000000</td>\n",
       "      <td>69.000000</td>\n",
       "      <td>0.000000</td>\n",
       "      <td>29.000000</td>\n",
       "      <td>62.000000</td>\n",
       "      <td>9.000000</td>\n",
       "      <td>...</td>\n",
       "      <td>23.000000</td>\n",
       "      <td>15.000000</td>\n",
       "      <td>21.000000</td>\n",
       "      <td>14.000000</td>\n",
       "      <td>25.000000</td>\n",
       "      <td>14.000000</td>\n",
       "      <td>18.000000</td>\n",
       "      <td>8.000000</td>\n",
       "      <td>4.000000</td>\n",
       "      <td>22.000000</td>\n",
       "    </tr>\n",
       "    <tr>\n",
       "      <th>max</th>\n",
       "      <td>2025.000000</td>\n",
       "      <td>132.000000</td>\n",
       "      <td>3480.000000</td>\n",
       "      <td>149.000000</td>\n",
       "      <td>3480.000000</td>\n",
       "      <td>144.000000</td>\n",
       "      <td>6.000000</td>\n",
       "      <td>58.000000</td>\n",
       "      <td>113.000000</td>\n",
       "      <td>30.000000</td>\n",
       "      <td>...</td>\n",
       "      <td>80.000000</td>\n",
       "      <td>48.000000</td>\n",
       "      <td>65.000000</td>\n",
       "      <td>38.000000</td>\n",
       "      <td>53.000000</td>\n",
       "      <td>34.000000</td>\n",
       "      <td>49.000000</td>\n",
       "      <td>26.000000</td>\n",
       "      <td>21.000000</td>\n",
       "      <td>47.000000</td>\n",
       "    </tr>\n",
       "  </tbody>\n",
       "</table>\n",
       "<p>8 rows × 33 columns</p>\n",
       "</div>"
      ],
      "text/plain": [
       "              Season         DayNum        WTeamID         WScore  \\\n",
       "count  198374.000000  198374.000000  198374.000000  198374.000000   \n",
       "mean     2015.470621      69.843291    2099.847868      74.183169   \n",
       "std         6.024751      35.933736     986.382716      11.406085   \n",
       "min      2003.000000       0.000000    1101.000000      30.000000   \n",
       "25%      2011.000000      37.000000    1260.000000      66.000000   \n",
       "50%      2016.000000      73.000000    1413.000000      74.000000   \n",
       "75%      2020.000000     101.000000    3244.000000      81.000000   \n",
       "max      2025.000000     132.000000    3480.000000     149.000000   \n",
       "\n",
       "             LTeamID         LScore          NumOT           WFGM  \\\n",
       "count  198374.000000  198374.000000  198374.000000  198374.000000   \n",
       "mean     2097.450588      61.187026       0.061787      26.176339   \n",
       "std       989.676138      11.373007       0.287403       4.811306   \n",
       "min      1101.000000      11.000000       0.000000       9.000000   \n",
       "25%      1253.000000      53.000000       0.000000      23.000000   \n",
       "50%      1407.000000      61.000000       0.000000      26.000000   \n",
       "75%      3245.000000      69.000000       0.000000      29.000000   \n",
       "max      3480.000000     144.000000       6.000000      58.000000   \n",
       "\n",
       "                WFGA          WFGM3  ...          LFGA3           LFTM  \\\n",
       "count  198374.000000  198374.000000  ...  198374.000000  198374.000000   \n",
       "mean       57.063405       6.912005  ...      19.248818      11.436922   \n",
       "std         7.828931       3.166580  ...       6.325219       5.239163   \n",
       "min        26.000000       0.000000  ...       0.000000       0.000000   \n",
       "25%        52.000000       5.000000  ...      15.000000       8.000000   \n",
       "50%        57.000000       7.000000  ...      19.000000      11.000000   \n",
       "75%        62.000000       9.000000  ...      23.000000      15.000000   \n",
       "max       113.000000      30.000000  ...      80.000000      48.000000   \n",
       "\n",
       "                LFTA            LOR            LDR           LAst  \\\n",
       "count  198374.000000  198374.000000  198374.000000  198374.000000   \n",
       "mean       16.826656      10.826832      21.949363      11.217125   \n",
       "std         6.987616       4.418293       4.708807       3.765042   \n",
       "min         0.000000       0.000000       1.000000       0.000000   \n",
       "25%        12.000000       8.000000      19.000000       9.000000   \n",
       "50%        16.000000      10.000000      22.000000      11.000000   \n",
       "75%        21.000000      14.000000      25.000000      14.000000   \n",
       "max        65.000000      38.000000      53.000000      34.000000   \n",
       "\n",
       "                 LTO           LStl           LBlk            LPF  \n",
       "count  198374.000000  198374.000000  198374.000000  198374.000000  \n",
       "mean       15.214630       6.453946       2.848942      18.853504  \n",
       "std         5.028571       2.985335       2.037092       4.587468  \n",
       "min         0.000000       0.000000       0.000000       3.000000  \n",
       "25%        12.000000       4.000000       1.000000      16.000000  \n",
       "50%        15.000000       6.000000       3.000000      19.000000  \n",
       "75%        18.000000       8.000000       4.000000      22.000000  \n",
       "max        49.000000      26.000000      21.000000      47.000000  \n",
       "\n",
       "[8 rows x 33 columns]"
      ]
     },
     "execution_count": 2,
     "metadata": {},
     "output_type": "execute_result"
    }
   ],
   "source": [
    "dataset = Data()\n",
    "\n",
    "dataset.games.describe()"
   ]
  },
  {
   "cell_type": "markdown",
   "id": "ee119045-207e-4dae-9ec7-1ef186642f48",
   "metadata": {},
   "source": [
    "The x's will be the indexes of two team IDs and program IDs, the y's will include and indicator of who won at the game stats"
   ]
  },
  {
   "cell_type": "code",
   "execution_count": 3,
   "id": "3abc258c-3999-4de4-bc7d-580218c95cdc",
   "metadata": {},
   "outputs": [
    {
     "name": "stdout",
     "output_type": "stream",
     "text": [
      "Loading cached data\n"
     ]
    }
   ],
   "source": [
    "train_loader, validation_loader = dataset.train_test_data()"
   ]
  },
  {
   "cell_type": "markdown",
   "id": "cf50ea84-42ce-462c-a3b3-3928a04aa7ef",
   "metadata": {},
   "source": [
    "## The Model\n",
    "Define the model. Combine the embeddings for the two teams, go to a hidden layer, and then output to a prediction if the first team won"
   ]
  },
  {
   "cell_type": "code",
   "execution_count": 4,
   "id": "d5629261-0b6d-44c9-828e-698e86006f00",
   "metadata": {},
   "outputs": [],
   "source": [
    "model = Model(embedding_sizes=[16, 2048], model_sizes=(128,128), dropout=0.1, dataset=dataset).to(device)"
   ]
  },
  {
   "cell_type": "markdown",
   "id": "7d98325a-8ba0-466f-b3ca-6991e8450a08",
   "metadata": {},
   "source": [
    "## Training the model"
   ]
  },
  {
   "cell_type": "markdown",
   "id": "553fca87-08c7-48e0-92dd-52ef4ff8463f",
   "metadata": {},
   "source": [
    "Train the model"
   ]
  },
  {
   "cell_type": "code",
   "execution_count": 5,
   "id": "eb5d54b3-9031-45bb-a66f-ca69765aa76c",
   "metadata": {},
   "outputs": [
    {
     "name": "stdout",
     "output_type": "stream",
     "text": [
      "Initial: Accuracy: 50.00%, Stats loss: 796.786234 Result loss: 0.290508\n",
      "Epoch 0\n",
      "Train: Accuracy: 62.80%, Stats loss: 41.190527 Result loss: 0.222592\n",
      "Test: Accuracy: 62.84%, Stats loss: 40.886882 Result loss: 0.222199\n",
      "Epoch 1\n",
      "Train: Accuracy: 67.15%, Stats loss: 41.419481 Result loss: 0.204245\n",
      "Test: Accuracy: 67.00%, Stats loss: 41.238840 Result loss: 0.204092\n",
      "Epoch 2\n",
      "Train: Accuracy: 66.90%, Stats loss: 40.021307 Result loss: 0.204525\n",
      "Test: Accuracy: 66.90%, Stats loss: 40.054462 Result loss: 0.204485\n",
      "Epoch 3\n",
      "Train: Accuracy: 66.58%, Stats loss: 47.653535 Result loss: 0.205660\n",
      "Test: Accuracy: 66.65%, Stats loss: 47.649410 Result loss: 0.205361\n",
      "Epoch 4\n",
      "Train: Accuracy: 67.21%, Stats loss: 47.443626 Result loss: 0.203406\n",
      "Test: Accuracy: 66.91%, Stats loss: 47.577053 Result loss: 0.203691\n",
      "Epoch 5\n",
      "Train: Accuracy: 67.36%, Stats loss: 48.851467 Result loss: 0.202474\n",
      "Test: Accuracy: 67.23%, Stats loss: 49.187479 Result loss: 0.202332\n",
      "Epoch 6\n",
      "Train: Accuracy: 67.44%, Stats loss: 49.761065 Result loss: 0.202011\n",
      "Test: Accuracy: 66.91%, Stats loss: 50.139299 Result loss: 0.202446\n",
      "Epoch 7\n",
      "Train: Accuracy: 67.30%, Stats loss: 49.370698 Result loss: 0.202159\n",
      "Test: Accuracy: 66.91%, Stats loss: 49.778063 Result loss: 0.202593\n",
      "Epoch 8\n",
      "Train: Accuracy: 67.67%, Stats loss: 50.371861 Result loss: 0.201403\n",
      "Test: Accuracy: 67.17%, Stats loss: 50.834657 Result loss: 0.202125\n",
      "Epoch 9\n",
      "Train: Accuracy: 67.56%, Stats loss: 48.022015 Result loss: 0.201235\n",
      "Test: Accuracy: 67.12%, Stats loss: 48.488101 Result loss: 0.202180\n",
      "Epoch 10\n",
      "Train: Accuracy: 67.81%, Stats loss: 49.529714 Result loss: 0.200551\n",
      "Test: Accuracy: 67.13%, Stats loss: 50.043436 Result loss: 0.201876\n",
      "Epoch 11\n",
      "Train: Accuracy: 68.03%, Stats loss: 47.508894 Result loss: 0.199583\n",
      "Test: Accuracy: 67.40%, Stats loss: 48.089600 Result loss: 0.201033\n",
      "Epoch 12\n",
      "Train: Accuracy: 68.18%, Stats loss: 49.188739 Result loss: 0.198858\n",
      "Test: Accuracy: 67.60%, Stats loss: 49.796681 Result loss: 0.200426\n",
      "Epoch 13\n",
      "Train: Accuracy: 68.26%, Stats loss: 51.555667 Result loss: 0.198532\n",
      "Test: Accuracy: 67.55%, Stats loss: 52.080640 Result loss: 0.200669\n",
      "Epoch 14\n",
      "Train: Accuracy: 68.36%, Stats loss: 48.719923 Result loss: 0.197733\n",
      "Test: Accuracy: 67.47%, Stats loss: 49.334360 Result loss: 0.200289\n",
      "Epoch 15\n",
      "Train: Accuracy: 68.68%, Stats loss: 47.988392 Result loss: 0.196835\n",
      "Test: Accuracy: 67.70%, Stats loss: 48.624466 Result loss: 0.199374\n",
      "Epoch 16\n",
      "Train: Accuracy: 68.73%, Stats loss: 46.558087 Result loss: 0.196495\n",
      "Test: Accuracy: 67.96%, Stats loss: 47.258520 Result loss: 0.198948\n",
      "Epoch 17\n",
      "Train: Accuracy: 69.03%, Stats loss: 45.812519 Result loss: 0.195053\n",
      "Test: Accuracy: 68.02%, Stats loss: 46.508810 Result loss: 0.198246\n",
      "Epoch 18\n",
      "Train: Accuracy: 69.29%, Stats loss: 48.041911 Result loss: 0.194686\n",
      "Test: Accuracy: 68.46%, Stats loss: 48.753852 Result loss: 0.198169\n",
      "Epoch 19\n",
      "Train: Accuracy: 69.57%, Stats loss: 45.557609 Result loss: 0.193009\n",
      "Test: Accuracy: 68.35%, Stats loss: 46.274933 Result loss: 0.197255\n",
      "Epoch 20\n",
      "Train: Accuracy: 69.22%, Stats loss: 45.657941 Result loss: 0.193906\n",
      "Test: Accuracy: 68.08%, Stats loss: 46.398882 Result loss: 0.198247\n",
      "Epoch 21\n",
      "Train: Accuracy: 70.11%, Stats loss: 45.626652 Result loss: 0.190819\n",
      "Test: Accuracy: 68.88%, Stats loss: 46.367334 Result loss: 0.195407\n",
      "Epoch 22\n",
      "Train: Accuracy: 69.98%, Stats loss: 44.533219 Result loss: 0.190694\n",
      "Test: Accuracy: 68.75%, Stats loss: 45.323532 Result loss: 0.196043\n",
      "Epoch 23\n",
      "Train: Accuracy: 70.55%, Stats loss: 43.499094 Result loss: 0.188147\n",
      "Test: Accuracy: 69.13%, Stats loss: 44.337847 Result loss: 0.193934\n",
      "Epoch 24\n",
      "Train: Accuracy: 70.94%, Stats loss: 45.986591 Result loss: 0.186415\n",
      "Test: Accuracy: 69.20%, Stats loss: 46.816991 Result loss: 0.193053\n",
      "Epoch 25\n",
      "Train: Accuracy: 70.77%, Stats loss: 44.150473 Result loss: 0.186556\n",
      "Test: Accuracy: 69.39%, Stats loss: 45.040829 Result loss: 0.193076\n",
      "Epoch 26\n",
      "Train: Accuracy: 70.61%, Stats loss: 45.986949 Result loss: 0.186958\n",
      "Test: Accuracy: 69.25%, Stats loss: 46.903531 Result loss: 0.194052\n",
      "Epoch 27\n",
      "Train: Accuracy: 70.81%, Stats loss: 45.368485 Result loss: 0.185854\n",
      "Test: Accuracy: 69.22%, Stats loss: 46.270209 Result loss: 0.192827\n",
      "Epoch 28\n",
      "Train: Accuracy: 72.05%, Stats loss: 45.877371 Result loss: 0.180722\n",
      "Test: Accuracy: 70.22%, Stats loss: 46.794062 Result loss: 0.188879\n",
      "Epoch 29\n",
      "Train: Accuracy: 72.36%, Stats loss: 47.953508 Result loss: 0.179117\n",
      "Test: Accuracy: 70.52%, Stats loss: 48.804347 Result loss: 0.187360\n",
      "Epoch 30\n",
      "Train: Accuracy: 72.38%, Stats loss: 45.132109 Result loss: 0.179033\n",
      "Test: Accuracy: 70.41%, Stats loss: 46.120747 Result loss: 0.187211\n",
      "Epoch 31\n",
      "Train: Accuracy: 71.96%, Stats loss: 42.662843 Result loss: 0.180597\n",
      "Test: Accuracy: 70.35%, Stats loss: 43.615830 Result loss: 0.189616\n",
      "Epoch 32\n",
      "Train: Accuracy: 73.16%, Stats loss: 42.425939 Result loss: 0.175015\n",
      "Test: Accuracy: 71.08%, Stats loss: 43.470235 Result loss: 0.184329\n",
      "Epoch 33\n",
      "Train: Accuracy: 71.82%, Stats loss: 44.922506 Result loss: 0.180506\n",
      "Test: Accuracy: 70.01%, Stats loss: 45.895980 Result loss: 0.189765\n",
      "Epoch 34\n",
      "Train: Accuracy: 73.50%, Stats loss: 47.589821 Result loss: 0.173013\n",
      "Test: Accuracy: 71.34%, Stats loss: 48.584111 Result loss: 0.183387\n",
      "Epoch 35\n",
      "Train: Accuracy: 73.57%, Stats loss: 43.146021 Result loss: 0.173086\n",
      "Test: Accuracy: 71.24%, Stats loss: 44.254837 Result loss: 0.183508\n",
      "Epoch 36\n",
      "Train: Accuracy: 74.03%, Stats loss: 43.441409 Result loss: 0.170152\n",
      "Test: Accuracy: 71.66%, Stats loss: 44.535028 Result loss: 0.181094\n",
      "Epoch 37\n",
      "Train: Accuracy: 73.76%, Stats loss: 42.179603 Result loss: 0.171519\n",
      "Test: Accuracy: 71.56%, Stats loss: 43.315940 Result loss: 0.182599\n",
      "Epoch 38\n",
      "Train: Accuracy: 74.52%, Stats loss: 42.875970 Result loss: 0.168189\n",
      "Test: Accuracy: 71.83%, Stats loss: 44.054084 Result loss: 0.180192\n",
      "Epoch 39\n",
      "Train: Accuracy: 74.34%, Stats loss: 41.521877 Result loss: 0.168833\n",
      "Test: Accuracy: 71.87%, Stats loss: 42.728055 Result loss: 0.180712\n",
      "Epoch 40\n",
      "Train: Accuracy: 74.76%, Stats loss: 42.195472 Result loss: 0.166932\n",
      "Test: Accuracy: 72.15%, Stats loss: 43.397293 Result loss: 0.178944\n",
      "Epoch 41\n",
      "Train: Accuracy: 74.44%, Stats loss: 42.618600 Result loss: 0.168336\n",
      "Test: Accuracy: 71.99%, Stats loss: 43.835152 Result loss: 0.180519\n",
      "Epoch 42\n",
      "Train: Accuracy: 75.10%, Stats loss: 42.359240 Result loss: 0.165122\n",
      "Test: Accuracy: 72.36%, Stats loss: 43.543782 Result loss: 0.177972\n",
      "Epoch 43\n",
      "Train: Accuracy: 74.85%, Stats loss: 40.113185 Result loss: 0.165920\n",
      "Test: Accuracy: 72.32%, Stats loss: 41.412790 Result loss: 0.178668\n",
      "Epoch 44\n",
      "Train: Accuracy: 75.11%, Stats loss: 41.621642 Result loss: 0.164498\n",
      "Test: Accuracy: 72.62%, Stats loss: 42.936329 Result loss: 0.177854\n",
      "Epoch 45\n",
      "Train: Accuracy: 75.49%, Stats loss: 41.609909 Result loss: 0.162639\n",
      "Test: Accuracy: 72.99%, Stats loss: 42.963177 Result loss: 0.176349\n",
      "Epoch 46\n",
      "Train: Accuracy: 75.62%, Stats loss: 40.927686 Result loss: 0.161909\n",
      "Test: Accuracy: 73.01%, Stats loss: 42.243617 Result loss: 0.176028\n",
      "Epoch 47\n",
      "Train: Accuracy: 75.65%, Stats loss: 40.715151 Result loss: 0.162117\n",
      "Test: Accuracy: 73.01%, Stats loss: 42.058212 Result loss: 0.175528\n",
      "Epoch 48\n",
      "Train: Accuracy: 75.87%, Stats loss: 42.947444 Result loss: 0.160737\n",
      "Test: Accuracy: 73.16%, Stats loss: 44.320712 Result loss: 0.175269\n",
      "Epoch 49\n",
      "Train: Accuracy: 75.76%, Stats loss: 44.772662 Result loss: 0.161148\n",
      "Test: Accuracy: 73.11%, Stats loss: 46.156565 Result loss: 0.175481\n",
      "Epoch 50\n",
      "Train: Accuracy: 75.80%, Stats loss: 39.201978 Result loss: 0.161458\n",
      "Test: Accuracy: 73.19%, Stats loss: 40.621537 Result loss: 0.175904\n",
      "Epoch 51\n",
      "Train: Accuracy: 75.98%, Stats loss: 43.854685 Result loss: 0.160240\n",
      "Test: Accuracy: 73.28%, Stats loss: 45.263448 Result loss: 0.174804\n",
      "Epoch 52\n",
      "Train: Accuracy: 76.09%, Stats loss: 42.419456 Result loss: 0.159868\n",
      "Test: Accuracy: 73.31%, Stats loss: 43.850188 Result loss: 0.174687\n",
      "Epoch 53\n",
      "Train: Accuracy: 76.09%, Stats loss: 44.195220 Result loss: 0.159571\n",
      "Test: Accuracy: 73.67%, Stats loss: 45.580688 Result loss: 0.174158\n",
      "Epoch 54\n",
      "Train: Accuracy: 76.04%, Stats loss: 43.081512 Result loss: 0.159912\n",
      "Test: Accuracy: 73.34%, Stats loss: 44.575217 Result loss: 0.175182\n",
      "Epoch 55\n",
      "Train: Accuracy: 76.11%, Stats loss: 39.580018 Result loss: 0.159063\n",
      "Test: Accuracy: 73.66%, Stats loss: 41.109333 Result loss: 0.173846\n",
      "Epoch 56\n",
      "Train: Accuracy: 76.24%, Stats loss: 40.164624 Result loss: 0.158679\n",
      "Test: Accuracy: 73.58%, Stats loss: 41.720781 Result loss: 0.173900\n",
      "Epoch 57\n",
      "Train: Accuracy: 75.87%, Stats loss: 39.519367 Result loss: 0.160684\n",
      "Test: Accuracy: 73.11%, Stats loss: 41.027723 Result loss: 0.175711\n",
      "Epoch 58\n",
      "Train: Accuracy: 76.39%, Stats loss: 41.544771 Result loss: 0.157791\n",
      "Test: Accuracy: 73.69%, Stats loss: 43.135108 Result loss: 0.173434\n",
      "Epoch 59\n",
      "Train: Accuracy: 76.40%, Stats loss: 40.665110 Result loss: 0.158367\n",
      "Test: Accuracy: 73.67%, Stats loss: 42.194127 Result loss: 0.173438\n",
      "Epoch 60\n",
      "Train: Accuracy: 76.09%, Stats loss: 39.957052 Result loss: 0.159640\n",
      "Test: Accuracy: 73.31%, Stats loss: 41.575755 Result loss: 0.175124\n",
      "Epoch 61\n",
      "Train: Accuracy: 76.46%, Stats loss: 38.027047 Result loss: 0.157173\n",
      "Test: Accuracy: 73.60%, Stats loss: 39.680668 Result loss: 0.173893\n",
      "Epoch 62\n",
      "Train: Accuracy: 76.33%, Stats loss: 39.401800 Result loss: 0.158222\n",
      "Test: Accuracy: 73.71%, Stats loss: 41.097099 Result loss: 0.174329\n",
      "Epoch 63\n",
      "Train: Accuracy: 76.28%, Stats loss: 38.395311 Result loss: 0.158370\n",
      "Test: Accuracy: 73.55%, Stats loss: 40.089051 Result loss: 0.174714\n",
      "Best Loss: 0.173434\n"
     ]
    }
   ],
   "source": [
    "train(train_loader, validation_loader, model, learning_rate=0.0005)"
   ]
  },
  {
   "cell_type": "markdown",
   "id": "41aaf28c-130c-4579-a627-7475f7abc2a2",
   "metadata": {},
   "source": [
    "Fine tune with only the result"
   ]
  },
  {
   "cell_type": "code",
   "execution_count": 6,
   "id": "d4074860-e773-4900-96d3-7859687f15ae",
   "metadata": {},
   "outputs": [
    {
     "name": "stdout",
     "output_type": "stream",
     "text": [
      "Initial: Accuracy: 73.69%, Stats loss: 43.135108 Result loss: 0.173434\n",
      "Epoch 0\n",
      "Train: Accuracy: 76.59%, Stats loss: 112.084718 Result loss: 0.156642\n",
      "Test: Accuracy: 73.80%, Stats loss: 113.076810 Result loss: 0.173338\n",
      "Epoch 1\n",
      "Train: Accuracy: 76.77%, Stats loss: 168.187405 Result loss: 0.155803\n",
      "Test: Accuracy: 73.71%, Stats loss: 168.907313 Result loss: 0.173208\n",
      "Epoch 2\n",
      "Train: Accuracy: 76.88%, Stats loss: 219.522373 Result loss: 0.155272\n",
      "Test: Accuracy: 73.52%, Stats loss: 220.029674 Result loss: 0.173545\n",
      "Epoch 3\n",
      "Train: Accuracy: 77.01%, Stats loss: 271.363147 Result loss: 0.154431\n",
      "Test: Accuracy: 73.63%, Stats loss: 271.771777 Result loss: 0.174077\n",
      "Epoch 4\n",
      "Train: Accuracy: 77.12%, Stats loss: 297.926009 Result loss: 0.154052\n",
      "Test: Accuracy: 73.70%, Stats loss: 298.290706 Result loss: 0.173789\n",
      "Epoch 5\n",
      "Train: Accuracy: 77.25%, Stats loss: 331.561792 Result loss: 0.153179\n",
      "Test: Accuracy: 73.68%, Stats loss: 331.729578 Result loss: 0.173879\n",
      "Epoch 6\n",
      "Train: Accuracy: 77.33%, Stats loss: 340.397619 Result loss: 0.152565\n",
      "Test: Accuracy: 73.60%, Stats loss: 340.515976 Result loss: 0.174278\n",
      "Best Loss: 0.173208\n"
     ]
    }
   ],
   "source": [
    "train(train_loader, validation_loader, model, learning_rate=0.0001, full_loss=False)"
   ]
  },
  {
   "cell_type": "markdown",
   "id": "3a55a843-9fa3-443f-8342-410abd74688c",
   "metadata": {},
   "source": [
    "With this model we can predict the output of about three quarters of regular season games."
   ]
  },
  {
   "cell_type": "markdown",
   "id": "7afe60ad-2cd9-4339-9600-62264350e6bd",
   "metadata": {},
   "source": [
    "## Load the tourney data to test with"
   ]
  },
  {
   "cell_type": "code",
   "execution_count": 7,
   "id": "093fcd61-386e-4330-b5af-e9d93df1b144",
   "metadata": {},
   "outputs": [],
   "source": [
    "tourney_dataset = dataset.gen_dataset(dataset.tourney)\n",
    "tourney_loader = DataLoader(tourney_dataset, batch_size=500, shuffle=True)"
   ]
  },
  {
   "cell_type": "code",
   "execution_count": 8,
   "id": "08340cd1-6cb0-400a-80fa-dda1171789bd",
   "metadata": {},
   "outputs": [
    {
     "name": "stdout",
     "output_type": "stream",
     "text": [
      "Tourney: Accuracy: 73.70%, Stats loss: 172.518689 Result loss: 0.170433\n"
     ]
    },
    {
     "data": {
      "text/plain": [
       "0.17043262693136313"
      ]
     },
     "execution_count": 8,
     "metadata": {},
     "output_type": "execute_result"
    }
   ],
   "source": [
    "test(tourney_loader, model, device, label=\"Tourney\")"
   ]
  },
  {
   "cell_type": "markdown",
   "id": "ada7c18a-8267-4926-a191-5c3a218bfde2",
   "metadata": {},
   "source": [
    "When it comes to tournament results we get a little worse. The lower result is likely due to teams having increased pairity."
   ]
  },
  {
   "cell_type": "markdown",
   "id": "658506a6-6cff-48e4-9562-28cabf03663a",
   "metadata": {},
   "source": [
    "Train with early torney data"
   ]
  },
  {
   "cell_type": "code",
   "execution_count": 9,
   "id": "1b635c43-1cee-4bca-a38c-0cb71c4f3ee4",
   "metadata": {},
   "outputs": [],
   "source": [
    "tourney_df = dataset.tourney[dataset.tourney.Season < 2021]\n",
    "\n",
    "tourney_train_df, tourney_validation_df = train_test_split(tourney_df, train_size=0.8)\n",
    "tourney_train_data = dataset.gen_dataset(tourney_train_df)\n",
    "tourney_validation_data = dataset.gen_dataset(tourney_validation_df)\n",
    "\n",
    "tourney_train_loader = DataLoader(tourney_train_data, batch_size=500)\n",
    "tourney_validation_loader = DataLoader(tourney_validation_data, batch_size=500)"
   ]
  },
  {
   "cell_type": "code",
   "execution_count": 10,
   "id": "911e30c5-e7d4-4bd5-b15a-8fce5a92322b",
   "metadata": {},
   "outputs": [],
   "source": [
    "for param in model.team_embedding.parameters():\n",
    "    param.requires_grad=False\n",
    "for param in model.program_embedding.parameters():\n",
    "    param.requires_grad=False"
   ]
  },
  {
   "cell_type": "code",
   "execution_count": 11,
   "id": "b985479b-335f-4a69-ad88-6738891b934e",
   "metadata": {},
   "outputs": [
    {
     "name": "stdout",
     "output_type": "stream",
     "text": [
      "Initial: Accuracy: 72.06%, Stats loss: 168.088686 Result loss: 0.173256\n",
      "Epoch 0\n",
      "Train: Accuracy: 73.28%, Stats loss: 179.410581 Result loss: 0.170822\n",
      "Test: Accuracy: 71.92%, Stats loss: 171.577583 Result loss: 0.177126\n",
      "Epoch 1\n",
      "Train: Accuracy: 73.64%, Stats loss: 181.078691 Result loss: 0.168291\n",
      "Test: Accuracy: 72.06%, Stats loss: 173.218670 Result loss: 0.175324\n",
      "Epoch 2\n",
      "Train: Accuracy: 74.79%, Stats loss: 181.523042 Result loss: 0.165711\n",
      "Test: Accuracy: 71.92%, Stats loss: 173.667225 Result loss: 0.173508\n",
      "Epoch 3\n",
      "Train: Accuracy: 75.00%, Stats loss: 181.505157 Result loss: 0.164447\n",
      "Test: Accuracy: 72.21%, Stats loss: 173.659497 Result loss: 0.172923\n",
      "Epoch 4\n",
      "Train: Accuracy: 75.25%, Stats loss: 181.321761 Result loss: 0.164002\n",
      "Test: Accuracy: 72.35%, Stats loss: 173.489685 Result loss: 0.173019\n",
      "Epoch 5\n",
      "Train: Accuracy: 75.64%, Stats loss: 181.277495 Result loss: 0.163787\n",
      "Test: Accuracy: 72.49%, Stats loss: 173.455593 Result loss: 0.173312\n",
      "Epoch 6\n",
      "Train: Accuracy: 75.79%, Stats loss: 181.384310 Result loss: 0.163507\n",
      "Test: Accuracy: 73.07%, Stats loss: 173.562563 Result loss: 0.173537\n",
      "Epoch 7\n",
      "Train: Accuracy: 75.75%, Stats loss: 181.666525 Result loss: 0.163016\n",
      "Test: Accuracy: 73.07%, Stats loss: 173.834867 Result loss: 0.173578\n",
      "Epoch 8\n",
      "Train: Accuracy: 76.00%, Stats loss: 182.045786 Result loss: 0.162401\n",
      "Test: Accuracy: 73.07%, Stats loss: 174.202375 Result loss: 0.173479\n",
      "Best Loss: 0.172923\n"
     ]
    }
   ],
   "source": [
    "train(tourney_train_loader, tourney_validation_loader, model, learning_rate=0.0001, full_loss=False)"
   ]
  },
  {
   "cell_type": "markdown",
   "id": "9bd8ba4d-cd61-4693-9cda-963ecca19c07",
   "metadata": {},
   "source": [
    "### Performance by year\n"
   ]
  },
  {
   "cell_type": "code",
   "execution_count": 12,
   "id": "fda1ddd2-af9c-4bed-9812-fc24e0c56d4d",
   "metadata": {},
   "outputs": [
    {
     "name": "stdout",
     "output_type": "stream",
     "text": [
      "2003 Tournament: Accuracy: 75.00%, Stats loss: 187.536896 Result loss: 0.177186\n",
      "2004 Tournament: Accuracy: 64.84%, Stats loss: 180.405032 Result loss: 0.187859\n",
      "2005 Tournament: Accuracy: 77.34%, Stats loss: 186.615882 Result loss: 0.165995\n",
      "2006 Tournament: Accuracy: 68.75%, Stats loss: 178.120440 Result loss: 0.208336\n",
      "2007 Tournament: Accuracy: 75.78%, Stats loss: 187.861479 Result loss: 0.159984\n",
      "2008 Tournament: Accuracy: 77.34%, Stats loss: 186.278016 Result loss: 0.159429\n",
      "2009 Tournament: Accuracy: 71.09%, Stats loss: 189.830288 Result loss: 0.168506\n",
      "2010 Tournament: Accuracy: 75.20%, Stats loss: 174.879282 Result loss: 0.167447\n",
      "2011 Tournament: Accuracy: 70.00%, Stats loss: 168.158943 Result loss: 0.172318\n",
      "2012 Tournament: Accuracy: 77.69%, Stats loss: 169.856426 Result loss: 0.152798\n",
      "2013 Tournament: Accuracy: 71.15%, Stats loss: 173.461048 Result loss: 0.182032\n",
      "2014 Tournament: Accuracy: 76.54%, Stats loss: 170.790335 Result loss: 0.157908\n",
      "2015 Tournament: Accuracy: 77.69%, Stats loss: 177.067082 Result loss: 0.143170\n",
      "2016 Tournament: Accuracy: 75.00%, Stats loss: 187.093399 Result loss: 0.168854\n",
      "2017 Tournament: Accuracy: 80.00%, Stats loss: 191.605193 Result loss: 0.146340\n",
      "2018 Tournament: Accuracy: 69.62%, Stats loss: 184.629532 Result loss: 0.190518\n",
      "2019 Tournament: Accuracy: 76.92%, Stats loss: 183.439740 Result loss: 0.148405\n",
      "2021 Tournament: Accuracy: 69.77%, Stats loss: 161.764494 Result loss: 0.182577\n",
      "2022 Tournament: Accuracy: 74.25%, Stats loss: 176.226960 Result loss: 0.174961\n",
      "2023 Tournament: Accuracy: 69.78%, Stats loss: 171.411046 Result loss: 0.193455\n",
      "2024 Tournament: Accuracy: 75.37%, Stats loss: 179.427616 Result loss: 0.161003\n"
     ]
    }
   ],
   "source": [
    "for season in dataset.tourney.Season.unique():\n",
    "    loader = dataset.tourney_data(year=season)\n",
    "    test(loader, model, device, label=f\"{season} Tournament\")"
   ]
  },
  {
   "cell_type": "code",
   "execution_count": 13,
   "id": "509da685-8b79-473b-83d8-74e9d47ebe72",
   "metadata": {},
   "outputs": [
    {
     "name": "stdout",
     "output_type": "stream",
     "text": [
      "Stage 1: Accuracy: 72.32%, Stats loss: 172.305863 Result loss: 0.177956\n"
     ]
    },
    {
     "data": {
      "text/plain": [
       "0.17795590977595196"
      ]
     },
     "execution_count": 13,
     "metadata": {},
     "output_type": "execute_result"
    }
   ],
   "source": [
    "stage1_loader = dataset.tourney_data(after=2021)\n",
    "test(stage1_loader, model, device=device, label=f\"Stage 1\")"
   ]
  },
  {
   "cell_type": "markdown",
   "id": "c6c2687e-5887-49ee-ab96-ae27a6f2bb8e",
   "metadata": {},
   "source": [
    "Breaking out by league"
   ]
  },
  {
   "cell_type": "code",
   "execution_count": 14,
   "id": "21b242b3-48af-4495-9605-08880cbc820c",
   "metadata": {},
   "outputs": [
    {
     "name": "stdout",
     "output_type": "stream",
     "text": [
      "2003 M Tournament: Accuracy: 75.00%, Stats loss: 187.536896 Result loss: 0.177186\n",
      "2004 M Tournament: Accuracy: 64.84%, Stats loss: 180.405032 Result loss: 0.187859\n",
      "2005 M Tournament: Accuracy: 77.34%, Stats loss: 186.615882 Result loss: 0.165995\n",
      "2006 M Tournament: Accuracy: 68.75%, Stats loss: 178.120440 Result loss: 0.208336\n",
      "2007 M Tournament: Accuracy: 75.78%, Stats loss: 187.861479 Result loss: 0.159984\n",
      "2008 M Tournament: Accuracy: 77.34%, Stats loss: 186.278016 Result loss: 0.159429\n",
      "2009 M Tournament: Accuracy: 71.09%, Stats loss: 189.830288 Result loss: 0.168506\n",
      "2010 M Tournament: Accuracy: 75.00%, Stats loss: 178.063221 Result loss: 0.190535\n",
      "2010 W Tournament: Accuracy: 75.40%, Stats loss: 171.644804 Result loss: 0.143992\n",
      "2011 M Tournament: Accuracy: 64.93%, Stats loss: 169.489887 Result loss: 0.218611\n",
      "2011 W Tournament: Accuracy: 75.40%, Stats loss: 166.743494 Result loss: 0.123085\n",
      "2012 M Tournament: Accuracy: 73.13%, Stats loss: 162.140174 Result loss: 0.186295\n",
      "2012 W Tournament: Accuracy: 82.54%, Stats loss: 178.062597 Result loss: 0.117175\n",
      "2013 M Tournament: Accuracy: 65.67%, Stats loss: 162.062478 Result loss: 0.210515\n",
      "2013 W Tournament: Accuracy: 76.98%, Stats loss: 185.583337 Result loss: 0.151741\n",
      "2014 M Tournament: Accuracy: 70.15%, Stats loss: 169.104695 Result loss: 0.193039\n",
      "2014 W Tournament: Accuracy: 83.33%, Stats loss: 172.583000 Result loss: 0.120546\n",
      "2015 M Tournament: Accuracy: 76.87%, Stats loss: 171.307928 Result loss: 0.157213\n",
      "2015 W Tournament: Accuracy: 78.57%, Stats loss: 183.191896 Result loss: 0.128235\n",
      "2016 M Tournament: Accuracy: 72.39%, Stats loss: 187.777579 Result loss: 0.186644\n",
      "2016 W Tournament: Accuracy: 77.78%, Stats loss: 186.365778 Result loss: 0.149934\n",
      "2017 M Tournament: Accuracy: 73.13%, Stats loss: 198.228532 Result loss: 0.157004\n",
      "2017 W Tournament: Accuracy: 87.30%, Stats loss: 184.561325 Result loss: 0.134999\n",
      "2018 M Tournament: Accuracy: 64.18%, Stats loss: 181.310200 Result loss: 0.217062\n",
      "2018 W Tournament: Accuracy: 75.40%, Stats loss: 188.159615 Result loss: 0.162289\n",
      "2019 M Tournament: Accuracy: 70.15%, Stats loss: 180.619146 Result loss: 0.172191\n",
      "2019 W Tournament: Accuracy: 84.13%, Stats loss: 186.439420 Result loss: 0.123110\n",
      "2021 M Tournament: Accuracy: 64.39%, Stats loss: 168.617184 Result loss: 0.219398\n",
      "2021 W Tournament: Accuracy: 75.40%, Stats loss: 154.585485 Result loss: 0.144003\n",
      "2022 M Tournament: Accuracy: 70.15%, Stats loss: 178.124775 Result loss: 0.210375\n",
      "2022 W Tournament: Accuracy: 78.36%, Stats loss: 174.329145 Result loss: 0.139547\n",
      "2023 M Tournament: Accuracy: 64.18%, Stats loss: 174.045559 Result loss: 0.217260\n",
      "2023 W Tournament: Accuracy: 75.37%, Stats loss: 168.776533 Result loss: 0.169650\n",
      "2024 M Tournament: Accuracy: 73.88%, Stats loss: 189.011177 Result loss: 0.193417\n",
      "2024 W Tournament: Accuracy: 76.87%, Stats loss: 169.844055 Result loss: 0.128589\n"
     ]
    }
   ],
   "source": [
    "for season in dataset.tourney.Season.unique():\n",
    "    for league in dataset.tourney[dataset.tourney.Season == season].League.unique():\n",
    "        loader = dataset.tourney_data(year=season, league=league)\n",
    "        test(loader, model, device, label=f\"{season} {league} Tournament\")"
   ]
  },
  {
   "cell_type": "markdown",
   "id": "9e8e259c-bcf2-43bd-a478-acbd02ef7b24",
   "metadata": {},
   "source": [
    "## Inspect the model\n",
    "First what are the sizes of the smallest input and output weights"
   ]
  },
  {
   "cell_type": "code",
   "execution_count": 15,
   "id": "f7a94e95-ac8a-4a7c-a148-d6aa4dfa6f6a",
   "metadata": {
    "scrolled": true
   },
   "outputs": [
    {
     "name": "stdout",
     "output_type": "stream",
     "text": [
      "Program embedding min: 2.502787\n",
      "Team embedding min: 3.764464\n",
      "FC min: 0.000026\n"
     ]
    }
   ],
   "source": [
    "print(f\"Program embedding min: {model.program_embedding.state_dict()['weight'].abs().max(axis=0).values.min().item():>8f}\")\n",
    "print(f\"Team embedding min: {model.team_embedding.state_dict()['weight'].abs().max(axis=0).values.min().item():>8f}\")\n",
    "print(f\"FC min: {model.result_fc.state_dict()['weight'].abs().max(axis=0).values.min().item():>8f}\")"
   ]
  },
  {
   "cell_type": "markdown",
   "id": "ff1e4997-5ee2-40d3-b7ab-28e722b20e84",
   "metadata": {},
   "source": [
    "Calculate the average gradient for each input feature"
   ]
  },
  {
   "cell_type": "code",
   "execution_count": 16,
   "id": "57673837-e393-4a99-896e-af251d18c8d0",
   "metadata": {},
   "outputs": [],
   "source": [
    "for param in model.team_embedding.parameters():\n",
    "    param.requires_grad=True\n",
    "for param in model.program_embedding.parameters():\n",
    "    param.requires_grad=True"
   ]
  },
  {
   "cell_type": "code",
   "execution_count": 17,
   "id": "1e25e971-f8cc-47df-9e5f-d15de0441bcc",
   "metadata": {},
   "outputs": [],
   "source": [
    "program_weights, team_weights, stats_weights = feature_eval(model, tourney_loader)"
   ]
  },
  {
   "cell_type": "code",
   "execution_count": 18,
   "id": "6aeb3583-a9f4-4e04-b040-5194d7000441",
   "metadata": {},
   "outputs": [
    {
     "data": {
      "text/plain": [
       "(0.018737902864813805, 0.005341209005564451)"
      ]
     },
     "execution_count": 18,
     "metadata": {},
     "output_type": "execute_result"
    }
   ],
   "source": [
    "program_weights.abs().sum().item(), team_weights.abs().sum().item()"
   ]
  },
  {
   "cell_type": "code",
   "execution_count": 19,
   "id": "f47b2ee6-c1ab-4741-b959-883fd51e0c89",
   "metadata": {},
   "outputs": [
    {
     "name": "stdout",
     "output_type": "stream",
     "text": [
      "Year:\t0.034320\n",
      "Game:\t-0.031676\n",
      "League:\t-0.078706\n"
     ]
    }
   ],
   "source": [
    "print(f\"Year:\\t{stats_weights[0]:>4f}\")\n",
    "print(f\"Game:\\t{stats_weights[1]:>4f}\")\n",
    "print(f\"League:\\t{stats_weights[2]:>4f}\")"
   ]
  },
  {
   "cell_type": "markdown",
   "id": "e4afd4bc-a7fc-43bd-a1b6-1b37a85f8f79",
   "metadata": {},
   "source": [
    "## Generating the submission file\n",
    "### Phase 2\n",
    "\n",
    "Write the results"
   ]
  },
  {
   "cell_type": "code",
   "execution_count": 20,
   "id": "5fab9e75-36e9-47a4-826f-42c9588de50f",
   "metadata": {},
   "outputs": [],
   "source": [
    "odds = model_odds(dataset, 2025, 'M', model)"
   ]
  },
  {
   "cell_type": "code",
   "execution_count": 21,
   "id": "aa73ccc9-58fb-4142-a558-cf8c79ae0ac5",
   "metadata": {
    "scrolled": true
   },
   "outputs": [],
   "source": [
    "gen_submission(model, dataset)"
   ]
  },
  {
   "cell_type": "markdown",
   "id": "38e3b7d8-88d5-4f18-aad2-ce4ede2941f9",
   "metadata": {},
   "source": [
    "## Save the model"
   ]
  },
  {
   "cell_type": "code",
   "execution_count": 22,
   "id": "5da7e66a-9601-40f4-bec7-7aef34b5f229",
   "metadata": {},
   "outputs": [],
   "source": [
    "torch.save(model.state_dict(), 'model.pth')"
   ]
  },
  {
   "cell_type": "markdown",
   "id": "667cb6e9-8b1f-459c-be76-f61f39b30f49",
   "metadata": {},
   "source": [
    "## Moderated model\n",
    "\n",
    "Moderate a model by pushing it towards 0.5"
   ]
  },
  {
   "cell_type": "code",
   "execution_count": 23,
   "id": "e18455d2-3fa2-480b-a776-c7fd35255c8f",
   "metadata": {},
   "outputs": [],
   "source": [
    "moderated = ModeratedModel(model, 0.75)"
   ]
  },
  {
   "cell_type": "code",
   "execution_count": 24,
   "id": "215a1a7b-ae81-4bf7-8b61-12f2af6e532f",
   "metadata": {
    "scrolled": true
   },
   "outputs": [
    {
     "name": "stdout",
     "output_type": "stream",
     "text": [
      "2003 Tournament: Accuracy: 75.00%, Stats loss: 301.376594 Result loss: 0.177186\n",
      "2004 Tournament: Accuracy: 64.84%, Stats loss: 290.868257 Result loss: 0.187859\n",
      "2005 Tournament: Accuracy: 77.34%, Stats loss: 297.318479 Result loss: 0.165995\n",
      "2006 Tournament: Accuracy: 68.75%, Stats loss: 283.473422 Result loss: 0.208336\n",
      "2007 Tournament: Accuracy: 75.78%, Stats loss: 297.432305 Result loss: 0.159984\n",
      "2008 Tournament: Accuracy: 77.34%, Stats loss: 296.645031 Result loss: 0.159429\n",
      "2009 Tournament: Accuracy: 71.09%, Stats loss: 303.969298 Result loss: 0.168506\n",
      "2010 Tournament: Accuracy: 75.20%, Stats loss: 282.131481 Result loss: 0.167447\n",
      "2011 Tournament: Accuracy: 70.00%, Stats loss: 273.145139 Result loss: 0.172318\n",
      "2012 Tournament: Accuracy: 77.69%, Stats loss: 272.809321 Result loss: 0.152798\n",
      "2013 Tournament: Accuracy: 71.15%, Stats loss: 277.463082 Result loss: 0.182032\n",
      "2014 Tournament: Accuracy: 76.54%, Stats loss: 278.978014 Result loss: 0.157908\n",
      "2015 Tournament: Accuracy: 77.69%, Stats loss: 284.529825 Result loss: 0.143170\n",
      "2016 Tournament: Accuracy: 75.00%, Stats loss: 300.861544 Result loss: 0.168854\n",
      "2017 Tournament: Accuracy: 80.00%, Stats loss: 309.351956 Result loss: 0.146340\n",
      "2018 Tournament: Accuracy: 69.62%, Stats loss: 301.547659 Result loss: 0.190518\n",
      "2019 Tournament: Accuracy: 76.92%, Stats loss: 298.351747 Result loss: 0.148405\n",
      "2021 Tournament: Accuracy: 69.77%, Stats loss: 268.359135 Result loss: 0.182577\n",
      "2022 Tournament: Accuracy: 74.25%, Stats loss: 284.848146 Result loss: 0.174961\n",
      "2023 Tournament: Accuracy: 69.78%, Stats loss: 280.398988 Result loss: 0.193455\n",
      "2024 Tournament: Accuracy: 75.37%, Stats loss: 294.235128 Result loss: 0.161003\n"
     ]
    }
   ],
   "source": [
    "for season in dataset.tourney.Season.unique():\n",
    "    loader = dataset.tourney_data(season)\n",
    "    test(loader, moderated, label=f\"{season} Tournament\")"
   ]
  },
  {
   "cell_type": "markdown",
   "id": "2ecee29c-6762-463a-89ca-ee49dc3e72db",
   "metadata": {},
   "source": [
    "## Dig into 2023 results"
   ]
  },
  {
   "cell_type": "code",
   "execution_count": 25,
   "id": "cec1416b-ee18-4730-8210-6563239edd23",
   "metadata": {},
   "outputs": [],
   "source": [
    "loader = dataset.tourney_data(2023)\n",
    "\n",
    "x, y = loader.dataset.tensors\n",
    "\n",
    "preds = model(x.to(device))"
   ]
  },
  {
   "cell_type": "code",
   "execution_count": 26,
   "id": "86c62b6c-434f-4f23-84fe-0f227ab6f4c2",
   "metadata": {},
   "outputs": [],
   "source": [
    "t_2023 = pd.DataFrame({'winner_name': [dataset.all_teams.loc[dataset.programs.loc[i].TeamID].TeamName for i in x[:,0].tolist()],\n",
    "                       'loser_name': [dataset.all_teams.loc[dataset.programs.loc[i].TeamID].TeamName for i in x[:,2].tolist()],\n",
    "                       'winner': [dataset.programs.loc[i].TeamID for i in x[:,0].tolist()],\n",
    "                       'loser': [dataset.programs.loc[i].TeamID for i in x[:,2].tolist()],\n",
    "                       'actual': y[:,0].reshape([-1]),\n",
    "                       'predicted': np.array(preds[0].tolist()).reshape([-1])}).iloc[:67]"
   ]
  },
  {
   "cell_type": "code",
   "execution_count": 27,
   "id": "aa17e8a0-ac98-415b-9cb6-d2fc251de985",
   "metadata": {
    "scrolled": true
   },
   "outputs": [
    {
     "data": {
      "text/html": [
       "<div>\n",
       "<style scoped>\n",
       "    .dataframe tbody tr th:only-of-type {\n",
       "        vertical-align: middle;\n",
       "    }\n",
       "\n",
       "    .dataframe tbody tr th {\n",
       "        vertical-align: top;\n",
       "    }\n",
       "\n",
       "    .dataframe thead th {\n",
       "        text-align: right;\n",
       "    }\n",
       "</style>\n",
       "<table border=\"1\" class=\"dataframe\">\n",
       "  <thead>\n",
       "    <tr style=\"text-align: right;\">\n",
       "      <th></th>\n",
       "      <th>winner_name</th>\n",
       "      <th>loser_name</th>\n",
       "      <th>winner</th>\n",
       "      <th>loser</th>\n",
       "      <th>actual</th>\n",
       "      <th>predicted</th>\n",
       "    </tr>\n",
       "  </thead>\n",
       "  <tbody>\n",
       "    <tr>\n",
       "      <th>23</th>\n",
       "      <td>F Dickinson</td>\n",
       "      <td>Purdue</td>\n",
       "      <td>1192</td>\n",
       "      <td>1345</td>\n",
       "      <td>1.0</td>\n",
       "      <td>0.003878</td>\n",
       "    </tr>\n",
       "    <tr>\n",
       "      <th>15</th>\n",
       "      <td>Princeton</td>\n",
       "      <td>Arizona</td>\n",
       "      <td>1343</td>\n",
       "      <td>1112</td>\n",
       "      <td>1.0</td>\n",
       "      <td>0.073796</td>\n",
       "    </tr>\n",
       "    <tr>\n",
       "      <th>8</th>\n",
       "      <td>Furman</td>\n",
       "      <td>Virginia</td>\n",
       "      <td>1202</td>\n",
       "      <td>1438</td>\n",
       "      <td>1.0</td>\n",
       "      <td>0.120435</td>\n",
       "    </tr>\n",
       "    <tr>\n",
       "      <th>53</th>\n",
       "      <td>FL Atlantic</td>\n",
       "      <td>Tennessee</td>\n",
       "      <td>1194</td>\n",
       "      <td>1397</td>\n",
       "      <td>1.0</td>\n",
       "      <td>0.136621</td>\n",
       "    </tr>\n",
       "    <tr>\n",
       "      <th>39</th>\n",
       "      <td>Princeton</td>\n",
       "      <td>Missouri</td>\n",
       "      <td>1343</td>\n",
       "      <td>1281</td>\n",
       "      <td>1.0</td>\n",
       "      <td>0.215313</td>\n",
       "    </tr>\n",
       "    <tr>\n",
       "      <th>57</th>\n",
       "      <td>Miami FL</td>\n",
       "      <td>Houston</td>\n",
       "      <td>1274</td>\n",
       "      <td>1222</td>\n",
       "      <td>1.0</td>\n",
       "      <td>0.229850</td>\n",
       "    </tr>\n",
       "    <tr>\n",
       "      <th>37</th>\n",
       "      <td>Arkansas</td>\n",
       "      <td>Kansas</td>\n",
       "      <td>1116</td>\n",
       "      <td>1242</td>\n",
       "      <td>1.0</td>\n",
       "      <td>0.284695</td>\n",
       "    </tr>\n",
       "    <tr>\n",
       "      <th>58</th>\n",
       "      <td>San Diego St</td>\n",
       "      <td>Alabama</td>\n",
       "      <td>1361</td>\n",
       "      <td>1104</td>\n",
       "      <td>1.0</td>\n",
       "      <td>0.312686</td>\n",
       "    </tr>\n",
       "    <tr>\n",
       "      <th>61</th>\n",
       "      <td>FL Atlantic</td>\n",
       "      <td>Kansas St</td>\n",
       "      <td>1194</td>\n",
       "      <td>1243</td>\n",
       "      <td>1.0</td>\n",
       "      <td>0.332678</td>\n",
       "    </tr>\n",
       "    <tr>\n",
       "      <th>5</th>\n",
       "      <td>Arkansas</td>\n",
       "      <td>Illinois</td>\n",
       "      <td>1116</td>\n",
       "      <td>1228</td>\n",
       "      <td>1.0</td>\n",
       "      <td>0.346291</td>\n",
       "    </tr>\n",
       "    <tr>\n",
       "      <th>50</th>\n",
       "      <td>Michigan St</td>\n",
       "      <td>Marquette</td>\n",
       "      <td>1277</td>\n",
       "      <td>1266</td>\n",
       "      <td>1.0</td>\n",
       "      <td>0.363139</td>\n",
       "    </tr>\n",
       "    <tr>\n",
       "      <th>62</th>\n",
       "      <td>Miami FL</td>\n",
       "      <td>Texas</td>\n",
       "      <td>1274</td>\n",
       "      <td>1400</td>\n",
       "      <td>1.0</td>\n",
       "      <td>0.369398</td>\n",
       "    </tr>\n",
       "    <tr>\n",
       "      <th>24</th>\n",
       "      <td>FL Atlantic</td>\n",
       "      <td>Memphis</td>\n",
       "      <td>1194</td>\n",
       "      <td>1272</td>\n",
       "      <td>1.0</td>\n",
       "      <td>0.375313</td>\n",
       "    </tr>\n",
       "    <tr>\n",
       "      <th>48</th>\n",
       "      <td>Kansas St</td>\n",
       "      <td>Kentucky</td>\n",
       "      <td>1243</td>\n",
       "      <td>1246</td>\n",
       "      <td>1.0</td>\n",
       "      <td>0.378901</td>\n",
       "    </tr>\n",
       "    <tr>\n",
       "      <th>49</th>\n",
       "      <td>Miami FL</td>\n",
       "      <td>Indiana</td>\n",
       "      <td>1274</td>\n",
       "      <td>1231</td>\n",
       "      <td>1.0</td>\n",
       "      <td>0.384635</td>\n",
       "    </tr>\n",
       "    <tr>\n",
       "      <th>0</th>\n",
       "      <td>Pittsburgh</td>\n",
       "      <td>Mississippi St</td>\n",
       "      <td>1338</td>\n",
       "      <td>1280</td>\n",
       "      <td>1.0</td>\n",
       "      <td>0.388889</td>\n",
       "    </tr>\n",
       "    <tr>\n",
       "      <th>45</th>\n",
       "      <td>Creighton</td>\n",
       "      <td>Baylor</td>\n",
       "      <td>1166</td>\n",
       "      <td>1124</td>\n",
       "      <td>1.0</td>\n",
       "      <td>0.395106</td>\n",
       "    </tr>\n",
       "    <tr>\n",
       "      <th>32</th>\n",
       "      <td>Pittsburgh</td>\n",
       "      <td>Iowa St</td>\n",
       "      <td>1338</td>\n",
       "      <td>1235</td>\n",
       "      <td>1.0</td>\n",
       "      <td>0.412832</td>\n",
       "    </tr>\n",
       "    <tr>\n",
       "      <th>63</th>\n",
       "      <td>San Diego St</td>\n",
       "      <td>Creighton</td>\n",
       "      <td>1361</td>\n",
       "      <td>1166</td>\n",
       "      <td>1.0</td>\n",
       "      <td>0.415698</td>\n",
       "    </tr>\n",
       "    <tr>\n",
       "      <th>6</th>\n",
       "      <td>Auburn</td>\n",
       "      <td>Iowa</td>\n",
       "      <td>1120</td>\n",
       "      <td>1234</td>\n",
       "      <td>1.0</td>\n",
       "      <td>0.417111</td>\n",
       "    </tr>\n",
       "    <tr>\n",
       "      <th>11</th>\n",
       "      <td>Maryland</td>\n",
       "      <td>West Virginia</td>\n",
       "      <td>1268</td>\n",
       "      <td>1452</td>\n",
       "      <td>1.0</td>\n",
       "      <td>0.456647</td>\n",
       "    </tr>\n",
       "    <tr>\n",
       "      <th>54</th>\n",
       "      <td>Gonzaga</td>\n",
       "      <td>UCLA</td>\n",
       "      <td>1211</td>\n",
       "      <td>1417</td>\n",
       "      <td>1.0</td>\n",
       "      <td>0.468205</td>\n",
       "    </tr>\n",
       "    <tr>\n",
       "      <th>12</th>\n",
       "      <td>Missouri</td>\n",
       "      <td>Utah St</td>\n",
       "      <td>1281</td>\n",
       "      <td>1429</td>\n",
       "      <td>1.0</td>\n",
       "      <td>0.499771</td>\n",
       "    </tr>\n",
       "  </tbody>\n",
       "</table>\n",
       "</div>"
      ],
      "text/plain": [
       "     winner_name      loser_name  winner  loser  actual  predicted\n",
       "23   F Dickinson          Purdue    1192   1345     1.0   0.003878\n",
       "15     Princeton         Arizona    1343   1112     1.0   0.073796\n",
       "8         Furman        Virginia    1202   1438     1.0   0.120435\n",
       "53   FL Atlantic       Tennessee    1194   1397     1.0   0.136621\n",
       "39     Princeton        Missouri    1343   1281     1.0   0.215313\n",
       "57      Miami FL         Houston    1274   1222     1.0   0.229850\n",
       "37      Arkansas          Kansas    1116   1242     1.0   0.284695\n",
       "58  San Diego St         Alabama    1361   1104     1.0   0.312686\n",
       "61   FL Atlantic       Kansas St    1194   1243     1.0   0.332678\n",
       "5       Arkansas        Illinois    1116   1228     1.0   0.346291\n",
       "50   Michigan St       Marquette    1277   1266     1.0   0.363139\n",
       "62      Miami FL           Texas    1274   1400     1.0   0.369398\n",
       "24   FL Atlantic         Memphis    1194   1272     1.0   0.375313\n",
       "48     Kansas St        Kentucky    1243   1246     1.0   0.378901\n",
       "49      Miami FL         Indiana    1274   1231     1.0   0.384635\n",
       "0     Pittsburgh  Mississippi St    1338   1280     1.0   0.388889\n",
       "45     Creighton          Baylor    1166   1124     1.0   0.395106\n",
       "32    Pittsburgh         Iowa St    1338   1235     1.0   0.412832\n",
       "63  San Diego St       Creighton    1361   1166     1.0   0.415698\n",
       "6         Auburn            Iowa    1120   1234     1.0   0.417111\n",
       "11      Maryland   West Virginia    1268   1452     1.0   0.456647\n",
       "54       Gonzaga            UCLA    1211   1417     1.0   0.468205\n",
       "12      Missouri         Utah St    1281   1429     1.0   0.499771"
      ]
     },
     "execution_count": 27,
     "metadata": {},
     "output_type": "execute_result"
    }
   ],
   "source": [
    "t_2023[t_2023.predicted < 0.5].sort_values('predicted')"
   ]
  },
  {
   "cell_type": "markdown",
   "id": "9f5eb023-fa68-46e5-821f-b9661a988cbe",
   "metadata": {},
   "source": [
    "The biggest thing in this season were the huge upsets in the first round. Purdue was a number one seed and lost which I only gave a .4% chance to happen. Arizona and Virginia were number 2 seeds and lost which I gave 7% and 15% chances of happening respectively."
   ]
  },
  {
   "cell_type": "code",
   "execution_count": 28,
   "id": "28663437-2134-48e8-938f-d40fd2666b7f",
   "metadata": {
    "scrolled": true
   },
   "outputs": [],
   "source": [
    "t_2023['Upset'] = [dataset.upset(2023, winner, loser) for (winner, loser) in zip(t_2023['winner'], t_2023['loser'])]"
   ]
  },
  {
   "cell_type": "code",
   "execution_count": 29,
   "id": "eb00c98a-b6a7-441f-be09-224ad947f71a",
   "metadata": {},
   "outputs": [
    {
     "data": {
      "text/plain": [
       "np.float64(0.323662156589116)"
      ]
     },
     "execution_count": 29,
     "metadata": {},
     "output_type": "execute_result"
    }
   ],
   "source": [
    "t_2023[t_2023.Upset].predicted.mean()"
   ]
  },
  {
   "cell_type": "markdown",
   "id": "b9c017c5-060c-4478-82b2-4a22bd38a3d8",
   "metadata": {},
   "source": [
    "On average the upsets had a 32% chance of happening"
   ]
  },
  {
   "cell_type": "code",
   "execution_count": 30,
   "id": "2df5dc30-0780-4864-bf1d-25a462985a89",
   "metadata": {},
   "outputs": [
    {
     "data": {
      "text/html": [
       "<div>\n",
       "<style scoped>\n",
       "    .dataframe tbody tr th:only-of-type {\n",
       "        vertical-align: middle;\n",
       "    }\n",
       "\n",
       "    .dataframe tbody tr th {\n",
       "        vertical-align: top;\n",
       "    }\n",
       "\n",
       "    .dataframe thead th {\n",
       "        text-align: right;\n",
       "    }\n",
       "</style>\n",
       "<table border=\"1\" class=\"dataframe\">\n",
       "  <thead>\n",
       "    <tr style=\"text-align: right;\">\n",
       "      <th></th>\n",
       "      <th>winner_name</th>\n",
       "      <th>loser_name</th>\n",
       "      <th>winner</th>\n",
       "      <th>loser</th>\n",
       "      <th>actual</th>\n",
       "      <th>predicted</th>\n",
       "      <th>Upset</th>\n",
       "    </tr>\n",
       "  </thead>\n",
       "  <tbody>\n",
       "    <tr>\n",
       "      <th>60</th>\n",
       "      <td>Connecticut</td>\n",
       "      <td>Gonzaga</td>\n",
       "      <td>1163</td>\n",
       "      <td>1211</td>\n",
       "      <td>1.0</td>\n",
       "      <td>0.666928</td>\n",
       "      <td>True</td>\n",
       "    </tr>\n",
       "    <tr>\n",
       "      <th>14</th>\n",
       "      <td>Penn St</td>\n",
       "      <td>Texas A&amp;M</td>\n",
       "      <td>1336</td>\n",
       "      <td>1401</td>\n",
       "      <td>1.0</td>\n",
       "      <td>0.586965</td>\n",
       "      <td>True</td>\n",
       "    </tr>\n",
       "  </tbody>\n",
       "</table>\n",
       "</div>"
      ],
      "text/plain": [
       "    winner_name loser_name  winner  loser  actual  predicted  Upset\n",
       "60  Connecticut    Gonzaga    1163   1211     1.0   0.666928   True\n",
       "14      Penn St  Texas A&M    1336   1401     1.0   0.586965   True"
      ]
     },
     "execution_count": 30,
     "metadata": {},
     "output_type": "execute_result"
    }
   ],
   "source": [
    "t_2023[t_2023.Upset & (t_2023.predicted >= 0.5)].sort_values('predicted', ascending=False)"
   ]
  },
  {
   "cell_type": "markdown",
   "id": "311a0984-fa4f-408e-9a66-4f90296c8a1c",
   "metadata": {},
   "source": [
    "I correctly predicted 2 upsets, though all were closely ranked"
   ]
  },
  {
   "cell_type": "code",
   "execution_count": 31,
   "id": "260a480d-a8d9-4e6d-a25b-d5358ddbd591",
   "metadata": {},
   "outputs": [
    {
     "data": {
      "text/html": [
       "<div>\n",
       "<style scoped>\n",
       "    .dataframe tbody tr th:only-of-type {\n",
       "        vertical-align: middle;\n",
       "    }\n",
       "\n",
       "    .dataframe tbody tr th {\n",
       "        vertical-align: top;\n",
       "    }\n",
       "\n",
       "    .dataframe thead th {\n",
       "        text-align: right;\n",
       "    }\n",
       "</style>\n",
       "<table border=\"1\" class=\"dataframe\">\n",
       "  <thead>\n",
       "    <tr style=\"text-align: right;\">\n",
       "      <th></th>\n",
       "      <th>winner_name</th>\n",
       "      <th>loser_name</th>\n",
       "      <th>winner</th>\n",
       "      <th>loser</th>\n",
       "      <th>actual</th>\n",
       "      <th>predicted</th>\n",
       "      <th>Upset</th>\n",
       "    </tr>\n",
       "  </thead>\n",
       "  <tbody>\n",
       "    <tr>\n",
       "      <th>5</th>\n",
       "      <td>Arkansas</td>\n",
       "      <td>Illinois</td>\n",
       "      <td>1116</td>\n",
       "      <td>1228</td>\n",
       "      <td>1.0</td>\n",
       "      <td>0.346291</td>\n",
       "      <td>False</td>\n",
       "    </tr>\n",
       "    <tr>\n",
       "      <th>48</th>\n",
       "      <td>Kansas St</td>\n",
       "      <td>Kentucky</td>\n",
       "      <td>1243</td>\n",
       "      <td>1246</td>\n",
       "      <td>1.0</td>\n",
       "      <td>0.378901</td>\n",
       "      <td>False</td>\n",
       "    </tr>\n",
       "    <tr>\n",
       "      <th>0</th>\n",
       "      <td>Pittsburgh</td>\n",
       "      <td>Mississippi St</td>\n",
       "      <td>1338</td>\n",
       "      <td>1280</td>\n",
       "      <td>1.0</td>\n",
       "      <td>0.388889</td>\n",
       "      <td>False</td>\n",
       "    </tr>\n",
       "    <tr>\n",
       "      <th>63</th>\n",
       "      <td>San Diego St</td>\n",
       "      <td>Creighton</td>\n",
       "      <td>1361</td>\n",
       "      <td>1166</td>\n",
       "      <td>1.0</td>\n",
       "      <td>0.415698</td>\n",
       "      <td>False</td>\n",
       "    </tr>\n",
       "    <tr>\n",
       "      <th>11</th>\n",
       "      <td>Maryland</td>\n",
       "      <td>West Virginia</td>\n",
       "      <td>1268</td>\n",
       "      <td>1452</td>\n",
       "      <td>1.0</td>\n",
       "      <td>0.456647</td>\n",
       "      <td>False</td>\n",
       "    </tr>\n",
       "    <tr>\n",
       "      <th>12</th>\n",
       "      <td>Missouri</td>\n",
       "      <td>Utah St</td>\n",
       "      <td>1281</td>\n",
       "      <td>1429</td>\n",
       "      <td>1.0</td>\n",
       "      <td>0.499771</td>\n",
       "      <td>False</td>\n",
       "    </tr>\n",
       "  </tbody>\n",
       "</table>\n",
       "</div>"
      ],
      "text/plain": [
       "     winner_name      loser_name  winner  loser  actual  predicted  Upset\n",
       "5       Arkansas        Illinois    1116   1228     1.0   0.346291  False\n",
       "48     Kansas St        Kentucky    1243   1246     1.0   0.378901  False\n",
       "0     Pittsburgh  Mississippi St    1338   1280     1.0   0.388889  False\n",
       "63  San Diego St       Creighton    1361   1166     1.0   0.415698  False\n",
       "11      Maryland   West Virginia    1268   1452     1.0   0.456647  False\n",
       "12      Missouri         Utah St    1281   1429     1.0   0.499771  False"
      ]
     },
     "execution_count": 31,
     "metadata": {},
     "output_type": "execute_result"
    }
   ],
   "source": [
    "t_2023[~t_2023.Upset & (t_2023.predicted < 0.5)].sort_values('predicted')"
   ]
  },
  {
   "cell_type": "markdown",
   "id": "25b225a9-822d-417d-bf83-e329ec0c2020",
   "metadata": {},
   "source": [
    "I also incorrectly predicted 4 upsets"
   ]
  },
  {
   "cell_type": "markdown",
   "id": "40bd0e20-15ce-42b8-aaf3-b07965ccb410",
   "metadata": {},
   "source": [
    "Looking at all the tourneys"
   ]
  },
  {
   "cell_type": "code",
   "execution_count": 32,
   "id": "e081fd5c-52cb-483a-90d1-3b65039e2857",
   "metadata": {},
   "outputs": [],
   "source": [
    "x, y = tourney_loader.dataset.tensors\n",
    "preds = model(x.to(device))\n",
    "tourney_df = pd.DataFrame({'season': x[:,4].tolist(),\n",
    "                           'winner_name': [dataset.all_teams.loc[dataset.programs.loc[i].TeamID].TeamName for i in x[:,0].tolist()],\n",
    "                           'loser_name': [dataset.all_teams.loc[dataset.programs.loc[i].TeamID].TeamName for i in x[:,2].tolist()],\n",
    "                           'winner': [dataset.programs.loc[i].TeamID for i in x[:,0].tolist()],\n",
    "                           'loser': [dataset.programs.loc[i].TeamID for i in x[:,2].tolist()],\n",
    "                           'actual': y[:,0].reshape([-1]),\n",
    "                           'predicted': np.array(preds[0].tolist()).reshape([-1])})\n",
    "tourney_df = tourney_df[tourney_df.actual == 1.0]\n",
    "tourney_df['Upset'] = [dataset.upset(season, winner, loser) for (winner, loser, season)\n",
    "                       in zip(tourney_df['winner'], tourney_df['loser'], tourney_df['season'])]"
   ]
  },
  {
   "cell_type": "code",
   "execution_count": 33,
   "id": "f5ab6d89-db40-499b-a6c2-7823c13fdfc9",
   "metadata": {},
   "outputs": [
    {
     "data": {
      "text/plain": [
       "25"
      ]
     },
     "execution_count": 33,
     "metadata": {},
     "output_type": "execute_result"
    }
   ],
   "source": [
    "len(tourney_df[tourney_df.Upset & (tourney_df.predicted >= 0.5) & (tourney_df.season > 2020)].sort_values('predicted', ascending=False))"
   ]
  },
  {
   "cell_type": "code",
   "execution_count": 34,
   "id": "7f614719-0380-4eea-aea1-6d6730329208",
   "metadata": {},
   "outputs": [
    {
     "data": {
      "text/plain": [
       "40"
      ]
     },
     "execution_count": 34,
     "metadata": {},
     "output_type": "execute_result"
    }
   ],
   "source": [
    "len(tourney_df[~tourney_df.Upset & (tourney_df.predicted < 0.5) & (tourney_df.season > 2020)].sort_values('predicted'))"
   ]
  },
  {
   "cell_type": "markdown",
   "id": "121a8c8b-3e75-4455-940a-b59d2e742175",
   "metadata": {},
   "source": [
    "Overall I predicted 19 upsets correctly, and 30 incorrectly"
   ]
  },
  {
   "cell_type": "markdown",
   "id": "11f41c41-df65-47ff-a6e5-ddfd3a274cb5",
   "metadata": {},
   "source": [
    "## Predicting by seeds\n",
    "What if I predict just using the seeds?"
   ]
  },
  {
   "cell_type": "code",
   "execution_count": 35,
   "id": "71e280ae-4aba-46d0-9d98-3cfdfada40b5",
   "metadata": {},
   "outputs": [],
   "source": [
    "odds = dataset.odds_by_seed_diff(before=2021)"
   ]
  },
  {
   "cell_type": "code",
   "execution_count": 36,
   "id": "a7388d50-2810-4bbe-8938-3a2f1db41e41",
   "metadata": {
    "scrolled": true
   },
   "outputs": [
    {
     "data": {
      "text/plain": [
       "np.float64(0.18527460145235355)"
      ]
     },
     "execution_count": 36,
     "metadata": {},
     "output_type": "execute_result"
    }
   ],
   "source": [
    "dataset.tourney_df(after=2021).SeedDiff.map(lambda x: odds[x]**2).mean()"
   ]
  },
  {
   "cell_type": "markdown",
   "id": "cfb055ef-ea46-4543-bffb-f1e6082797b1",
   "metadata": {},
   "source": [
    "This results in a test Brier score of about 0.185."
   ]
  },
  {
   "cell_type": "markdown",
   "id": "fbbc2c9a-6d4b-4848-9f9d-2f924fdccc70",
   "metadata": {},
   "source": [
    "## Hybrid Model\n",
    "Building a model using the neural net and seeds"
   ]
  },
  {
   "cell_type": "code",
   "execution_count": 37,
   "id": "3b9fd541-e152-4173-a518-0ccb8470e755",
   "metadata": {},
   "outputs": [
    {
     "name": "stdout",
     "output_type": "stream",
     "text": [
      "Seeds: Accuracy: 72.22%, Stats loss: 821.501009 Result loss: 0.182851\n"
     ]
    },
    {
     "data": {
      "text/plain": [
       "0.1828505115610905"
      ]
     },
     "execution_count": 37,
     "metadata": {},
     "output_type": "execute_result"
    }
   ],
   "source": [
    "seed_model = SeedModel(dataset, after=2021)\n",
    "test(stage1_loader, seed_model, label=f\"Seeds\")"
   ]
  },
  {
   "cell_type": "code",
   "execution_count": 38,
   "id": "2a180204-1fb0-4ec6-85dd-58ac8ae34929",
   "metadata": {},
   "outputs": [
    {
     "name": "stdout",
     "output_type": "stream",
     "text": [
      "NN: Accuracy: 72.32%, Stats loss: 172.305863 Result loss: 0.177956\n"
     ]
    },
    {
     "data": {
      "text/plain": [
       "0.17795590977595196"
      ]
     },
     "execution_count": 38,
     "metadata": {},
     "output_type": "execute_result"
    }
   ],
   "source": [
    "test(stage1_loader, model, label=\"NN\")"
   ]
  },
  {
   "cell_type": "code",
   "execution_count": 39,
   "id": "d5f47474-12e5-49b6-8b00-e675700f4716",
   "metadata": {},
   "outputs": [],
   "source": [
    "hybrid = HybridModel([model, seed_model], [0.8, 0.2])"
   ]
  },
  {
   "cell_type": "code",
   "execution_count": 40,
   "id": "6159dd7e-3f08-4f37-bc4a-3c5ff12b94a8",
   "metadata": {},
   "outputs": [
    {
     "name": "stdout",
     "output_type": "stream",
     "text": [
      "Hybrid: Accuracy: 72.79%, Stats loss: 821.501009 Result loss: 0.176025\n"
     ]
    },
    {
     "data": {
      "text/plain": [
       "0.17602514206476164"
      ]
     },
     "execution_count": 40,
     "metadata": {},
     "output_type": "execute_result"
    }
   ],
   "source": [
    "test(stage1_loader, hybrid, label=f\"Hybrid\")"
   ]
  },
  {
   "cell_type": "markdown",
   "id": "a05ae290-cbb8-4d56-b0da-92cf9a654de9",
   "metadata": {},
   "source": [
    "They hybrid model outperforms both individual models"
   ]
  },
  {
   "cell_type": "code",
   "execution_count": 41,
   "id": "15f38211-8d21-4b6a-ac91-d2835a00ed5c",
   "metadata": {},
   "outputs": [
    {
     "name": "stdout",
     "output_type": "stream",
     "text": [
      "2021 M Tournament: Accuracy: 70.54%, Stats loss: 799.078627 Result loss: 0.182122\n",
      "2021 W Tournament: Accuracy: 70.54%, Stats loss: 799.078627 Result loss: 0.182122\n",
      "2022 M Tournament: Accuracy: 75.00%, Stats loss: 813.262527 Result loss: 0.174047\n",
      "2022 W Tournament: Accuracy: 75.00%, Stats loss: 813.262527 Result loss: 0.174047\n",
      "2023 M Tournament: Accuracy: 70.15%, Stats loss: 815.193230 Result loss: 0.189847\n",
      "2023 W Tournament: Accuracy: 70.15%, Stats loss: 815.193230 Result loss: 0.189847\n",
      "2024 M Tournament: Accuracy: 75.37%, Stats loss: 857.632996 Result loss: 0.158311\n",
      "2024 W Tournament: Accuracy: 75.37%, Stats loss: 857.632996 Result loss: 0.158311\n"
     ]
    }
   ],
   "source": [
    "for season in range(2021, 2025):\n",
    "    for league in ['M', 'W']:\n",
    "        loader = dataset.tourney_data(season, league)\n",
    "        test(loader, hybrid, label=f\"{season} {league} Tournament\")"
   ]
  },
  {
   "cell_type": "markdown",
   "id": "6b676e8c-8344-4fbc-aca2-7fa778c4fdfa",
   "metadata": {},
   "source": [
    "## Generate a bracket"
   ]
  },
  {
   "cell_type": "code",
   "execution_count": 42,
   "id": "d0c08cb5-dec3-42f6-8627-052dcf7adacb",
   "metadata": {},
   "outputs": [
    {
     "name": "stdout",
     "output_type": "stream",
     "text": [
      "      Winner        TeamName\n",
      "Slot                        \n",
      "R1W1    1163     Connecticut\n",
      "R1W2    1235         Iowa St\n",
      "R1W3    1228        Illinois\n",
      "R1W4    1120          Auburn\n",
      "R1W5    1361    San Diego St\n",
      "R1W6    1140             BYU\n",
      "R1W7    1450   Washington St\n",
      "R1W8    1321    Northwestern\n",
      "R1X1    1314  North Carolina\n",
      "R1X2    1112         Arizona\n",
      "R1X3    1124          Baylor\n",
      "R1X4    1104         Alabama\n",
      "R1X5    1388    St Mary's CA\n",
      "R1X6    1155         Clemson\n",
      "R1X7    1173          Dayton\n",
      "R1X8    1277     Michigan St\n",
      "R1Y1    1345          Purdue\n",
      "R1Y2    1397       Tennessee\n",
      "R1Y3    1166       Creighton\n",
      "R1Y4    1242          Kansas\n",
      "R1Y5    1211         Gonzaga\n",
      "R1Y6    1332          Oregon\n",
      "R1Y7    1438        Virginia\n",
      "R1Y8    1395             TCU\n",
      "R1Z1    1222         Houston\n",
      "R1Z2    1266       Marquette\n",
      "R1Z3    1246        Kentucky\n",
      "R1Z4    1181            Duke\n",
      "R1Z5    1458       Wisconsin\n",
      "R1Z6    1403      Texas Tech\n",
      "R1Z7    1196         Florida\n",
      "R1Z8    1304        Nebraska\n",
      "R2W1    1163     Connecticut\n",
      "R2W2    1235         Iowa St\n",
      "R2W3    1228        Illinois\n",
      "R2W4    1120          Auburn\n",
      "R2X1    1314  North Carolina\n",
      "R2X2    1112         Arizona\n",
      "R2X3    1124          Baylor\n",
      "R2X4    1388    St Mary's CA\n",
      "R2Y1    1345          Purdue\n",
      "R2Y2    1397       Tennessee\n",
      "R2Y3    1166       Creighton\n",
      "R2Y4    1242          Kansas\n",
      "R2Z1    1222         Houston\n",
      "R2Z2    1266       Marquette\n",
      "R2Z3    1246        Kentucky\n",
      "R2Z4    1181            Duke\n",
      "R3W1    1163     Connecticut\n",
      "R3W2    1235         Iowa St\n",
      "R3X1    1314  North Carolina\n",
      "R3X2    1112         Arizona\n",
      "R3Y1    1345          Purdue\n",
      "R3Y2    1397       Tennessee\n",
      "R3Z1    1181            Duke\n",
      "R3Z2    1266       Marquette\n",
      "R4W1    1163     Connecticut\n",
      "R4X1    1112         Arizona\n",
      "R4Y1    1345          Purdue\n",
      "R4Z1    1181            Duke\n",
      "R5WX    1112         Arizona\n",
      "R5YZ    1345          Purdue\n",
      "R6CH    1112         Arizona\n",
      "X16     1447          Wagner\n",
      "Y10     1438        Virginia\n",
      "Y16     1286      Montana St\n",
      "Z10     1160        Colorado\n"
     ]
    }
   ],
   "source": [
    "with pd.option_context('display.max_rows', None, 'display.max_columns', None): \n",
    "    print(gen_bracket(dataset, 2024, 'M', hybrid).join(dataset.all_teams, on='Winner')[['Winner', 'TeamName']])"
   ]
  }
 ],
 "metadata": {
  "kernelspec": {
   "display_name": "Python 3 (ipykernel)",
   "language": "python",
   "name": "python3"
  },
  "language_info": {
   "codemirror_mode": {
    "name": "ipython",
    "version": 3
   },
   "file_extension": ".py",
   "mimetype": "text/x-python",
   "name": "python",
   "nbconvert_exporter": "python",
   "pygments_lexer": "ipython3",
   "version": "3.10.12"
  }
 },
 "nbformat": 4,
 "nbformat_minor": 5
}
