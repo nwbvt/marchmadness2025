{
 "cells": [
  {
   "cell_type": "markdown",
   "id": "a4b53588-2c8e-4166-b01d-037b765c2d69",
   "metadata": {},
   "source": [
    "# March Madness 2025"
   ]
  },
  {
   "cell_type": "code",
   "execution_count": 1,
   "id": "dd96dd0b-1844-4dca-9495-b722deda29ed",
   "metadata": {},
   "outputs": [
    {
     "name": "stdout",
     "output_type": "stream",
     "text": [
      "Using cuda device\n"
     ]
    }
   ],
   "source": [
    "import pandas as pd\n",
    "import torch\n",
    "import torch.nn as nn\n",
    "import torch.nn.functional as F\n",
    "import numpy as np\n",
    "from torch.utils.data import TensorDataset, DataLoader, ConcatDataset\n",
    "import os\n",
    "import requests\n",
    "from bs4 import BeautifulSoup\n",
    "from datetime import date, datetime\n",
    "\n",
    "torch.manual_seed(20250222)\n",
    "\n",
    "device = torch.accelerator.current_accelerator().type if torch.accelerator.is_available() else \"cpu\"\n",
    "print(f\"Using {device} device\")"
   ]
  },
  {
   "cell_type": "markdown",
   "id": "81669670-3bd9-4cc0-b0e8-d76f32dfd61f",
   "metadata": {},
   "source": [
    "## Hypothesis\n",
    "Each team can be modeled by x hidden features. In each game, these hidden features interact in a nonlinear fashion to determine the outcome of the game"
   ]
  },
  {
   "cell_type": "markdown",
   "id": "ef008b05-6dc7-46e7-9783-2499977b8249",
   "metadata": {},
   "source": [
    "## Preparing the data\n",
    "Load the data"
   ]
  },
  {
   "cell_type": "code",
   "execution_count": 2,
   "id": "1f5186f8-4158-462e-9d34-da6230804b97",
   "metadata": {},
   "outputs": [
    {
     "data": {
      "text/html": [
       "<div>\n",
       "<style scoped>\n",
       "    .dataframe tbody tr th:only-of-type {\n",
       "        vertical-align: middle;\n",
       "    }\n",
       "\n",
       "    .dataframe tbody tr th {\n",
       "        vertical-align: top;\n",
       "    }\n",
       "\n",
       "    .dataframe thead th {\n",
       "        text-align: right;\n",
       "    }\n",
       "</style>\n",
       "<table border=\"1\" class=\"dataframe\">\n",
       "  <thead>\n",
       "    <tr style=\"text-align: right;\">\n",
       "      <th></th>\n",
       "      <th>Season</th>\n",
       "      <th>DayNum</th>\n",
       "      <th>WTeamID</th>\n",
       "      <th>WScore</th>\n",
       "      <th>LTeamID</th>\n",
       "      <th>LScore</th>\n",
       "      <th>NumOT</th>\n",
       "      <th>WFGM</th>\n",
       "      <th>WFGA</th>\n",
       "      <th>WFGM3</th>\n",
       "      <th>...</th>\n",
       "      <th>LFGA3</th>\n",
       "      <th>LFTM</th>\n",
       "      <th>LFTA</th>\n",
       "      <th>LOR</th>\n",
       "      <th>LDR</th>\n",
       "      <th>LAst</th>\n",
       "      <th>LTO</th>\n",
       "      <th>LStl</th>\n",
       "      <th>LBlk</th>\n",
       "      <th>LPF</th>\n",
       "    </tr>\n",
       "  </thead>\n",
       "  <tbody>\n",
       "    <tr>\n",
       "      <th>count</th>\n",
       "      <td>117748.000000</td>\n",
       "      <td>117748.000000</td>\n",
       "      <td>117748.00000</td>\n",
       "      <td>117748.000000</td>\n",
       "      <td>117748.000000</td>\n",
       "      <td>117748.000000</td>\n",
       "      <td>117748.000000</td>\n",
       "      <td>117748.000000</td>\n",
       "      <td>117748.000000</td>\n",
       "      <td>117748.000000</td>\n",
       "      <td>...</td>\n",
       "      <td>117748.000000</td>\n",
       "      <td>117748.000000</td>\n",
       "      <td>117748.000000</td>\n",
       "      <td>117748.000000</td>\n",
       "      <td>117748.000000</td>\n",
       "      <td>117748.000000</td>\n",
       "      <td>117748.000000</td>\n",
       "      <td>117748.000000</td>\n",
       "      <td>117748.000000</td>\n",
       "      <td>117748.000000</td>\n",
       "    </tr>\n",
       "    <tr>\n",
       "      <th>mean</th>\n",
       "      <td>2014.146355</td>\n",
       "      <td>70.294986</td>\n",
       "      <td>1288.25451</td>\n",
       "      <td>75.878936</td>\n",
       "      <td>1283.138830</td>\n",
       "      <td>63.888287</td>\n",
       "      <td>0.068689</td>\n",
       "      <td>26.401824</td>\n",
       "      <td>55.760242</td>\n",
       "      <td>7.347445</td>\n",
       "      <td>...</td>\n",
       "      <td>20.159790</td>\n",
       "      <td>12.073403</td>\n",
       "      <td>17.732454</td>\n",
       "      <td>10.461740</td>\n",
       "      <td>21.625650</td>\n",
       "      <td>11.409722</td>\n",
       "      <td>13.888907</td>\n",
       "      <td>6.004739</td>\n",
       "      <td>2.868185</td>\n",
       "      <td>19.305780</td>\n",
       "    </tr>\n",
       "    <tr>\n",
       "      <th>std</th>\n",
       "      <td>6.515929</td>\n",
       "      <td>35.772556</td>\n",
       "      <td>105.34750</td>\n",
       "      <td>10.998547</td>\n",
       "      <td>104.795432</td>\n",
       "      <td>10.848767</td>\n",
       "      <td>0.305098</td>\n",
       "      <td>4.680314</td>\n",
       "      <td>7.456374</td>\n",
       "      <td>3.119260</td>\n",
       "      <td>...</td>\n",
       "      <td>6.068136</td>\n",
       "      <td>5.344049</td>\n",
       "      <td>7.081056</td>\n",
       "      <td>4.221039</td>\n",
       "      <td>4.518197</td>\n",
       "      <td>3.724567</td>\n",
       "      <td>4.382700</td>\n",
       "      <td>2.745969</td>\n",
       "      <td>2.019050</td>\n",
       "      <td>4.553353</td>\n",
       "    </tr>\n",
       "    <tr>\n",
       "      <th>min</th>\n",
       "      <td>2003.000000</td>\n",
       "      <td>0.000000</td>\n",
       "      <td>1101.00000</td>\n",
       "      <td>34.000000</td>\n",
       "      <td>1101.000000</td>\n",
       "      <td>20.000000</td>\n",
       "      <td>0.000000</td>\n",
       "      <td>10.000000</td>\n",
       "      <td>26.000000</td>\n",
       "      <td>0.000000</td>\n",
       "      <td>...</td>\n",
       "      <td>1.000000</td>\n",
       "      <td>0.000000</td>\n",
       "      <td>0.000000</td>\n",
       "      <td>0.000000</td>\n",
       "      <td>4.000000</td>\n",
       "      <td>0.000000</td>\n",
       "      <td>0.000000</td>\n",
       "      <td>0.000000</td>\n",
       "      <td>0.000000</td>\n",
       "      <td>4.000000</td>\n",
       "    </tr>\n",
       "    <tr>\n",
       "      <th>25%</th>\n",
       "      <td>2009.000000</td>\n",
       "      <td>40.000000</td>\n",
       "      <td>1199.00000</td>\n",
       "      <td>68.000000</td>\n",
       "      <td>1192.000000</td>\n",
       "      <td>57.000000</td>\n",
       "      <td>0.000000</td>\n",
       "      <td>23.000000</td>\n",
       "      <td>51.000000</td>\n",
       "      <td>5.000000</td>\n",
       "      <td>...</td>\n",
       "      <td>16.000000</td>\n",
       "      <td>8.000000</td>\n",
       "      <td>13.000000</td>\n",
       "      <td>7.000000</td>\n",
       "      <td>19.000000</td>\n",
       "      <td>9.000000</td>\n",
       "      <td>11.000000</td>\n",
       "      <td>4.000000</td>\n",
       "      <td>1.000000</td>\n",
       "      <td>16.000000</td>\n",
       "    </tr>\n",
       "    <tr>\n",
       "      <th>50%</th>\n",
       "      <td>2014.000000</td>\n",
       "      <td>73.000000</td>\n",
       "      <td>1287.00000</td>\n",
       "      <td>75.000000</td>\n",
       "      <td>1282.000000</td>\n",
       "      <td>64.000000</td>\n",
       "      <td>0.000000</td>\n",
       "      <td>26.000000</td>\n",
       "      <td>55.000000</td>\n",
       "      <td>7.000000</td>\n",
       "      <td>...</td>\n",
       "      <td>20.000000</td>\n",
       "      <td>12.000000</td>\n",
       "      <td>17.000000</td>\n",
       "      <td>10.000000</td>\n",
       "      <td>21.000000</td>\n",
       "      <td>11.000000</td>\n",
       "      <td>14.000000</td>\n",
       "      <td>6.000000</td>\n",
       "      <td>3.000000</td>\n",
       "      <td>19.000000</td>\n",
       "    </tr>\n",
       "    <tr>\n",
       "      <th>75%</th>\n",
       "      <td>2020.000000</td>\n",
       "      <td>101.000000</td>\n",
       "      <td>1381.00000</td>\n",
       "      <td>83.000000</td>\n",
       "      <td>1374.000000</td>\n",
       "      <td>71.000000</td>\n",
       "      <td>0.000000</td>\n",
       "      <td>29.000000</td>\n",
       "      <td>60.000000</td>\n",
       "      <td>9.000000</td>\n",
       "      <td>...</td>\n",
       "      <td>24.000000</td>\n",
       "      <td>15.000000</td>\n",
       "      <td>22.000000</td>\n",
       "      <td>13.000000</td>\n",
       "      <td>25.000000</td>\n",
       "      <td>14.000000</td>\n",
       "      <td>17.000000</td>\n",
       "      <td>8.000000</td>\n",
       "      <td>4.000000</td>\n",
       "      <td>22.000000</td>\n",
       "    </tr>\n",
       "    <tr>\n",
       "      <th>max</th>\n",
       "      <td>2025.000000</td>\n",
       "      <td>132.000000</td>\n",
       "      <td>1480.00000</td>\n",
       "      <td>149.000000</td>\n",
       "      <td>1480.000000</td>\n",
       "      <td>144.000000</td>\n",
       "      <td>6.000000</td>\n",
       "      <td>57.000000</td>\n",
       "      <td>103.000000</td>\n",
       "      <td>26.000000</td>\n",
       "      <td>...</td>\n",
       "      <td>59.000000</td>\n",
       "      <td>48.000000</td>\n",
       "      <td>65.000000</td>\n",
       "      <td>36.000000</td>\n",
       "      <td>49.000000</td>\n",
       "      <td>31.000000</td>\n",
       "      <td>41.000000</td>\n",
       "      <td>22.000000</td>\n",
       "      <td>18.000000</td>\n",
       "      <td>45.000000</td>\n",
       "    </tr>\n",
       "  </tbody>\n",
       "</table>\n",
       "<p>8 rows × 33 columns</p>\n",
       "</div>"
      ],
      "text/plain": [
       "              Season         DayNum       WTeamID         WScore  \\\n",
       "count  117748.000000  117748.000000  117748.00000  117748.000000   \n",
       "mean     2014.146355      70.294986    1288.25451      75.878936   \n",
       "std         6.515929      35.772556     105.34750      10.998547   \n",
       "min      2003.000000       0.000000    1101.00000      34.000000   \n",
       "25%      2009.000000      40.000000    1199.00000      68.000000   \n",
       "50%      2014.000000      73.000000    1287.00000      75.000000   \n",
       "75%      2020.000000     101.000000    1381.00000      83.000000   \n",
       "max      2025.000000     132.000000    1480.00000     149.000000   \n",
       "\n",
       "             LTeamID         LScore          NumOT           WFGM  \\\n",
       "count  117748.000000  117748.000000  117748.000000  117748.000000   \n",
       "mean     1283.138830      63.888287       0.068689      26.401824   \n",
       "std       104.795432      10.848767       0.305098       4.680314   \n",
       "min      1101.000000      20.000000       0.000000      10.000000   \n",
       "25%      1192.000000      57.000000       0.000000      23.000000   \n",
       "50%      1282.000000      64.000000       0.000000      26.000000   \n",
       "75%      1374.000000      71.000000       0.000000      29.000000   \n",
       "max      1480.000000     144.000000       6.000000      57.000000   \n",
       "\n",
       "                WFGA          WFGM3  ...          LFGA3           LFTM  \\\n",
       "count  117748.000000  117748.000000  ...  117748.000000  117748.000000   \n",
       "mean       55.760242       7.347445  ...      20.159790      12.073403   \n",
       "std         7.456374       3.119260  ...       6.068136       5.344049   \n",
       "min        26.000000       0.000000  ...       1.000000       0.000000   \n",
       "25%        51.000000       5.000000  ...      16.000000       8.000000   \n",
       "50%        55.000000       7.000000  ...      20.000000      12.000000   \n",
       "75%        60.000000       9.000000  ...      24.000000      15.000000   \n",
       "max       103.000000      26.000000  ...      59.000000      48.000000   \n",
       "\n",
       "                LFTA            LOR            LDR           LAst  \\\n",
       "count  117748.000000  117748.000000  117748.000000  117748.000000   \n",
       "mean       17.732454      10.461740      21.625650      11.409722   \n",
       "std         7.081056       4.221039       4.518197       3.724567   \n",
       "min         0.000000       0.000000       4.000000       0.000000   \n",
       "25%        13.000000       7.000000      19.000000       9.000000   \n",
       "50%        17.000000      10.000000      21.000000      11.000000   \n",
       "75%        22.000000      13.000000      25.000000      14.000000   \n",
       "max        65.000000      36.000000      49.000000      31.000000   \n",
       "\n",
       "                 LTO           LStl           LBlk            LPF  \n",
       "count  117748.000000  117748.000000  117748.000000  117748.000000  \n",
       "mean       13.888907       6.004739       2.868185      19.305780  \n",
       "std         4.382700       2.745969       2.019050       4.553353  \n",
       "min         0.000000       0.000000       0.000000       4.000000  \n",
       "25%        11.000000       4.000000       1.000000      16.000000  \n",
       "50%        14.000000       6.000000       3.000000      19.000000  \n",
       "75%        17.000000       8.000000       4.000000      22.000000  \n",
       "max        41.000000      22.000000      18.000000      45.000000  \n",
       "\n",
       "[8 rows x 33 columns]"
      ]
     },
     "execution_count": 2,
     "metadata": {},
     "output_type": "execute_result"
    }
   ],
   "source": [
    "mens = pd.read_csv('data/MRegularSeasonDetailedResults.csv')\n",
    "mens['League'] = 'M'\n",
    "mens.describe()"
   ]
  },
  {
   "cell_type": "code",
   "execution_count": 3,
   "id": "2c3be43b-6f29-44ab-bd21-55159ffe58be",
   "metadata": {},
   "outputs": [
    {
     "data": {
      "text/html": [
       "<div>\n",
       "<style scoped>\n",
       "    .dataframe tbody tr th:only-of-type {\n",
       "        vertical-align: middle;\n",
       "    }\n",
       "\n",
       "    .dataframe tbody tr th {\n",
       "        vertical-align: top;\n",
       "    }\n",
       "\n",
       "    .dataframe thead th {\n",
       "        text-align: right;\n",
       "    }\n",
       "</style>\n",
       "<table border=\"1\" class=\"dataframe\">\n",
       "  <thead>\n",
       "    <tr style=\"text-align: right;\">\n",
       "      <th></th>\n",
       "      <th>Season</th>\n",
       "      <th>DayNum</th>\n",
       "      <th>WTeamID</th>\n",
       "      <th>WScore</th>\n",
       "      <th>LTeamID</th>\n",
       "      <th>LScore</th>\n",
       "      <th>NumOT</th>\n",
       "      <th>WFGM</th>\n",
       "      <th>WFGA</th>\n",
       "      <th>WFGM3</th>\n",
       "      <th>...</th>\n",
       "      <th>LFGA3</th>\n",
       "      <th>LFTM</th>\n",
       "      <th>LFTA</th>\n",
       "      <th>LOR</th>\n",
       "      <th>LDR</th>\n",
       "      <th>LAst</th>\n",
       "      <th>LTO</th>\n",
       "      <th>LStl</th>\n",
       "      <th>LBlk</th>\n",
       "      <th>LPF</th>\n",
       "    </tr>\n",
       "  </thead>\n",
       "  <tbody>\n",
       "    <tr>\n",
       "      <th>count</th>\n",
       "      <td>80626.000000</td>\n",
       "      <td>80626.000000</td>\n",
       "      <td>80626.000000</td>\n",
       "      <td>80626.000000</td>\n",
       "      <td>80626.000000</td>\n",
       "      <td>80626.000000</td>\n",
       "      <td>80626.000000</td>\n",
       "      <td>80626.000000</td>\n",
       "      <td>80626.000000</td>\n",
       "      <td>80626.000000</td>\n",
       "      <td>...</td>\n",
       "      <td>80626.000000</td>\n",
       "      <td>80626.000000</td>\n",
       "      <td>80626.000000</td>\n",
       "      <td>80626.000000</td>\n",
       "      <td>80626.000000</td>\n",
       "      <td>80626.000000</td>\n",
       "      <td>80626.000000</td>\n",
       "      <td>80626.000000</td>\n",
       "      <td>80626.000000</td>\n",
       "      <td>80626.000000</td>\n",
       "    </tr>\n",
       "    <tr>\n",
       "      <th>mean</th>\n",
       "      <td>2017.404609</td>\n",
       "      <td>69.183626</td>\n",
       "      <td>3285.116823</td>\n",
       "      <td>71.706633</td>\n",
       "      <td>3286.689554</td>\n",
       "      <td>57.242044</td>\n",
       "      <td>0.051708</td>\n",
       "      <td>25.847034</td>\n",
       "      <td>58.966574</td>\n",
       "      <td>6.276077</td>\n",
       "      <td>...</td>\n",
       "      <td>17.918413</td>\n",
       "      <td>10.507392</td>\n",
       "      <td>15.503808</td>\n",
       "      <td>11.360020</td>\n",
       "      <td>22.422122</td>\n",
       "      <td>10.935852</td>\n",
       "      <td>17.150745</td>\n",
       "      <td>7.109977</td>\n",
       "      <td>2.820839</td>\n",
       "      <td>18.192990</td>\n",
       "    </tr>\n",
       "    <tr>\n",
       "      <th>std</th>\n",
       "      <td>4.582659</td>\n",
       "      <td>36.157922</td>\n",
       "      <td>104.073477</td>\n",
       "      <td>11.536993</td>\n",
       "      <td>105.505327</td>\n",
       "      <td>10.960867</td>\n",
       "      <td>0.259072</td>\n",
       "      <td>4.978157</td>\n",
       "      <td>7.969144</td>\n",
       "      <td>3.127369</td>\n",
       "      <td>...</td>\n",
       "      <td>6.456006</td>\n",
       "      <td>4.936838</td>\n",
       "      <td>6.630184</td>\n",
       "      <td>4.640191</td>\n",
       "      <td>4.936106</td>\n",
       "      <td>3.805935</td>\n",
       "      <td>5.277180</td>\n",
       "      <td>3.192300</td>\n",
       "      <td>2.062848</td>\n",
       "      <td>4.556919</td>\n",
       "    </tr>\n",
       "    <tr>\n",
       "      <th>min</th>\n",
       "      <td>2010.000000</td>\n",
       "      <td>0.000000</td>\n",
       "      <td>3101.000000</td>\n",
       "      <td>30.000000</td>\n",
       "      <td>3101.000000</td>\n",
       "      <td>11.000000</td>\n",
       "      <td>0.000000</td>\n",
       "      <td>9.000000</td>\n",
       "      <td>30.000000</td>\n",
       "      <td>0.000000</td>\n",
       "      <td>...</td>\n",
       "      <td>0.000000</td>\n",
       "      <td>0.000000</td>\n",
       "      <td>0.000000</td>\n",
       "      <td>0.000000</td>\n",
       "      <td>1.000000</td>\n",
       "      <td>0.000000</td>\n",
       "      <td>1.000000</td>\n",
       "      <td>0.000000</td>\n",
       "      <td>0.000000</td>\n",
       "      <td>3.000000</td>\n",
       "    </tr>\n",
       "    <tr>\n",
       "      <th>25%</th>\n",
       "      <td>2013.000000</td>\n",
       "      <td>36.000000</td>\n",
       "      <td>3196.000000</td>\n",
       "      <td>64.000000</td>\n",
       "      <td>3195.000000</td>\n",
       "      <td>50.000000</td>\n",
       "      <td>0.000000</td>\n",
       "      <td>22.000000</td>\n",
       "      <td>53.000000</td>\n",
       "      <td>4.000000</td>\n",
       "      <td>...</td>\n",
       "      <td>13.000000</td>\n",
       "      <td>7.000000</td>\n",
       "      <td>11.000000</td>\n",
       "      <td>8.000000</td>\n",
       "      <td>19.000000</td>\n",
       "      <td>8.000000</td>\n",
       "      <td>13.000000</td>\n",
       "      <td>5.000000</td>\n",
       "      <td>1.000000</td>\n",
       "      <td>15.000000</td>\n",
       "    </tr>\n",
       "    <tr>\n",
       "      <th>50%</th>\n",
       "      <td>2017.000000</td>\n",
       "      <td>73.000000</td>\n",
       "      <td>3283.000000</td>\n",
       "      <td>71.000000</td>\n",
       "      <td>3287.000000</td>\n",
       "      <td>57.000000</td>\n",
       "      <td>0.000000</td>\n",
       "      <td>25.000000</td>\n",
       "      <td>59.000000</td>\n",
       "      <td>6.000000</td>\n",
       "      <td>...</td>\n",
       "      <td>17.000000</td>\n",
       "      <td>10.000000</td>\n",
       "      <td>15.000000</td>\n",
       "      <td>11.000000</td>\n",
       "      <td>22.000000</td>\n",
       "      <td>11.000000</td>\n",
       "      <td>17.000000</td>\n",
       "      <td>7.000000</td>\n",
       "      <td>2.000000</td>\n",
       "      <td>18.000000</td>\n",
       "    </tr>\n",
       "    <tr>\n",
       "      <th>75%</th>\n",
       "      <td>2022.000000</td>\n",
       "      <td>101.000000</td>\n",
       "      <td>3376.000000</td>\n",
       "      <td>79.000000</td>\n",
       "      <td>3377.000000</td>\n",
       "      <td>64.000000</td>\n",
       "      <td>0.000000</td>\n",
       "      <td>29.000000</td>\n",
       "      <td>64.000000</td>\n",
       "      <td>8.000000</td>\n",
       "      <td>...</td>\n",
       "      <td>22.000000</td>\n",
       "      <td>14.000000</td>\n",
       "      <td>20.000000</td>\n",
       "      <td>14.000000</td>\n",
       "      <td>26.000000</td>\n",
       "      <td>13.000000</td>\n",
       "      <td>20.000000</td>\n",
       "      <td>9.000000</td>\n",
       "      <td>4.000000</td>\n",
       "      <td>21.000000</td>\n",
       "    </tr>\n",
       "    <tr>\n",
       "      <th>max</th>\n",
       "      <td>2025.000000</td>\n",
       "      <td>132.000000</td>\n",
       "      <td>3480.000000</td>\n",
       "      <td>140.000000</td>\n",
       "      <td>3480.000000</td>\n",
       "      <td>130.000000</td>\n",
       "      <td>5.000000</td>\n",
       "      <td>58.000000</td>\n",
       "      <td>113.000000</td>\n",
       "      <td>30.000000</td>\n",
       "      <td>...</td>\n",
       "      <td>80.000000</td>\n",
       "      <td>37.000000</td>\n",
       "      <td>52.000000</td>\n",
       "      <td>38.000000</td>\n",
       "      <td>53.000000</td>\n",
       "      <td>34.000000</td>\n",
       "      <td>49.000000</td>\n",
       "      <td>26.000000</td>\n",
       "      <td>21.000000</td>\n",
       "      <td>47.000000</td>\n",
       "    </tr>\n",
       "  </tbody>\n",
       "</table>\n",
       "<p>8 rows × 33 columns</p>\n",
       "</div>"
      ],
      "text/plain": [
       "             Season        DayNum       WTeamID        WScore       LTeamID  \\\n",
       "count  80626.000000  80626.000000  80626.000000  80626.000000  80626.000000   \n",
       "mean    2017.404609     69.183626   3285.116823     71.706633   3286.689554   \n",
       "std        4.582659     36.157922    104.073477     11.536993    105.505327   \n",
       "min     2010.000000      0.000000   3101.000000     30.000000   3101.000000   \n",
       "25%     2013.000000     36.000000   3196.000000     64.000000   3195.000000   \n",
       "50%     2017.000000     73.000000   3283.000000     71.000000   3287.000000   \n",
       "75%     2022.000000    101.000000   3376.000000     79.000000   3377.000000   \n",
       "max     2025.000000    132.000000   3480.000000    140.000000   3480.000000   \n",
       "\n",
       "             LScore         NumOT          WFGM          WFGA         WFGM3  \\\n",
       "count  80626.000000  80626.000000  80626.000000  80626.000000  80626.000000   \n",
       "mean      57.242044      0.051708     25.847034     58.966574      6.276077   \n",
       "std       10.960867      0.259072      4.978157      7.969144      3.127369   \n",
       "min       11.000000      0.000000      9.000000     30.000000      0.000000   \n",
       "25%       50.000000      0.000000     22.000000     53.000000      4.000000   \n",
       "50%       57.000000      0.000000     25.000000     59.000000      6.000000   \n",
       "75%       64.000000      0.000000     29.000000     64.000000      8.000000   \n",
       "max      130.000000      5.000000     58.000000    113.000000     30.000000   \n",
       "\n",
       "       ...         LFGA3          LFTM          LFTA           LOR  \\\n",
       "count  ...  80626.000000  80626.000000  80626.000000  80626.000000   \n",
       "mean   ...     17.918413     10.507392     15.503808     11.360020   \n",
       "std    ...      6.456006      4.936838      6.630184      4.640191   \n",
       "min    ...      0.000000      0.000000      0.000000      0.000000   \n",
       "25%    ...     13.000000      7.000000     11.000000      8.000000   \n",
       "50%    ...     17.000000     10.000000     15.000000     11.000000   \n",
       "75%    ...     22.000000     14.000000     20.000000     14.000000   \n",
       "max    ...     80.000000     37.000000     52.000000     38.000000   \n",
       "\n",
       "                LDR          LAst           LTO          LStl          LBlk  \\\n",
       "count  80626.000000  80626.000000  80626.000000  80626.000000  80626.000000   \n",
       "mean      22.422122     10.935852     17.150745      7.109977      2.820839   \n",
       "std        4.936106      3.805935      5.277180      3.192300      2.062848   \n",
       "min        1.000000      0.000000      1.000000      0.000000      0.000000   \n",
       "25%       19.000000      8.000000     13.000000      5.000000      1.000000   \n",
       "50%       22.000000     11.000000     17.000000      7.000000      2.000000   \n",
       "75%       26.000000     13.000000     20.000000      9.000000      4.000000   \n",
       "max       53.000000     34.000000     49.000000     26.000000     21.000000   \n",
       "\n",
       "                LPF  \n",
       "count  80626.000000  \n",
       "mean      18.192990  \n",
       "std        4.556919  \n",
       "min        3.000000  \n",
       "25%       15.000000  \n",
       "50%       18.000000  \n",
       "75%       21.000000  \n",
       "max       47.000000  \n",
       "\n",
       "[8 rows x 33 columns]"
      ]
     },
     "execution_count": 3,
     "metadata": {},
     "output_type": "execute_result"
    }
   ],
   "source": [
    "womens = pd.read_csv('data/WRegularSeasonDetailedResults.csv')\n",
    "womens['League'] = 'W'\n",
    "womens.describe()"
   ]
  },
  {
   "cell_type": "markdown",
   "id": "d39a57ce-cca2-4b81-a8a2-ad8638faefbe",
   "metadata": {},
   "source": [
    "The IDs are definitely distinct so we can combine into a single dataframe"
   ]
  },
  {
   "cell_type": "code",
   "execution_count": 4,
   "id": "08c18b78-f8fb-439f-bdeb-079abb4516f5",
   "metadata": {},
   "outputs": [],
   "source": [
    "data = pd.concat([mens, womens])"
   ]
  },
  {
   "cell_type": "markdown",
   "id": "f6210e5c-c7a9-4ec3-95f6-b4a963a6d191",
   "metadata": {},
   "source": [
    "Get the distinct team/Years"
   ]
  },
  {
   "cell_type": "code",
   "execution_count": 5,
   "id": "cb3a918b-e612-4b3c-82ad-f11e14334d16",
   "metadata": {},
   "outputs": [],
   "source": [
    "teams = pd.concat([data[['WTeamID', 'Season', 'League']].rename(columns={'WTeamID': 'TeamID'}),\n",
    "                   data[['LTeamID', 'Season', 'League']].rename(columns={'LTeamID': 'TeamID'})]).drop_duplicates().reset_index()\n",
    "\n",
    "teamMapping = {(x.TeamID, x.Season): x.Index for x in teams.itertuples()}"
   ]
  },
  {
   "cell_type": "markdown",
   "id": "99b21a67-f0a2-4699-875d-2e420d2da4cd",
   "metadata": {},
   "source": [
    "And get the distinct programs"
   ]
  },
  {
   "cell_type": "code",
   "execution_count": 6,
   "id": "3701218f-d344-4a6f-8c30-9e32e982b3f6",
   "metadata": {},
   "outputs": [],
   "source": [
    "programs = teams.TeamID.drop_duplicates().reset_index()\n",
    "\n",
    "programMapping = {x.TeamID: x.Index for x in programs.itertuples()}"
   ]
  },
  {
   "cell_type": "markdown",
   "id": "ee119045-207e-4dae-9ec7-1ef186642f48",
   "metadata": {},
   "source": [
    "Define the training data. The x's will be the indexes of two team IDs and program IDs, the y's will be the score difference."
   ]
  },
  {
   "cell_type": "markdown",
   "id": "916ef686-efa7-4e8e-8df4-5c28628fec5c",
   "metadata": {},
   "source": [
    "### Older data\n",
    "We can get some older data from https://academics.smcvt.edu/jtrono/BBallArchive.htm"
   ]
  },
  {
   "cell_type": "code",
   "execution_count": 7,
   "id": "01e606df-c3b4-48f5-990a-b698597245b3",
   "metadata": {},
   "outputs": [],
   "source": [
    "seasons = pd.read_csv('data/MSeasons.csv').set_index('Season')\n",
    "seasons['DayZero'] = seasons.DayZero.map(lambda x: datetime.strptime(x, '%m/%d/%Y').date())"
   ]
  },
  {
   "cell_type": "code",
   "execution_count": 8,
   "id": "99712eb2-4e62-4753-a2f6-ab98b76b7c4a",
   "metadata": {},
   "outputs": [],
   "source": [
    "def get_day_num(date_string, year):\n",
    "    month = int(date_string[0])-3\n",
    "    game_year = year\n",
    "    if month <= 0:\n",
    "        month += 12\n",
    "        game_year -= 1\n",
    "    day_num = int(date_string[1:])\n",
    "    try:\n",
    "        day=date(game_year, month, day_num)\n",
    "    except ValueError:\n",
    "        day = date(game_year, month-1, 1)\n",
    "    if year in seasons.index:\n",
    "        start = seasons.DayZero.loc[year]\n",
    "    else:\n",
    "        start = seasons.DayZero.min()\n",
    "        start = start.replace(year=year-1)\n",
    "    return (day-start).days"
   ]
  },
  {
   "cell_type": "code",
   "execution_count": 9,
   "id": "2d3e8c1a-77b2-49a8-bff0-8163dfc2a322",
   "metadata": {},
   "outputs": [],
   "source": [
    "def get_games(year):\n",
    "    start_year = (year-1)%100\n",
    "    end_year = 2000 if year == 2000 else year%100\n",
    "    resp = requests.get(f\"https://academics.smcvt.edu/jtrono/NCAA_Archive/{start_year}_{end_year}_dts.htm\")\n",
    "    columns = ['Season', 'DayNum', 'Team1', 'Score1', 'Team2', 'Score2']\n",
    "    if resp.status_code != 200:\n",
    "        resp = requests.get(f\"https://academics.smcvt.edu/jtrono/NCAA_Archive/{start_year}_{end_year}.dts.htm\")\n",
    "    soup = BeautifulSoup(resp.text)\n",
    "    games = [line.split(' ') for line in soup.body.p.get_text().split(\"\\r\\n\") if len(line.split(' ')) == 6]\n",
    "    return pd.DataFrame([(year, get_day_num(day, year), tm1, int(score1), tm2, int(score2))\n",
    "                         for (day, tm1, score1, tm2, score2, loc) in games],\n",
    "                         columns=columns)"
   ]
  },
  {
   "cell_type": "code",
   "execution_count": 10,
   "id": "65883077-a1f9-4b11-a112-231ecfad94c7",
   "metadata": {},
   "outputs": [],
   "source": [
    "def get_historical_data(years):\n",
    "    data = pd.concat([get_games(year) for year in years])\n",
    "    historical_teams = pd.concat([data[['Team1', 'Season']].rename(columns={'Team1': 'TeamID'}),\n",
    "                                  data[['Team2', 'Season']].rename(columns={'Team2': 'TeamID'})])\n",
    "    historical_team_mapping = {(x.TeamID, x.Season): (x.Index + teams.index.max() + 1)\n",
    "                               for x in historical_teams.itertuples()}\n",
    "    histocial_programs = historical_teams.TeamID.drop_duplicates().reset_index()\n",
    "    historical_program_mapping = {x.TeamID: (x.Index + programs.index.max() + 1) for x in histocial_programs.itertuples()}\n",
    "    df = pd.DataFrame({'League': 'M', 'Season': data.Season, 'DayNum': data.DayNum,\n",
    "                       'WTeamID': data.Team1, 'LTeamID': data.Team2,\n",
    "                       'WScore': data.Score1, 'LScore': data.Score2})\n",
    "    return gen_dataset(df, historical_team_mapping, historical_program_mapping)"
   ]
  },
  {
   "cell_type": "code",
   "execution_count": 11,
   "id": "21f2c1e7-5289-431c-a2e4-50fea2c15249",
   "metadata": {},
   "outputs": [],
   "source": [
    "def gen_dataset(data, teamMapping, programMapping):\n",
    "    winning_team = data.apply(lambda x: teamMapping[(x.WTeamID, x.Season)], axis=1)\n",
    "    losing_team = data.apply(lambda x: teamMapping[(x.LTeamID, x.Season)], axis=1)\n",
    "    winning_program = data.apply(lambda x: programMapping[x.WTeamID], axis=1)\n",
    "    losing_program = data.apply(lambda x: programMapping[x.LTeamID], axis=1)\n",
    "    winning_matchups = np.stack([winning_program, winning_team,\n",
    "                                 losing_program, losing_team,\n",
    "                                 data.Season, data.DayNum, data.League == 'M'], axis=1)\n",
    "    losing_matchups = np.stack([losing_program, losing_team,\n",
    "                                winning_program, winning_team, \n",
    "                                data.Season, data.DayNum, data.League == 'M'], axis=1)\n",
    "    x_tensor = torch.from_numpy(np.concatenate([winning_matchups, losing_matchups])).double()\n",
    "    y_tensor = torch.from_numpy(np.concatenate([(data.WScore-data.LScore), (data.LScore-data.WScore)]).reshape((-1,1))).double()\n",
    "    return TensorDataset(x_tensor, y_tensor)"
   ]
  },
  {
   "cell_type": "code",
   "execution_count": 12,
   "id": "2d586f5a-2d4e-4f25-b27a-0503f132dd4e",
   "metadata": {},
   "outputs": [],
   "source": [
    "fname = 'historical.pt'\n",
    "if os.path.isfile(fname):\n",
    "    historical_data=torch.load(fname, weights_only=False)\n",
    "else:\n",
    "    historical_data = get_historical_data(range(1981, 2001))\n",
    "    torch.save(historical_data, fname)"
   ]
  },
  {
   "cell_type": "code",
   "execution_count": 13,
   "id": "b57ad178-fdaf-4e87-a0b7-959876a5d4f7",
   "metadata": {},
   "outputs": [],
   "source": [
    "fname = 'dataset.pt'\n",
    "if os.path.isfile(fname):\n",
    "    recent=torch.load(fname, weights_only=False)\n",
    "else:\n",
    "    recent=gen_dataset(data, teamMapping, programMapping)\n",
    "    torch.save(recent, fname)"
   ]
  },
  {
   "cell_type": "code",
   "execution_count": 14,
   "id": "6e617518-937c-4c59-9fa7-4f9725a9b09c",
   "metadata": {},
   "outputs": [],
   "source": [
    "dataset = ConcatDataset([historical_data, recent])"
   ]
  },
  {
   "cell_type": "markdown",
   "id": "7e570534-09f4-4e6a-b9bd-e77e52014ce5",
   "metadata": {},
   "source": [
    "Generate the train/validation split"
   ]
  },
  {
   "cell_type": "code",
   "execution_count": 15,
   "id": "942b4014-1a51-40d4-82de-9254f45716f5",
   "metadata": {},
   "outputs": [],
   "source": [
    "num_programs = max([recent.tensors[0][:,0].max(), recent.tensors[0][:,2].max(),\n",
    "                    historical_data.tensors[0][:,0].max(), historical_data.tensors[0][:,2].max()]).int().item()\n",
    "num_teams = max([recent.tensors[0][:,1].max(), recent.tensors[0][:,3].max(),\n",
    "                 historical_data.tensors[0][:,1].max(), historical_data.tensors[0][:,3].max()]).int().item()"
   ]
  },
  {
   "cell_type": "code",
   "execution_count": 16,
   "id": "edbc8b7f-0b20-4f49-92e9-f16cadfeeee6",
   "metadata": {},
   "outputs": [],
   "source": [
    "batch_size=20\n",
    "\n",
    "generator = torch.Generator().manual_seed(20250217)\n",
    "train_data, validation_data = torch.utils.data.random_split(dataset, [0.95, 0.05], generator=generator)\n",
    "train_loader = DataLoader(train_data, batch_size=batch_size)\n",
    "validation_loader = DataLoader(validation_data, batch_size=batch_size)"
   ]
  },
  {
   "cell_type": "markdown",
   "id": "cf50ea84-42ce-462c-a3b3-3928a04aa7ef",
   "metadata": {},
   "source": [
    "## The Model\n",
    "Define the model. Combine the embeddings for the two teams, go to a hidden layer, and then output to a prediction if the first team won"
   ]
  },
  {
   "cell_type": "code",
   "execution_count": 17,
   "id": "f5dbb96c-d80f-454e-bdda-f2d9eadd3f5b",
   "metadata": {},
   "outputs": [],
   "source": [
    "class Model(nn.Module):\n",
    "    def __init__(self, embedding_sizes, model_sizes, dropout):\n",
    "        super(Model, self).__init__()\n",
    "        p_embedding_size, t_embedding_size = embedding_sizes\n",
    "        hid1, hid2 = model_sizes\n",
    "        self.team_embedding = nn.Embedding(num_teams, p_embedding_size)\n",
    "        self.program_embedding = nn.Embedding(num_programs, t_embedding_size)\n",
    "        self.dropout1 = nn.Dropout(dropout)\n",
    "        self.dropout2 = nn.Dropout(dropout)\n",
    "        self.dropout3 = nn.Dropout(dropout)\n",
    "        self.fc1 = nn.Linear(2*p_embedding_size+2*t_embedding_size+3, hid1)\n",
    "        self.fc2 = nn.Linear(hid1, hid2)\n",
    "        self.score_fc = nn.Linear(hid2, 1)\n",
    "        self.result_fc = nn.Linear(hid2, 1)\n",
    "        self.double()\n",
    "\n",
    "    def forward(self, x):\n",
    "        program = self.program_embedding(x[:,0].int())\n",
    "        team = self.team_embedding(x[:,1].int())\n",
    "        opponent_program = self.program_embedding(x[:,2].int())\n",
    "        opponent = self.team_embedding(x[:,3].int())\n",
    "        matchup = torch.cat([program, team, opponent_program, opponent, x[:,4:]], axis=1)\n",
    "        hidden1 = F.relu(self.fc1(matchup))\n",
    "        hidden2 = F.relu(self.fc2(hidden1))\n",
    "        score = self.score_fc(hidden2)\n",
    "        result = F.sigmoid(self.result_fc(hidden2))\n",
    "        return score, result\n",
    "        "
   ]
  },
  {
   "cell_type": "code",
   "execution_count": 18,
   "id": "d5629261-0b6d-44c9-828e-698e86006f00",
   "metadata": {},
   "outputs": [],
   "source": [
    "model = Model(embedding_sizes=[64, 128], model_sizes=(64, 32), dropout=0.1).to(device)"
   ]
  },
  {
   "cell_type": "markdown",
   "id": "7d98325a-8ba0-466f-b3ca-6991e8450a08",
   "metadata": {},
   "source": [
    "## Training the model"
   ]
  },
  {
   "cell_type": "markdown",
   "id": "c0cb92ad-908f-44a7-a2a0-88dd9d4d51ab",
   "metadata": {},
   "source": [
    "Define the training function"
   ]
  },
  {
   "cell_type": "code",
   "execution_count": 19,
   "id": "2ab2ee77-d1dd-444f-b7bc-b5e7d057ec29",
   "metadata": {},
   "outputs": [],
   "source": [
    "loss_fn = nn.MSELoss()\n",
    "optimizer = torch.optim.Adam(model.parameters(), lr=0.0002)\n",
    "\n",
    "def train(data, model, loss_fn, optimizer, full_loss=True):\n",
    "    size = len(data.dataset)\n",
    "    model.train()\n",
    "    for batch, (x, y) in enumerate(data):\n",
    "        x = x.to(device)\n",
    "        y = y.to(device)\n",
    "        pred_score, pred_result = model(x)\n",
    "        actual_result = (y > 0).double()\n",
    "        score_loss = loss_fn(pred_score, y)\n",
    "        result_loss = loss_fn(pred_result, actual_result)\n",
    "        if full_loss:\n",
    "            (score_loss + 10 * result_loss).backward()\n",
    "        else:\n",
    "            result_loss.backward()\n",
    "        optimizer.step()\n",
    "        optimizer.zero_grad()\n",
    "\n",
    "        if batch % 100 == 0:\n",
    "            score_loss, result_loss, current = score_loss.item(), result_loss.item(), (batch + 1) * len(x)\n",
    "            print(f\"result loss: {result_loss:>7f} [{current:>6d}/{size:>6d}]\", end=\"\\r\")"
   ]
  },
  {
   "cell_type": "markdown",
   "id": "9cadb0b3-4e99-47a2-8fee-846467b01b86",
   "metadata": {},
   "source": [
    "Define the testing function"
   ]
  },
  {
   "cell_type": "code",
   "execution_count": 20,
   "id": "3466d44f-fc82-46a7-95e1-0590674e7c28",
   "metadata": {},
   "outputs": [],
   "source": [
    "def test(data, model, loss_fn, label=\"Test\"):\n",
    "    size = len(data.dataset)\n",
    "    num_batches = len(data)\n",
    "    model.eval()\n",
    "    score_loss, result_loss, correct = 0, 0, 0\n",
    "    with torch.no_grad():\n",
    "        for x, y in data:\n",
    "            x = x.to(device)\n",
    "            y = y.to(device)\n",
    "            score_pred, result_pred = model(x)\n",
    "            actual_result = (y > 0).double()\n",
    "            score_loss += loss_fn(score_pred, y).item()\n",
    "            result_loss += loss_fn(result_pred, actual_result).item()\n",
    "            correct += ((result_pred >= 0.5) == (actual_result == 1)).type(torch.float).sum().item()\n",
    "    score_loss /= num_batches\n",
    "    result_loss /= num_batches\n",
    "    correct /= size\n",
    "    print(f\"{label}: Accuracy: {(100*correct):>0.2f}%, Result loss: {result_loss:>8f}\")"
   ]
  },
  {
   "cell_type": "markdown",
   "id": "553fca87-08c7-48e0-92dd-52ef4ff8463f",
   "metadata": {},
   "source": [
    "Train the model"
   ]
  },
  {
   "cell_type": "code",
   "execution_count": 21,
   "id": "1ede41f8-2924-460e-a0a7-3cbb6d88ca0e",
   "metadata": {},
   "outputs": [
    {
     "name": "stdout",
     "output_type": "stream",
     "text": [
      "Epoch 0\n",
      "result loss: 0.236105 [  2020/526228]"
     ]
    },
    {
     "name": "stderr",
     "output_type": "stream",
     "text": [
      "/pytorch/aten/src/ATen/native/cuda/Indexing.cu:1422: indexSelectLargeIndex: block: [12,0,0], thread: [32,0,0] Assertion `srcIndex < srcSelectDimSize` failed.\n",
      "/pytorch/aten/src/ATen/native/cuda/Indexing.cu:1422: indexSelectLargeIndex: block: [12,0,0], thread: [33,0,0] Assertion `srcIndex < srcSelectDimSize` failed.\n",
      "/pytorch/aten/src/ATen/native/cuda/Indexing.cu:1422: indexSelectLargeIndex: block: [12,0,0], thread: [34,0,0] Assertion `srcIndex < srcSelectDimSize` failed.\n",
      "/pytorch/aten/src/ATen/native/cuda/Indexing.cu:1422: indexSelectLargeIndex: block: [12,0,0], thread: [35,0,0] Assertion `srcIndex < srcSelectDimSize` failed.\n",
      "/pytorch/aten/src/ATen/native/cuda/Indexing.cu:1422: indexSelectLargeIndex: block: [12,0,0], thread: [36,0,0] Assertion `srcIndex < srcSelectDimSize` failed.\n",
      "/pytorch/aten/src/ATen/native/cuda/Indexing.cu:1422: indexSelectLargeIndex: block: [12,0,0], thread: [37,0,0] Assertion `srcIndex < srcSelectDimSize` failed.\n",
      "/pytorch/aten/src/ATen/native/cuda/Indexing.cu:1422: indexSelectLargeIndex: block: [12,0,0], thread: [38,0,0] Assertion `srcIndex < srcSelectDimSize` failed.\n",
      "/pytorch/aten/src/ATen/native/cuda/Indexing.cu:1422: indexSelectLargeIndex: block: [12,0,0], thread: [39,0,0] Assertion `srcIndex < srcSelectDimSize` failed.\n",
      "/pytorch/aten/src/ATen/native/cuda/Indexing.cu:1422: indexSelectLargeIndex: block: [12,0,0], thread: [40,0,0] Assertion `srcIndex < srcSelectDimSize` failed.\n",
      "/pytorch/aten/src/ATen/native/cuda/Indexing.cu:1422: indexSelectLargeIndex: block: [12,0,0], thread: [41,0,0] Assertion `srcIndex < srcSelectDimSize` failed.\n",
      "/pytorch/aten/src/ATen/native/cuda/Indexing.cu:1422: indexSelectLargeIndex: block: [12,0,0], thread: [42,0,0] Assertion `srcIndex < srcSelectDimSize` failed.\n",
      "/pytorch/aten/src/ATen/native/cuda/Indexing.cu:1422: indexSelectLargeIndex: block: [12,0,0], thread: [43,0,0] Assertion `srcIndex < srcSelectDimSize` failed.\n",
      "/pytorch/aten/src/ATen/native/cuda/Indexing.cu:1422: indexSelectLargeIndex: block: [12,0,0], thread: [44,0,0] Assertion `srcIndex < srcSelectDimSize` failed.\n",
      "/pytorch/aten/src/ATen/native/cuda/Indexing.cu:1422: indexSelectLargeIndex: block: [12,0,0], thread: [45,0,0] Assertion `srcIndex < srcSelectDimSize` failed.\n",
      "/pytorch/aten/src/ATen/native/cuda/Indexing.cu:1422: indexSelectLargeIndex: block: [12,0,0], thread: [46,0,0] Assertion `srcIndex < srcSelectDimSize` failed.\n",
      "/pytorch/aten/src/ATen/native/cuda/Indexing.cu:1422: indexSelectLargeIndex: block: [12,0,0], thread: [47,0,0] Assertion `srcIndex < srcSelectDimSize` failed.\n",
      "/pytorch/aten/src/ATen/native/cuda/Indexing.cu:1422: indexSelectLargeIndex: block: [12,0,0], thread: [48,0,0] Assertion `srcIndex < srcSelectDimSize` failed.\n",
      "/pytorch/aten/src/ATen/native/cuda/Indexing.cu:1422: indexSelectLargeIndex: block: [12,0,0], thread: [49,0,0] Assertion `srcIndex < srcSelectDimSize` failed.\n",
      "/pytorch/aten/src/ATen/native/cuda/Indexing.cu:1422: indexSelectLargeIndex: block: [12,0,0], thread: [50,0,0] Assertion `srcIndex < srcSelectDimSize` failed.\n",
      "/pytorch/aten/src/ATen/native/cuda/Indexing.cu:1422: indexSelectLargeIndex: block: [12,0,0], thread: [51,0,0] Assertion `srcIndex < srcSelectDimSize` failed.\n",
      "/pytorch/aten/src/ATen/native/cuda/Indexing.cu:1422: indexSelectLargeIndex: block: [12,0,0], thread: [52,0,0] Assertion `srcIndex < srcSelectDimSize` failed.\n",
      "/pytorch/aten/src/ATen/native/cuda/Indexing.cu:1422: indexSelectLargeIndex: block: [12,0,0], thread: [53,0,0] Assertion `srcIndex < srcSelectDimSize` failed.\n",
      "/pytorch/aten/src/ATen/native/cuda/Indexing.cu:1422: indexSelectLargeIndex: block: [12,0,0], thread: [54,0,0] Assertion `srcIndex < srcSelectDimSize` failed.\n",
      "/pytorch/aten/src/ATen/native/cuda/Indexing.cu:1422: indexSelectLargeIndex: block: [12,0,0], thread: [55,0,0] Assertion `srcIndex < srcSelectDimSize` failed.\n",
      "/pytorch/aten/src/ATen/native/cuda/Indexing.cu:1422: indexSelectLargeIndex: block: [12,0,0], thread: [56,0,0] Assertion `srcIndex < srcSelectDimSize` failed.\n",
      "/pytorch/aten/src/ATen/native/cuda/Indexing.cu:1422: indexSelectLargeIndex: block: [12,0,0], thread: [57,0,0] Assertion `srcIndex < srcSelectDimSize` failed.\n",
      "/pytorch/aten/src/ATen/native/cuda/Indexing.cu:1422: indexSelectLargeIndex: block: [12,0,0], thread: [58,0,0] Assertion `srcIndex < srcSelectDimSize` failed.\n",
      "/pytorch/aten/src/ATen/native/cuda/Indexing.cu:1422: indexSelectLargeIndex: block: [12,0,0], thread: [59,0,0] Assertion `srcIndex < srcSelectDimSize` failed.\n",
      "/pytorch/aten/src/ATen/native/cuda/Indexing.cu:1422: indexSelectLargeIndex: block: [12,0,0], thread: [60,0,0] Assertion `srcIndex < srcSelectDimSize` failed.\n",
      "/pytorch/aten/src/ATen/native/cuda/Indexing.cu:1422: indexSelectLargeIndex: block: [12,0,0], thread: [61,0,0] Assertion `srcIndex < srcSelectDimSize` failed.\n",
      "/pytorch/aten/src/ATen/native/cuda/Indexing.cu:1422: indexSelectLargeIndex: block: [12,0,0], thread: [62,0,0] Assertion `srcIndex < srcSelectDimSize` failed.\n",
      "/pytorch/aten/src/ATen/native/cuda/Indexing.cu:1422: indexSelectLargeIndex: block: [12,0,0], thread: [63,0,0] Assertion `srcIndex < srcSelectDimSize` failed.\n",
      "/pytorch/aten/src/ATen/native/cuda/Indexing.cu:1422: indexSelectLargeIndex: block: [12,0,0], thread: [96,0,0] Assertion `srcIndex < srcSelectDimSize` failed.\n",
      "/pytorch/aten/src/ATen/native/cuda/Indexing.cu:1422: indexSelectLargeIndex: block: [12,0,0], thread: [97,0,0] Assertion `srcIndex < srcSelectDimSize` failed.\n",
      "/pytorch/aten/src/ATen/native/cuda/Indexing.cu:1422: indexSelectLargeIndex: block: [12,0,0], thread: [98,0,0] Assertion `srcIndex < srcSelectDimSize` failed.\n",
      "/pytorch/aten/src/ATen/native/cuda/Indexing.cu:1422: indexSelectLargeIndex: block: [12,0,0], thread: [99,0,0] Assertion `srcIndex < srcSelectDimSize` failed.\n",
      "/pytorch/aten/src/ATen/native/cuda/Indexing.cu:1422: indexSelectLargeIndex: block: [12,0,0], thread: [100,0,0] Assertion `srcIndex < srcSelectDimSize` failed.\n",
      "/pytorch/aten/src/ATen/native/cuda/Indexing.cu:1422: indexSelectLargeIndex: block: [12,0,0], thread: [101,0,0] Assertion `srcIndex < srcSelectDimSize` failed.\n",
      "/pytorch/aten/src/ATen/native/cuda/Indexing.cu:1422: indexSelectLargeIndex: block: [12,0,0], thread: [102,0,0] Assertion `srcIndex < srcSelectDimSize` failed.\n",
      "/pytorch/aten/src/ATen/native/cuda/Indexing.cu:1422: indexSelectLargeIndex: block: [12,0,0], thread: [103,0,0] Assertion `srcIndex < srcSelectDimSize` failed.\n",
      "/pytorch/aten/src/ATen/native/cuda/Indexing.cu:1422: indexSelectLargeIndex: block: [12,0,0], thread: [104,0,0] Assertion `srcIndex < srcSelectDimSize` failed.\n",
      "/pytorch/aten/src/ATen/native/cuda/Indexing.cu:1422: indexSelectLargeIndex: block: [12,0,0], thread: [105,0,0] Assertion `srcIndex < srcSelectDimSize` failed.\n",
      "/pytorch/aten/src/ATen/native/cuda/Indexing.cu:1422: indexSelectLargeIndex: block: [12,0,0], thread: [106,0,0] Assertion `srcIndex < srcSelectDimSize` failed.\n",
      "/pytorch/aten/src/ATen/native/cuda/Indexing.cu:1422: indexSelectLargeIndex: block: [12,0,0], thread: [107,0,0] Assertion `srcIndex < srcSelectDimSize` failed.\n",
      "/pytorch/aten/src/ATen/native/cuda/Indexing.cu:1422: indexSelectLargeIndex: block: [12,0,0], thread: [108,0,0] Assertion `srcIndex < srcSelectDimSize` failed.\n",
      "/pytorch/aten/src/ATen/native/cuda/Indexing.cu:1422: indexSelectLargeIndex: block: [12,0,0], thread: [109,0,0] Assertion `srcInde"
     ]
    },
    {
     "ename": "RuntimeError",
     "evalue": "CUDA error: device-side assert triggered\nCUDA kernel errors might be asynchronously reported at some other API call, so the stacktrace below might be incorrect.\nFor debugging consider passing CUDA_LAUNCH_BLOCKING=1\nCompile with `TORCH_USE_CUDA_DSA` to enable device-side assertions.\n",
     "output_type": "error",
     "traceback": [
      "\u001b[0;31m---------------------------------------------------------------------------\u001b[0m",
      "\u001b[0;31mRuntimeError\u001b[0m                              Traceback (most recent call last)",
      "Cell \u001b[0;32mIn[21], line 4\u001b[0m\n\u001b[1;32m      2\u001b[0m \u001b[38;5;28;01mfor\u001b[39;00m i \u001b[38;5;129;01min\u001b[39;00m \u001b[38;5;28mrange\u001b[39m(n_epochs):\n\u001b[1;32m      3\u001b[0m     \u001b[38;5;28mprint\u001b[39m(\u001b[38;5;124mf\u001b[39m\u001b[38;5;124m\"\u001b[39m\u001b[38;5;124mEpoch \u001b[39m\u001b[38;5;132;01m{\u001b[39;00mi\u001b[38;5;132;01m}\u001b[39;00m\u001b[38;5;124m\"\u001b[39m)\n\u001b[0;32m----> 4\u001b[0m     \u001b[43mtrain\u001b[49m\u001b[43m(\u001b[49m\u001b[43mtrain_loader\u001b[49m\u001b[43m,\u001b[49m\u001b[43m \u001b[49m\u001b[43mmodel\u001b[49m\u001b[43m,\u001b[49m\u001b[43m \u001b[49m\u001b[43mloss_fn\u001b[49m\u001b[43m,\u001b[49m\u001b[43m \u001b[49m\u001b[43moptimizer\u001b[49m\u001b[43m)\u001b[49m\n\u001b[1;32m      5\u001b[0m     test(train_loader, model, loss_fn, label\u001b[38;5;241m=\u001b[39m\u001b[38;5;124m\"\u001b[39m\u001b[38;5;124mTrain\u001b[39m\u001b[38;5;124m\"\u001b[39m)\n\u001b[1;32m      6\u001b[0m     test(validation_loader, model, loss_fn, label\u001b[38;5;241m=\u001b[39m\u001b[38;5;124m\"\u001b[39m\u001b[38;5;124mValidation\u001b[39m\u001b[38;5;124m\"\u001b[39m)\n",
      "Cell \u001b[0;32mIn[19], line 15\u001b[0m, in \u001b[0;36mtrain\u001b[0;34m(data, model, loss_fn, optimizer, full_loss)\u001b[0m\n\u001b[1;32m     13\u001b[0m result_loss \u001b[38;5;241m=\u001b[39m loss_fn(pred_result, actual_result)\n\u001b[1;32m     14\u001b[0m \u001b[38;5;28;01mif\u001b[39;00m full_loss:\n\u001b[0;32m---> 15\u001b[0m     (score_loss \u001b[38;5;241m+\u001b[39m \u001b[38;5;241;43m10\u001b[39;49m\u001b[43m \u001b[49m\u001b[38;5;241;43m*\u001b[39;49m\u001b[43m \u001b[49m\u001b[43mresult_loss\u001b[49m)\u001b[38;5;241m.\u001b[39mbackward()\n\u001b[1;32m     16\u001b[0m \u001b[38;5;28;01melse\u001b[39;00m:\n\u001b[1;32m     17\u001b[0m     result_loss\u001b[38;5;241m.\u001b[39mbackward()\n",
      "\u001b[0;31mRuntimeError\u001b[0m: CUDA error: device-side assert triggered\nCUDA kernel errors might be asynchronously reported at some other API call, so the stacktrace below might be incorrect.\nFor debugging consider passing CUDA_LAUNCH_BLOCKING=1\nCompile with `TORCH_USE_CUDA_DSA` to enable device-side assertions.\n"
     ]
    },
    {
     "name": "stderr",
     "output_type": "stream",
     "text": [
      "x < srcSelectDimSize` failed.\n",
      "/pytorch/aten/src/ATen/native/cuda/Indexing.cu:1422: indexSelectLargeIndex: block: [12,0,0], thread: [110,0,0] Assertion `srcIndex < srcSelectDimSize` failed.\n",
      "/pytorch/aten/src/ATen/native/cuda/Indexing.cu:1422: indexSelectLargeIndex: block: [12,0,0], thread: [111,0,0] Assertion `srcIndex < srcSelectDimSize` failed.\n",
      "/pytorch/aten/src/ATen/native/cuda/Indexing.cu:1422: indexSelectLargeIndex: block: [12,0,0], thread: [112,0,0] Assertion `srcIndex < srcSelectDimSize` failed.\n",
      "/pytorch/aten/src/ATen/native/cuda/Indexing.cu:1422: indexSelectLargeIndex: block: [12,0,0], thread: [113,0,0] Assertion `srcIndex < srcSelectDimSize` failed.\n",
      "/pytorch/aten/src/ATen/native/cuda/Indexing.cu:1422: indexSelectLargeIndex: block: [12,0,0], thread: [114,0,0] Assertion `srcIndex < srcSelectDimSize` failed.\n",
      "/pytorch/aten/src/ATen/native/cuda/Indexing.cu:1422: indexSelectLargeIndex: block: [12,0,0], thread: [115,0,0] Assertion `srcIndex < srcSelectDimSize` failed.\n",
      "/pytorch/aten/src/ATen/native/cuda/Indexing.cu:1422: indexSelectLargeIndex: block: [12,0,0], thread: [116,0,0] Assertion `srcIndex < srcSelectDimSize` failed.\n",
      "/pytorch/aten/src/ATen/native/cuda/Indexing.cu:1422: indexSelectLargeIndex: block: [12,0,0], thread: [117,0,0] Assertion `srcIndex < srcSelectDimSize` failed.\n",
      "/pytorch/aten/src/ATen/native/cuda/Indexing.cu:1422: indexSelectLargeIndex: block: [12,0,0], thread: [118,0,0] Assertion `srcIndex < srcSelectDimSize` failed.\n",
      "/pytorch/aten/src/ATen/native/cuda/Indexing.cu:1422: indexSelectLargeIndex: block: [12,0,0], thread: [119,0,0] Assertion `srcIndex < srcSelectDimSize` failed.\n",
      "/pytorch/aten/src/ATen/native/cuda/Indexing.cu:1422: indexSelectLargeIndex: block: [12,0,0], thread: [120,0,0] Assertion `srcIndex < srcSelectDimSize` failed.\n",
      "/pytorch/aten/src/ATen/native/cuda/Indexing.cu:1422: indexSelectLargeIndex: block: [12,0,0], thread: [121,0,0] Assertion `srcIndex < srcSelectDimSize` failed.\n",
      "/pytorch/aten/src/ATen/native/cuda/Indexing.cu:1422: indexSelectLargeIndex: block: [12,0,0], thread: [122,0,0] Assertion `srcIndex < srcSelectDimSize` failed.\n",
      "/pytorch/aten/src/ATen/native/cuda/Indexing.cu:1422: indexSelectLargeIndex: block: [12,0,0], thread: [123,0,0] Assertion `srcIndex < srcSelectDimSize` failed.\n",
      "/pytorch/aten/src/ATen/native/cuda/Indexing.cu:1422: indexSelectLargeIndex: block: [12,0,0], thread: [124,0,0] Assertion `srcIndex < srcSelectDimSize` failed.\n",
      "/pytorch/aten/src/ATen/native/cuda/Indexing.cu:1422: indexSelectLargeIndex: block: [12,0,0], thread: [125,0,0] Assertion `srcIndex < srcSelectDimSize` failed.\n",
      "/pytorch/aten/src/ATen/native/cuda/Indexing.cu:1422: indexSelectLargeIndex: block: [12,0,0], thread: [126,0,0] Assertion `srcIndex < srcSelectDimSize` failed.\n",
      "/pytorch/aten/src/ATen/native/cuda/Indexing.cu:1422: indexSelectLargeIndex: block: [12,0,0], thread: [127,0,0] Assertion `srcIndex < srcSelectDimSize` failed.\n",
      "/pytorch/aten/src/ATen/native/cuda/Indexing.cu:1422: indexSelectLargeIndex: block: [12,0,0], thread: [64,0,0] Assertion `srcIndex < srcSelectDimSize` failed.\n",
      "/pytorch/aten/src/ATen/native/cuda/Indexing.cu:1422: indexSelectLargeIndex: block: [12,0,0], thread: [65,0,0] Assertion `srcIndex < srcSelectDimSize` failed.\n",
      "/pytorch/aten/src/ATen/native/cuda/Indexing.cu:1422: indexSelectLargeIndex: block: [12,0,0], thread: [66,0,0] Assertion `srcIndex < srcSelectDimSize` failed.\n",
      "/pytorch/aten/src/ATen/native/cuda/Indexing.cu:1422: indexSelectLargeIndex: block: [12,0,0], thread: [67,0,0] Assertion `srcIndex < srcSelectDimSize` failed.\n",
      "/pytorch/aten/src/ATen/native/cuda/Indexing.cu:1422: indexSelectLargeIndex: block: [12,0,0], thread: [68,0,0] Assertion `srcIndex < srcSelectDimSize` failed.\n",
      "/pytorch/aten/src/ATen/native/cuda/Indexing.cu:1422: indexSelectLargeIndex: block: [12,0,0], thread: [69,0,0] Assertion `srcIndex < srcSelectDimSize` failed.\n",
      "/pytorch/aten/src/ATen/native/cuda/Indexing.cu:1422: indexSelectLargeIndex: block: [12,0,0], thread: [70,0,0] Assertion `srcIndex < srcSelectDimSize` failed.\n",
      "/pytorch/aten/src/ATen/native/cuda/Indexing.cu:1422: indexSelectLargeIndex: block: [12,0,0], thread: [71,0,0] Assertion `srcIndex < srcSelectDimSize` failed.\n",
      "/pytorch/aten/src/ATen/native/cuda/Indexing.cu:1422: indexSelectLargeIndex: block: [12,0,0], thread: [72,0,0] Assertion `srcIndex < srcSelectDimSize` failed.\n",
      "/pytorch/aten/src/ATen/native/cuda/Indexing.cu:1422: indexSelectLargeIndex: block: [12,0,0], thread: [73,0,0] Assertion `srcIndex < srcSelectDimSize` failed.\n",
      "/pytorch/aten/src/ATen/native/cuda/Indexing.cu:1422: indexSelectLargeIndex: block: [12,0,0], thread: [74,0,0] Assertion `srcIndex < srcSelectDimSize` failed.\n",
      "/pytorch/aten/src/ATen/native/cuda/Indexing.cu:1422: indexSelectLargeIndex: block: [12,0,0], thread: [75,0,0] Assertion `srcIndex < srcSelectDimSize` failed.\n",
      "/pytorch/aten/src/ATen/native/cuda/Indexing.cu:1422: indexSelectLargeIndex: block: [12,0,0], thread: [76,0,0] Assertion `srcIndex < srcSelectDimSize` failed.\n",
      "/pytorch/aten/src/ATen/native/cuda/Indexing.cu:1422: indexSelectLargeIndex: block: [12,0,0], thread: [77,0,0] Assertion `srcIndex < srcSelectDimSize` failed.\n",
      "/pytorch/aten/src/ATen/native/cuda/Indexing.cu:1422: indexSelectLargeIndex: block: [12,0,0], thread: [78,0,0] Assertion `srcIndex < srcSelectDimSize` failed.\n",
      "/pytorch/aten/src/ATen/native/cuda/Indexing.cu:1422: indexSelectLargeIndex: block: [12,0,0], thread: [79,0,0] Assertion `srcIndex < srcSelectDimSize` failed.\n",
      "/pytorch/aten/src/ATen/native/cuda/Indexing.cu:1422: indexSelectLargeIndex: block: [12,0,0], thread: [80,0,0] Assertion `srcIndex < srcSelectDimSize` failed.\n",
      "/pytorch/aten/src/ATen/native/cuda/Indexing.cu:1422: indexSelectLargeIndex: block: [12,0,0], thread: [81,0,0] Assertion `srcIndex < srcSelectDimSize` failed.\n",
      "/pytorch/aten/src/ATen/native/cuda/Indexing.cu:1422: indexSelectLargeIndex: block: [12,0,0], thread: [82,0,0] Assertion `srcIndex < srcSelectDimSize` failed.\n",
      ",0] Assertion `srcIndex < srcSelectDimSize` failed.: indexSelectLargeIndex: block: [12,0,0], thread: [83,0\n",
      "/pytorch/aten/src/ATen/native/cuda/Indexing.cu:1422: indexSelectLargeIndex: block: [12,0,0], thread: [84,0,0] Assertion `srcIndex < srcSelectDimSize` failed.\n",
      "/pytorch/aten/src/ATen/native/cuda/Indexing.cu:1422: indexSelectLargeIndex: block: [12,0,0], thread: [85,0,0] Assertion `srcIndex < srcSelectDimSize` failed.\n",
      "/pytorch/aten/src/ATen/native/cuda/Indexing.cu:1422: indexSelectLargeIndex: block: [12,0,0], thread: [86,0,0] Assertion `srcIndex < srcSelectDimSize` failed.\n",
      "/pytorch/aten/src/ATen/native/cuda/Indexing.cu:1422: indexSelectLargeIndex: block: [12,0,0], thread: [87,0,0] Assertion `srcIndex < srcSelectDimSize` failed.\n",
      "/pytorch/aten/src/ATen/native/cuda/Indexing.cu:1422: indexSelectLargeIndex: block: [12,0,0], thread: [88,0,0] Assertion `srcIndex < srcSelectDimSize` failed.\n",
      "/pytorch/aten/src/ATen/native/cuda/Indexing.cu:1422: indexSelectLargeIndex: block: [12,0,0], thread: [89,0,0] Assertion `srcIndex < srcSelectDimSize` failed.\n",
      "/pytorch/aten/src/ATen/native/cuda/Indexing.cu:1422: indexSelectLargeIndex: block: [12,0,0], thread: [90,0,0] Assertion `srcIndex < srcSelectDimSize` failed.\n",
      "/pytorch/aten/src/ATen/native/cuda/Indexing.cu:1422: indexSelectLargeIndex: block: [12,0,0], thread: [91,0,0] Assertion `srcIndex < srcSelectDimSize` failed.\n",
      "/pytorch/aten/src/ATen/native/cuda/Indexing.cu:1422: indexSelectLargeIndex: block: [12,0,0], thread: [92,0,0] Assertion `srcIndex < srcSelectDimSize` failed.\n",
      "/pytorch/aten/src/ATen/native/cuda/Indexing.cu:1422: indexSelectLargeIndex: block: [12,0,0], thread: [93,0,0] Assertion `srcIndex < srcSelectDimSize` failed.\n",
      "/pytorch/aten/src/ATen/native/cuda/Indexing.cu:1422: indexSelectLargeIndex: block: [12,0,0], thread: [94,0,0] Assertion `srcIndex < srcSelectDimSize` failed.\n",
      "/pytorch/aten/src/ATen/native/cuda/Indexing.cu:1422: indexSelectLargeIndex: block: [12,0,0], thread: [95,0,0] Assertion `srcIndex < srcSelectDimSize` failed.\n",
      "/pytorch/aten/src/ATen/native/cuda/Indexing.cu:1422: indexSelectLargeIndex: block: [12,0,0], thread: [0,0,0] Assertion `srcIndex < srcSelectDimSize` failed.\n",
      "/pytorch/aten/src/ATen/native/cuda/Indexing.cu:1422: indexSelectLargeIndex: block: [12,0,0], thread: [1,0,0] Assertion `srcIndex < srcSelectDimSize` failed.\n",
      "/pytorch/aten/src/ATen/native/cuda/Indexing.cu:1422: indexSelectLargeIndex: block: [12,0,0], thread: [2,0,0] Assertion `srcIndex < srcSelectDimSize` failed.\n",
      "/pytorch/aten/src/ATen/native/cuda/Indexing.cu:1422: indexSelectLargeIndex: block: [12,0,0], thread: [3,0,0] Assertion `srcIndex < srcSelectDimSize` failed.\n",
      "/pytorch/aten/src/ATen/native/cuda/Indexing.cu:1422: indexSelectLargeIndex: block: [12,0,0], thread: [4,0,0] Assertion `srcIndex < srcSelectDimSize` failed.\n",
      "/pytorch/aten/src/ATen/native/cuda/Indexing.cu:1422: indexSelectLargeIndex: block: [12,0,0], thread: [5,0,0] Assertion `srcIndex < srcSelectDimSize` failed.\n",
      "/pytorch/aten/src/ATen/native/cuda/Indexing.cu:1422: indexSelectLargeIndex: block: [12,0,0], thread: [6,0,0] Assertion `srcIndex < srcSelectDimSize` failed.\n",
      "/pytorch/aten/src/ATen/native/cuda/Indexing.cu:1422: indexSelectLargeIndex: block: [12,0,0], thread: [7,0,0] Assertion `srcIndex < srcSelectDimSize` failed.\n",
      "/pytorch/aten/src/ATen/native/cuda/Indexing.cu:1422: indexSelectLargeIndex: block: [12,0,0], thread: [8,0,0] Assertion `srcIndex < srcSelectDimSize` failed.\n",
      "/pytorch/aten/src/ATen/native/cuda/Indexing.cu:1422: indexSelectLargeIndex: block: [12,0,0], thread: [9,0,0] Assertion `srcIndex < srcSelectDimSize` failed.\n",
      "/pytorch/aten/src/ATen/native/cuda/Indexing.cu:1422: indexSelectLargeIndex: block: [12,0,0], thread: [10,0,0] Assertion `srcIndex < srcSelectDimSize` failed.\n",
      "/pytorch/aten/src/ATen/native/cuda/Indexing.cu:1422: indexSelectLargeIndex: block: [12,0,0], thread: [11,0,0] Assertion `srcIndex < srcSelectDimSize` failed.\n",
      "/pytorch/aten/src/ATen/native/cuda/Indexing.cu:1422: indexSelectLargeIndex: block: [12,0,0], thread: [12,0,0] Assertion `srcIndex < srcSelectDimSize` failed.\n",
      "/pytorch/aten/src/ATen/native/cuda/Indexing.cu:1422: indexSelectLargeIndex: block: [12,0,0], thread: [13,0,0] Assertion `srcIndex < srcSelectDimSize` failed.\n",
      "/pytorch/aten/src/ATen/native/cuda/Indexing.cu:1422: indexSelectLargeIndex: block: [12,0,0], thread: [14,0,0] Assertion `srcIndex < srcSelectDimSize` failed.\n",
      "/pytorch/aten/src/ATen/native/cuda/Indexing.cu:1422: indexSelectLargeIndex: block: [12,0,0], thread: [15,0,0] Assertion `srcIndex < srcSelectDimSize` failed.\n",
      "/pytorch/aten/src/ATen/native/cuda/Indexing.cu:1422: indexSelectLargeIndex: block: [12,0,0], thread: [16,0,0] Assertion `srcIndex < srcSelectDimSize` failed.\n",
      "/pytorch/aten/src/ATen/native/cuda/Indexing.cu:1422: indexSelectLargeIndex: block: [12,0,0], thread: [17,0,0] Assertion `srcIndex < srcSelectDimSize` failed.\n",
      "/pytorch/aten/src/ATen/native/cuda/Indexing.cu:1422: indexSelectLargeIndex: block: [12,0,0], thread: [18,0,0] Assertion `srcIndex < srcSelectDimSize` failed.\n",
      "/pytorch/aten/src/ATen/native/cuda/Indexing.cu:1422: indexSelectLargeIndex: block: [12,0,0], thread: [19,0,0] Assertion `srcIndex < srcSelectDimSize` failed.\n",
      "/pytorch/aten/src/ATen/native/cuda/Indexing.cu:1422: indexSelectLargeIndex: block: [12,0,0], thread: [20,0,0] Assertion `srcIndex < srcSelectDimSize` failed.\n",
      "/pytorch/aten/src/ATen/native/cuda/Indexing.cu:1422: indexSelectLargeIndex: block: [12,0,0], thread: [21,0,0] Assertion `srcIndex < srcSelectDimSize` failed.\n",
      "/pytorch/aten/src/ATen/native/cuda/Indexing.cu:1422: indexSelectLargeIndex: block: [12,0,0], thread: [22,0,0] Assertion `srcIndex < srcSelectDimSize` failed.\n",
      "/pytorch/aten/src/ATen/native/cuda/Indexing.cu:1422: indexSelectLargeIndex: block: [12,0,0], thread: [23,0,0] Assertion `srcIndex < srcSelectDimSize` failed.\n",
      "/pytorch/aten/src/ATen/native/cuda/Indexing.cu:1422: indexSelectLargeIndex: block: [12,0,0], thread: [24,0,0] Assertion `srcIndex < srcSelectDimSize` failed.\n",
      "/pytorch/aten/src/ATen/native/cuda/Indexing.cu:1422: indexSelectLargeIndex: block: [12,0,0], thread: [25,0,0] Assertion `srcIndex < srcSelectDimSize` failed.\n",
      "/pytorch/aten/src/ATen/native/cuda/Indexing.cu:1422: indexSelectLargeIndex: block: [12,0,0], thread: [26,0,0] Assertion `srcIndex < srcSelectDimSize` failed.\n",
      "/pytorch/aten/src/ATen/native/cuda/Indexing.cu:1422: indexSelectLargeIndex: block: [12,0,0], thread: [27,0,0] Assertion `srcIndex < srcSelectDimSize` failed.\n",
      "/pytorch/aten/src/ATen/native/cuda/Indexing.cu:1422: indexSelectLargeIndex: block: [12,0,0], thread: [28,0,0] Assertion `srcIndex < srcSelectDimSize` failed.\n",
      "/pytorch/aten/src/ATen/native/cuda/Indexing.cu:1422: indexSelectLargeIndex: block: [12,0,0], thread: [29,0,0] Assertion `srcIndex < srcSelectDimSize` failed.\n",
      "/pytorch/aten/src/ATen/native/cuda/Indexing.cu:1422: indexSelectLargeIndex: block: [12,0,0], thread: [30,0,0] Assertion `srcIndex < srcSelectDimSize` failed.\n",
      "/pytorch/aten/src/ATen/native/cuda/Indexing.cu:1422: indexSelectLargeIndex: block: [12,0,0], thread: [31,0,0] Assertion `srcIndex < srcSelectDimSize` failed.\n"
     ]
    }
   ],
   "source": [
    "n_epochs = 25\n",
    "for i in range(n_epochs):\n",
    "    print(f\"Epoch {i}\")\n",
    "    train(train_loader, model, loss_fn, optimizer)\n",
    "    test(train_loader, model, loss_fn, label=\"Train\")\n",
    "    test(validation_loader, model, loss_fn, label=\"Validation\")"
   ]
  },
  {
   "cell_type": "markdown",
   "id": "41aaf28c-130c-4579-a627-7475f7abc2a2",
   "metadata": {},
   "source": [
    "Fine tune with only the result"
   ]
  },
  {
   "cell_type": "code",
   "execution_count": null,
   "id": "d4074860-e773-4900-96d3-7859687f15ae",
   "metadata": {},
   "outputs": [],
   "source": [
    "for i in range(25):\n",
    "    print(f\"Epoch {i}\")\n",
    "    train(train_loader, model, loss_fn, optimizer, full_loss=False)\n",
    "    test(train_loader, model, loss_fn, label=\"Train\")\n",
    "    test(validation_loader, model, loss_fn, label=\"Validation\")"
   ]
  },
  {
   "cell_type": "markdown",
   "id": "3a55a843-9fa3-443f-8342-410abd74688c",
   "metadata": {},
   "source": [
    "With this model we can predict the output of about three quarters of regular season games."
   ]
  },
  {
   "cell_type": "markdown",
   "id": "7afe60ad-2cd9-4339-9600-62264350e6bd",
   "metadata": {},
   "source": [
    "## Load the tourney data to test with"
   ]
  },
  {
   "cell_type": "code",
   "execution_count": null,
   "id": "093fcd61-386e-4330-b5af-e9d93df1b144",
   "metadata": {},
   "outputs": [],
   "source": [
    "mens_tourney = pd.read_csv('data/MNCAATourneyDetailedResults.csv')\n",
    "mens_tourney['League'] = 'M'\n",
    "womens_tourney = pd.read_csv('data/WNCAATourneyDetailedResults.csv')\n",
    "womens_tourney['League'] = 'W'\n",
    "tourney = pd.concat([mens_tourney, womens_tourney])\n",
    "\n",
    "tourney_dataset = gen_dataset(tourney)\n",
    "tourney_loader = DataLoader(tourney_dataset, batch_size=batch_size, shuffle=True)"
   ]
  },
  {
   "cell_type": "code",
   "execution_count": null,
   "id": "08340cd1-6cb0-400a-80fa-dda1171789bd",
   "metadata": {},
   "outputs": [],
   "source": [
    "test(tourney_loader, model, loss_fn, label=\"Tourney\")"
   ]
  },
  {
   "cell_type": "markdown",
   "id": "ada7c18a-8267-4926-a191-5c3a218bfde2",
   "metadata": {},
   "source": [
    "When it comes to tournament results we get a little worse. The lower result is likely due to teams having increased pairity."
   ]
  },
  {
   "cell_type": "markdown",
   "id": "658506a6-6cff-48e4-9562-28cabf03663a",
   "metadata": {},
   "source": [
    "Train with early torney data"
   ]
  },
  {
   "cell_type": "code",
   "execution_count": null,
   "id": "1b635c43-1cee-4bca-a38c-0cb71c4f3ee4",
   "metadata": {},
   "outputs": [],
   "source": [
    "tourney_pre_2021 = gen_dataset(tourney[tourney.Season < 2021])\n",
    "tourney_train_data, tourney_validation_data = torch.utils.data.random_split(tourney_pre_2021, [0.5, 0.5], generator=generator)\n",
    "tourney_train_loader = DataLoader(tourney_train_data, batch_size=batch_size)\n",
    "tourney_validation_loader = DataLoader(tourney_validation_data, batch_size=batch_size)"
   ]
  },
  {
   "cell_type": "code",
   "execution_count": null,
   "id": "911e30c5-e7d4-4bd5-b15a-8fce5a92322b",
   "metadata": {},
   "outputs": [],
   "source": [
    "for param in model.team_embedding.parameters():\n",
    "    param.requires_grad=False\n",
    "for param in model.program_embedding.parameters():\n",
    "    param.requires_grad=False"
   ]
  },
  {
   "cell_type": "code",
   "execution_count": null,
   "id": "b985479b-335f-4a69-ad88-6738891b934e",
   "metadata": {},
   "outputs": [],
   "source": [
    "for i in range(8):\n",
    "    print(f\"Epoch {i}\")\n",
    "    train(tourney_train_loader, model, loss_fn, optimizer, full_loss=False)\n",
    "    test(tourney_train_loader, model, loss_fn, label=\"Train\")\n",
    "    test(tourney_validation_loader, model, loss_fn, label=\"Validation\")"
   ]
  },
  {
   "cell_type": "markdown",
   "id": "9bd8ba4d-cd61-4693-9cda-963ecca19c07",
   "metadata": {},
   "source": [
    "### Performance by year\n"
   ]
  },
  {
   "cell_type": "code",
   "execution_count": null,
   "id": "fda1ddd2-af9c-4bed-9812-fc24e0c56d4d",
   "metadata": {},
   "outputs": [],
   "source": [
    "for season in tourney.Season.unique():\n",
    "    loader = DataLoader(gen_dataset(tourney[tourney.Season == season]), batch_size=batch_size)\n",
    "    test(loader, model, loss_fn, label=f\"{season} Tournament\")"
   ]
  },
  {
   "cell_type": "code",
   "execution_count": null,
   "id": "509da685-8b79-473b-83d8-74e9d47ebe72",
   "metadata": {},
   "outputs": [],
   "source": [
    "stage1_loader = DataLoader(gen_dataset(tourney[tourney.Season >= 2021]), batch_size=batch_size)\n",
    "test(stage1_loader, model, loss_fn, label=f\"Stage 1\")"
   ]
  },
  {
   "cell_type": "markdown",
   "id": "c6c2687e-5887-49ee-ab96-ae27a6f2bb8e",
   "metadata": {},
   "source": [
    "Breaking out by league"
   ]
  },
  {
   "cell_type": "code",
   "execution_count": null,
   "id": "21b242b3-48af-4495-9605-08880cbc820c",
   "metadata": {},
   "outputs": [],
   "source": [
    "for season in tourney.Season.unique():\n",
    "    for league in tourney[tourney.Season == season].League.unique():\n",
    "        loader = DataLoader(gen_dataset(tourney[(tourney.Season == season) & (tourney.League == league)]),\n",
    "                            batch_size=batch_size)\n",
    "        test(loader, model, loss_fn, label=f\"{season} {league} Tournament\")"
   ]
  },
  {
   "cell_type": "markdown",
   "id": "9e8e259c-bcf2-43bd-a478-acbd02ef7b24",
   "metadata": {},
   "source": [
    "## Inspect the model\n",
    "First what are the sizes of the smallest input and output weights"
   ]
  },
  {
   "cell_type": "code",
   "execution_count": null,
   "id": "f7a94e95-ac8a-4a7c-a148-d6aa4dfa6f6a",
   "metadata": {
    "scrolled": true
   },
   "outputs": [],
   "source": [
    "print(f\"Program embedding min: {model.program_embedding.state_dict()['weight'].abs().max(axis=0).values.min().item():>8f}\")\n",
    "print(f\"Team embedding min: {model.team_embedding.state_dict()['weight'].abs().max(axis=0).values.min().item():>8f}\")\n",
    "print(f\"FC min: {model.result_fc.state_dict()['weight'].abs().max(axis=0).values.min().item():>8f}\")"
   ]
  },
  {
   "cell_type": "markdown",
   "id": "ff1e4997-5ee2-40d3-b7ab-28e722b20e84",
   "metadata": {},
   "source": [
    "Calculate the average gradient for each input feature"
   ]
  },
  {
   "cell_type": "code",
   "execution_count": null,
   "id": "07740f40-e828-4cfa-8e8a-7b98b44a8c3c",
   "metadata": {},
   "outputs": [],
   "source": [
    "def feature_eval(model, data):\n",
    "    model.eval()\n",
    "    team_grads = torch.zeros(model.team_embedding.embedding_dim).to(device)\n",
    "    program_grads = torch.zeros(model.program_embedding.embedding_dim).to(device)\n",
    "    stats_grads = torch.zeros(3).to(device)\n",
    "    size = len(data.dataset)\n",
    "    for batch, (x, y) in enumerate(data):\n",
    "        x = x.to(device)\n",
    "        y = y.to(device)\n",
    "        x.requires_grad = True\n",
    "        _, pred_result = model(x)\n",
    "        team_grads += torch.autograd.grad(model(x)[1].mean(), model.team_embedding.parameters())[0].sum(axis=0)\n",
    "        program_grads += torch.autograd.grad(model(x)[1].mean(), model.program_embedding.parameters())[0].sum(axis=0)\n",
    "        stats_grads += torch.autograd.grad(model(x)[1].mean(), x)[0].sum(axis=0)[4:]\n",
    "    return program_grads/size, team_grads/size, stats_grads"
   ]
  },
  {
   "cell_type": "code",
   "execution_count": null,
   "id": "57673837-e393-4a99-896e-af251d18c8d0",
   "metadata": {},
   "outputs": [],
   "source": [
    "for param in model.team_embedding.parameters():\n",
    "    param.requires_grad=True\n",
    "for param in model.program_embedding.parameters():\n",
    "    param.requires_grad=True"
   ]
  },
  {
   "cell_type": "code",
   "execution_count": null,
   "id": "1e25e971-f8cc-47df-9e5f-d15de0441bcc",
   "metadata": {},
   "outputs": [],
   "source": [
    "program_weights, team_weights, stats_weights = feature_eval(model, tourney_loader)"
   ]
  },
  {
   "cell_type": "code",
   "execution_count": null,
   "id": "6aeb3583-a9f4-4e04-b040-5194d7000441",
   "metadata": {},
   "outputs": [],
   "source": [
    "program_weights.abs().sum(), team_weights.abs().sum()"
   ]
  },
  {
   "cell_type": "code",
   "execution_count": null,
   "id": "f47b2ee6-c1ab-4741-b959-883fd51e0c89",
   "metadata": {},
   "outputs": [],
   "source": [
    "print(f\"Year:\\t{stats_weights[0]:>4f}\")\n",
    "print(f\"Game:\\t{stats_weights[1]:>4f}\")\n",
    "print(f\"League:\\t{stats_weights[2]:>4f}\")"
   ]
  },
  {
   "cell_type": "markdown",
   "id": "e4afd4bc-a7fc-43bd-a1b6-1b37a85f8f79",
   "metadata": {},
   "source": [
    "## Generating the submission file\n",
    "### Phase 2\n",
    "\n",
    "Write the results"
   ]
  },
  {
   "cell_type": "code",
   "execution_count": null,
   "id": "aa73ccc9-58fb-4142-a558-cf8c79ae0ac5",
   "metadata": {
    "scrolled": true
   },
   "outputs": [],
   "source": [
    "with open('submission.csv', 'w') as f:\n",
    "    f.write(\"ID,Pred\\n\")\n",
    "    season=2025\n",
    "    for league in ('M', 'W'):\n",
    "        teams_to_test = sorted(teams[(teams.Season==season) & (teams.League==league)].TeamID.values)\n",
    "        matchups = [(t1, t2) for t1 in teams_to_test for t2 in teams_to_test if t1 < t2]\n",
    "        matchups_tensor = torch.Tensor(np.array(\n",
    "            [[programMapping[t1], teamMapping[(t1, season)],\n",
    "              programMapping[t2], teamMapping[(t2, season)],\n",
    "              season, 140, league == 'M']\n",
    "             for (t1, t2) in matchups])).int().to(device)\n",
    "        _, predictions = model(matchups_tensor)\n",
    "        for (t1, t2), pred in zip(matchups, predictions):\n",
    "            f.write(f\"{season}_{t1.item()}_{t2.item()},{pred.item()}\\n\")"
   ]
  },
  {
   "cell_type": "markdown",
   "id": "38e3b7d8-88d5-4f18-aad2-ce4ede2941f9",
   "metadata": {},
   "source": [
    "## Save the model"
   ]
  },
  {
   "cell_type": "code",
   "execution_count": null,
   "id": "5da7e66a-9601-40f4-bec7-7aef34b5f229",
   "metadata": {},
   "outputs": [],
   "source": [
    "torch.save(model.state_dict(), 'model.pth')"
   ]
  },
  {
   "cell_type": "markdown",
   "id": "667cb6e9-8b1f-459c-be76-f61f39b30f49",
   "metadata": {},
   "source": [
    "## Moderated model\n",
    "\n",
    "Moderate a model by pushing it towards 0.5"
   ]
  },
  {
   "cell_type": "code",
   "execution_count": null,
   "id": "ddcb64c5-f3c5-4ea7-afba-944d25c4a903",
   "metadata": {},
   "outputs": [],
   "source": [
    "class ModeratedModel:\n",
    "    def __init__(self, model, weight):\n",
    "        self.model = model\n",
    "        self.weight = weight\n",
    "\n",
    "    def eval(self):\n",
    "        pass\n",
    "\n",
    "    def __call__(self, x):\n",
    "        scores, model_score = self.model(x)\n",
    "        neutral = torch.Tensor(np.array([0.5]*len(model_score)).reshape((-1,1))).to(device)\n",
    "        return scores, model_score * self.weight + neutral * (1-self.weight)\n"
   ]
  },
  {
   "cell_type": "code",
   "execution_count": null,
   "id": "e18455d2-3fa2-480b-a776-c7fd35255c8f",
   "metadata": {},
   "outputs": [],
   "source": [
    "moderated = ModeratedModel(model, 0.75)"
   ]
  },
  {
   "cell_type": "code",
   "execution_count": null,
   "id": "215a1a7b-ae81-4bf7-8b61-12f2af6e532f",
   "metadata": {
    "scrolled": true
   },
   "outputs": [],
   "source": [
    "for season in tourney.Season.unique():\n",
    "    loader = DataLoader(gen_dataset(tourney[tourney.Season == season]), batch_size=batch_size)\n",
    "    test(loader, moderated, loss_fn, label=f\"{season} Tournament\")"
   ]
  },
  {
   "cell_type": "markdown",
   "id": "2ecee29c-6762-463a-89ca-ee49dc3e72db",
   "metadata": {},
   "source": [
    "## Dig into 2023 results"
   ]
  },
  {
   "cell_type": "code",
   "execution_count": null,
   "id": "cec1416b-ee18-4730-8210-6563239edd23",
   "metadata": {},
   "outputs": [],
   "source": [
    "loader = DataLoader(gen_dataset(mens_tourney[mens_tourney.Season == 2023]))\n",
    "\n",
    "x, y = loader.dataset.tensors\n",
    "\n",
    "preds = model(x.to(device))"
   ]
  },
  {
   "cell_type": "code",
   "execution_count": null,
   "id": "0bba00a1-1690-4338-b105-ea5eebd2467a",
   "metadata": {},
   "outputs": [],
   "source": [
    "mteams = pd.read_csv('data/MTeams.csv').set_index('TeamID')\n",
    "wteams = pd.read_csv('data/WTeams.csv').set_index('TeamID')\n",
    "allteams = pd.concat([mteams, wteams])"
   ]
  },
  {
   "cell_type": "code",
   "execution_count": null,
   "id": "1ae270e1-509e-46aa-be67-c771afb7fbba",
   "metadata": {},
   "outputs": [],
   "source": [
    "mens_seeds = pd.read_csv('data/MNCAATourneySeeds.csv')\n",
    "womens_seeds = pd.read_csv('data/WNCAATourneySeeds.csv')\n",
    "seeds = pd.concat([mens_seeds, womens_seeds]).set_index(['Season', 'TeamID'])"
   ]
  },
  {
   "cell_type": "code",
   "execution_count": null,
   "id": "b56acb6c-d8ca-4ada-95d0-8795bbc89d48",
   "metadata": {},
   "outputs": [],
   "source": [
    "def upset(season, winner, loser):\n",
    "    winner_seed = seeds.loc[season, winner].Seed\n",
    "    loser_seed = seeds.loc[season, loser].Seed\n",
    "    return winner_seed[1:3] > loser_seed[1:3]"
   ]
  },
  {
   "cell_type": "code",
   "execution_count": null,
   "id": "86c62b6c-434f-4f23-84fe-0f227ab6f4c2",
   "metadata": {},
   "outputs": [],
   "source": [
    "t_2023 = pd.DataFrame({'winner_name': [mteams.loc[programs.loc[i].TeamID].TeamName for i in x[:,0].tolist()],\n",
    "                       'loser_name': [mteams.loc[programs.loc[i].TeamID].TeamName for i in x[:,2].tolist()],\n",
    "                       'winner': [programs.loc[i].TeamID for i in x[:,0].tolist()],\n",
    "                       'loser': [programs.loc[i].TeamID for i in x[:,2].tolist()],\n",
    "                       'actual_score': np.array(y.tolist()).reshape([-1]),\n",
    "                       'actual': np.array((y>0).tolist()).reshape([-1]),\n",
    "                       'predicted': np.array(preds[1].tolist()).reshape([-1])}).iloc[:67]"
   ]
  },
  {
   "cell_type": "code",
   "execution_count": null,
   "id": "aa17e8a0-ac98-415b-9cb6-d2fc251de985",
   "metadata": {
    "scrolled": true
   },
   "outputs": [],
   "source": [
    "t_2023[t_2023.predicted < 0.5].sort_values('predicted')"
   ]
  },
  {
   "cell_type": "markdown",
   "id": "9f5eb023-fa68-46e5-821f-b9661a988cbe",
   "metadata": {},
   "source": [
    "The biggest thing in this season were the huge upsets in the first round. Purdue was a number one seed and lost which I only gave a 1% chance to happen. Arizona and Virginia were number 2 seeds and lost which I gave 8% and 14% chances of happening respectively."
   ]
  },
  {
   "cell_type": "code",
   "execution_count": null,
   "id": "28663437-2134-48e8-938f-d40fd2666b7f",
   "metadata": {},
   "outputs": [],
   "source": [
    "t_2023['Upset'] = [upset(2023, winner, loser) for (winner, loser) in zip(t_2023['winner'], t_2023['loser'])]"
   ]
  },
  {
   "cell_type": "code",
   "execution_count": null,
   "id": "eb00c98a-b6a7-441f-be09-224ad947f71a",
   "metadata": {},
   "outputs": [],
   "source": [
    "t_2023[t_2023.Upset].predicted.mean()"
   ]
  },
  {
   "cell_type": "markdown",
   "id": "b9c017c5-060c-4478-82b2-4a22bd38a3d8",
   "metadata": {},
   "source": [
    "On average the upsets had a 35% chance of happening"
   ]
  },
  {
   "cell_type": "code",
   "execution_count": null,
   "id": "2df5dc30-0780-4864-bf1d-25a462985a89",
   "metadata": {},
   "outputs": [],
   "source": [
    "t_2023[t_2023.Upset & (t_2023.predicted >= 0.5)].sort_values('predicted', ascending=False)"
   ]
  },
  {
   "cell_type": "markdown",
   "id": "311a0984-fa4f-408e-9a66-4f90296c8a1c",
   "metadata": {},
   "source": [
    "I correctly predicted 2 upsets, though all were closely ranked"
   ]
  },
  {
   "cell_type": "code",
   "execution_count": null,
   "id": "260a480d-a8d9-4e6d-a25b-d5358ddbd591",
   "metadata": {},
   "outputs": [],
   "source": [
    "t_2023[~t_2023.Upset & (t_2023.predicted < 0.5)].sort_values('predicted')"
   ]
  },
  {
   "cell_type": "markdown",
   "id": "25b225a9-822d-417d-bf83-e329ec0c2020",
   "metadata": {},
   "source": [
    "I also incorrectly predicted 6 upsets"
   ]
  },
  {
   "cell_type": "markdown",
   "id": "40bd0e20-15ce-42b8-aaf3-b07965ccb410",
   "metadata": {},
   "source": [
    "Looking at all the tourneys"
   ]
  },
  {
   "cell_type": "code",
   "execution_count": null,
   "id": "e081fd5c-52cb-483a-90d1-3b65039e2857",
   "metadata": {},
   "outputs": [],
   "source": [
    "x, y = tourney_loader.dataset.tensors\n",
    "preds = model(x.to(device))\n",
    "tourney_df = pd.DataFrame({'season': x[:,4].tolist(),\n",
    "                           'winner_name': [allteams.loc[programs.loc[i].TeamID].TeamName for i in x[:,0].tolist()],\n",
    "                           'loser_name': [allteams.loc[programs.loc[i].TeamID].TeamName for i in x[:,2].tolist()],\n",
    "                           'winner': [programs.loc[i].TeamID for i in x[:,0].tolist()],\n",
    "                           'loser': [programs.loc[i].TeamID for i in x[:,2].tolist()],\n",
    "                           'actual_score': np.array(y.tolist()).reshape([-1]),\n",
    "                           'actual': np.array((y>0).tolist()).reshape([-1]),\n",
    "                           'predicted': np.array(preds[1].tolist()).reshape([-1])})\n",
    "tourney_df = tourney_df[tourney_df.actual]\n",
    "tourney_df['Upset'] = [upset(season, winner, loser) for (winner, loser, season)\n",
    "                       in zip(tourney_df['winner'], tourney_df['loser'], tourney_df['season'])]"
   ]
  },
  {
   "cell_type": "code",
   "execution_count": null,
   "id": "f5ab6d89-db40-499b-a6c2-7823c13fdfc9",
   "metadata": {},
   "outputs": [],
   "source": [
    "len(tourney_df[tourney_df.Upset & (tourney_df.predicted >= 0.5) & (tourney_df.season > 2020)].sort_values('predicted', ascending=False))"
   ]
  },
  {
   "cell_type": "code",
   "execution_count": null,
   "id": "7f614719-0380-4eea-aea1-6d6730329208",
   "metadata": {},
   "outputs": [],
   "source": [
    "len(tourney_df[~tourney_df.Upset & (tourney_df.predicted < 0.5) & (tourney_df.season > 2020)].sort_values('predicted'))"
   ]
  },
  {
   "cell_type": "markdown",
   "id": "121a8c8b-3e75-4455-940a-b59d2e742175",
   "metadata": {},
   "source": [
    "Overall I predicted 16 upsets correctly, and 29 incorrectly"
   ]
  },
  {
   "cell_type": "markdown",
   "id": "11f41c41-df65-47ff-a6e5-ddfd3a274cb5",
   "metadata": {},
   "source": [
    "## Predicting by seeds\n",
    "What if I predict just using the seeds?"
   ]
  },
  {
   "cell_type": "code",
   "execution_count": null,
   "id": "0d7c8e04-0d1b-4b86-9c63-d03930153a14",
   "metadata": {},
   "outputs": [],
   "source": [
    "seeded_tourney = tourney.join(seeds, on=['Season', 'WTeamID']).join(seeds, on=['Season', 'LTeamID'], rsuffix='L')"
   ]
  },
  {
   "cell_type": "code",
   "execution_count": null,
   "id": "2edd1e89-944e-4990-9ae4-799f0a5d2ae3",
   "metadata": {},
   "outputs": [],
   "source": [
    "tourney['WSeed'] = seeded_tourney.Seed.map(lambda x: int(x[1:3]))\n",
    "tourney['LSeed'] = seeded_tourney.SeedL.map(lambda x: int(x[1:3]))\n",
    "tourney['SeedDiff'] = tourney.WSeed - tourney.LSeed"
   ]
  },
  {
   "cell_type": "code",
   "execution_count": null,
   "id": "4f4fbb9c-3e3c-451f-bcfc-9a6e6c0a63fb",
   "metadata": {},
   "outputs": [],
   "source": [
    "seed_diff_counts = tourney[tourney.Season < 2021].SeedDiff.value_counts()"
   ]
  },
  {
   "cell_type": "code",
   "execution_count": null,
   "id": "71e280ae-4aba-46d0-9d98-3cfdfada40b5",
   "metadata": {},
   "outputs": [],
   "source": [
    "odds = {0: 0.5}\n",
    "for diff in range(1, 16):\n",
    "    if diff in seed_diff_counts:\n",
    "        lower_wins = seed_diff_counts[diff]\n",
    "        higher_wins = seed_diff_counts[-diff]\n",
    "        odds[diff] = higher_wins/(higher_wins + lower_wins)\n",
    "        odds[-diff] = lower_wins/(higher_wins + lower_wins)\n",
    "    else:\n",
    "        odds[diff] = 1\n",
    "        odds[-diff] = 0\n",
    "        "
   ]
  },
  {
   "cell_type": "code",
   "execution_count": null,
   "id": "a7388d50-2810-4bbe-8938-3a2f1db41e41",
   "metadata": {},
   "outputs": [],
   "source": [
    "tourney[tourney.Season < 2021].SeedDiff.map(lambda x: odds[x]**2).mean()"
   ]
  },
  {
   "cell_type": "markdown",
   "id": "cfb055ef-ea46-4543-bffb-f1e6082797b1",
   "metadata": {},
   "source": [
    "This results in a test Brier score of about 0.17."
   ]
  },
  {
   "cell_type": "markdown",
   "id": "fbbc2c9a-6d4b-4848-9f9d-2f924fdccc70",
   "metadata": {},
   "source": [
    "## Hybrid Model\n",
    "Building a model using the neural net and seeds"
   ]
  },
  {
   "cell_type": "code",
   "execution_count": null,
   "id": "6cd7a196-ddce-4de5-b108-3fabb41b8cde",
   "metadata": {},
   "outputs": [],
   "source": [
    "class HybridModel(object):\n",
    "    def __init__(self, models, weights):\n",
    "        self.models = models\n",
    "        self.weights = weights\n",
    "\n",
    "    def eval(self):\n",
    "        pass\n",
    "\n",
    "    def __call__(self, x):\n",
    "        results = torch.zeros(len(x)).reshape([-1,1]).to(device)\n",
    "        scores = torch.zeros(len(x)).reshape([-1,1]).to(device)\n",
    "        for model, weight in zip(self.models, self.weights):\n",
    "            score, result = model(x)\n",
    "            results += weight * result\n",
    "            scores += weight * score\n",
    "        return scores, results"
   ]
  },
  {
   "cell_type": "code",
   "execution_count": null,
   "id": "4f923357-73fb-47dd-b1d1-737df6a8f720",
   "metadata": {},
   "outputs": [],
   "source": [
    "class SeedModel(object):\n",
    "    def __init__(self, odds, seeds):\n",
    "        self.odds = odds\n",
    "        self.seeds = seeds\n",
    "\n",
    "    def eval(self):\n",
    "        pass\n",
    "\n",
    "    def seed(self, season, team):\n",
    "        if (season, team) in self.seeds.index:\n",
    "            return int(self.seeds.loc[season, team].Seed[1:3])\n",
    "        else:\n",
    "            return -1\n",
    "\n",
    "    def win_odds(self, team1, team2):\n",
    "        if team1 == -1:\n",
    "            if team2 == -1:\n",
    "                return 0.5\n",
    "            return 0\n",
    "        if team2 == -1:\n",
    "            return 1\n",
    "        return self.odds[team1-team2]\n",
    "        \n",
    "    \n",
    "    def __call__(self, x):\n",
    "        team_1 = programs.loc[x[:,0].int().cpu()].TeamID\n",
    "        team_2 = programs.loc[x[:,2].int().cpu()].TeamID\n",
    "        season = x[:,4].int().cpu()\n",
    "        team_1_seed = [self.seed(s, t) for s,t in np.stack([season, team_1], axis=1)]\n",
    "        team_2_seed = [self.seed(s, t) for s,t in np.stack([season, team_2], axis=1)]\n",
    "        scores = torch.zeros(len(x)).to(device).reshape([-1,1]).to(device)\n",
    "        results = torch.Tensor([self.win_odds(t1, t2) for t2, t1 in\n",
    "                                zip(team_1_seed, team_2_seed)]).to(device).reshape([-1,1])\n",
    "        return scores, results\n",
    "        "
   ]
  },
  {
   "cell_type": "code",
   "execution_count": null,
   "id": "3b9fd541-e152-4173-a518-0ccb8470e755",
   "metadata": {},
   "outputs": [],
   "source": [
    "seed_model = SeedModel(odds, seeds)\n",
    "test(stage1_loader, seed_model, loss_fn, label=f\"Seeds\")"
   ]
  },
  {
   "cell_type": "code",
   "execution_count": null,
   "id": "2a180204-1fb0-4ec6-85dd-58ac8ae34929",
   "metadata": {},
   "outputs": [],
   "source": [
    "test(stage1_loader, model, loss_fn, label=\"NN\")"
   ]
  },
  {
   "cell_type": "code",
   "execution_count": null,
   "id": "d5f47474-12e5-49b6-8b00-e675700f4716",
   "metadata": {},
   "outputs": [],
   "source": [
    "hybrid = HybridModel([model, seed_model], [0.8, 0.2])"
   ]
  },
  {
   "cell_type": "code",
   "execution_count": null,
   "id": "6159dd7e-3f08-4f37-bc4a-3c5ff12b94a8",
   "metadata": {},
   "outputs": [],
   "source": [
    "test(stage1_loader, hybrid, loss_fn, label=f\"Hybrid\")"
   ]
  },
  {
   "cell_type": "markdown",
   "id": "a05ae290-cbb8-4d56-b0da-92cf9a654de9",
   "metadata": {},
   "source": [
    "They hybrid model outperforms both individual models"
   ]
  },
  {
   "cell_type": "code",
   "execution_count": null,
   "id": "15f38211-8d21-4b6a-ac91-d2835a00ed5c",
   "metadata": {},
   "outputs": [],
   "source": [
    "for season in range(2021, 2025):\n",
    "    for league in ['M', 'W']:\n",
    "        loader = DataLoader(gen_dataset(tourney[(tourney.Season == season) & (tourney.League == league)]),\n",
    "                            batch_size=batch_size)\n",
    "        test(loader, hybrid, loss_fn, label=f\"{season} {league} Tournament\")"
   ]
  },
  {
   "cell_type": "markdown",
   "id": "6b676e8c-8344-4fbc-aca2-7fa778c4fdfa",
   "metadata": {},
   "source": [
    "## Generate a bracket"
   ]
  },
  {
   "cell_type": "code",
   "execution_count": null,
   "id": "f3204a43-aa58-4239-8dac-1fff915adb60",
   "metadata": {},
   "outputs": [],
   "source": [
    "mens_slots = pd.read_csv('data/MNCAATourneySlots.csv').set_index(['Season', 'Slot'])\n",
    "womens_slots = pd.read_csv('data/WNCAATourneySlots.csv').set_index(['Season', 'Slot'])\n",
    "mens_tourney_seeds = mens_seeds.set_index(['Season', 'Seed'])\n",
    "womens_tourney_seeds = womens_seeds.set_index(['Season', 'Seed'])"
   ]
  },
  {
   "cell_type": "code",
   "execution_count": null,
   "id": "8dfc194d-078b-49d4-8674-04108dff468a",
   "metadata": {},
   "outputs": [],
   "source": [
    "mens_schedule = mens_slots.\\\n",
    "    join(mens_tourney_seeds, on=['Season', 'StrongSeed']).\\\n",
    "    join(mens_tourney_seeds, on=['Season', 'WeakSeed'], rsuffix='2')\n",
    "womens_schedule = mens_slots.\\\n",
    "    join(womens_tourney_seeds, on=['Season', 'StrongSeed']).\\\n",
    "    join(womens_tourney_seeds, on=['Season', 'WeakSeed'], rsuffix='2')"
   ]
  },
  {
   "cell_type": "code",
   "execution_count": null,
   "id": "d9713093-25b6-41c5-8d5e-7be559eab2eb",
   "metadata": {},
   "outputs": [],
   "source": [
    "def model_odds(season, league, model):\n",
    "    teams_to_test = sorted(teams[(teams.Season==season) & (teams.League==league)].TeamID.values)\n",
    "    matchups = [(t1, t2) for t1 in teams_to_test for t2 in teams_to_test if t1 != t2]\n",
    "    matchups_tensor = torch.Tensor(np.array(\n",
    "        [[programMapping[t1], teamMapping[(t1, season)],\n",
    "          programMapping[t2], teamMapping[(t2, season)],\n",
    "          season, 140, league == 'M']\n",
    "         for (t1, t2) in matchups])).int().to(device)\n",
    "    _, predictions = model(matchups_tensor)\n",
    "    return {(int(t1), int(t2)): pred.item() for  (t1, t2), pred in zip(matchups, predictions)}"
   ]
  },
  {
   "cell_type": "code",
   "execution_count": null,
   "id": "8dd31052-3de4-4c9f-9918-a69fea035233",
   "metadata": {},
   "outputs": [],
   "source": [
    "def gen_bracket(schedule, odds):\n",
    "    schedule = schedule.copy()\n",
    "    schedule.insert(len(schedule.columns), 'Winner', -1)\n",
    "    schedule.insert(len(schedule.columns), 'P', -1.0)\n",
    "    i=0\n",
    "    while sum(schedule.Winner < 0) and i <= 10:\n",
    "        i+=1\n",
    "        games = schedule[(schedule.Winner < 0) & schedule.TeamID.notna() & schedule.TeamID2.notna()][['TeamID', 'TeamID2']]\n",
    "        for slot, t1, t2 in games.itertuples():\n",
    "            p = odds[(t1, t2)]\n",
    "            schedule.loc[slot, 'P'] = p\n",
    "            winner = t1 if p > 0.5 else t2\n",
    "            schedule.loc[slot, 'Winner'] = winner\n",
    "            schedule.loc[schedule.StrongSeed == slot, 'TeamID'] = winner\n",
    "            schedule.loc[schedule.WeakSeed == slot, 'TeamID2'] = winner\n",
    "    return schedule"
   ]
  },
  {
   "cell_type": "code",
   "execution_count": null,
   "id": "2fe89be0-3003-42a3-a08d-b1b7b4e08b22",
   "metadata": {},
   "outputs": [],
   "source": [
    "m_odds = model_odds(2024, 'M', hybrid)"
   ]
  },
  {
   "cell_type": "code",
   "execution_count": null,
   "id": "d0c08cb5-dec3-42f6-8627-052dcf7adacb",
   "metadata": {},
   "outputs": [],
   "source": [
    "with pd.option_context('display.max_rows', None, 'display.max_columns', None): \n",
    "    print(gen_bracket(mens_schedule.loc[2024,:], m_odds).join(allteams, on='Winner')[['Winner', 'TeamName']])"
   ]
  },
  {
   "cell_type": "code",
   "execution_count": null,
   "id": "5d32f057-4cc5-41fa-b4ff-56725bad934f",
   "metadata": {},
   "outputs": [],
   "source": []
  }
 ],
 "metadata": {
  "kernelspec": {
   "display_name": "Python 3 (ipykernel)",
   "language": "python",
   "name": "python3"
  },
  "language_info": {
   "codemirror_mode": {
    "name": "ipython",
    "version": 3
   },
   "file_extension": ".py",
   "mimetype": "text/x-python",
   "name": "python",
   "nbconvert_exporter": "python",
   "pygments_lexer": "ipython3",
   "version": "3.10.12"
  }
 },
 "nbformat": 4,
 "nbformat_minor": 5
}
